{
 "cells": [
  {
   "cell_type": "code",
   "execution_count": 2,
   "metadata": {},
   "outputs": [
    {
     "data": {
      "text/plain": [
       "'0.1.129'"
      ]
     },
     "execution_count": 2,
     "metadata": {},
     "output_type": "execute_result"
    }
   ],
   "source": [
    "from mads_datasets.base import BaseDatastreamer\n",
    "from mltrainer.preprocessors import BasePreprocessor\n",
    "import matplotlib.pyplot as plt\n",
    "from pathlib import Path\n",
    "import pandas as pd\n",
    "import seaborn as sns\n",
    "from sklearn.metrics import confusion_matrix\n",
    "from torch import nn\n",
    "import torch\n",
    "from mltrainer import Trainer, TrainerSettings, ReportTypes\n",
    "import tomllib\n",
    "import seaborn as sns\n",
    "import numpy as np\n",
    "from torch import Tensor\n",
    "import math\n",
    "from typing import List, Tuple, Dict, Any, Union\n",
    "from src import datasets, metrics\n",
    "import mltrainer\n",
    "import mlflow\n",
    "from src import models\n",
    "import torch.nn.functional as F\n",
    "from torchsummary import summary\n",
    "\n",
    "\n",
    "mltrainer.__version__"
   ]
  },
  {
   "cell_type": "code",
   "execution_count": 23,
   "metadata": {},
   "outputs": [],
   "source": [
    "confusion_matrixs = {}"
   ]
  },
  {
   "cell_type": "code",
   "execution_count": 3,
   "metadata": {},
   "outputs": [],
   "source": [
    "\n",
    "def test_model(model, teststreamer):\n",
    "    y_true = []\n",
    "    y_pred = []\n",
    "    #model = model.to(\"cpu\")\n",
    "\n",
    "    #testdata = [(x.to(device), y.to(device)) for x, y in teststreamer.stream()]\n",
    "    testdata = teststreamer.stream()\n",
    "    for _ in range(len(teststreamer)):\n",
    "        X, y = next(testdata)\n",
    "\n",
    "        yhat = model(X)\n",
    "        yhat = yhat.argmax(dim=1) # we get the one with the highest probability\n",
    "        y_pred.append(yhat.cpu().tolist())\n",
    "        y_true.append(y.cpu().tolist())\n",
    "\n",
    "    yhat = [x for y in y_pred for x in y]\n",
    "    y = [x for y in y_true for x in y]\n",
    "    return y, yhat\n",
    "\n",
    "def plot_confusion_matrix(cfm, model_name):\n",
    "    # Create the plot using seaborn\n",
    "    plot = sns.heatmap(cfm, annot=True, fmt=\".3f\")\n",
    "    \n",
    "    # Set the labels for the axes\n",
    "    plot.set(xlabel=\"Predicted\", ylabel=\"Target\")\n",
    "    \n",
    "    # Save the plot to a file with the model name in the filename\n",
    "    plt.savefig(f\"{model_name}_confusion_matrix.png\", bbox_inches=\"tight\")\n",
    "    \n",
    "    # Optionally, display the plot\n",
    "    plt.show()\n",
    "\n",
    "# difference between test and train\n",
    "def calculate_difference(train_scores_str, test_scores_str):\n",
    "    # Remove the brackets and split the string by spaces\n",
    "    str_list = test_scores_str.strip('[]').split()\n",
    "\n",
    "    # Convert each element to a float\n",
    "    test_scores_str = [float(num) for num in str_list]\n",
    "\n",
    "    test_scores = [float(x) for x in test_scores_str]\n",
    "    train_scores = [float(x) for x in train_scores_str]\n",
    "    difference = [str(np.round(test - train, 3)) for test, train in zip(test_scores, train_scores)]\n",
    "    print(f'train loss average:{np.round(np.mean(test_scores), 3)}')\n",
    "    print(f'test loss average:{np.round(np.mean(test_scores), 3)}')\n",
    "\n",
    "    return difference\n",
    "\n"
   ]
  },
  {
   "cell_type": "code",
   "execution_count": 16,
   "metadata": {},
   "outputs": [],
   "source": [
    "def train_model(trainstreamer, teststreamer, config, settings=None):\n",
    "\n",
    "        loss_fn = torch.nn.CrossEntropyLoss()\n",
    "\n",
    "        with mlflow.start_run():\n",
    "            optimizer = torch.optim.Adam\n",
    "\n",
    "            if settings==None:\n",
    "                # default settings\n",
    "                settings = TrainerSettings(\n",
    "                    epochs=15,\n",
    "                    metrics=[accuracy, f1micro, f1macro, precision, recall],\n",
    "                    logdir=\"logs/heart1D_oversampled\",\n",
    "                    train_steps=len(trainstreamer) // 5,\n",
    "                    valid_steps=len(teststreamer) // 5,\n",
    "                    reporttypes=[ReportTypes.TENSORBOARD, ReportTypes.MLFLOW],\n",
    "                    scheduler_kwargs={\"factor\": 0.5, \"patience\": 2},\n",
    "                    earlystop_kwargs={\"patience\": 8},\n",
    "                )\n",
    "\n",
    "\n",
    "\n",
    "            trainer = Trainer(\n",
    "                model=model,\n",
    "                settings=settings,\n",
    "                loss_fn=loss_fn,\n",
    "                optimizer=optimizer,\n",
    "                traindataloader=trainstreamer.stream(),\n",
    "                validdataloader=teststreamer.stream(),\n",
    "                scheduler= config[\"scheduler\"],\n",
    "            )\n",
    "\n",
    "            mlflow.set_tag(\"model\", config[\"model\"])\n",
    "            mlflow.set_tag(\"dataset\", \"heart_big_oversampled\")\n",
    "            mlflow.log_param(\"scheduler\", str(trainer.scheduler).split(\".\")[-1])\n",
    "            mlflow.log_param(\"earlystop\", str(settings.earlystop_kwargs))\n",
    "\n",
    "            base_config = {\n",
    "                \"hidden\": config[\"hidden\"],\n",
    "                \"dropout\": config[\"dropout\"],\n",
    "                \"num_classes\": config[\"num_classes\"],\n",
    "                #\"num_heads\": config[\"num_heads\"],\n",
    "                \"num_blocks\": config[\"num_blocks\"],\n",
    "               # \"shape\": config[\"shape\"]\n",
    "            }\n",
    "            mlflow.log_params(base_config)\n",
    "            mlflow.log_param(\"epochs\", settings.epochs)\n",
    "            mlflow.log_param(\"shape0\", config[\"shape\"])\n",
    "            mlflow.log_param(\"optimizer\", str(optimizer))\n",
    "            mlflow.log_params(settings.optimizer_kwargs)\n",
    "            trainer.loop()\n",
    "\n"
   ]
  },
  {
   "cell_type": "code",
   "execution_count": 8,
   "metadata": {},
   "outputs": [
    {
     "name": "stdout",
     "output_type": "stream",
     "text": [
      "{'ptb': 'heart', 'arrhythmia': 'heart_big'}\n",
      "MPS is available\n"
     ]
    }
   ],
   "source": [
    "datadir = Path('../data/processed/')\n",
    "configfile = Path(\"config.toml\")\n",
    "\n",
    "with configfile.open('rb') as f:\n",
    "    config = tomllib.load(f)\n",
    "print(config)\n",
    "\n",
    "if torch.backends.mps.is_available():\n",
    "            device = torch.device('mps')\n",
    "            print('MPS is available')\n",
    "else:\n",
    "            device = torch.device('cpu')"
   ]
  },
  {
   "cell_type": "code",
   "execution_count": 9,
   "metadata": {},
   "outputs": [
    {
     "data": {
      "text/plain": [
       "(PosixPath('../data/processed/heart_big_oversampled_full_train.parq'),\n",
       " PosixPath('../data/processed/heart_big_test.parq'))"
      ]
     },
     "execution_count": 9,
     "metadata": {},
     "output_type": "execute_result"
    }
   ],
   "source": [
    "#choos dataset\n",
    "trainfile = datadir / (config['arrhythmia'] + '_oversampled_full_train.parq')\n",
    "#trainfile = datadir / (config['arrhythmia'] + '_SMOTE_train.parq')\n",
    "testfile = datadir / (config['arrhythmia'] + '_test.parq')\n",
    "trainfile, testfile"
   ]
  },
  {
   "cell_type": "markdown",
   "metadata": {},
   "source": [
    "# 1D MODELS"
   ]
  },
  {
   "cell_type": "code",
   "execution_count": 10,
   "metadata": {},
   "outputs": [],
   "source": [
    "# 1D dataset\n",
    "traindataset = datasets.HeartDataset1D(trainfile, target=\"target\")\n",
    "testdataset = datasets.HeartDataset1D(testfile, target=\"target\")"
   ]
  },
  {
   "cell_type": "code",
   "execution_count": 21,
   "metadata": {},
   "outputs": [
    {
     "data": {
      "text/plain": [
       "(17187, 1368)"
      ]
     },
     "execution_count": 21,
     "metadata": {},
     "output_type": "execute_result"
    }
   ],
   "source": [
    "trainstreamer = BaseDatastreamer(traindataset, preprocessor = BasePreprocessor(), batchsize=32)\n",
    "teststreamer = BaseDatastreamer(testdataset, preprocessor = BasePreprocessor(), batchsize=32)\n",
    "len(trainstreamer), len(teststreamer)"
   ]
  },
  {
   "cell_type": "code",
   "execution_count": 12,
   "metadata": {},
   "outputs": [
    {
     "data": {
      "text/plain": [
       "torch.Size([192, 1])"
      ]
     },
     "execution_count": 12,
     "metadata": {},
     "output_type": "execute_result"
    }
   ],
   "source": [
    "x, y = traindataset[0]\n",
    "x.shape"
   ]
  },
  {
   "cell_type": "code",
   "execution_count": 13,
   "metadata": {},
   "outputs": [
    {
     "data": {
      "text/plain": [
       "(torch.Size([32, 192, 1]), torch.Size([32]))"
      ]
     },
     "execution_count": 13,
     "metadata": {},
     "output_type": "execute_result"
    }
   ],
   "source": [
    "x, y = next(trainstreamer.stream())\n",
    "x.shape, y.shape"
   ]
  },
  {
   "cell_type": "markdown",
   "metadata": {},
   "source": [
    "## CNN 1D + RESNET"
   ]
  },
  {
   "cell_type": "code",
   "execution_count": null,
   "metadata": {},
   "outputs": [
    {
     "ename": "KeyError",
     "evalue": "'traindataset'",
     "output_type": "error",
     "traceback": [
      "\u001b[0;31m---------------------------------------------------------------------------\u001b[0m",
      "\u001b[0;31mKeyError\u001b[0m                                  Traceback (most recent call last)",
      "Cell \u001b[0;32mIn[14], line 18\u001b[0m\n\u001b[1;32m      5\u001b[0m accuracy \u001b[38;5;241m=\u001b[39m metrics\u001b[38;5;241m.\u001b[39mAccuracy()\n\u001b[1;32m      7\u001b[0m settings \u001b[38;5;241m=\u001b[39m TrainerSettings(\n\u001b[1;32m      8\u001b[0m         epochs\u001b[38;5;241m=\u001b[39m\u001b[38;5;241m10\u001b[39m,\n\u001b[1;32m      9\u001b[0m         metrics\u001b[38;5;241m=\u001b[39m[accuracy, f1micro, f1macro, precision, recall],\n\u001b[0;32m   (...)\u001b[0m\n\u001b[1;32m     16\u001b[0m         device\u001b[38;5;241m=\u001b[39m device\n\u001b[1;32m     17\u001b[0m     )\n\u001b[0;32m---> 18\u001b[0m \u001b[38;5;28;01mif\u001b[39;00m \u001b[43mconfig\u001b[49m\u001b[43m[\u001b[49m\u001b[38;5;124;43m'\u001b[39;49m\u001b[38;5;124;43mtraindataset\u001b[39;49m\u001b[38;5;124;43m'\u001b[39;49m\u001b[43m]\u001b[49m \u001b[38;5;241m==\u001b[39m\u001b[38;5;124m'\u001b[39m\u001b[38;5;124msmote\u001b[39m\u001b[38;5;124m'\u001b[39m:\n\u001b[1;32m     19\u001b[0m             settings\u001b[38;5;241m.\u001b[39mlogdir\u001b[38;5;241m=\u001b[39m\u001b[38;5;124m\"\u001b[39m\u001b[38;5;124mlogs/heart1D_smote\u001b[39m\u001b[38;5;124m\"\u001b[39m\n\u001b[1;32m     21\u001b[0m modelname\u001b[38;5;241m=\u001b[39m \u001b[38;5;124m\"\u001b[39m\u001b[38;5;124mCNN1DResNet\u001b[39m\u001b[38;5;124m\"\u001b[39m\n",
      "\u001b[0;31mKeyError\u001b[0m: 'traindataset'"
     ]
    }
   ],
   "source": [
    "f1micro = metrics.F1Score(average='micro')\n",
    "f1macro = metrics.F1Score(average='macro')\n",
    "precision = metrics.Precision('micro')\n",
    "recall = metrics.Recall('macro')\n",
    "accuracy = metrics.Accuracy()\n",
    "\n",
    "settings = TrainerSettings(\n",
    "        epochs=10,\n",
    "        metrics=[accuracy, f1micro, f1macro, precision, recall],\n",
    "        logdir=\"logs/heart1D_oversampled\",\n",
    "        train_steps=len(trainstreamer) // 5, #met 5 epochs heeft het een keer de hele dataset gezien\n",
    "        valid_steps=len(teststreamer) // 5,\n",
    "        reporttypes=[ReportTypes.TENSORBOARD, ReportTypes.MLFLOW],\n",
    "        scheduler_kwargs={\"factor\": 0.2, \"patience\": 2},\n",
    "        earlystop_kwargs= {\"patience\": 10},\n",
    "        device= device\n",
    "    )\n",
    "\n",
    "\n",
    "modelname= \"CNN1DResNet\"\n",
    "config = {\n",
    "    \"model\": modelname,\n",
    "    \"scheduler\": torch.optim.lr_scheduler.ReduceLROnPlateau,\n",
    "    \"input\": 1,\n",
    "    \"hidden\": 128,\n",
    "    \"num_layers\": 2,\n",
    "    \"dropout\": 0.2,\n",
    "    \"num_classes\": 5,\n",
    "    \"num_heads\": 0,\n",
    "    \"num_blocks\": 2,\n",
    "    \"num_classes\": 5,\n",
    "    \"input_length\": 192,\n",
    "    \"shape\":(1, 192),\n",
    "    'traindataset': 'oversampled'\n",
    "   \n",
    "}\n",
    "if 'smote' in src(trainfile):\n",
    "        settings.logdir=\"logs/heart1D_smote\"\n",
    "        config['traindataset'] = 'smote'\n",
    "\n",
    "\n",
    "\n",
    "print(config)\n",
    "model = models.CNN1DResNet(config)\n",
    "mlflow.set_tracking_uri(\"sqlite:///mads_exam.db\")\n",
    "mlflow.set_experiment(config[\"model\"])\n",
    "train_model(trainstreamer, teststreamer, config, settings)\n",
    "y, yhat = test_model(model, teststreamer)\n",
    "cfm = confusion_matrix(y, yhat)\n",
    "cfm = cfm / np.sum(cfm, axis=1, keepdims=True)\n",
    "confusion_matrixs[modelname] = cfm\n",
    "print(config)\n",
    "plot_confusion_matrix(cfm, modelname)"
   ]
  },
  {
   "cell_type": "markdown",
   "metadata": {},
   "source": [
    "# HYBRID MODEL 1D CNN + GRU + RESNET\n",
    "To speed up the trining, combining a CNN with GRU seemed like a better option\n",
    "The cnn runs in parallel instead of sequential"
   ]
  },
  {
   "cell_type": "code",
   "execution_count": 17,
   "metadata": {},
   "outputs": [
    {
     "name": "stderr",
     "output_type": "stream",
     "text": [
      "\u001b[32m2025-02-04 08:17:49.361\u001b[0m | \u001b[1mINFO    \u001b[0m | \u001b[36mmltrainer.trainer\u001b[0m:\u001b[36mdir_add_timestamp\u001b[0m:\u001b[36m29\u001b[0m - \u001b[1mLogging to logs/heart1D_oversampled/20250204-081749\u001b[0m\n",
      "\u001b[32m2025-02-04 08:17:49.362\u001b[0m | \u001b[1mINFO    \u001b[0m | \u001b[36mmltrainer.trainer\u001b[0m:\u001b[36m__init__\u001b[0m:\u001b[36m72\u001b[0m - \u001b[1mFound earlystop_kwargs in settings.Set to None if you dont want earlystopping.\u001b[0m\n"
     ]
    },
    {
     "name": "stdout",
     "output_type": "stream",
     "text": [
      "{'model': 'CNN1DGRUResNet', 'scheduler': <class 'torch.optim.lr_scheduler.ReduceLROnPlateau'>, 'gru_hidden': 256, 'hidden': 64, 'dropout': 0.4, 'num_layers': 2, 'num_blocks': 5, 'num_classes': 5, 'input_length': 192, 'input_size': 1, 'shape': (1, 192), 'traindataset': 'oversampled'}\n",
      "CNN1DGRUResNet(\n",
      "  (convolutions): ModuleList(\n",
      "    (0): ConvBlock1D(\n",
      "      (conv): Sequential(\n",
      "        (0): Conv1d(1, 64, kernel_size=(3,), stride=(1,), padding=(1,))\n",
      "        (1): ReLU()\n",
      "        (2): BatchNorm1d(64, eps=1e-05, momentum=0.1, affine=True, track_running_stats=True)\n",
      "      )\n",
      "    )\n",
      "    (1): ConvBlock1D(\n",
      "      (conv): Sequential(\n",
      "        (0): Conv1d(64, 64, kernel_size=(3,), stride=(1,), padding=(1,))\n",
      "        (1): ReLU()\n",
      "        (2): BatchNorm1d(64, eps=1e-05, momentum=0.1, affine=True, track_running_stats=True)\n",
      "      )\n",
      "    )\n",
      "    (2): ResNetBlock1D(\n",
      "      (conv1): Conv1d(64, 64, kernel_size=(3,), stride=(1,), padding=(1,))\n",
      "      (bn1): BatchNorm1d(64, eps=1e-05, momentum=0.1, affine=True, track_running_stats=True)\n",
      "      (relu): ReLU()\n",
      "      (conv2): Conv1d(64, 64, kernel_size=(3,), stride=(1,), padding=(1,))\n",
      "      (bn2): BatchNorm1d(64, eps=1e-05, momentum=0.1, affine=True, track_running_stats=True)\n",
      "      (shortcut): Identity()\n",
      "    )\n",
      "    (3): ConvBlock1D(\n",
      "      (conv): Sequential(\n",
      "        (0): Conv1d(64, 64, kernel_size=(3,), stride=(1,), padding=(2,), dilation=(2,))\n",
      "        (1): ReLU()\n",
      "        (2): BatchNorm1d(64, eps=1e-05, momentum=0.1, affine=True, track_running_stats=True)\n",
      "      )\n",
      "    )\n",
      "    (4): ResNetBlock1D(\n",
      "      (conv1): Conv1d(64, 64, kernel_size=(3,), stride=(1,), padding=(1,))\n",
      "      (bn1): BatchNorm1d(64, eps=1e-05, momentum=0.1, affine=True, track_running_stats=True)\n",
      "      (relu): ReLU()\n",
      "      (conv2): Conv1d(64, 64, kernel_size=(3,), stride=(1,), padding=(1,))\n",
      "      (bn2): BatchNorm1d(64, eps=1e-05, momentum=0.1, affine=True, track_running_stats=True)\n",
      "      (shortcut): Identity()\n",
      "    )\n",
      "    (5): ConvBlock1D(\n",
      "      (conv): Sequential(\n",
      "        (0): Conv1d(64, 64, kernel_size=(3,), stride=(1,), padding=(3,), dilation=(3,))\n",
      "        (1): ReLU()\n",
      "        (2): BatchNorm1d(64, eps=1e-05, momentum=0.1, affine=True, track_running_stats=True)\n",
      "      )\n",
      "    )\n",
      "    (6): ResNetBlock1D(\n",
      "      (conv1): Conv1d(64, 64, kernel_size=(3,), stride=(1,), padding=(1,))\n",
      "      (bn1): BatchNorm1d(64, eps=1e-05, momentum=0.1, affine=True, track_running_stats=True)\n",
      "      (relu): ReLU()\n",
      "      (conv2): Conv1d(64, 64, kernel_size=(3,), stride=(1,), padding=(1,))\n",
      "      (bn2): BatchNorm1d(64, eps=1e-05, momentum=0.1, affine=True, track_running_stats=True)\n",
      "      (shortcut): Identity()\n",
      "    )\n",
      "    (7): ConvBlock1D(\n",
      "      (conv): Sequential(\n",
      "        (0): Conv1d(64, 64, kernel_size=(3,), stride=(1,), padding=(4,), dilation=(4,))\n",
      "        (1): ReLU()\n",
      "        (2): BatchNorm1d(64, eps=1e-05, momentum=0.1, affine=True, track_running_stats=True)\n",
      "      )\n",
      "    )\n",
      "    (8): ResNetBlock1D(\n",
      "      (conv1): Conv1d(64, 64, kernel_size=(3,), stride=(1,), padding=(1,))\n",
      "      (bn1): BatchNorm1d(64, eps=1e-05, momentum=0.1, affine=True, track_running_stats=True)\n",
      "      (relu): ReLU()\n",
      "      (conv2): Conv1d(64, 64, kernel_size=(3,), stride=(1,), padding=(1,))\n",
      "      (bn2): BatchNorm1d(64, eps=1e-05, momentum=0.1, affine=True, track_running_stats=True)\n",
      "      (shortcut): Identity()\n",
      "    )\n",
      "    (9): ConvBlock1D(\n",
      "      (conv): Sequential(\n",
      "        (0): Conv1d(64, 64, kernel_size=(3,), stride=(1,), padding=(5,), dilation=(5,))\n",
      "        (1): ReLU()\n",
      "        (2): BatchNorm1d(64, eps=1e-05, momentum=0.1, affine=True, track_running_stats=True)\n",
      "      )\n",
      "    )\n",
      "    (10): ResNetBlock1D(\n",
      "      (conv1): Conv1d(64, 64, kernel_size=(3,), stride=(1,), padding=(1,))\n",
      "      (bn1): BatchNorm1d(64, eps=1e-05, momentum=0.1, affine=True, track_running_stats=True)\n",
      "      (relu): ReLU()\n",
      "      (conv2): Conv1d(64, 64, kernel_size=(3,), stride=(1,), padding=(1,))\n",
      "      (bn2): BatchNorm1d(64, eps=1e-05, momentum=0.1, affine=True, track_running_stats=True)\n",
      "      (shortcut): Identity()\n",
      "    )\n",
      "    (11): MaxPool1d(kernel_size=2, stride=2, padding=0, dilation=1, ceil_mode=False)\n",
      "  )\n",
      "  (linear_after_conv): Linear(in_features=6144, out_features=64, bias=True)\n",
      "  (gru): GRU(64, 256, num_layers=2, batch_first=True, dropout=0.4)\n",
      "  (dense): Sequential(\n",
      "    (0): Flatten(start_dim=1, end_dim=-1)\n",
      "    (1): Linear(in_features=256, out_features=64, bias=True)\n",
      "    (2): ReLU()\n",
      "    (3): Linear(in_features=64, out_features=5, bias=True)\n",
      "  )\n",
      ")\n",
      "----------------------------------------------------------------\n",
      "        Layer (type)               Output Shape         Param #\n",
      "================================================================\n",
      "            Conv1d-1              [-1, 64, 192]             256\n",
      "              ReLU-2              [-1, 64, 192]               0\n",
      "       BatchNorm1d-3              [-1, 64, 192]             128\n",
      "       ConvBlock1D-4              [-1, 64, 192]               0\n",
      "            Conv1d-5              [-1, 64, 192]          12,352\n",
      "              ReLU-6              [-1, 64, 192]               0\n",
      "       BatchNorm1d-7              [-1, 64, 192]             128\n",
      "       ConvBlock1D-8              [-1, 64, 192]               0\n",
      "            Conv1d-9              [-1, 64, 192]          12,352\n",
      "      BatchNorm1d-10              [-1, 64, 192]             128\n",
      "             ReLU-11              [-1, 64, 192]               0\n",
      "           Conv1d-12              [-1, 64, 192]          12,352\n",
      "      BatchNorm1d-13              [-1, 64, 192]             128\n",
      "         Identity-14              [-1, 64, 192]               0\n",
      "             ReLU-15              [-1, 64, 192]               0\n",
      "    ResNetBlock1D-16              [-1, 64, 192]               0\n",
      "           Conv1d-17              [-1, 64, 192]          12,352\n",
      "             ReLU-18              [-1, 64, 192]               0\n",
      "      BatchNorm1d-19              [-1, 64, 192]             128\n",
      "      ConvBlock1D-20              [-1, 64, 192]               0\n",
      "           Conv1d-21              [-1, 64, 192]          12,352\n",
      "      BatchNorm1d-22              [-1, 64, 192]             128\n",
      "             ReLU-23              [-1, 64, 192]               0\n",
      "           Conv1d-24              [-1, 64, 192]          12,352\n",
      "      BatchNorm1d-25              [-1, 64, 192]             128\n",
      "         Identity-26              [-1, 64, 192]               0\n",
      "             ReLU-27              [-1, 64, 192]               0\n",
      "    ResNetBlock1D-28              [-1, 64, 192]               0\n",
      "           Conv1d-29              [-1, 64, 192]          12,352\n",
      "             ReLU-30              [-1, 64, 192]               0\n",
      "      BatchNorm1d-31              [-1, 64, 192]             128\n",
      "      ConvBlock1D-32              [-1, 64, 192]               0\n",
      "           Conv1d-33              [-1, 64, 192]          12,352\n",
      "      BatchNorm1d-34              [-1, 64, 192]             128\n",
      "             ReLU-35              [-1, 64, 192]               0\n",
      "           Conv1d-36              [-1, 64, 192]          12,352\n",
      "      BatchNorm1d-37              [-1, 64, 192]             128\n",
      "         Identity-38              [-1, 64, 192]               0\n",
      "             ReLU-39              [-1, 64, 192]               0\n",
      "    ResNetBlock1D-40              [-1, 64, 192]               0\n",
      "           Conv1d-41              [-1, 64, 192]          12,352\n",
      "             ReLU-42              [-1, 64, 192]               0\n",
      "      BatchNorm1d-43              [-1, 64, 192]             128\n",
      "      ConvBlock1D-44              [-1, 64, 192]               0\n",
      "           Conv1d-45              [-1, 64, 192]          12,352\n",
      "      BatchNorm1d-46              [-1, 64, 192]             128\n",
      "             ReLU-47              [-1, 64, 192]               0\n",
      "           Conv1d-48              [-1, 64, 192]          12,352\n",
      "      BatchNorm1d-49              [-1, 64, 192]             128\n",
      "         Identity-50              [-1, 64, 192]               0\n",
      "             ReLU-51              [-1, 64, 192]               0\n",
      "    ResNetBlock1D-52              [-1, 64, 192]               0\n",
      "           Conv1d-53              [-1, 64, 192]          12,352\n",
      "             ReLU-54              [-1, 64, 192]               0\n",
      "      BatchNorm1d-55              [-1, 64, 192]             128\n",
      "      ConvBlock1D-56              [-1, 64, 192]               0\n",
      "           Conv1d-57              [-1, 64, 192]          12,352\n",
      "      BatchNorm1d-58              [-1, 64, 192]             128\n",
      "             ReLU-59              [-1, 64, 192]               0\n",
      "           Conv1d-60              [-1, 64, 192]          12,352\n",
      "      BatchNorm1d-61              [-1, 64, 192]             128\n",
      "         Identity-62              [-1, 64, 192]               0\n",
      "             ReLU-63              [-1, 64, 192]               0\n",
      "    ResNetBlock1D-64              [-1, 64, 192]               0\n",
      "        MaxPool1d-65               [-1, 64, 96]               0\n",
      "           Linear-66                   [-1, 64]         393,280\n",
      "              GRU-67  [[-1, 1, 256], [-1, 2, 256]]               0\n",
      "          Flatten-68                  [-1, 256]               0\n",
      "           Linear-69                   [-1, 64]          16,448\n",
      "             ReLU-70                   [-1, 64]               0\n",
      "           Linear-71                    [-1, 5]             325\n",
      "================================================================\n",
      "Total params: 597,637\n",
      "Trainable params: 597,637\n",
      "Non-trainable params: 0\n",
      "----------------------------------------------------------------\n",
      "Input size (MB): 0.00\n",
      "Forward/backward pass size (MB): 5.05\n",
      "Params size (MB): 2.28\n",
      "Estimated Total Size (MB): 7.33\n",
      "----------------------------------------------------------------\n"
     ]
    },
    {
     "name": "stderr",
     "output_type": "stream",
     "text": [
      "100%|\u001b[38;2;30;71;6m██████████\u001b[0m| 1718/1718 [08:54<00:00,  3.22it/s]\n",
      "\u001b[32m2025-02-04 08:27:20.128\u001b[0m | \u001b[1mINFO    \u001b[0m | \u001b[36mmltrainer.trainer\u001b[0m:\u001b[36mreport\u001b[0m:\u001b[36m191\u001b[0m - \u001b[1mEpoch 0 train 0.3276 test 0.3173 metric ['0.8936', '0.8936', '0.6921', '0.8936', '0.9173']\u001b[0m\n",
      "100%|\u001b[38;2;30;71;6m██████████\u001b[0m| 1718/1718 [08:53<00:00,  3.22it/s]\n",
      "\u001b[32m2025-02-04 08:36:49.831\u001b[0m | \u001b[1mINFO    \u001b[0m | \u001b[36mmltrainer.trainer\u001b[0m:\u001b[36mreport\u001b[0m:\u001b[36m191\u001b[0m - \u001b[1mEpoch 1 train 0.1673 test 0.2104 metric ['0.9212', '0.9212', '0.7261', '0.9212', '0.9174']\u001b[0m\n",
      "100%|\u001b[38;2;30;71;6m██████████\u001b[0m| 1718/1718 [08:54<00:00,  3.21it/s]\n",
      "\u001b[32m2025-02-04 08:46:21.357\u001b[0m | \u001b[1mINFO    \u001b[0m | \u001b[36mmltrainer.trainer\u001b[0m:\u001b[36mreport\u001b[0m:\u001b[36m191\u001b[0m - \u001b[1mEpoch 2 train 0.1222 test 0.2055 metric ['0.9338', '0.9338', '0.7719', '0.9338', '0.9389']\u001b[0m\n",
      "100%|\u001b[38;2;30;71;6m██████████\u001b[0m| 1718/1718 [08:56<00:00,  3.20it/s]\n",
      "\u001b[32m2025-02-04 08:55:54.050\u001b[0m | \u001b[1mINFO    \u001b[0m | \u001b[36mmltrainer.trainer\u001b[0m:\u001b[36mreport\u001b[0m:\u001b[36m191\u001b[0m - \u001b[1mEpoch 3 train 0.1071 test 0.1540 metric ['0.9400', '0.9400', '0.7806', '0.9400', '0.9463']\u001b[0m\n",
      "100%|\u001b[38;2;30;71;6m██████████\u001b[0m| 1718/1718 [08:55<00:00,  3.21it/s]\n",
      "\u001b[32m2025-02-04 09:05:26.525\u001b[0m | \u001b[1mINFO    \u001b[0m | \u001b[36mmltrainer.trainer\u001b[0m:\u001b[36mreport\u001b[0m:\u001b[36m191\u001b[0m - \u001b[1mEpoch 4 train 0.0932 test 0.1543 metric ['0.9366', '0.9366', '0.7513', '0.9366', '0.9447']\u001b[0m\n",
      "\u001b[32m2025-02-04 09:05:26.525\u001b[0m | \u001b[1mINFO    \u001b[0m | \u001b[36mmltrainer.trainer\u001b[0m:\u001b[36m__call__\u001b[0m:\u001b[36m234\u001b[0m - \u001b[1mbest loss: 0.1540, current loss 0.1543.Counter 1/10.\u001b[0m\n",
      "100%|\u001b[38;2;30;71;6m██████████\u001b[0m| 1718/1718 [08:56<00:00,  3.20it/s]\n",
      "\u001b[32m2025-02-04 09:14:59.777\u001b[0m | \u001b[1mINFO    \u001b[0m | \u001b[36mmltrainer.trainer\u001b[0m:\u001b[36mreport\u001b[0m:\u001b[36m191\u001b[0m - \u001b[1mEpoch 5 train 0.0787 test 0.1542 metric ['0.9469', '0.9469', '0.7978', '0.9469', '0.9493']\u001b[0m\n",
      "\u001b[32m2025-02-04 09:14:59.777\u001b[0m | \u001b[1mINFO    \u001b[0m | \u001b[36mmltrainer.trainer\u001b[0m:\u001b[36m__call__\u001b[0m:\u001b[36m234\u001b[0m - \u001b[1mbest loss: 0.1540, current loss 0.1542.Counter 2/10.\u001b[0m\n",
      "100%|\u001b[38;2;30;71;6m██████████\u001b[0m| 1718/1718 [08:56<00:00,  3.20it/s]\n",
      "\u001b[32m2025-02-04 09:24:32.612\u001b[0m | \u001b[1mINFO    \u001b[0m | \u001b[36mmltrainer.trainer\u001b[0m:\u001b[36mreport\u001b[0m:\u001b[36m191\u001b[0m - \u001b[1mEpoch 6 train 0.0766 test 0.1293 metric ['0.9570', '0.9570', '0.8340', '0.9570', '0.9532']\u001b[0m\n",
      "100%|\u001b[38;2;30;71;6m██████████\u001b[0m| 1718/1718 [08:56<00:00,  3.20it/s]\n",
      "\u001b[32m2025-02-04 09:34:05.568\u001b[0m | \u001b[1mINFO    \u001b[0m | \u001b[36mmltrainer.trainer\u001b[0m:\u001b[36mreport\u001b[0m:\u001b[36m191\u001b[0m - \u001b[1mEpoch 7 train 0.0684 test 0.1677 metric ['0.9451', '0.9451', '0.8027', '0.9451', '0.9490']\u001b[0m\n",
      "\u001b[32m2025-02-04 09:34:05.569\u001b[0m | \u001b[1mINFO    \u001b[0m | \u001b[36mmltrainer.trainer\u001b[0m:\u001b[36m__call__\u001b[0m:\u001b[36m234\u001b[0m - \u001b[1mbest loss: 0.1293, current loss 0.1677.Counter 1/10.\u001b[0m\n",
      "100%|\u001b[38;2;30;71;6m██████████\u001b[0m| 1718/1718 [08:56<00:00,  3.20it/s]\n",
      "\u001b[32m2025-02-04 09:43:38.549\u001b[0m | \u001b[1mINFO    \u001b[0m | \u001b[36mmltrainer.trainer\u001b[0m:\u001b[36mreport\u001b[0m:\u001b[36m191\u001b[0m - \u001b[1mEpoch 8 train 0.0684 test 0.1427 metric ['0.9536', '0.9536', '0.8123', '0.9536', '0.9427']\u001b[0m\n",
      "\u001b[32m2025-02-04 09:43:38.549\u001b[0m | \u001b[1mINFO    \u001b[0m | \u001b[36mmltrainer.trainer\u001b[0m:\u001b[36m__call__\u001b[0m:\u001b[36m234\u001b[0m - \u001b[1mbest loss: 0.1293, current loss 0.1427.Counter 2/10.\u001b[0m\n",
      "100%|\u001b[38;2;30;71;6m██████████\u001b[0m| 1718/1718 [08:57<00:00,  3.20it/s]\n",
      "\u001b[32m2025-02-04 09:53:12.336\u001b[0m | \u001b[1mINFO    \u001b[0m | \u001b[36mmltrainer.trainer\u001b[0m:\u001b[36mreport\u001b[0m:\u001b[36m191\u001b[0m - \u001b[1mEpoch 9 train 0.0601 test 0.1808 metric ['0.9382', '0.9382', '0.7701', '0.9382', '0.9328']\u001b[0m\n",
      "\u001b[32m2025-02-04 09:53:12.337\u001b[0m | \u001b[1mINFO    \u001b[0m | \u001b[36mmltrainer.trainer\u001b[0m:\u001b[36m__call__\u001b[0m:\u001b[36m234\u001b[0m - \u001b[1mbest loss: 0.1293, current loss 0.1808.Counter 3/10.\u001b[0m\n",
      "100%|\u001b[38;2;30;71;6m██████████\u001b[0m| 1718/1718 [08:58<00:00,  3.19it/s]]\n",
      "\u001b[32m2025-02-04 10:02:47.341\u001b[0m | \u001b[1mINFO    \u001b[0m | \u001b[36mmltrainer.trainer\u001b[0m:\u001b[36mreport\u001b[0m:\u001b[36m191\u001b[0m - \u001b[1mEpoch 10 train 0.0337 test 0.0975 metric ['0.9724', '0.9724', '0.8601', '0.9724', '0.9537']\u001b[0m\n",
      "100%|\u001b[38;2;30;71;6m██████████\u001b[0m| 1718/1718 [08:58<00:00,  3.19it/s]]\n",
      "\u001b[32m2025-02-04 10:12:22.030\u001b[0m | \u001b[1mINFO    \u001b[0m | \u001b[36mmltrainer.trainer\u001b[0m:\u001b[36mreport\u001b[0m:\u001b[36m191\u001b[0m - \u001b[1mEpoch 11 train 0.0261 test 0.1007 metric ['0.9756', '0.9756', '0.8832', '0.9756', '0.9521']\u001b[0m\n",
      "\u001b[32m2025-02-04 10:12:22.030\u001b[0m | \u001b[1mINFO    \u001b[0m | \u001b[36mmltrainer.trainer\u001b[0m:\u001b[36m__call__\u001b[0m:\u001b[36m234\u001b[0m - \u001b[1mbest loss: 0.0975, current loss 0.1007.Counter 1/10.\u001b[0m\n",
      "100%|\u001b[38;2;30;71;6m██████████\u001b[0m| 1718/1718 [09:00<00:00,  3.18it/s]]\n",
      "\u001b[32m2025-02-04 10:24:17.692\u001b[0m | \u001b[1mINFO    \u001b[0m | \u001b[36mmltrainer.trainer\u001b[0m:\u001b[36mreport\u001b[0m:\u001b[36m191\u001b[0m - \u001b[1mEpoch 12 train 0.0222 test 0.0818 metric ['0.9798', '0.9798', '0.9079', '0.9798', '0.9621']\u001b[0m\n",
      "100%|\u001b[38;2;30;71;6m██████████\u001b[0m| 1718/1718 [08:58<00:00,  3.19it/s]]\n",
      "\u001b[32m2025-02-04 10:33:52.441\u001b[0m | \u001b[1mINFO    \u001b[0m | \u001b[36mmltrainer.trainer\u001b[0m:\u001b[36mreport\u001b[0m:\u001b[36m191\u001b[0m - \u001b[1mEpoch 13 train 0.0184 test 0.0939 metric ['0.9775', '0.9775', '0.8901', '0.9775', '0.9484']\u001b[0m\n",
      "\u001b[32m2025-02-04 10:33:52.441\u001b[0m | \u001b[1mINFO    \u001b[0m | \u001b[36mmltrainer.trainer\u001b[0m:\u001b[36m__call__\u001b[0m:\u001b[36m234\u001b[0m - \u001b[1mbest loss: 0.0818, current loss 0.0939.Counter 1/10.\u001b[0m\n",
      "100%|\u001b[38;2;30;71;6m██████████\u001b[0m| 1718/1718 [08:58<00:00,  3.19it/s]]\n",
      "\u001b[32m2025-02-04 10:43:27.676\u001b[0m | \u001b[1mINFO    \u001b[0m | \u001b[36mmltrainer.trainer\u001b[0m:\u001b[36mreport\u001b[0m:\u001b[36m191\u001b[0m - \u001b[1mEpoch 14 train 0.0182 test 0.1180 metric ['0.9779', '0.9779', '0.8916', '0.9779', '0.9445']\u001b[0m\n",
      "\u001b[32m2025-02-04 10:43:27.677\u001b[0m | \u001b[1mINFO    \u001b[0m | \u001b[36mmltrainer.trainer\u001b[0m:\u001b[36m__call__\u001b[0m:\u001b[36m234\u001b[0m - \u001b[1mbest loss: 0.0818, current loss 0.1180.Counter 2/10.\u001b[0m\n",
      "100%|\u001b[38;2;30;71;6m██████████\u001b[0m| 1718/1718 [08:57<00:00,  3.20it/s]]\n",
      "\u001b[32m2025-02-04 10:53:01.890\u001b[0m | \u001b[1mINFO    \u001b[0m | \u001b[36mmltrainer.trainer\u001b[0m:\u001b[36mreport\u001b[0m:\u001b[36m191\u001b[0m - \u001b[1mEpoch 15 train 0.0138 test 0.0850 metric ['0.9823', '0.9823', '0.9176', '0.9823', '0.9606']\u001b[0m\n",
      "\u001b[32m2025-02-04 10:53:01.890\u001b[0m | \u001b[1mINFO    \u001b[0m | \u001b[36mmltrainer.trainer\u001b[0m:\u001b[36m__call__\u001b[0m:\u001b[36m234\u001b[0m - \u001b[1mbest loss: 0.0818, current loss 0.0850.Counter 3/10.\u001b[0m\n",
      "100%|\u001b[38;2;30;71;6m██████████\u001b[0m| 1718/1718 [09:00<00:00,  3.18it/s]]\n",
      "\u001b[32m2025-02-04 11:02:39.201\u001b[0m | \u001b[1mINFO    \u001b[0m | \u001b[36mmltrainer.trainer\u001b[0m:\u001b[36mreport\u001b[0m:\u001b[36m191\u001b[0m - \u001b[1mEpoch 16 train 0.0135 test 0.1077 metric ['0.9791', '0.9791', '0.8963', '0.9791', '0.9420']\u001b[0m\n",
      "\u001b[32m2025-02-04 11:02:39.201\u001b[0m | \u001b[1mINFO    \u001b[0m | \u001b[36mmltrainer.trainer\u001b[0m:\u001b[36m__call__\u001b[0m:\u001b[36m234\u001b[0m - \u001b[1mbest loss: 0.0818, current loss 0.1077.Counter 4/10.\u001b[0m\n",
      "100%|\u001b[38;2;30;71;6m██████████\u001b[0m| 1718/1718 [09:03<00:00,  3.16it/s]]\n",
      "\u001b[32m2025-02-04 11:12:21.620\u001b[0m | \u001b[1mINFO    \u001b[0m | \u001b[36mmltrainer.trainer\u001b[0m:\u001b[36mreport\u001b[0m:\u001b[36m191\u001b[0m - \u001b[1mEpoch 17 train 0.0114 test 0.0870 metric ['0.9851', '0.9851', '0.9198', '0.9851', '0.9531']\u001b[0m\n",
      "\u001b[32m2025-02-04 11:12:21.620\u001b[0m | \u001b[1mINFO    \u001b[0m | \u001b[36mmltrainer.trainer\u001b[0m:\u001b[36m__call__\u001b[0m:\u001b[36m234\u001b[0m - \u001b[1mbest loss: 0.0818, current loss 0.0870.Counter 5/10.\u001b[0m\n",
      "100%|\u001b[38;2;30;71;6m██████████\u001b[0m| 1718/1718 [10:40<00:00,  2.68it/s]]\n",
      "\u001b[32m2025-02-04 11:23:41.382\u001b[0m | \u001b[1mINFO    \u001b[0m | \u001b[36mmltrainer.trainer\u001b[0m:\u001b[36mreport\u001b[0m:\u001b[36m191\u001b[0m - \u001b[1mEpoch 18 train 0.0109 test 0.1107 metric ['0.9821', '0.9821', '0.9175', '0.9821', '0.9471']\u001b[0m\n",
      "\u001b[32m2025-02-04 11:23:41.382\u001b[0m | \u001b[1mINFO    \u001b[0m | \u001b[36mmltrainer.trainer\u001b[0m:\u001b[36m__call__\u001b[0m:\u001b[36m234\u001b[0m - \u001b[1mbest loss: 0.0818, current loss 0.1107.Counter 6/10.\u001b[0m\n",
      "100%|\u001b[38;2;30;71;6m██████████\u001b[0m| 1718/1718 [10:39<00:00,  2.69it/s]]\n",
      "\u001b[32m2025-02-04 11:35:00.279\u001b[0m | \u001b[1mINFO    \u001b[0m | \u001b[36mmltrainer.trainer\u001b[0m:\u001b[36mreport\u001b[0m:\u001b[36m191\u001b[0m - \u001b[1mEpoch 19 train 0.0094 test 0.0922 metric ['0.9837', '0.9837', '0.9187', '0.9837', '0.9591']\u001b[0m\n",
      "\u001b[32m2025-02-04 11:35:00.279\u001b[0m | \u001b[1mINFO    \u001b[0m | \u001b[36mmltrainer.trainer\u001b[0m:\u001b[36m__call__\u001b[0m:\u001b[36m234\u001b[0m - \u001b[1mbest loss: 0.0818, current loss 0.0922.Counter 7/10.\u001b[0m\n",
      "100%|\u001b[38;2;30;71;6m██████████\u001b[0m| 1718/1718 [10:39<00:00,  2.69it/s]]\n",
      "\u001b[32m2025-02-04 11:46:19.277\u001b[0m | \u001b[1mINFO    \u001b[0m | \u001b[36mmltrainer.trainer\u001b[0m:\u001b[36mreport\u001b[0m:\u001b[36m191\u001b[0m - \u001b[1mEpoch 20 train 0.0075 test 0.1053 metric ['0.9821', '0.9821', '0.9169', '0.9821', '0.9523']\u001b[0m\n",
      "\u001b[32m2025-02-04 11:46:19.277\u001b[0m | \u001b[1mINFO    \u001b[0m | \u001b[36mmltrainer.trainer\u001b[0m:\u001b[36m__call__\u001b[0m:\u001b[36m234\u001b[0m - \u001b[1mbest loss: 0.0818, current loss 0.1053.Counter 8/10.\u001b[0m\n",
      "100%|\u001b[38;2;30;71;6m██████████\u001b[0m| 1718/1718 [09:27<00:00,  3.03it/s]]\n",
      "\u001b[32m2025-02-04 11:56:23.013\u001b[0m | \u001b[1mINFO    \u001b[0m | \u001b[36mmltrainer.trainer\u001b[0m:\u001b[36mreport\u001b[0m:\u001b[36m191\u001b[0m - \u001b[1mEpoch 21 train 0.0085 test 0.1034 metric ['0.9814', '0.9814', '0.9159', '0.9814', '0.9597']\u001b[0m\n",
      "\u001b[32m2025-02-04 11:56:23.014\u001b[0m | \u001b[1mINFO    \u001b[0m | \u001b[36mmltrainer.trainer\u001b[0m:\u001b[36m__call__\u001b[0m:\u001b[36m234\u001b[0m - \u001b[1mbest loss: 0.0818, current loss 0.1034.Counter 9/10.\u001b[0m\n",
      "100%|\u001b[38;2;30;71;6m██████████\u001b[0m| 1718/1718 [10:12<00:00,  2.80it/s]]\n",
      "\u001b[32m2025-02-04 12:07:15.995\u001b[0m | \u001b[1mINFO    \u001b[0m | \u001b[36mmltrainer.trainer\u001b[0m:\u001b[36mreport\u001b[0m:\u001b[36m191\u001b[0m - \u001b[1mEpoch 22 train 0.0076 test 0.0980 metric ['0.9841', '0.9841', '0.9154', '0.9841', '0.9439']\u001b[0m\n",
      "\u001b[32m2025-02-04 12:07:15.995\u001b[0m | \u001b[1mINFO    \u001b[0m | \u001b[36mmltrainer.trainer\u001b[0m:\u001b[36m__call__\u001b[0m:\u001b[36m234\u001b[0m - \u001b[1mbest loss: 0.0818, current loss 0.0980.Counter 10/10.\u001b[0m\n",
      "\u001b[32m2025-02-04 12:07:15.995\u001b[0m | \u001b[1mINFO    \u001b[0m | \u001b[36mmltrainer.trainer\u001b[0m:\u001b[36mloop\u001b[0m:\u001b[36m98\u001b[0m - \u001b[1mInterrupting loop due to early stopping patience.\u001b[0m\n",
      "\u001b[32m2025-02-04 12:07:15.996\u001b[0m | \u001b[1mINFO    \u001b[0m | \u001b[36mmltrainer.trainer\u001b[0m:\u001b[36mloop\u001b[0m:\u001b[36m104\u001b[0m - \u001b[1mearly_stopping_save was false, using latest model.Set to true to retrieve best model.\u001b[0m\n",
      " 73%|\u001b[38;2;30;71;6m███████▎  \u001b[0m| 22/30 [3:49:26<1:23:26, 625.75s/it]\n"
     ]
    },
    {
     "ename": "NameError",
     "evalue": "name 'confusion_matrixs' is not defined",
     "output_type": "error",
     "traceback": [
      "\u001b[0;31m---------------------------------------------------------------------------\u001b[0m",
      "\u001b[0;31mNameError\u001b[0m                                 Traceback (most recent call last)",
      "Cell \u001b[0;32mIn[17], line 47\u001b[0m\n\u001b[1;32m     45\u001b[0m cfm \u001b[38;5;241m=\u001b[39m confusion_matrix(y, yhat)\n\u001b[1;32m     46\u001b[0m cfm \u001b[38;5;241m=\u001b[39m cfm \u001b[38;5;241m/\u001b[39m np\u001b[38;5;241m.\u001b[39msum(cfm, axis\u001b[38;5;241m=\u001b[39m\u001b[38;5;241m1\u001b[39m, keepdims\u001b[38;5;241m=\u001b[39m\u001b[38;5;28;01mTrue\u001b[39;00m)\n\u001b[0;32m---> 47\u001b[0m \u001b[43mconfusion_matrixs\u001b[49m[modelname] \u001b[38;5;241m=\u001b[39m cfm\n\u001b[1;32m     48\u001b[0m \u001b[38;5;28mprint\u001b[39m(config)\n\u001b[1;32m     49\u001b[0m plot_confusion_matrix(cfm, modelname)\n",
      "\u001b[0;31mNameError\u001b[0m: name 'confusion_matrixs' is not defined"
     ]
    }
   ],
   "source": [
    "f1micro = metrics.F1Score(average='micro')\n",
    "f1macro = metrics.F1Score(average='macro')\n",
    "precision = metrics.Precision('micro')\n",
    "recall = metrics.Recall('macro')\n",
    "accuracy = metrics.Accuracy()\n",
    "\n",
    "settings = TrainerSettings(\n",
    "        epochs=30,\n",
    "        metrics=[accuracy, f1micro, f1macro, precision, recall],\n",
    "        logdir=\"logs/heart1D_oversampled\",\n",
    "        train_steps=len(trainstreamer) // 5, #met 5 epochs heeft het een keer de hele dataset gezien\n",
    "        valid_steps=len(teststreamer) // 5,\n",
    "        reporttypes=[ReportTypes.TENSORBOARD, ReportTypes.MLFLOW],\n",
    "        scheduler_kwargs={\"factor\": 0.2, \"patience\": 2},\n",
    "        earlystop_kwargs= {\"patience\": 10},\n",
    "        device= device\n",
    "    )\n",
    "modelname= \"CNN1DGRUResNet\"\n",
    "config = {\n",
    "    \"model\": modelname,\n",
    "    \"scheduler\": torch.optim.lr_scheduler.ReduceLROnPlateau,\n",
    "    \"gru_hidden\": 256,\n",
    "    \"hidden\": 64,\n",
    "    \"dropout\": 0.4,\n",
    "    \"num_layers\": 2,\n",
    "    \"num_blocks\": 5,\n",
    "    \"num_classes\": 5,\n",
    "    \"input_length\": 192, \n",
    "    \"input_size\": 1, \n",
    "    \"shape\":(1, 192),\n",
    "    'traindataset': 'oversampled'\n",
    "}\n",
    "if 'smote' in str(trainfile):\n",
    "        settings.logdir=\"logs/heart1D_smote\"\n",
    "        config['traindataset'] = 'smote'\n",
    "\n",
    "print(config)\n",
    "model = models.CNN1DGRUResNet(config)\n",
    "print(model)\n",
    "summary(model, input_size=(192, 1))\n",
    "mlflow.set_tracking_uri(\"sqlite:///mads_exam.db\")\n",
    "mlflow.set_experiment(config[\"model\"])\n",
    "train_model(trainstreamer, teststreamer, config, settings)\n",
    "y, yhat = test_model(model, teststreamer)\n",
    "cfm = confusion_matrix(y, yhat)\n",
    "cfm = cfm / np.sum(cfm, axis=1, keepdims=True)\n"
   ]
  },
  {
   "cell_type": "code",
   "execution_count": 20,
   "metadata": {},
   "outputs": [
    {
     "name": "stdout",
     "output_type": "stream",
     "text": [
      "{'model': 'CNN1DGRUResNet', 'scheduler': <class 'torch.optim.lr_scheduler.ReduceLROnPlateau'>, 'gru_hidden': 256, 'hidden': 64, 'dropout': 0.4, 'num_layers': 2, 'num_blocks': 5, 'num_classes': 5, 'input_length': 192, 'input_size': 1, 'shape': (1, 192), 'traindataset': 'oversampled'}\n"
     ]
    },
    {
     "data": {
      "image/png": "[encoded data removed]",
      "text/plain": [
       "<Figure size 640x480 with 2 Axes>"
      ]
     },
     "metadata": {},
     "output_type": "display_data"
    }
   ],
   "source": [
    "\n",
    "print(config)\n",
    "plot_confusion_matrix(cfm, modelname)"
   ]
  },
  {
   "cell_type": "code",
   "execution_count": 18,
   "metadata": {},
   "outputs": [],
   "source": [
    "torch.save(model.state_dict(), \"1DCNNGRU_bestconfig_model.pth\")"
   ]
  },
  {
   "cell_type": "code",
   "execution_count": 15,
   "metadata": {},
   "outputs": [
    {
     "data": {
      "image/png": "[encoded data removed]",
      "text/plain": [
       "<Figure size 640x480 with 2 Axes>"
      ]
     },
     "metadata": {},
     "output_type": "display_data"
    }
   ],
   "source": [
    "plot_confusion_matrix(cfm, modelname)"
   ]
  },
  {
   "cell_type": "code",
   "execution_count": null,
   "metadata": {},
   "outputs": [],
   "source": [
    "f1micro = metrics.F1Score(average='micro')\n",
    "f1macro = metrics.F1Score(average='macro')\n",
    "precision = metrics.Precision('micro')\n",
    "recall = metrics.Recall('macro')\n",
    "accuracy = metrics.Accuracy()\n",
    "\n",
    "settings = TrainerSettings(\n",
    "        epochs=15,\n",
    "        metrics=[accuracy, f1micro, f1macro, precision, recall],\n",
    "        logdir=\"logs/heart1Doversampled\",\n",
    "        train_steps=len(trainstreamer) // 5, #met 5 epochs heeft het een keer de hele dataset gezien\n",
    "        valid_steps=len(teststreamer) // 5,\n",
    "        reporttypes=[ReportTypes.TENSORBOARD, ReportTypes.MLFLOW],\n",
    "        scheduler_kwargs={\"factor\": 0.5, \"patience\": 2},\n",
    "        earlystop_kwargs= {\"patience\": 8},\n",
    "        device= device\n",
    "    )\n",
    "\n",
    "modelname= \"GRU\"\n",
    "config = {\n",
    "    \"model\": modelname,\n",
    "    \"scheduler\": torch.optim.lr_scheduler.ReduceLROnPlateau,\n",
    "    \"input\": 1,\n",
    "    \"hidden\": 128,\n",
    "    \"num_layers\": 2,\n",
    "    \"dropout\": 0.2,\n",
    "    \"num_classes\": 5,\n",
    "    \"num_blocks\": 1,\n",
    "    \"num_classes\": 5,\n",
    "    \"shape\":(1, 192),\n",
    "}\n",
    "\n",
    "\n",
    "print(config)\n",
    "model = models.GRU(config)\n",
    "print(model)\n",
    "\n",
    "mlflow.set_tracking_uri(\"sqlite:///mads_exam.db\")\n",
    "mlflow.set_experiment(config[\"model\"])\n",
    "train_model(trainstreamer, teststreamer, config, settings)\n",
    "y, yhat = test_model(model, teststreamer)\n",
    "cfm = confusion_matrix(y, yhat)\n",
    "cfm = cfm / np.sum(cfm, axis=1, keepdims=True)\n",
    "confusion_matrixs[modelname] = cfm\n",
    "print(config)\n",
    "plot_confusion_matrix(cfm)"
   ]
  },
  {
   "cell_type": "markdown",
   "metadata": {},
   "source": [
    "## 1D CNN + GRU + RESNET + MULTIHEAD ATTENTION\n",
    "\n",
    "IDEA: adding multihead attention would help the CNN to focus on long term relations between datapoints, kind of supporting the memory component, retaining what's important.\n",
    "Multi-Head Attention helps focus on important parts of the input sequence regardless of their position, which is particularly useful for learning global relationships between distant time steps, identifying long-term temporal patterns in ECG signals.\n",
    "\n",
    "Tested: with Average vs Max Pooling\n",
    "Max pooling seems the best choice since the data does not need to smoothed out, the features which are interesting are the peaks which are detected with a max pooling\n",
    "Unlike average pooling, which smooths out the signal and can cause the loss of important high-frequency features, max pooling retains the strongest features in each local region. This can be especially helpful in cases where the model needs to focus on specific events (e.g., irregular heartbeats or spikes in ECG data)."
   ]
  },
  {
   "cell_type": "code",
   "execution_count": 16,
   "metadata": {},
   "outputs": [
    {
     "name": "stderr",
     "output_type": "stream",
     "text": [
      "2025/02/02 12:19:36 INFO mlflow.tracking.fluent: Experiment with name 'CNN1DGRUResNetMH' does not exist. Creating a new experiment.\n",
      "\u001b[32m2025-02-02 12:19:36.779\u001b[0m | \u001b[1mINFO    \u001b[0m | \u001b[36mmltrainer.trainer\u001b[0m:\u001b[36mdir_add_timestamp\u001b[0m:\u001b[36m29\u001b[0m - \u001b[1mLogging to logs/heart1D_oversampled/20250202-121936\u001b[0m\n",
      "\u001b[32m2025-02-02 12:19:36.779\u001b[0m | \u001b[1mINFO    \u001b[0m | \u001b[36mmltrainer.trainer\u001b[0m:\u001b[36m__init__\u001b[0m:\u001b[36m72\u001b[0m - \u001b[1mFound earlystop_kwargs in settings.Set to None if you dont want earlystopping.\u001b[0m\n"
     ]
    },
    {
     "name": "stdout",
     "output_type": "stream",
     "text": [
      "{'model': 'CNN1DGRUResNetMH', 'scheduler': <class 'torch.optim.lr_scheduler.ReduceLROnPlateau'>, 'gru_hidden': 128, 'hidden': 128, 'dropout': 0.2, 'num_layers': 5, 'num_heads': 8, 'num_blocks': 1, 'num_classes': 5, 'input_length': 192, 'input_size': 1, 'shape': (1, 192), 'traindataset': 'oversampled'}\n",
      "CNN1DGRUResNetMH(\n",
      "  (convolutions): ModuleList(\n",
      "    (0): ConvBlock1D(\n",
      "      (conv): Sequential(\n",
      "        (0): Conv1d(1, 128, kernel_size=(3,), stride=(1,), padding=(1,))\n",
      "        (1): ReLU()\n",
      "        (2): BatchNorm1d(128, eps=1e-05, momentum=0.1, affine=True, track_running_stats=True)\n",
      "      )\n",
      "    )\n",
      "    (1): ConvBlock1D(\n",
      "      (conv): Sequential(\n",
      "        (0): Conv1d(128, 128, kernel_size=(3,), stride=(1,), padding=(1,))\n",
      "        (1): ReLU()\n",
      "        (2): BatchNorm1d(128, eps=1e-05, momentum=0.1, affine=True, track_running_stats=True)\n",
      "      )\n",
      "    )\n",
      "    (2): ResNetBlock1D(\n",
      "      (conv1): Conv1d(128, 128, kernel_size=(3,), stride=(1,), padding=(1,))\n",
      "      (bn1): BatchNorm1d(128, eps=1e-05, momentum=0.1, affine=True, track_running_stats=True)\n",
      "      (relu): ReLU()\n",
      "      (conv2): Conv1d(128, 128, kernel_size=(3,), stride=(1,), padding=(1,))\n",
      "      (bn2): BatchNorm1d(128, eps=1e-05, momentum=0.1, affine=True, track_running_stats=True)\n",
      "      (shortcut): Identity()\n",
      "    )\n",
      "    (3): MaxPool1d(kernel_size=2, stride=2, padding=0, dilation=1, ceil_mode=False)\n",
      "  )\n",
      "  (linear_after_conv): Linear(in_features=12288, out_features=128, bias=True)\n",
      "  (gru): GRU(128, 128, num_layers=5, batch_first=True, dropout=0.2)\n",
      "  (attention): MultiheadAttention(\n",
      "    (out_proj): NonDynamicallyQuantizableLinear(in_features=128, out_features=128, bias=True)\n",
      "  )\n",
      "  (dense): Sequential(\n",
      "    (0): Flatten(start_dim=1, end_dim=-1)\n",
      "    (1): Linear(in_features=128, out_features=128, bias=True)\n",
      "    (2): ReLU()\n",
      "    (3): Linear(in_features=128, out_features=5, bias=True)\n",
      "  )\n",
      ")\n",
      "----------------------------------------------------------------\n",
      "        Layer (type)               Output Shape         Param #\n",
      "================================================================\n",
      "            Conv1d-1             [-1, 128, 192]             512\n",
      "              ReLU-2             [-1, 128, 192]               0\n",
      "       BatchNorm1d-3             [-1, 128, 192]             256\n",
      "       ConvBlock1D-4             [-1, 128, 192]               0\n",
      "            Conv1d-5             [-1, 128, 192]          49,280\n",
      "              ReLU-6             [-1, 128, 192]               0\n",
      "       BatchNorm1d-7             [-1, 128, 192]             256\n",
      "       ConvBlock1D-8             [-1, 128, 192]               0\n",
      "            Conv1d-9             [-1, 128, 192]          49,280\n",
      "      BatchNorm1d-10             [-1, 128, 192]             256\n",
      "             ReLU-11             [-1, 128, 192]               0\n",
      "           Conv1d-12             [-1, 128, 192]          49,280\n",
      "      BatchNorm1d-13             [-1, 128, 192]             256\n",
      "         Identity-14             [-1, 128, 192]               0\n",
      "             ReLU-15             [-1, 128, 192]               0\n",
      "    ResNetBlock1D-16             [-1, 128, 192]               0\n",
      "        MaxPool1d-17              [-1, 128, 96]               0\n",
      "           Linear-18                  [-1, 128]       1,572,992\n",
      "              GRU-19  [[-1, 1, 128], [-1, 2, 128]]               0\n",
      "MultiheadAttention-20  [[-1, 1, 128], [-1, 1, 1]]               0\n",
      "          Flatten-21                  [-1, 128]               0\n",
      "           Linear-22                  [-1, 128]          16,512\n",
      "             ReLU-23                  [-1, 128]               0\n",
      "           Linear-24                    [-1, 5]             645\n",
      "================================================================\n",
      "Total params: 1,739,525\n",
      "Trainable params: 1,739,525\n",
      "Non-trainable params: 0\n",
      "----------------------------------------------------------------\n",
      "Input size (MB): 0.00\n",
      "Forward/backward pass size (MB): 2.85\n",
      "Params size (MB): 6.64\n",
      "Estimated Total Size (MB): 9.48\n",
      "----------------------------------------------------------------\n"
     ]
    },
    {
     "name": "stderr",
     "output_type": "stream",
     "text": [
      "100%|\u001b[38;2;30;71;6m██████████\u001b[0m| 1718/1718 [05:33<00:00,  5.16it/s]\n",
      "\u001b[32m2025-02-02 12:25:33.317\u001b[0m | \u001b[1mINFO    \u001b[0m | \u001b[36mmltrainer.trainer\u001b[0m:\u001b[36mreport\u001b[0m:\u001b[36m191\u001b[0m - \u001b[1mEpoch 0 train 0.5714 test 0.4809 metric ['0.8757', '0.8757', '0.6325', '0.8757', '0.8546']\u001b[0m\n",
      "100%|\u001b[38;2;30;71;6m██████████\u001b[0m| 1718/1718 [15:45<00:00,  1.82it/s]\n",
      "\u001b[32m2025-02-02 12:46:48.055\u001b[0m | \u001b[1mINFO    \u001b[0m | \u001b[36mmltrainer.trainer\u001b[0m:\u001b[36mreport\u001b[0m:\u001b[36m191\u001b[0m - \u001b[1mEpoch 1 train 0.3992 test 0.4796 metric ['0.8529', '0.8529', '0.6098', '0.8529', '0.8592']\u001b[0m\n",
      "100%|\u001b[38;2;30;71;6m██████████\u001b[0m| 1718/1718 [05:57<00:00,  4.80it/s]\n",
      "\u001b[32m2025-02-02 12:53:09.297\u001b[0m | \u001b[1mINFO    \u001b[0m | \u001b[36mmltrainer.trainer\u001b[0m:\u001b[36mreport\u001b[0m:\u001b[36m191\u001b[0m - \u001b[1mEpoch 2 train 0.3743 test 0.4902 metric ['0.8334', '0.8334', '0.6020', '0.8334', '0.8566']\u001b[0m\n",
      "\u001b[32m2025-02-02 12:53:09.297\u001b[0m | \u001b[1mINFO    \u001b[0m | \u001b[36mmltrainer.trainer\u001b[0m:\u001b[36m__call__\u001b[0m:\u001b[36m234\u001b[0m - \u001b[1mbest loss: 0.4796, current loss 0.4902.Counter 1/8.\u001b[0m\n",
      "100%|\u001b[38;2;30;71;6m██████████\u001b[0m| 1718/1718 [05:35<00:00,  5.12it/s]\n",
      "\u001b[32m2025-02-02 12:59:08.162\u001b[0m | \u001b[1mINFO    \u001b[0m | \u001b[36mmltrainer.trainer\u001b[0m:\u001b[36mreport\u001b[0m:\u001b[36m191\u001b[0m - \u001b[1mEpoch 3 train 0.3414 test 0.4534 metric ['0.8729', '0.8729', '0.6618', '0.8729', '0.8772']\u001b[0m\n",
      "100%|\u001b[38;2;30;71;6m██████████\u001b[0m| 1718/1718 [08:34<00:00,  3.34it/s]\n",
      "\u001b[32m2025-02-02 13:08:09.568\u001b[0m | \u001b[1mINFO    \u001b[0m | \u001b[36mmltrainer.trainer\u001b[0m:\u001b[36mreport\u001b[0m:\u001b[36m191\u001b[0m - \u001b[1mEpoch 4 train 0.3225 test 0.3922 metric ['0.8587', '0.8587', '0.6364', '0.8587', '0.8941']\u001b[0m\n",
      "100%|\u001b[38;2;30;71;6m██████████\u001b[0m| 1718/1718 [06:10<00:00,  4.64it/s]\n",
      "\u001b[32m2025-02-02 13:14:43.968\u001b[0m | \u001b[1mINFO    \u001b[0m | \u001b[36mmltrainer.trainer\u001b[0m:\u001b[36mreport\u001b[0m:\u001b[36m191\u001b[0m - \u001b[1mEpoch 5 train 0.2996 test 0.3208 metric ['0.8927', '0.8927', '0.6772', '0.8927', '0.9029']\u001b[0m\n",
      "100%|\u001b[38;2;30;71;6m██████████\u001b[0m| 1718/1718 [05:54<00:00,  4.84it/s]\n",
      "\u001b[32m2025-02-02 13:21:02.690\u001b[0m | \u001b[1mINFO    \u001b[0m | \u001b[36mmltrainer.trainer\u001b[0m:\u001b[36mreport\u001b[0m:\u001b[36m191\u001b[0m - \u001b[1mEpoch 6 train 0.3000 test 0.4563 metric ['0.8493', '0.8493', '0.6210', '0.8493', '0.8952']\u001b[0m\n",
      "\u001b[32m2025-02-02 13:21:02.690\u001b[0m | \u001b[1mINFO    \u001b[0m | \u001b[36mmltrainer.trainer\u001b[0m:\u001b[36m__call__\u001b[0m:\u001b[36m234\u001b[0m - \u001b[1mbest loss: 0.3208, current loss 0.4563.Counter 1/8.\u001b[0m\n",
      "100%|\u001b[38;2;30;71;6m██████████\u001b[0m| 1718/1718 [05:56<00:00,  4.82it/s]\n",
      "\u001b[32m2025-02-02 13:27:24.565\u001b[0m | \u001b[1mINFO    \u001b[0m | \u001b[36mmltrainer.trainer\u001b[0m:\u001b[36mreport\u001b[0m:\u001b[36m191\u001b[0m - \u001b[1mEpoch 7 train 0.2654 test 0.4797 metric ['0.8477', '0.8477', '0.6249', '0.8477', '0.8830']\u001b[0m\n",
      "\u001b[32m2025-02-02 13:27:24.565\u001b[0m | \u001b[1mINFO    \u001b[0m | \u001b[36mmltrainer.trainer\u001b[0m:\u001b[36m__call__\u001b[0m:\u001b[36m234\u001b[0m - \u001b[1mbest loss: 0.3208, current loss 0.4797.Counter 2/8.\u001b[0m\n",
      "100%|\u001b[38;2;30;71;6m██████████\u001b[0m| 1718/1718 [05:54<00:00,  4.85it/s]\n",
      "\u001b[32m2025-02-02 13:33:43.305\u001b[0m | \u001b[1mINFO    \u001b[0m | \u001b[36mmltrainer.trainer\u001b[0m:\u001b[36mreport\u001b[0m:\u001b[36m191\u001b[0m - \u001b[1mEpoch 8 train 0.2712 test 0.4040 metric ['0.8621', '0.8621', '0.6318', '0.8621', '0.8928']\u001b[0m\n",
      "\u001b[32m2025-02-02 13:33:43.306\u001b[0m | \u001b[1mINFO    \u001b[0m | \u001b[36mmltrainer.trainer\u001b[0m:\u001b[36m__call__\u001b[0m:\u001b[36m234\u001b[0m - \u001b[1mbest loss: 0.3208, current loss 0.4040.Counter 3/8.\u001b[0m\n",
      "100%|\u001b[38;2;30;71;6m██████████\u001b[0m| 1718/1718 [21:04<00:00,  1.36it/s]\n",
      "\u001b[32m2025-02-02 14:00:18.373\u001b[0m | \u001b[1mINFO    \u001b[0m | \u001b[36mmltrainer.trainer\u001b[0m:\u001b[36mreport\u001b[0m:\u001b[36m191\u001b[0m - \u001b[1mEpoch 9 train 0.2316 test 0.3330 metric ['0.8881', '0.8881', '0.6721', '0.8881', '0.9103']\u001b[0m\n",
      "\u001b[32m2025-02-02 14:00:18.374\u001b[0m | \u001b[1mINFO    \u001b[0m | \u001b[36mmltrainer.trainer\u001b[0m:\u001b[36m__call__\u001b[0m:\u001b[36m234\u001b[0m - \u001b[1mbest loss: 0.3208, current loss 0.3330.Counter 4/8.\u001b[0m\n",
      "100%|\u001b[38;2;30;71;6m██████████\u001b[0m| 10/10 [1:40:41<00:00, 604.16s/it]\n"
     ]
    },
    {
     "name": "stdout",
     "output_type": "stream",
     "text": [
      "{'model': 'CNN1DGRUResNetMH', 'scheduler': <class 'torch.optim.lr_scheduler.ReduceLROnPlateau'>, 'gru_hidden': 128, 'hidden': 128, 'dropout': 0.2, 'num_layers': 5, 'num_heads': 8, 'num_blocks': 1, 'num_classes': 5, 'input_length': 192, 'input_size': 1, 'shape': (1, 192), 'traindataset': 'oversampled'}\n"
     ]
    },
    {
     "data": {
      "image/png": "[encoded data removed]",
      "text/plain": [
       "<Figure size 640x480 with 2 Axes>"
      ]
     },
     "metadata": {},
     "output_type": "display_data"
    }
   ],
   "source": [
    "modelname= \"CNN1DGRUResNetMH\"\n",
    "config = {\n",
    "    \"model\": modelname,\n",
    "    \"scheduler\": torch.optim.lr_scheduler.ReduceLROnPlateau,\n",
    "    \"gru_hidden\": 128,\n",
    "    \"hidden\": 128,\n",
    "    \"dropout\": 0.2,\n",
    "    \"num_layers\": 5,\n",
    "    \"num_heads\": 8,\n",
    "    \"num_blocks\": 1,\n",
    "    \"num_classes\": 5,\n",
    "    \"input_length\": 192, \n",
    "    \"input_size\": 1, \n",
    "    \"shape\":(1, 192),\n",
    "    'traindataset': 'oversampled'\n",
    "}\n",
    "if 'smote' in str(trainfile):\n",
    "        settings.logdir=\"logs/heart1D_smote\"\n",
    "        config['traindataset'] = 'smote'\n",
    "\n",
    "print(config)\n",
    "model = models.CNN1DGRUResNetMH(config)\n",
    "print(model)\n",
    "summary(model, input_size=(192, 1))\n",
    "mlflow.set_tracking_uri(\"sqlite:///mads_exam.db\")\n",
    "mlflow.set_experiment(config[\"model\"])\n",
    "train_model(trainstreamer, teststreamer, config, settings)\n",
    "y, yhat = test_model(model, teststreamer)\n",
    "cfm = confusion_matrix(y, yhat)\n",
    "cfm = cfm / np.sum(cfm, axis=1, keepdims=True)\n",
    "confusion_matrixs[modelname] = cfm\n",
    "print(config)\n",
    "plot_confusion_matrix(cfm, modelname)"
   ]
  },
  {
   "cell_type": "markdown",
   "metadata": {},
   "source": [
    "# 1D TRANSFORMER MODELS"
   ]
  },
  {
   "cell_type": "markdown",
   "metadata": {},
   "source": [
    " ## TRANSFORMER 1D CNN"
   ]
  },
  {
   "cell_type": "code",
   "execution_count": 17,
   "metadata": {},
   "outputs": [
    {
     "name": "stderr",
     "output_type": "stream",
     "text": [
      "\u001b[32m2025-02-02 17:06:15.520\u001b[0m | \u001b[1mINFO    \u001b[0m | \u001b[36mmltrainer.trainer\u001b[0m:\u001b[36mdir_add_timestamp\u001b[0m:\u001b[36m29\u001b[0m - \u001b[1mLogging to logs/heart1D_oversampled/20250202-170615\u001b[0m\n",
      "\u001b[32m2025-02-02 17:06:15.521\u001b[0m | \u001b[1mINFO    \u001b[0m | \u001b[36mmltrainer.trainer\u001b[0m:\u001b[36m__init__\u001b[0m:\u001b[36m72\u001b[0m - \u001b[1mFound earlystop_kwargs in settings.Set to None if you dont want earlystopping.\u001b[0m\n"
     ]
    },
    {
     "name": "stdout",
     "output_type": "stream",
     "text": [
      "{'model': 'Transformer1D', 'scheduler': <class 'torch.optim.lr_scheduler.ReduceLROnPlateau'>, 'input': 1, 'hidden': 128, 'num_layers': 2, 'dropout': 0.2, 'num_classes': 5, 'num_heads': 8, 'num_blocks': 2, 'shape': (16, 12), 'traindataset': 'oversampled'}\n"
     ]
    },
    {
     "name": "stderr",
     "output_type": "stream",
     "text": [
      "100%|\u001b[38;2;30;71;6m██████████\u001b[0m| 1718/1718 [01:18<00:00, 21.80it/s]\n",
      "\u001b[32m2025-02-02 17:07:36.107\u001b[0m | \u001b[1mINFO    \u001b[0m | \u001b[36mmltrainer.trainer\u001b[0m:\u001b[36mreport\u001b[0m:\u001b[36m191\u001b[0m - \u001b[1mEpoch 0 train 0.5691 test 0.4240 metric ['0.8739', '0.8739', '0.6520', '0.8739', '0.8694']\u001b[0m\n",
      "100%|\u001b[38;2;30;71;6m██████████\u001b[0m| 1718/1718 [01:18<00:00, 22.02it/s]\n",
      "\u001b[32m2025-02-02 17:08:56.070\u001b[0m | \u001b[1mINFO    \u001b[0m | \u001b[36mmltrainer.trainer\u001b[0m:\u001b[36mreport\u001b[0m:\u001b[36m191\u001b[0m - \u001b[1mEpoch 1 train 0.3508 test 0.3463 metric ['0.8895', '0.8895', '0.6557', '0.8895', '0.8960']\u001b[0m\n",
      "100%|\u001b[38;2;30;71;6m██████████\u001b[0m| 1718/1718 [01:20<00:00, 21.36it/s]\n",
      "\u001b[32m2025-02-02 17:10:18.391\u001b[0m | \u001b[1mINFO    \u001b[0m | \u001b[36mmltrainer.trainer\u001b[0m:\u001b[36mreport\u001b[0m:\u001b[36m191\u001b[0m - \u001b[1mEpoch 2 train 0.2978 test 0.4663 metric ['0.8463', '0.8463', '0.6188', '0.8463', '0.8867']\u001b[0m\n",
      "\u001b[32m2025-02-02 17:10:18.392\u001b[0m | \u001b[1mINFO    \u001b[0m | \u001b[36mmltrainer.trainer\u001b[0m:\u001b[36m__call__\u001b[0m:\u001b[36m234\u001b[0m - \u001b[1mbest loss: 0.3463, current loss 0.4663.Counter 1/8.\u001b[0m\n",
      "100%|\u001b[38;2;30;71;6m██████████\u001b[0m| 1718/1718 [01:19<00:00, 21.60it/s]\n",
      "\u001b[32m2025-02-02 17:11:39.925\u001b[0m | \u001b[1mINFO    \u001b[0m | \u001b[36mmltrainer.trainer\u001b[0m:\u001b[36mreport\u001b[0m:\u001b[36m191\u001b[0m - \u001b[1mEpoch 3 train 0.2575 test 0.4682 metric ['0.8185', '0.8185', '0.6160', '0.8185', '0.8930']\u001b[0m\n",
      "\u001b[32m2025-02-02 17:11:39.925\u001b[0m | \u001b[1mINFO    \u001b[0m | \u001b[36mmltrainer.trainer\u001b[0m:\u001b[36m__call__\u001b[0m:\u001b[36m234\u001b[0m - \u001b[1mbest loss: 0.3463, current loss 0.4682.Counter 2/8.\u001b[0m\n",
      "100%|\u001b[38;2;30;71;6m██████████\u001b[0m| 1718/1718 [01:19<00:00, 21.63it/s]\n",
      "\u001b[32m2025-02-02 17:13:01.230\u001b[0m | \u001b[1mINFO    \u001b[0m | \u001b[36mmltrainer.trainer\u001b[0m:\u001b[36mreport\u001b[0m:\u001b[36m191\u001b[0m - \u001b[1mEpoch 4 train 0.2345 test 0.4329 metric ['0.8474', '0.8474', '0.6211', '0.8474', '0.9091']\u001b[0m\n",
      "\u001b[32m2025-02-02 17:13:01.231\u001b[0m | \u001b[1mINFO    \u001b[0m | \u001b[36mmltrainer.trainer\u001b[0m:\u001b[36m__call__\u001b[0m:\u001b[36m234\u001b[0m - \u001b[1mbest loss: 0.3463, current loss 0.4329.Counter 3/8.\u001b[0m\n",
      "100%|\u001b[38;2;30;71;6m██████████\u001b[0m| 1718/1718 [01:20<00:00, 21.23it/s]\n",
      "\u001b[32m2025-02-02 17:14:24.332\u001b[0m | \u001b[1mINFO    \u001b[0m | \u001b[36mmltrainer.trainer\u001b[0m:\u001b[36mreport\u001b[0m:\u001b[36m191\u001b[0m - \u001b[1mEpoch 5 train 0.1792 test 0.2735 metric ['0.9044', '0.9044', '0.6944', '0.9044', '0.9194']\u001b[0m\n",
      "100%|\u001b[38;2;30;71;6m██████████\u001b[0m| 1718/1718 [01:19<00:00, 21.54it/s]\n",
      "\u001b[32m2025-02-02 17:15:46.008\u001b[0m | \u001b[1mINFO    \u001b[0m | \u001b[36mmltrainer.trainer\u001b[0m:\u001b[36mreport\u001b[0m:\u001b[36m191\u001b[0m - \u001b[1mEpoch 6 train 0.1664 test 0.2321 metric ['0.9210', '0.9210', '0.7286', '0.9210', '0.9266']\u001b[0m\n",
      "100%|\u001b[38;2;30;71;6m██████████\u001b[0m| 1718/1718 [03:51<00:00,  7.42it/s]\n",
      "\u001b[32m2025-02-02 17:19:41.742\u001b[0m | \u001b[1mINFO    \u001b[0m | \u001b[36mmltrainer.trainer\u001b[0m:\u001b[36mreport\u001b[0m:\u001b[36m191\u001b[0m - \u001b[1mEpoch 7 train 0.1589 test 0.2963 metric ['0.8934', '0.8934', '0.7006', '0.8934', '0.9277']\u001b[0m\n",
      "\u001b[32m2025-02-02 17:19:41.743\u001b[0m | \u001b[1mINFO    \u001b[0m | \u001b[36mmltrainer.trainer\u001b[0m:\u001b[36m__call__\u001b[0m:\u001b[36m234\u001b[0m - \u001b[1mbest loss: 0.2321, current loss 0.2963.Counter 1/8.\u001b[0m\n",
      "100%|\u001b[38;2;30;71;6m██████████\u001b[0m| 1718/1718 [02:10<00:00, 13.15it/s]\n",
      "\u001b[32m2025-02-02 17:21:55.285\u001b[0m | \u001b[1mINFO    \u001b[0m | \u001b[36mmltrainer.trainer\u001b[0m:\u001b[36mreport\u001b[0m:\u001b[36m191\u001b[0m - \u001b[1mEpoch 8 train 0.1480 test 0.2028 metric ['0.9237', '0.9237', '0.7330', '0.9237', '0.9319']\u001b[0m\n",
      "100%|\u001b[38;2;30;71;6m██████████\u001b[0m| 1718/1718 [01:52<00:00, 15.26it/s]\n",
      "\u001b[32m2025-02-02 17:23:50.668\u001b[0m | \u001b[1mINFO    \u001b[0m | \u001b[36mmltrainer.trainer\u001b[0m:\u001b[36mreport\u001b[0m:\u001b[36m191\u001b[0m - \u001b[1mEpoch 9 train 0.1378 test 0.2643 metric ['0.9097', '0.9097', '0.7111', '0.9097', '0.9214']\u001b[0m\n",
      "\u001b[32m2025-02-02 17:23:50.669\u001b[0m | \u001b[1mINFO    \u001b[0m | \u001b[36mmltrainer.trainer\u001b[0m:\u001b[36m__call__\u001b[0m:\u001b[36m234\u001b[0m - \u001b[1mbest loss: 0.2028, current loss 0.2643.Counter 1/8.\u001b[0m\n",
      "100%|\u001b[38;2;30;71;6m██████████\u001b[0m| 1718/1718 [01:49<00:00, 15.73it/s]\n",
      "\u001b[32m2025-02-02 17:25:42.550\u001b[0m | \u001b[1mINFO    \u001b[0m | \u001b[36mmltrainer.trainer\u001b[0m:\u001b[36mreport\u001b[0m:\u001b[36m191\u001b[0m - \u001b[1mEpoch 10 train 0.1314 test 0.2054 metric ['0.9347', '0.9347', '0.7633', '0.9347', '0.9291']\u001b[0m\n",
      "\u001b[32m2025-02-02 17:25:42.550\u001b[0m | \u001b[1mINFO    \u001b[0m | \u001b[36mmltrainer.trainer\u001b[0m:\u001b[36m__call__\u001b[0m:\u001b[36m234\u001b[0m - \u001b[1mbest loss: 0.2028, current loss 0.2054.Counter 2/8.\u001b[0m\n",
      "100%|\u001b[38;2;30;71;6m██████████\u001b[0m| 1718/1718 [01:45<00:00, 16.30it/s]\n",
      "\u001b[32m2025-02-02 17:27:30.635\u001b[0m | \u001b[1mINFO    \u001b[0m | \u001b[36mmltrainer.trainer\u001b[0m:\u001b[36mreport\u001b[0m:\u001b[36m191\u001b[0m - \u001b[1mEpoch 11 train 0.1294 test 0.1987 metric ['0.9320', '0.9320', '0.7504', '0.9320', '0.9240']\u001b[0m\n",
      "100%|\u001b[38;2;30;71;6m██████████\u001b[0m| 1718/1718 [01:46<00:00, 16.15it/s]\n",
      "\u001b[32m2025-02-02 17:29:19.779\u001b[0m | \u001b[1mINFO    \u001b[0m | \u001b[36mmltrainer.trainer\u001b[0m:\u001b[36mreport\u001b[0m:\u001b[36m191\u001b[0m - \u001b[1mEpoch 12 train 0.1235 test 0.2617 metric ['0.9053', '0.9053', '0.7250', '0.9053', '0.9331']\u001b[0m\n",
      "\u001b[32m2025-02-02 17:29:19.780\u001b[0m | \u001b[1mINFO    \u001b[0m | \u001b[36mmltrainer.trainer\u001b[0m:\u001b[36m__call__\u001b[0m:\u001b[36m234\u001b[0m - \u001b[1mbest loss: 0.1987, current loss 0.2617.Counter 1/8.\u001b[0m\n",
      "100%|\u001b[38;2;30;71;6m██████████\u001b[0m| 1718/1718 [01:42<00:00, 16.68it/s]\n",
      "\u001b[32m2025-02-02 17:31:05.361\u001b[0m | \u001b[1mINFO    \u001b[0m | \u001b[36mmltrainer.trainer\u001b[0m:\u001b[36mreport\u001b[0m:\u001b[36m191\u001b[0m - \u001b[1mEpoch 13 train 0.1208 test 0.1570 metric ['0.9446', '0.9446', '0.7650', '0.9446', '0.9495']\u001b[0m\n",
      "100%|\u001b[38;2;30;71;6m██████████\u001b[0m| 1718/1718 [01:42<00:00, 16.79it/s]\n",
      "\u001b[32m2025-02-02 17:32:50.329\u001b[0m | \u001b[1mINFO    \u001b[0m | \u001b[36mmltrainer.trainer\u001b[0m:\u001b[36mreport\u001b[0m:\u001b[36m191\u001b[0m - \u001b[1mEpoch 14 train 0.1170 test 0.1848 metric ['0.9359', '0.9359', '0.7793', '0.9359', '0.9371']\u001b[0m\n",
      "\u001b[32m2025-02-02 17:32:50.329\u001b[0m | \u001b[1mINFO    \u001b[0m | \u001b[36mmltrainer.trainer\u001b[0m:\u001b[36m__call__\u001b[0m:\u001b[36m234\u001b[0m - \u001b[1mbest loss: 0.1570, current loss 0.1848.Counter 1/8.\u001b[0m\n",
      "100%|\u001b[38;2;30;71;6m██████████\u001b[0m| 15/15 [26:34<00:00, 106.32s/it]\n"
     ]
    },
    {
     "name": "stdout",
     "output_type": "stream",
     "text": [
      "{'model': 'Transformer1D', 'scheduler': <class 'torch.optim.lr_scheduler.ReduceLROnPlateau'>, 'input': 1, 'hidden': 128, 'num_layers': 2, 'dropout': 0.2, 'num_classes': 5, 'num_heads': 8, 'num_blocks': 2, 'shape': (16, 12), 'traindataset': 'oversampled'}\n"
     ]
    },
    {
     "data": {
      "image/png": "[encoded data removed]",
      "text/plain": [
       "<Figure size 640x480 with 2 Axes>"
      ]
     },
     "metadata": {},
     "output_type": "display_data"
    }
   ],
   "source": [
    "\n",
    "f1micro = metrics.F1Score(average='micro')\n",
    "f1macro = metrics.F1Score(average='macro')\n",
    "precision = metrics.Precision('micro')\n",
    "recall = metrics.Recall('macro')\n",
    "accuracy = metrics.Accuracy()\n",
    "\n",
    "settings = TrainerSettings(\n",
    "        epochs=15,\n",
    "        metrics=[accuracy, f1micro, f1macro, precision, recall],\n",
    "        logdir=\"logs/heart1D_oversampled\",\n",
    "        train_steps=len(trainstreamer) // 5, #met 5 epochs heeft het een keer de hele dataset gezien\n",
    "        valid_steps=len(teststreamer) // 5,\n",
    "        reporttypes=[ReportTypes.TENSORBOARD, ReportTypes.MLFLOW],\n",
    "        scheduler_kwargs={\"factor\": 0.5, \"patience\": 2},\n",
    "        earlystop_kwargs= {\"patience\": 8},\n",
    "        device= device\n",
    "    )\n",
    "\n",
    "\n",
    "modelname= \"Transformer1D\"\n",
    "config = {\n",
    "    \"model\": modelname,\n",
    "    \"scheduler\": torch.optim.lr_scheduler.ReduceLROnPlateau,\n",
    "    \"input\": 1,\n",
    "    \"hidden\": 128,\n",
    "    \"num_layers\": 2,\n",
    "    \"dropout\": 0.2,\n",
    "    \"num_classes\": 5,\n",
    "    \"num_heads\": 8,\n",
    "    \"num_blocks\": 2,\n",
    "    \"num_classes\": 5,\n",
    "    \"shape\": (16, 12),\n",
    "    'traindataset': 'oversampled'\n",
    "   \n",
    "}\n",
    "if 'smote' in str(trainfile):\n",
    "        settings.logdir=\"logs/heart1D_smote\"\n",
    "        config['traindataset'] = 'smote'\n",
    "\n",
    "\n",
    "print(config)\n",
    "model = models.Transformer(config)\n",
    "mlflow.set_tracking_uri(\"sqlite:///mads_exam.db\")\n",
    "mlflow.set_experiment(config[\"model\"])\n",
    "train_model(trainstreamer, teststreamer, config, settings)\n",
    "y, yhat = test_model(model, teststreamer)\n",
    "cfm = confusion_matrix(y, yhat)\n",
    "cfm = cfm / np.sum(cfm, axis=1, keepdims=True)\n",
    "confusion_matrixs[modelname] = cfm\n",
    "print(config)\n",
    "plot_confusion_matrix(cfm, modelname)"
   ]
  },
  {
   "cell_type": "markdown",
   "metadata": {},
   "source": [
    "## 1D transformer + RESNET"
   ]
  },
  {
   "cell_type": "code",
   "execution_count": 19,
   "metadata": {},
   "outputs": [
    {
     "name": "stderr",
     "output_type": "stream",
     "text": [
      "\u001b[32m2025-02-02 17:50:40.593\u001b[0m | \u001b[1mINFO    \u001b[0m | \u001b[36mmltrainer.trainer\u001b[0m:\u001b[36mdir_add_timestamp\u001b[0m:\u001b[36m29\u001b[0m - \u001b[1mLogging to logs/heart1D_oversampled/20250202-175040\u001b[0m\n",
      "\u001b[32m2025-02-02 17:50:40.594\u001b[0m | \u001b[1mINFO    \u001b[0m | \u001b[36mmltrainer.trainer\u001b[0m:\u001b[36m__init__\u001b[0m:\u001b[36m72\u001b[0m - \u001b[1mFound earlystop_kwargs in settings.Set to None if you dont want earlystopping.\u001b[0m\n"
     ]
    },
    {
     "name": "stdout",
     "output_type": "stream",
     "text": [
      "{'model': 'Transformer1DResnet', 'scheduler': <class 'torch.optim.lr_scheduler.ReduceLROnPlateau'>, 'input': 1, 'hidden': 128, 'num_layers': 2, 'dropout': 0.2, 'num_classes': 5, 'num_heads': 8, 'num_blocks': 2, 'shape': (16, 12), 'traindataset': 'oversampled'}\n"
     ]
    },
    {
     "name": "stderr",
     "output_type": "stream",
     "text": [
      "100%|\u001b[38;2;30;71;6m██████████\u001b[0m| 1718/1718 [03:20<00:00,  8.57it/s]\n",
      "\u001b[32m2025-02-02 17:54:10.792\u001b[0m | \u001b[1mINFO    \u001b[0m | \u001b[36mmltrainer.trainer\u001b[0m:\u001b[36mreport\u001b[0m:\u001b[36m191\u001b[0m - \u001b[1mEpoch 0 train 0.4524 test 0.3666 metric ['0.8865', '0.8865', '0.6562', '0.8865', '0.8993']\u001b[0m\n",
      "100%|\u001b[38;2;30;71;6m██████████\u001b[0m| 1718/1718 [04:48<00:00,  5.96it/s]\n",
      "\u001b[32m2025-02-02 17:59:17.552\u001b[0m | \u001b[1mINFO    \u001b[0m | \u001b[36mmltrainer.trainer\u001b[0m:\u001b[36mreport\u001b[0m:\u001b[36m191\u001b[0m - \u001b[1mEpoch 1 train 0.2698 test 0.2357 metric ['0.9150', '0.9150', '0.7222', '0.9150', '0.9080']\u001b[0m\n",
      "100%|\u001b[38;2;30;71;6m██████████\u001b[0m| 1718/1718 [04:31<00:00,  6.32it/s]\n",
      "\u001b[32m2025-02-02 18:03:59.665\u001b[0m | \u001b[1mINFO    \u001b[0m | \u001b[36mmltrainer.trainer\u001b[0m:\u001b[36mreport\u001b[0m:\u001b[36m191\u001b[0m - \u001b[1mEpoch 2 train 0.2301 test 0.3117 metric ['0.8932', '0.8932', '0.6840', '0.8932', '0.9144']\u001b[0m\n",
      "\u001b[32m2025-02-02 18:03:59.665\u001b[0m | \u001b[1mINFO    \u001b[0m | \u001b[36mmltrainer.trainer\u001b[0m:\u001b[36m__call__\u001b[0m:\u001b[36m234\u001b[0m - \u001b[1mbest loss: 0.2357, current loss 0.3117.Counter 1/8.\u001b[0m\n",
      "100%|\u001b[38;2;30;71;6m██████████\u001b[0m| 1718/1718 [03:35<00:00,  7.96it/s]\n",
      "\u001b[32m2025-02-02 18:07:45.837\u001b[0m | \u001b[1mINFO    \u001b[0m | \u001b[36mmltrainer.trainer\u001b[0m:\u001b[36mreport\u001b[0m:\u001b[36m191\u001b[0m - \u001b[1mEpoch 3 train 0.2082 test 0.1998 metric ['0.9341', '0.9341', '0.7601', '0.9341', '0.9375']\u001b[0m\n",
      "100%|\u001b[38;2;30;71;6m██████████\u001b[0m| 1718/1718 [03:36<00:00,  7.95it/s]\n",
      "\u001b[32m2025-02-02 18:11:32.229\u001b[0m | \u001b[1mINFO    \u001b[0m | \u001b[36mmltrainer.trainer\u001b[0m:\u001b[36mreport\u001b[0m:\u001b[36m191\u001b[0m - \u001b[1mEpoch 4 train 0.1884 test 0.2017 metric ['0.9274', '0.9274', '0.7377', '0.9274', '0.9366']\u001b[0m\n",
      "\u001b[32m2025-02-02 18:11:32.229\u001b[0m | \u001b[1mINFO    \u001b[0m | \u001b[36mmltrainer.trainer\u001b[0m:\u001b[36m__call__\u001b[0m:\u001b[36m234\u001b[0m - \u001b[1mbest loss: 0.1998, current loss 0.2017.Counter 1/8.\u001b[0m\n",
      "100%|\u001b[38;2;30;71;6m██████████\u001b[0m| 1718/1718 [03:30<00:00,  8.16it/s]\n",
      "\u001b[32m2025-02-02 18:15:12.865\u001b[0m | \u001b[1mINFO    \u001b[0m | \u001b[36mmltrainer.trainer\u001b[0m:\u001b[36mreport\u001b[0m:\u001b[36m191\u001b[0m - \u001b[1mEpoch 5 train 0.1754 test 0.1617 metric ['0.9485', '0.9485', '0.8003', '0.9485', '0.9378']\u001b[0m\n",
      "100%|\u001b[38;2;30;71;6m██████████\u001b[0m| 1718/1718 [03:30<00:00,  8.16it/s]\n",
      "\u001b[32m2025-02-02 18:18:53.490\u001b[0m | \u001b[1mINFO    \u001b[0m | \u001b[36mmltrainer.trainer\u001b[0m:\u001b[36mreport\u001b[0m:\u001b[36m191\u001b[0m - \u001b[1mEpoch 6 train 0.1664 test 0.2695 metric ['0.8984', '0.8984', '0.6865', '0.8984', '0.9191']\u001b[0m\n",
      "\u001b[32m2025-02-02 18:18:53.490\u001b[0m | \u001b[1mINFO    \u001b[0m | \u001b[36mmltrainer.trainer\u001b[0m:\u001b[36m__call__\u001b[0m:\u001b[36m234\u001b[0m - \u001b[1mbest loss: 0.1617, current loss 0.2695.Counter 1/8.\u001b[0m\n",
      "100%|\u001b[38;2;30;71;6m██████████\u001b[0m| 1718/1718 [03:30<00:00,  8.18it/s]\n",
      "\u001b[32m2025-02-02 18:22:33.789\u001b[0m | \u001b[1mINFO    \u001b[0m | \u001b[36mmltrainer.trainer\u001b[0m:\u001b[36mreport\u001b[0m:\u001b[36m191\u001b[0m - \u001b[1mEpoch 7 train 0.1654 test 0.2433 metric ['0.9115', '0.9115', '0.7304', '0.9115', '0.9292']\u001b[0m\n",
      "\u001b[32m2025-02-02 18:22:33.789\u001b[0m | \u001b[1mINFO    \u001b[0m | \u001b[36mmltrainer.trainer\u001b[0m:\u001b[36m__call__\u001b[0m:\u001b[36m234\u001b[0m - \u001b[1mbest loss: 0.1617, current loss 0.2433.Counter 2/8.\u001b[0m\n",
      "100%|\u001b[38;2;30;71;6m██████████\u001b[0m| 1718/1718 [03:30<00:00,  8.16it/s]\n",
      "\u001b[32m2025-02-02 18:26:14.493\u001b[0m | \u001b[1mINFO    \u001b[0m | \u001b[36mmltrainer.trainer\u001b[0m:\u001b[36mreport\u001b[0m:\u001b[36m191\u001b[0m - \u001b[1mEpoch 8 train 0.1450 test 0.1916 metric ['0.9258', '0.9258', '0.7683', '0.9258', '0.9263']\u001b[0m\n",
      "\u001b[32m2025-02-02 18:26:14.494\u001b[0m | \u001b[1mINFO    \u001b[0m | \u001b[36mmltrainer.trainer\u001b[0m:\u001b[36m__call__\u001b[0m:\u001b[36m234\u001b[0m - \u001b[1mbest loss: 0.1617, current loss 0.1916.Counter 3/8.\u001b[0m\n",
      "100%|\u001b[38;2;30;71;6m██████████\u001b[0m| 1718/1718 [03:30<00:00,  8.15it/s]\n",
      "\u001b[32m2025-02-02 18:29:55.453\u001b[0m | \u001b[1mINFO    \u001b[0m | \u001b[36mmltrainer.trainer\u001b[0m:\u001b[36mreport\u001b[0m:\u001b[36m191\u001b[0m - \u001b[1mEpoch 9 train 0.1130 test 0.2065 metric ['0.9274', '0.9274', '0.7409', '0.9274', '0.9469']\u001b[0m\n",
      "\u001b[32m2025-02-02 18:29:55.453\u001b[0m | \u001b[1mINFO    \u001b[0m | \u001b[36mmltrainer.trainer\u001b[0m:\u001b[36m__call__\u001b[0m:\u001b[36m234\u001b[0m - \u001b[1mbest loss: 0.1617, current loss 0.2065.Counter 4/8.\u001b[0m\n",
      "100%|\u001b[38;2;30;71;6m██████████\u001b[0m| 1718/1718 [19:00<00:00,  1.51it/s]\n",
      "\u001b[32m2025-02-02 18:49:07.253\u001b[0m | \u001b[1mINFO    \u001b[0m | \u001b[36mmltrainer.trainer\u001b[0m:\u001b[36mreport\u001b[0m:\u001b[36m191\u001b[0m - \u001b[1mEpoch 10 train 0.1012 test 0.1370 metric ['0.9536', '0.9536', '0.8099', '0.9536', '0.9472']\u001b[0m\n",
      "100%|\u001b[38;2;30;71;6m██████████\u001b[0m| 1718/1718 [19:12<00:00,  1.49it/s]\n",
      "\u001b[32m2025-02-02 19:08:29.823\u001b[0m | \u001b[1mINFO    \u001b[0m | \u001b[36mmltrainer.trainer\u001b[0m:\u001b[36mreport\u001b[0m:\u001b[36m191\u001b[0m - \u001b[1mEpoch 11 train 0.0985 test 0.1063 metric ['0.9667', '0.9667', '0.8505', '0.9667', '0.9495']\u001b[0m\n",
      "100%|\u001b[38;2;30;71;6m██████████\u001b[0m| 1718/1718 [19:00<00:00,  1.51it/s]\n",
      "\u001b[32m2025-02-02 19:27:39.976\u001b[0m | \u001b[1mINFO    \u001b[0m | \u001b[36mmltrainer.trainer\u001b[0m:\u001b[36mreport\u001b[0m:\u001b[36m191\u001b[0m - \u001b[1mEpoch 12 train 0.0960 test 0.1240 metric ['0.9609', '0.9609', '0.8262', '0.9609', '0.9597']\u001b[0m\n",
      "\u001b[32m2025-02-02 19:27:39.977\u001b[0m | \u001b[1mINFO    \u001b[0m | \u001b[36mmltrainer.trainer\u001b[0m:\u001b[36m__call__\u001b[0m:\u001b[36m234\u001b[0m - \u001b[1mbest loss: 0.1063, current loss 0.1240.Counter 1/8.\u001b[0m\n",
      "100%|\u001b[38;2;30;71;6m██████████\u001b[0m| 1718/1718 [24:06<00:00,  1.19it/s]\n",
      "\u001b[32m2025-02-02 19:51:56.618\u001b[0m | \u001b[1mINFO    \u001b[0m | \u001b[36mmltrainer.trainer\u001b[0m:\u001b[36mreport\u001b[0m:\u001b[36m191\u001b[0m - \u001b[1mEpoch 13 train 0.0897 test 0.1888 metric ['0.9352', '0.9352', '0.7754', '0.9352', '0.9381']\u001b[0m\n",
      "\u001b[32m2025-02-02 19:51:56.619\u001b[0m | \u001b[1mINFO    \u001b[0m | \u001b[36mmltrainer.trainer\u001b[0m:\u001b[36m__call__\u001b[0m:\u001b[36m234\u001b[0m - \u001b[1mbest loss: 0.1063, current loss 0.1888.Counter 2/8.\u001b[0m\n",
      "100%|\u001b[38;2;30;71;6m██████████\u001b[0m| 1718/1718 [13:53<00:00,  2.06it/s]\n",
      "\u001b[32m2025-02-02 20:06:00.211\u001b[0m | \u001b[1mINFO    \u001b[0m | \u001b[36mmltrainer.trainer\u001b[0m:\u001b[36mreport\u001b[0m:\u001b[36m191\u001b[0m - \u001b[1mEpoch 14 train 0.0874 test 0.1182 metric ['0.9609', '0.9609', '0.8482', '0.9609', '0.9412']\u001b[0m\n",
      "\u001b[32m2025-02-02 20:06:00.211\u001b[0m | \u001b[1mINFO    \u001b[0m | \u001b[36mmltrainer.trainer\u001b[0m:\u001b[36m__call__\u001b[0m:\u001b[36m234\u001b[0m - \u001b[1mbest loss: 0.1063, current loss 0.1182.Counter 3/8.\u001b[0m\n",
      "100%|\u001b[38;2;30;71;6m██████████\u001b[0m| 15/15 [2:15:19<00:00, 541.31s/it] \n"
     ]
    },
    {
     "name": "stdout",
     "output_type": "stream",
     "text": [
      "{'model': 'Transformer1DResnet', 'scheduler': <class 'torch.optim.lr_scheduler.ReduceLROnPlateau'>, 'input': 1, 'hidden': 128, 'num_layers': 2, 'dropout': 0.2, 'num_classes': 5, 'num_heads': 8, 'num_blocks': 2, 'shape': (16, 12), 'traindataset': 'oversampled'}\n"
     ]
    },
    {
     "data": {
      "image/png": "[encoded data removed]",
      "text/plain": [
       "<Figure size 640x480 with 2 Axes>"
      ]
     },
     "metadata": {},
     "output_type": "display_data"
    }
   ],
   "source": [
    "f1micro = metrics.F1Score(average='micro')\n",
    "f1macro = metrics.F1Score(average='macro')\n",
    "precision = metrics.Precision('micro')\n",
    "recall = metrics.Recall('macro')\n",
    "accuracy = metrics.Accuracy()\n",
    "\n",
    "settings = TrainerSettings(\n",
    "        epochs=15,\n",
    "        metrics=[accuracy, f1micro, f1macro, precision, recall],\n",
    "        logdir=\"logs/heart1D_oversampled\",\n",
    "        train_steps=len(trainstreamer) // 5, #met 5 epochs heeft het een keer de hele dataset gezien\n",
    "        valid_steps=len(teststreamer) // 5,\n",
    "        reporttypes=[ReportTypes.TENSORBOARD, ReportTypes.MLFLOW],\n",
    "        scheduler_kwargs={\"factor\": 0.5, \"patience\": 2},\n",
    "        earlystop_kwargs= {\"patience\": 8},\n",
    "        device= device\n",
    "    )\n",
    "\n",
    "\n",
    "modelname= \"Transformer1DResnet\"\n",
    "config = {\n",
    "    \"model\": modelname,\n",
    "    \"scheduler\": torch.optim.lr_scheduler.ReduceLROnPlateau,\n",
    "    \"input\": 1,\n",
    "    \"hidden\": 128,\n",
    "    \"num_layers\": 2,\n",
    "    \"dropout\": 0.2,\n",
    "    \"num_classes\": 5,\n",
    "    \"num_heads\": 8,\n",
    "    \"num_blocks\": 2,\n",
    "    \"num_classes\": 5,\n",
    "    \"shape\": (16, 12),\n",
    "    'traindataset': 'oversampled'\n",
    "   \n",
    "}\n",
    "if 'smote' in str(trainfile):\n",
    "        settings.logdir=\"logs/heart1D_smote\"\n",
    "        config['traindataset'] = 'smote'\n",
    "\n",
    "\n",
    "print(config)\n",
    "model = models.Transformer1DResnet(config)\n",
    "mlflow.set_tracking_uri(\"sqlite:///mads_exam.db\")\n",
    "mlflow.set_experiment(config[\"model\"])\n",
    "train_model(trainstreamer, teststreamer, config, settings)\n",
    "y, yhat = test_model(model, teststreamer)\n",
    "cfm = confusion_matrix(y, yhat)\n",
    "cfm = cfm / np.sum(cfm, axis=1, keepdims=True)\n",
    "confusion_matrixs[modelname] = cfm\n",
    "print(config)\n",
    "plot_confusion_matrix(cfm, modelname)"
   ]
  },
  {
   "cell_type": "markdown",
   "metadata": {},
   "source": [
    "## 1D TRANSFOMER + RESNET + SQUEEZE AND EXCITE\n",
    "- The SE block would help compact the feature representation through global pooling and speed traing\n"
   ]
  },
  {
   "cell_type": "code",
   "execution_count": 20,
   "metadata": {},
   "outputs": [
    {
     "name": "stdout",
     "output_type": "stream",
     "text": [
      "{'model': 'Transformer1DResnetSE', 'scheduler': <class 'torch.optim.lr_scheduler.ReduceLROnPlateau'>, 'input': 1, 'hidden': 128, 'num_layers': 2, 'dropout': 0.2, 'num_classes': 5, 'num_heads': 8, 'num_blocks': 2, 'shape': (16, 12), 'traindataset': 'oversampled'}\n"
     ]
    },
    {
     "name": "stderr",
     "output_type": "stream",
     "text": [
      "\u001b[32m2025-02-03 08:06:17.488\u001b[0m | \u001b[1mINFO    \u001b[0m | \u001b[36mmltrainer.trainer\u001b[0m:\u001b[36mdir_add_timestamp\u001b[0m:\u001b[36m29\u001b[0m - \u001b[1mLogging to logs/heart1D_oversampled/20250203-080617\u001b[0m\n",
      "\u001b[32m2025-02-03 08:06:17.489\u001b[0m | \u001b[1mINFO    \u001b[0m | \u001b[36mmltrainer.trainer\u001b[0m:\u001b[36m__init__\u001b[0m:\u001b[36m72\u001b[0m - \u001b[1mFound earlystop_kwargs in settings.Set to None if you dont want earlystopping.\u001b[0m\n",
      "100%|\u001b[38;2;30;71;6m██████████\u001b[0m| 1718/1718 [05:06<00:00,  5.60it/s]\n",
      "\u001b[32m2025-02-03 08:11:34.186\u001b[0m | \u001b[1mINFO    \u001b[0m | \u001b[36mmltrainer.trainer\u001b[0m:\u001b[36mreport\u001b[0m:\u001b[36m191\u001b[0m - \u001b[1mEpoch 0 train 0.4605 test 0.4798 metric ['0.8454', '0.8454', '0.6253', '0.8454', '0.8710']\u001b[0m\n",
      "100%|\u001b[38;2;30;71;6m██████████\u001b[0m| 1718/1718 [03:32<00:00,  8.07it/s]\n",
      "\u001b[32m2025-02-03 08:15:17.200\u001b[0m | \u001b[1mINFO    \u001b[0m | \u001b[36mmltrainer.trainer\u001b[0m:\u001b[36mreport\u001b[0m:\u001b[36m191\u001b[0m - \u001b[1mEpoch 1 train 0.2772 test 0.3322 metric ['0.8713', '0.8713', '0.6739', '0.8713', '0.9041']\u001b[0m\n",
      "100%|\u001b[38;2;30;71;6m██████████\u001b[0m| 1718/1718 [03:28<00:00,  8.23it/s]\n",
      "\u001b[32m2025-02-03 08:18:56.177\u001b[0m | \u001b[1mINFO    \u001b[0m | \u001b[36mmltrainer.trainer\u001b[0m:\u001b[36mreport\u001b[0m:\u001b[36m191\u001b[0m - \u001b[1mEpoch 2 train 0.2438 test 0.2443 metric ['0.9285', '0.9285', '0.7510', '0.9285', '0.9334']\u001b[0m\n",
      "100%|\u001b[38;2;30;71;6m██████████\u001b[0m| 1718/1718 [03:30<00:00,  8.18it/s]\n",
      "\u001b[32m2025-02-03 08:22:36.380\u001b[0m | \u001b[1mINFO    \u001b[0m | \u001b[36mmltrainer.trainer\u001b[0m:\u001b[36mreport\u001b[0m:\u001b[36m191\u001b[0m - \u001b[1mEpoch 3 train 0.2162 test 0.2740 metric ['0.9065', '0.9065', '0.6969', '0.9065', '0.9233']\u001b[0m\n",
      "\u001b[32m2025-02-03 08:22:36.381\u001b[0m | \u001b[1mINFO    \u001b[0m | \u001b[36mmltrainer.trainer\u001b[0m:\u001b[36m__call__\u001b[0m:\u001b[36m234\u001b[0m - \u001b[1mbest loss: 0.2443, current loss 0.2740.Counter 1/8.\u001b[0m\n",
      "100%|\u001b[38;2;30;71;6m██████████\u001b[0m| 1718/1718 [03:32<00:00,  8.10it/s]\n",
      "\u001b[32m2025-02-03 08:26:18.644\u001b[0m | \u001b[1mINFO    \u001b[0m | \u001b[36mmltrainer.trainer\u001b[0m:\u001b[36mreport\u001b[0m:\u001b[36m191\u001b[0m - \u001b[1mEpoch 4 train 0.1911 test 0.2438 metric ['0.9143', '0.9143', '0.7356', '0.9143', '0.9315']\u001b[0m\n",
      "100%|\u001b[38;2;30;71;6m██████████\u001b[0m| 1718/1718 [03:29<00:00,  8.19it/s]\n",
      "\u001b[32m2025-02-03 08:29:58.560\u001b[0m | \u001b[1mINFO    \u001b[0m | \u001b[36mmltrainer.trainer\u001b[0m:\u001b[36mreport\u001b[0m:\u001b[36m191\u001b[0m - \u001b[1mEpoch 5 train 0.1762 test 0.2861 metric ['0.9028', '0.9028', '0.6868', '0.9028', '0.9275']\u001b[0m\n",
      "\u001b[32m2025-02-03 08:29:58.561\u001b[0m | \u001b[1mINFO    \u001b[0m | \u001b[36mmltrainer.trainer\u001b[0m:\u001b[36m__call__\u001b[0m:\u001b[36m234\u001b[0m - \u001b[1mbest loss: 0.2438, current loss 0.2861.Counter 1/8.\u001b[0m\n",
      "100%|\u001b[38;2;30;71;6m██████████\u001b[0m| 1718/1718 [03:30<00:00,  8.16it/s]\n",
      "\u001b[32m2025-02-03 08:33:39.175\u001b[0m | \u001b[1mINFO    \u001b[0m | \u001b[36mmltrainer.trainer\u001b[0m:\u001b[36mreport\u001b[0m:\u001b[36m191\u001b[0m - \u001b[1mEpoch 6 train 0.1721 test 0.2466 metric ['0.9074', '0.9074', '0.7064', '0.9074', '0.9189']\u001b[0m\n",
      "\u001b[32m2025-02-03 08:33:39.175\u001b[0m | \u001b[1mINFO    \u001b[0m | \u001b[36mmltrainer.trainer\u001b[0m:\u001b[36m__call__\u001b[0m:\u001b[36m234\u001b[0m - \u001b[1mbest loss: 0.2438, current loss 0.2466.Counter 2/8.\u001b[0m\n",
      "100%|\u001b[38;2;30;71;6m██████████\u001b[0m| 1718/1718 [03:32<00:00,  8.09it/s]\n",
      "\u001b[32m2025-02-03 08:37:21.708\u001b[0m | \u001b[1mINFO    \u001b[0m | \u001b[36mmltrainer.trainer\u001b[0m:\u001b[36mreport\u001b[0m:\u001b[36m191\u001b[0m - \u001b[1mEpoch 7 train 0.1590 test 0.2174 metric ['0.9102', '0.9102', '0.7234', '0.9102', '0.9202']\u001b[0m\n",
      "100%|\u001b[38;2;30;71;6m██████████\u001b[0m| 1718/1718 [03:32<00:00,  8.08it/s]\n",
      "\u001b[32m2025-02-03 08:41:04.581\u001b[0m | \u001b[1mINFO    \u001b[0m | \u001b[36mmltrainer.trainer\u001b[0m:\u001b[36mreport\u001b[0m:\u001b[36m191\u001b[0m - \u001b[1mEpoch 8 train 0.1539 test 0.2388 metric ['0.9021', '0.9021', '0.7425', '0.9021', '0.9324']\u001b[0m\n",
      "\u001b[32m2025-02-03 08:41:04.581\u001b[0m | \u001b[1mINFO    \u001b[0m | \u001b[36mmltrainer.trainer\u001b[0m:\u001b[36m__call__\u001b[0m:\u001b[36m234\u001b[0m - \u001b[1mbest loss: 0.2174, current loss 0.2388.Counter 1/8.\u001b[0m\n",
      "100%|\u001b[38;2;30;71;6m██████████\u001b[0m| 1718/1718 [03:32<00:00,  8.08it/s]\n",
      "\u001b[32m2025-02-03 08:44:47.344\u001b[0m | \u001b[1mINFO    \u001b[0m | \u001b[36mmltrainer.trainer\u001b[0m:\u001b[36mreport\u001b[0m:\u001b[36m191\u001b[0m - \u001b[1mEpoch 9 train 0.1491 test 0.2228 metric ['0.9244', '0.9244', '0.7372', '0.9244', '0.9392']\u001b[0m\n",
      "\u001b[32m2025-02-03 08:44:47.344\u001b[0m | \u001b[1mINFO    \u001b[0m | \u001b[36mmltrainer.trainer\u001b[0m:\u001b[36m__call__\u001b[0m:\u001b[36m234\u001b[0m - \u001b[1mbest loss: 0.2174, current loss 0.2228.Counter 2/8.\u001b[0m\n",
      "100%|\u001b[38;2;30;71;6m██████████\u001b[0m| 1718/1718 [03:34<00:00,  8.02it/s]\n",
      "\u001b[32m2025-02-03 08:48:31.875\u001b[0m | \u001b[1mINFO    \u001b[0m | \u001b[36mmltrainer.trainer\u001b[0m:\u001b[36mreport\u001b[0m:\u001b[36m191\u001b[0m - \u001b[1mEpoch 10 train 0.1383 test 0.1872 metric ['0.9278', '0.9278', '0.7463', '0.9278', '0.9391']\u001b[0m\n",
      "100%|\u001b[38;2;30;71;6m██████████\u001b[0m| 1718/1718 [03:17<00:00,  8.71it/s]\n",
      "\u001b[32m2025-02-03 08:51:58.638\u001b[0m | \u001b[1mINFO    \u001b[0m | \u001b[36mmltrainer.trainer\u001b[0m:\u001b[36mreport\u001b[0m:\u001b[36m191\u001b[0m - \u001b[1mEpoch 11 train 0.1376 test 0.2269 metric ['0.9069', '0.9069', '0.7447', '0.9069', '0.9356']\u001b[0m\n",
      "\u001b[32m2025-02-03 08:51:58.638\u001b[0m | \u001b[1mINFO    \u001b[0m | \u001b[36mmltrainer.trainer\u001b[0m:\u001b[36m__call__\u001b[0m:\u001b[36m234\u001b[0m - \u001b[1mbest loss: 0.1872, current loss 0.2269.Counter 1/8.\u001b[0m\n",
      "100%|\u001b[38;2;30;71;6m██████████\u001b[0m| 1718/1718 [03:11<00:00,  8.95it/s]\n",
      "\u001b[32m2025-02-03 08:55:20.136\u001b[0m | \u001b[1mINFO    \u001b[0m | \u001b[36mmltrainer.trainer\u001b[0m:\u001b[36mreport\u001b[0m:\u001b[36m191\u001b[0m - \u001b[1mEpoch 12 train 0.1319 test 0.2151 metric ['0.9230', '0.9230', '0.7298', '0.9230', '0.9374']\u001b[0m\n",
      "\u001b[32m2025-02-03 08:55:20.136\u001b[0m | \u001b[1mINFO    \u001b[0m | \u001b[36mmltrainer.trainer\u001b[0m:\u001b[36m__call__\u001b[0m:\u001b[36m234\u001b[0m - \u001b[1mbest loss: 0.1872, current loss 0.2151.Counter 2/8.\u001b[0m\n",
      "100%|\u001b[38;2;30;71;6m██████████\u001b[0m| 1718/1718 [03:11<00:00,  8.99it/s]\n",
      "\u001b[32m2025-02-03 08:58:40.711\u001b[0m | \u001b[1mINFO    \u001b[0m | \u001b[36mmltrainer.trainer\u001b[0m:\u001b[36mreport\u001b[0m:\u001b[36m191\u001b[0m - \u001b[1mEpoch 13 train 0.1262 test 0.1864 metric ['0.9347', '0.9347', '0.7751', '0.9347', '0.9441']\u001b[0m\n",
      "100%|\u001b[38;2;30;71;6m██████████\u001b[0m| 1718/1718 [03:10<00:00,  9.01it/s]\n",
      "\u001b[32m2025-02-03 09:02:01.044\u001b[0m | \u001b[1mINFO    \u001b[0m | \u001b[36mmltrainer.trainer\u001b[0m:\u001b[36mreport\u001b[0m:\u001b[36m191\u001b[0m - \u001b[1mEpoch 14 train 0.1213 test 0.2145 metric ['0.9221', '0.9221', '0.7474', '0.9221', '0.9399']\u001b[0m\n",
      "\u001b[32m2025-02-03 09:02:01.045\u001b[0m | \u001b[1mINFO    \u001b[0m | \u001b[36mmltrainer.trainer\u001b[0m:\u001b[36m__call__\u001b[0m:\u001b[36m234\u001b[0m - \u001b[1mbest loss: 0.1864, current loss 0.2145.Counter 1/8.\u001b[0m\n",
      "100%|\u001b[38;2;30;71;6m██████████\u001b[0m| 15/15 [55:43<00:00, 222.90s/it]\n"
     ]
    },
    {
     "name": "stdout",
     "output_type": "stream",
     "text": [
      "{'model': 'Transformer1DResnetSE', 'scheduler': <class 'torch.optim.lr_scheduler.ReduceLROnPlateau'>, 'input': 1, 'hidden': 128, 'num_layers': 2, 'dropout': 0.2, 'num_classes': 5, 'num_heads': 8, 'num_blocks': 2, 'shape': (16, 12), 'traindataset': 'oversampled'}\n"
     ]
    },
    {
     "data": {
      "image/png": "[encoded data removed]",
      "text/plain": [
       "<Figure size 640x480 with 2 Axes>"
      ]
     },
     "metadata": {},
     "output_type": "display_data"
    }
   ],
   "source": [
    "f1micro = metrics.F1Score(average='micro')\n",
    "f1macro = metrics.F1Score(average='macro')\n",
    "precision = metrics.Precision('micro')\n",
    "recall = metrics.Recall('macro')\n",
    "accuracy = metrics.Accuracy()\n",
    "\n",
    "settings = TrainerSettings(\n",
    "        epochs=15,\n",
    "        metrics=[accuracy, f1micro, f1macro, precision, recall],\n",
    "        logdir=\"logs/heart1D_oversampled\",\n",
    "        train_steps=len(trainstreamer) // 5, #met 5 epochs heeft het een keer de hele dataset gezien\n",
    "        valid_steps=len(teststreamer) // 5,\n",
    "        reporttypes=[ReportTypes.TENSORBOARD, ReportTypes.MLFLOW],\n",
    "        scheduler_kwargs={\"factor\": 0.5, \"patience\": 2},\n",
    "        earlystop_kwargs= {\"patience\": 8},\n",
    "        device= device\n",
    "    )\n",
    "\n",
    "\n",
    "modelname= \"Transformer1DResnetSE\"\n",
    "config = {\n",
    "    \"model\": modelname,\n",
    "    \"scheduler\": torch.optim.lr_scheduler.ReduceLROnPlateau,\n",
    "    \"input\": 1,\n",
    "    \"hidden\": 128,\n",
    "    \"num_layers\": 2,\n",
    "    \"dropout\": 0.2,\n",
    "    \"num_classes\": 5,\n",
    "    \"num_heads\": 8,\n",
    "    \"num_blocks\": 2,\n",
    "    \"num_classes\": 5,\n",
    "    \"shape\": (16, 12),\n",
    "    'traindataset': 'oversampled'\n",
    "   \n",
    "}\n",
    "if 'smote' in str(trainfile):\n",
    "        settings.logdir=\"logs/heart1D_smote\"\n",
    "        config['traindataset'] = 'smote'\n",
    "\n",
    "\n",
    "print(config)\n",
    "model = models.Transformer1DResnetSE(config)\n",
    "yhat = model(x)\n",
    "mlflow.set_tracking_uri(\"sqlite:///mads_exam.db\")\n",
    "mlflow.set_experiment(config[\"model\"])\n",
    "train_model(trainstreamer, teststreamer, config, settings)\n",
    "y, yhat = test_model(model, teststreamer)\n",
    "cfm = confusion_matrix(y, yhat)\n",
    "cfm = cfm / np.sum(cfm, axis=1, keepdims=True)\n",
    "confusion_matrixs[modelname] = cfm\n",
    "print(config)\n",
    "plot_confusion_matrix(cfm, modelname)"
   ]
  },
  {
   "cell_type": "code",
   "execution_count": null,
   "metadata": {},
   "outputs": [],
   "source": [
    " # testing types of seeds"
   ]
  },
  {
   "cell_type": "code",
   "execution_count": 22,
   "metadata": {},
   "outputs": [
    {
     "name": "stdout",
     "output_type": "stream",
     "text": [
      "Random Seed from Date and Time (hashed): 1902171767351478533\n"
     ]
    },
    {
     "data": {
      "text/plain": [
       "'2025-01-30_11-57-17'"
      ]
     },
     "execution_count": 22,
     "metadata": {},
     "output_type": "execute_result"
    }
   ],
   "source": [
    "from datetime import datetime\n",
    "\n",
    "# Get current date and time in a specific format (e.g., '2025-01-28_15-30-45')\n",
    "current_time_str = datetime.now().strftime(\"%Y-%m-%d_%H-%M-%S\")\n",
    "\n",
    "# Hash the string to create a seed\n",
    "random_seed = hash(current_time_str)\n",
    "print(f\"Random Seed from Date and Time (hashed): {random_seed}\")\n",
    "current_time_str"
   ]
  },
  {
   "cell_type": "code",
   "execution_count": 23,
   "metadata": {},
   "outputs": [
    {
     "name": "stdout",
     "output_type": "stream",
     "text": [
      "Random Seed from Date and Time: 1738234650\n"
     ]
    }
   ],
   "source": [
    "import time\n",
    "\n",
    "# Use the current date and time to generate a more unique seed\n",
    "current_time_str = time.strftime(\"%Y-%m-%d %H:%M:%S\", time.localtime())\n",
    "random_seed = int(time.mktime(time.strptime(current_time_str, \"%Y-%m-%d %H:%M:%S\")))\n",
    "print(f\"Random Seed from Date and Time: {random_seed}\")"
   ]
  },
  {
   "cell_type": "code",
   "execution_count": 24,
   "metadata": {},
   "outputs": [
    {
     "name": "stdout",
     "output_type": "stream",
     "text": [
      "Random Seed: 2921403402\n"
     ]
    }
   ],
   "source": [
    "import random\n",
    "\n",
    "# Generate a random integer between 0 and 2^32 - 1\n",
    "random_seed = random.randint(0, 2**32 - 1)\n",
    "print(f\"Random Seed: {random_seed}\")"
   ]
  }
 ],
 "metadata": {
  "kernelspec": {
   "display_name": ".venv",
   "language": "python",
   "name": "python3"
  },
  "language_info": {
   "codemirror_mode": {
    "name": "ipython",
    "version": 3
   },
   "file_extension": ".py",
   "mimetype": "text/x-python",
   "name": "python",
   "nbconvert_exporter": "python",
   "pygments_lexer": "ipython3",
   "version": "3.11.9"
  }
 },
 "nbformat": 4,
 "nbformat_minor": 4
}
