{
 "cells": [
  {
   "cell_type": "code",
   "execution_count": 33,
   "metadata": {},
   "outputs": [
    {
     "data": {
      "text/plain": [
       "'0.1.129'"
      ]
     },
     "execution_count": 33,
     "metadata": {},
     "output_type": "execute_result"
    }
   ],
   "source": [
    "from mads_datasets.base import BaseDatastreamer\n",
    "from mltrainer.preprocessors import BasePreprocessor\n",
    "import matplotlib.pyplot as plt\n",
    "from pathlib import Path\n",
    "import pandas as pd\n",
    "import seaborn as sns\n",
    "from sklearn.metrics import confusion_matrix\n",
    "from torch import nn\n",
    "import torch\n",
    "from mltrainer import Trainer, TrainerSettings, ReportTypes\n",
    "import tomllib\n",
    "import seaborn as sns\n",
    "import numpy as np\n",
    "from torch import Tensor\n",
    "import math\n",
    "from typing import List, Tuple, Dict, Any, Union\n",
    "from src import datasets, metrics\n",
    "import mltrainer\n",
    "mltrainer.__version__"
   ]
  },
  {
   "cell_type": "code",
   "execution_count": 3,
   "metadata": {},
   "outputs": [
    {
     "name": "stdout",
     "output_type": "stream",
     "text": [
      "{'ptb': 'heart', 'arrhythmia': 'heart_big'}\n"
     ]
    }
   ],
   "source": [
    "\n",
    "\n",
    "datadir = Path('../data')\n",
    "configfile = Path(\"config.toml\")\n",
    "\n",
    "with configfile.open('rb') as f:\n",
    "    config = tomllib.load(f)\n",
    "print(config)"
   ]
  },
  {
   "cell_type": "code",
   "execution_count": 5,
   "metadata": {},
   "outputs": [
    {
     "data": {
      "text/plain": [
       "(PosixPath('../data/heart_big_oversampled_train.parq'),\n",
       " PosixPath('../data/heart_big_test.parq'))"
      ]
     },
     "execution_count": 5,
     "metadata": {},
     "output_type": "execute_result"
    }
   ],
   "source": [
    "trainfile = datadir / (config['arrhythmia'] + '_oversampled_train.parq')\n",
    "testfile = datadir / (config['arrhythmia'] + '_test.parq')\n",
    "trainfile, testfile"
   ]
  },
  {
   "cell_type": "markdown",
   "metadata": {},
   "source": [
    "Load the data"
   ]
  },
  {
   "cell_type": "code",
   "execution_count": 6,
   "metadata": {},
   "outputs": [],
   "source": [
    "# load data in dataframes\n",
    "train_df = pd.read_parquet(trainfile)\n",
    "test_df = pd.read_parquet(testfile)"
   ]
  },
  {
   "cell_type": "code",
   "execution_count": 7,
   "metadata": {},
   "outputs": [
    {
     "data": {
      "text/plain": [
       "(Heartdataset (len 144942), Heartdataset (len 21892))"
      ]
     },
     "execution_count": 7,
     "metadata": {},
     "output_type": "execute_result"
    }
   ],
   "source": [
    "traindataset = datasets.HeartDataset1D(trainfile, target=\"target\")\n",
    "testdataset = datasets.HeartDataset1D(testfile, target=\"target\")\n",
    "traindataset, testdataset\n",
    "\n",
    "# moving to mps device crashes the jupyter kernel"
   ]
  },
  {
   "cell_type": "markdown",
   "metadata": {},
   "source": [
    "Visualise it as 1D data"
   ]
  },
  {
   "cell_type": "markdown",
   "metadata": {},
   "source": [
    "Set up the streamer"
   ]
  },
  {
   "cell_type": "code",
   "execution_count": 9,
   "metadata": {},
   "outputs": [
    {
     "data": {
      "text/plain": [
       "(4529, 684)"
      ]
     },
     "execution_count": 9,
     "metadata": {},
     "output_type": "execute_result"
    }
   ],
   "source": [
    "trainstreamer = BaseDatastreamer(traindataset, preprocessor = BasePreprocessor(), batchsize=32)\n",
    "teststreamer = BaseDatastreamer(testdataset, preprocessor = BasePreprocessor(), batchsize=32)\n",
    "len(trainstreamer), len(teststreamer)"
   ]
  },
  {
   "cell_type": "markdown",
   "metadata": {},
   "source": [
    "Positional encoding to use with the transformer."
   ]
  },
  {
   "cell_type": "code",
   "execution_count": 10,
   "metadata": {},
   "outputs": [],
   "source": [
    "\n",
    "\n",
    "class PositionalEncoding(nn.Module):\n",
    "\n",
    "    def __init__(self, d_model: int, dropout: float = 0.1, max_seq_len: int = 5000):\n",
    "        super().__init__()\n",
    "        self.dropout = nn.Dropout(p=dropout)\n",
    "\n",
    "        position = torch.arange(max_seq_len).unsqueeze(1)\n",
    "        div_term = torch.exp(torch.arange(0, d_model, 2) * (-math.log(10000.0) / d_model))\n",
    "        pe = torch.zeros(1, max_seq_len, d_model)\n",
    "        # batch, seq_len, d_model\n",
    "        pe[0, :, 0::2] = torch.sin(position * div_term)\n",
    "        pe[0, :, 1::2] = torch.cos(position * div_term)\n",
    "        self.register_buffer('pe', pe)\n",
    "\n",
    "    def forward(self, x: Tensor) -> Tensor:\n",
    "        \"\"\"\n",
    "        Arguments:\n",
    "            x: Tensor, shape ``[batch_size, seq_len, embedding_dim]``\n",
    "        \"\"\"\n",
    "        x = x + self.pe[:, :x.size(1), :]\n",
    "        return self.dropout(x)"
   ]
  },
  {
   "cell_type": "markdown",
   "metadata": {},
   "source": [
    "Note, the layers have different assumptions about the data structure:\n",
    "- streamer:         (batch, seq_len, channels)\n",
    "- conv1d:           (batch, channels, seq_len)\n",
    "- pos_encoding:     (batch, seq_len, channels)\n",
    "- gru (batchfirst): (batch, seq_len, channels)\n",
    "- attention:        (batch, seq_len, channels)\n",
    "\n",
    "As you can see, its just the conv1d layer that expects channels as the second dimension. Using a conv1d layer you\n",
    "will need to transpose the dimensions, I will show how to do that in the Transformer `forward` method.\n",
    "\n",
    "Again, the strategy of creating a block helps us stack the architecture more easily."
   ]
  },
  {
   "cell_type": "code",
   "execution_count": 42,
   "metadata": {},
   "outputs": [],
   "source": [
    "class TransformerBlock(nn.Module):\n",
    "    def __init__(self, hidden_size, num_heads, dropout):\n",
    "        # feel free to change the input parameters of the constructor\n",
    "        super(TransformerBlock, self).__init__()\n",
    "        self.attention = nn.MultiheadAttention(\n",
    "            embed_dim=hidden_size,\n",
    "            num_heads=num_heads,\n",
    "            dropout=dropout,\n",
    "            batch_first=True,\n",
    "        )\n",
    "        self.ff = nn.Sequential(\n",
    "            nn.Linear(hidden_size, hidden_size),\n",
    "            nn.ReLU(),\n",
    "            nn.Linear(hidden_size, hidden_size),\n",
    "        )\n",
    "        self.layer_norm1 = nn.LayerNorm(hidden_size)\n",
    "        self.layer_norm2 = nn.LayerNorm(hidden_size)\n",
    "\n",
    "    def forward(self, x):\n",
    "        identity = x.clone() # skip connection\n",
    "        x, _ = self.attention(x, x, x)\n",
    "        x = self.layer_norm1(x + identity) # Add & Norm skip\n",
    "        identity = x.clone() # second skip connection\n",
    "        x = self.ff(x)\n",
    "        x = self.layer_norm2(x + identity) # Add & Norm skip\n",
    "        return x\n",
    "\n",
    "class Transformer(nn.Module):\n",
    "    def __init__(\n",
    "        self,\n",
    "        config: dict,\n",
    "    ) -> None:\n",
    "        super().__init__()\n",
    "        self.conv1d = nn.Conv1d(\n",
    "            in_channels=1,\n",
    "            out_channels=config[\"hidden\"],\n",
    "            kernel_size=3,\n",
    "            stride=2,\n",
    "            padding=1,\n",
    "        )\n",
    "        self.pos_encoder = PositionalEncoding(config[\"hidden\"], config[\"dropout\"])\n",
    "\n",
    "        # Create multiple transformer blocks\n",
    "        self.transformer_blocks = nn.ModuleList([\n",
    "            TransformerBlock(config[\"hidden\"], config[\"num_heads\"], config[\"dropout\"])\n",
    "            for _ in range(config[\"num_blocks\"])\n",
    "        ])\n",
    "\n",
    "        #self.out = nn.Linear(config[\"hidden\"], config[\"output\"])\n",
    "        #extra dense layers\n",
    "        self.out = nn.Sequential(\n",
    "            nn.Linear(config[\"hidden\"], config[\"hidden\"]//2),\n",
    "            nn.ReLU(),\n",
    "            nn.Dropout(config[\"dropout\"]),\n",
    "            nn.Linear(config[\"hidden\"]//2, config[\"output\"]),\n",
    "        )\n",
    "\n",
    "    def forward(self, x: Tensor) -> Tensor:\n",
    "        # streamer:         (batch, seq_len, channels)\n",
    "        # conv1d:           (batch, channels, seq_len)\n",
    "        # pos_encoding:     (batch, seq_len, channels)\n",
    "        # attention:        (batch, seq_len, channels)\n",
    "        x = self.conv1d(x.transpose(1, 2)) # flip channels and seq_len for conv1d\n",
    "        x = self.pos_encoder(x.transpose(1, 2)) # flip back to seq_len and channels\n",
    "\n",
    "        # Apply multiple transformer blocks\n",
    "        for transformer_block in self.transformer_blocks:\n",
    "            x = transformer_block(x)\n",
    "\n",
    "        x = x.mean(dim=1) # Global Average Pooling\n",
    "        x = self.out(x)\n",
    "        return x"
   ]
  },
  {
   "cell_type": "code",
   "execution_count": 12,
   "metadata": {},
   "outputs": [
    {
     "name": "stdout",
     "output_type": "stream",
     "text": [
      "{'hidden': 128, 'dropout': 0.1, 'output': 5, 'num_heads': 8, 'num_blocks': 1}\n"
     ]
    }
   ],
   "source": [
    "from src import models\n",
    "config = {\n",
    "    \"hidden\": 128,\n",
    "    \"dropout\": 0.1,\n",
    "    \"output\": 5,\n",
    "    \"num_heads\": 8,\n",
    "    \"num_blocks\": 1,\n",
    "}\n",
    "print(config)\n",
    "model = models.Transformer(config)"
   ]
  },
  {
   "cell_type": "markdown",
   "metadata": {},
   "source": [
    "Model 1D\n",
    "Transofrmer block with 16 hidden units\n",
    "Dropout  0.1\n",
    "heads 4\n",
    "\n",
    "Transformer is 1D conv\n",
    "1 block\n",
    "1 positional encoding"
   ]
  },
  {
   "cell_type": "code",
   "execution_count": 13,
   "metadata": {},
   "outputs": [
    {
     "data": {
      "text/plain": [
       "(torch.Size([32, 192, 1]), torch.Size([32]))"
      ]
     },
     "execution_count": 13,
     "metadata": {},
     "output_type": "execute_result"
    }
   ],
   "source": [
    "x, y = next(trainstreamer.stream())\n",
    "x.shape, y.shape"
   ]
  },
  {
   "cell_type": "code",
   "execution_count": 14,
   "metadata": {},
   "outputs": [],
   "source": [
    "f1micro = metrics.F1Score(average='micro')\n",
    "f1macro = metrics.F1Score(average='macro')\n",
    "precision = metrics.Precision('micro')\n",
    "recall = metrics.Recall('macro')\n",
    "accuracy = metrics.Accuracy()"
   ]
  },
  {
   "cell_type": "code",
   "execution_count": 15,
   "metadata": {},
   "outputs": [
    {
     "data": {
      "text/plain": [
       "<Experiment: artifact_location='/Users/francesca/code_repo/MADS-exam-25/notebooks/mlruns/2', creation_time=1736969121395, experiment_id='2', last_update_time=1736969121395, lifecycle_stage='active', name='Transformer', tags={}>"
      ]
     },
     "execution_count": 15,
     "metadata": {},
     "output_type": "execute_result"
    }
   ],
   "source": [
    "import mlflow\n",
    "mlflow.set_tracking_uri(\"sqlite:///mads_exam.db\")\n",
    "mlflow.set_experiment(\"Transformer\")"
   ]
  },
  {
   "cell_type": "code",
   "execution_count": 16,
   "metadata": {},
   "outputs": [
    {
     "name": "stdout",
     "output_type": "stream",
     "text": [
      "MPS is available\n"
     ]
    }
   ],
   "source": [
    "# Check if MPS is available\n",
    "if torch.backends.mps.is_available():\n",
    "    device = torch.device('mps')\n",
    "    print('MPS is available')\n",
    "else:\n",
    "    device = torch.device('cpu')\n",
    "\n",
    "print(f\"Model is on device: {next(model.parameters()).device}\")\n"
   ]
  },
  {
   "cell_type": "code",
   "execution_count": 51,
   "metadata": {},
   "outputs": [],
   "source": [
    "from sklearn.utils.class_weight import compute_class_weight\n",
    "classes = train_df.target.unique()\n",
    "class_weights = compute_class_weight('balanced', classes=classes, y=train_df.target)\n",
    "class_weights_tensor = torch.tensor(class_weights).float().to(device)\n"
   ]
  },
  {
   "cell_type": "code",
   "execution_count": 26,
   "metadata": {},
   "outputs": [
    {
     "name": "stderr",
     "output_type": "stream",
     "text": [
      "100%|\u001b[38;2;30;71;6m██████████\u001b[0m| 905/905 [00:09<00:00, 92.40it/s]\n",
      "INFO:__main__:Epoch 0 train 0.1720 test 2.9297 metric ['0.4239', '0.4239', '0.1856', '0.4239', '0.2441']\n",
      "100%|\u001b[38;2;30;71;6m██████████\u001b[0m| 905/905 [00:09<00:00, 93.99it/s]\n",
      "INFO:__main__:Epoch 1 train 0.1606 test 4.3845 metric ['0.3419', '0.3419', '0.1427', '0.3419', '0.2053']\n",
      "100%|\u001b[38;2;30;71;6m██████████\u001b[0m| 905/905 [00:09<00:00, 94.20it/s]\n",
      "INFO:__main__:Epoch 2 train 0.1469 test 5.1491 metric ['0.4216', '0.4216', '0.1729', '0.4216', '0.2223']\n",
      "100%|\u001b[38;2;30;71;6m██████████\u001b[0m| 905/905 [00:09<00:00, 93.36it/s]\n",
      "INFO:__main__:Epoch 3 train 0.1354 test 3.9765 metric ['0.2569', '0.2569', '0.1381', '0.2569', '0.2028']\n",
      "100%|\u001b[38;2;30;71;6m██████████\u001b[0m| 905/905 [00:09<00:00, 92.80it/s]\n",
      "INFO:__main__:Epoch 4 train 0.1127 test 6.9615 metric ['0.2518', '0.2518', '0.1175', '0.2518', '0.1957']\n",
      "100%|\u001b[38;2;30;71;6m██████████\u001b[0m| 905/905 [00:09<00:00, 92.54it/s]\n",
      "INFO:__main__:Epoch 5 train 0.1097 test 8.4230 metric ['0.3440', '0.3440', '0.1447', '0.3440', '0.2068']\n",
      "100%|\u001b[38;2;30;71;6m██████████\u001b[0m| 905/905 [00:09<00:00, 91.75it/s]\n",
      "INFO:__main__:Epoch 6 train 0.1042 test 6.5535 metric ['0.4177', '0.4177', '0.1743', '0.4177', '0.2273']\n",
      "100%|\u001b[38;2;30;71;6m██████████\u001b[0m| 905/905 [00:09<00:00, 91.68it/s]\n",
      "INFO:__main__:Epoch 7 train 0.0943 test 7.5776 metric ['0.3054', '0.3054', '0.1478', '0.3054', '0.2073']\n",
      "100%|\u001b[38;2;30;71;6m██████████\u001b[0m| 905/905 [00:09<00:00, 90.74it/s]\n",
      "INFO:__main__:Epoch 8 train 0.0841 test 7.2588 metric ['0.3472', '0.3472', '0.1618', '0.3472', '0.2507']\n",
      "100%|\u001b[38;2;30;71;6m██████████\u001b[0m| 905/905 [00:10<00:00, 88.79it/s]\n",
      "INFO:__main__:Epoch 9 train 0.0884 test 8.0156 metric ['0.3973', '0.3973', '0.1714', '0.3973', '0.2283']\n",
      "100%|\u001b[38;2;30;71;6m██████████\u001b[0m| 905/905 [00:10<00:00, 89.75it/s]\n",
      "INFO:__main__:Epoch 10 train 0.0815 test 8.0072 metric ['0.4244', '0.4244', '0.1776', '0.4244', '0.2331']\n",
      "100%|\u001b[38;2;30;71;6m██████████\u001b[0m| 905/905 [00:10<00:00, 89.95it/s]\n",
      "INFO:__main__:Epoch 11 train 0.0790 test 9.4521 metric ['0.3911', '0.3911', '0.1704', '0.3911', '0.2336']\n",
      "100%|\u001b[38;2;30;71;6m██████████\u001b[0m| 905/905 [00:10<00:00, 90.21it/s]\n",
      "INFO:__main__:Epoch 12 train 0.0799 test 9.1718 metric ['0.4249', '0.4249', '0.1735', '0.4249', '0.2440']\n",
      "100%|\u001b[38;2;30;71;6m██████████\u001b[0m| 905/905 [00:09<00:00, 90.79it/s]\n",
      "INFO:__main__:Epoch 13 train 0.0732 test 9.8436 metric ['0.4373', '0.4373', '0.1851', '0.4373', '0.2614']\n",
      "100%|\u001b[38;2;30;71;6m██████████\u001b[0m| 905/905 [00:09<00:00, 91.07it/s]\n",
      "INFO:__main__:Epoch 14 train 0.0704 test 10.1299 metric ['0.4377', '0.4377', '0.1794', '0.4377', '0.2448']\n",
      "100%|\u001b[38;2;30;71;6m██████████\u001b[0m| 15/15 [02:39<00:00, 10.61s/it]\n"
     ]
    }
   ],
   "source": [
    "import logging\n",
    "from mltrainer import TrainerSettings, ReportTypes\n",
    "\n",
    "# Set up logging\n",
    "logging.basicConfig(level=logging.INFO)\n",
    "logger = logging.getLogger(__name__)\n",
    "\n",
    "loss_fn = torch.nn.CrossEntropyLoss(weight=class_weights_tensor)\n",
    "\n",
    "model = model.to(device)\n",
    "\n",
    "with mlflow.start_run():\n",
    "    \n",
    "    optimizer = torch.optim.Adam\n",
    "\n",
    "    settings = TrainerSettings(\n",
    "        device=device,\n",
    "        epochs=15,\n",
    "        metrics=[accuracy, f1micro, f1macro, precision, recall],\n",
    "        logdir=\"logs/heart1D\",\n",
    "        train_steps=len(trainstreamer) //5,\n",
    "        valid_steps=len(teststreamer) //5,\n",
    "        reporttypes=[ReportTypes.TENSORBOARD, ReportTypes.MLFLOW],\n",
    "        scheduler_kwargs={\"factor\": 0.5, \"patience\": 2},\n",
    "        earlystop_kwargs=None\n",
    "    )\n",
    "\n",
    "    mlflow.set_tag(\"model\", \"Transfomer\")\n",
    "    mlflow.set_tag(\"dataset\", \"heart_small_binary\")\n",
    "    mlflow.log_params(config)\n",
    "    mlflow.log_param(\"epochs\", settings.epochs)\n",
    "    mlflow.log_param(\"optimizer\", str(optimizer))\n",
    "    mlflow.log_param(\"scheduler\", \"None\")\n",
    "    mlflow.log_param(\"earlystop\", \"None\")\n",
    "    mlflow.log_params(settings.optimizer_kwargs)\n",
    "\n",
    "    trainer = Trainer(\n",
    "        model=model,\n",
    "        settings=settings,\n",
    "        loss_fn=loss_fn.to(device),\n",
    "        optimizer=optimizer,\n",
    "        traindataloader=((x.to(device), y.to(device)) for x, y in trainstreamer.stream()),\n",
    "        validdataloader=((x.to(device), y.to(device)) for x, y in teststreamer.stream()),\n",
    "        scheduler=torch.optim.lr_scheduler.ReduceLROnPlateau,\n",
    "        )\n",
    "    trainer.loop()"
   ]
  },
  {
   "cell_type": "code",
   "execution_count": 52,
   "metadata": {},
   "outputs": [
    {
     "name": "stderr",
     "output_type": "stream",
     "text": [
      "\u001b[32m2025-01-18 23:57:24.709\u001b[0m | \u001b[1mINFO    \u001b[0m | \u001b[36mmltrainer.trainer\u001b[0m:\u001b[36mdir_add_timestamp\u001b[0m:\u001b[36m29\u001b[0m - \u001b[1mLogging to logs/heart1D/20250118-235724\u001b[0m\n",
      "100%|\u001b[38;2;30;71;6m██████████\u001b[0m| 547/547 [00:09<00:00, 55.10it/s]\n",
      "\u001b[32m2025-01-18 23:57:35.752\u001b[0m | \u001b[1mINFO    \u001b[0m | \u001b[36mmltrainer.trainer\u001b[0m:\u001b[36mreport\u001b[0m:\u001b[36m191\u001b[0m - \u001b[1mEpoch 0 train 0.2292 test 4.6028 metric ['0.1117', '0.1117', '0.0629', '0.1117', '0.2718']\u001b[0m\n",
      "100%|\u001b[38;2;30;71;6m██████████\u001b[0m| 547/547 [00:09<00:00, 55.21it/s]\n",
      "\u001b[32m2025-01-18 23:57:46.802\u001b[0m | \u001b[1mINFO    \u001b[0m | \u001b[36mmltrainer.trainer\u001b[0m:\u001b[36mreport\u001b[0m:\u001b[36m191\u001b[0m - \u001b[1mEpoch 1 train 0.1967 test 2.6533 metric ['0.6723', '0.6723', '0.2986', '0.6723', '0.3949']\u001b[0m\n",
      "100%|\u001b[38;2;30;71;6m██████████\u001b[0m| 547/547 [00:09<00:00, 55.01it/s]\n",
      "\u001b[32m2025-01-18 23:57:57.846\u001b[0m | \u001b[1mINFO    \u001b[0m | \u001b[36mmltrainer.trainer\u001b[0m:\u001b[36mreport\u001b[0m:\u001b[36m191\u001b[0m - \u001b[1mEpoch 2 train 0.1866 test 3.8764 metric ['0.3389', '0.3389', '0.1814', '0.3389', '0.3312']\u001b[0m\n",
      "100%|\u001b[38;2;30;71;6m██████████\u001b[0m| 547/547 [00:09<00:00, 54.98it/s]\n",
      "\u001b[32m2025-01-18 23:58:08.936\u001b[0m | \u001b[1mINFO    \u001b[0m | \u001b[36mmltrainer.trainer\u001b[0m:\u001b[36mreport\u001b[0m:\u001b[36m191\u001b[0m - \u001b[1mEpoch 3 train 0.1793 test 3.3653 metric ['0.7135', '0.7135', '0.2974', '0.7135', '0.3749']\u001b[0m\n",
      "100%|\u001b[38;2;30;71;6m██████████\u001b[0m| 547/547 [00:09<00:00, 55.15it/s]\n",
      "\u001b[32m2025-01-18 23:58:19.975\u001b[0m | \u001b[1mINFO    \u001b[0m | \u001b[36mmltrainer.trainer\u001b[0m:\u001b[36mreport\u001b[0m:\u001b[36m191\u001b[0m - \u001b[1mEpoch 4 train 0.1862 test 3.8072 metric ['0.7649', '0.7649', '0.3346', '0.7649', '0.4114']\u001b[0m\n",
      "100%|\u001b[38;2;30;71;6m██████████\u001b[0m| 547/547 [00:10<00:00, 54.37it/s]\n",
      "\u001b[32m2025-01-18 23:58:31.067\u001b[0m | \u001b[1mINFO    \u001b[0m | \u001b[36mmltrainer.trainer\u001b[0m:\u001b[36mreport\u001b[0m:\u001b[36m191\u001b[0m - \u001b[1mEpoch 5 train 0.1435 test 3.4114 metric ['0.7691', '0.7691', '0.3148', '0.7691', '0.3753']\u001b[0m\n",
      "100%|\u001b[38;2;30;71;6m██████████\u001b[0m| 547/547 [00:09<00:00, 55.01it/s]\n",
      "\u001b[32m2025-01-18 23:58:42.053\u001b[0m | \u001b[1mINFO    \u001b[0m | \u001b[36mmltrainer.trainer\u001b[0m:\u001b[36mreport\u001b[0m:\u001b[36m191\u001b[0m - \u001b[1mEpoch 6 train 0.1403 test 3.5655 metric ['0.6128', '0.6128', '0.2700', '0.6128', '0.3633']\u001b[0m\n",
      "100%|\u001b[38;2;30;71;6m██████████\u001b[0m| 547/547 [00:09<00:00, 54.83it/s]\n",
      "\u001b[32m2025-01-18 23:58:53.130\u001b[0m | \u001b[1mINFO    \u001b[0m | \u001b[36mmltrainer.trainer\u001b[0m:\u001b[36mreport\u001b[0m:\u001b[36m191\u001b[0m - \u001b[1mEpoch 7 train 0.1418 test 4.5643 metric ['0.3915', '0.3915', '0.2030', '0.3915', '0.3516']\u001b[0m\n",
      "100%|\u001b[38;2;30;71;6m██████████\u001b[0m| 547/547 [00:10<00:00, 54.19it/s]\n",
      "\u001b[32m2025-01-18 23:59:04.330\u001b[0m | \u001b[1mINFO    \u001b[0m | \u001b[36mmltrainer.trainer\u001b[0m:\u001b[36mreport\u001b[0m:\u001b[36m191\u001b[0m - \u001b[1mEpoch 8 train 0.1224 test 4.1795 metric ['0.5301', '0.5301', '0.2492', '0.5301', '0.3776']\u001b[0m\n",
      "100%|\u001b[38;2;30;71;6m██████████\u001b[0m| 547/547 [00:10<00:00, 54.27it/s]\n",
      "\u001b[32m2025-01-18 23:59:15.550\u001b[0m | \u001b[1mINFO    \u001b[0m | \u001b[36mmltrainer.trainer\u001b[0m:\u001b[36mreport\u001b[0m:\u001b[36m191\u001b[0m - \u001b[1mEpoch 9 train 0.1218 test 3.9594 metric ['0.7165', '0.7165', '0.3025', '0.7165', '0.3778']\u001b[0m\n",
      "100%|\u001b[38;2;30;71;6m██████████\u001b[0m| 547/547 [00:10<00:00, 54.67it/s]\n",
      "\u001b[32m2025-01-18 23:59:26.642\u001b[0m | \u001b[1mINFO    \u001b[0m | \u001b[36mmltrainer.trainer\u001b[0m:\u001b[36mreport\u001b[0m:\u001b[36m191\u001b[0m - \u001b[1mEpoch 10 train 0.1158 test 4.0771 metric ['0.6340', '0.6340', '0.2710', '0.6340', '0.3429']\u001b[0m\n",
      "100%|\u001b[38;2;30;71;6m██████████\u001b[0m| 547/547 [00:09<00:00, 54.87it/s]\n",
      "\u001b[32m2025-01-18 23:59:37.761\u001b[0m | \u001b[1mINFO    \u001b[0m | \u001b[36mmltrainer.trainer\u001b[0m:\u001b[36mreport\u001b[0m:\u001b[36m191\u001b[0m - \u001b[1mEpoch 11 train 0.0994 test 3.7944 metric ['0.6413', '0.6413', '0.2864', '0.6413', '0.3786']\u001b[0m\n",
      "100%|\u001b[38;2;30;71;6m██████████\u001b[0m| 547/547 [00:09<00:00, 54.87it/s]\n",
      "\u001b[32m2025-01-18 23:59:48.812\u001b[0m | \u001b[1mINFO    \u001b[0m | \u001b[36mmltrainer.trainer\u001b[0m:\u001b[36mreport\u001b[0m:\u001b[36m191\u001b[0m - \u001b[1mEpoch 12 train 0.1050 test 3.7198 metric ['0.7597', '0.7597', '0.2853', '0.7597', '0.3246']\u001b[0m\n",
      "100%|\u001b[38;2;30;71;6m██████████\u001b[0m| 547/547 [00:09<00:00, 54.86it/s]\n",
      "\u001b[32m2025-01-18 23:59:59.929\u001b[0m | \u001b[1mINFO    \u001b[0m | \u001b[36mmltrainer.trainer\u001b[0m:\u001b[36mreport\u001b[0m:\u001b[36m191\u001b[0m - \u001b[1mEpoch 13 train 0.0954 test 4.0862 metric ['0.5466', '0.5466', '0.2563', '0.5466', '0.3763']\u001b[0m\n",
      "100%|\u001b[38;2;30;71;6m██████████\u001b[0m| 547/547 [00:10<00:00, 54.62it/s]\n",
      "\u001b[32m2025-01-19 00:00:11.101\u001b[0m | \u001b[1mINFO    \u001b[0m | \u001b[36mmltrainer.trainer\u001b[0m:\u001b[36mreport\u001b[0m:\u001b[36m191\u001b[0m - \u001b[1mEpoch 14 train 0.0977 test 4.0697 metric ['0.6105', '0.6105', '0.2787', '0.6105', '0.3889']\u001b[0m\n",
      "100%|\u001b[38;2;30;71;6m██████████\u001b[0m| 547/547 [00:10<00:00, 52.28it/s]\n",
      "\u001b[32m2025-01-19 00:00:22.721\u001b[0m | \u001b[1mINFO    \u001b[0m | \u001b[36mmltrainer.trainer\u001b[0m:\u001b[36mreport\u001b[0m:\u001b[36m191\u001b[0m - \u001b[1mEpoch 15 train 0.0815 test 4.2089 metric ['0.6392', '0.6392', '0.2836', '0.6392', '0.3964']\u001b[0m\n",
      "100%|\u001b[38;2;30;71;6m██████████\u001b[0m| 547/547 [00:10<00:00, 51.91it/s]\n",
      "\u001b[32m2025-01-19 00:00:34.429\u001b[0m | \u001b[1mINFO    \u001b[0m | \u001b[36mmltrainer.trainer\u001b[0m:\u001b[36mreport\u001b[0m:\u001b[36m191\u001b[0m - \u001b[1mEpoch 16 train 0.0979 test 4.0310 metric ['0.6181', '0.6181', '0.2782', '0.6181', '0.4038']\u001b[0m\n",
      "100%|\u001b[38;2;30;71;6m██████████\u001b[0m| 547/547 [00:10<00:00, 54.53it/s]\n",
      "\u001b[32m2025-01-19 00:00:45.581\u001b[0m | \u001b[1mINFO    \u001b[0m | \u001b[36mmltrainer.trainer\u001b[0m:\u001b[36mreport\u001b[0m:\u001b[36m191\u001b[0m - \u001b[1mEpoch 17 train 0.0838 test 3.9434 metric ['0.6569', '0.6569', '0.2981', '0.6569', '0.4127']\u001b[0m\n",
      "100%|\u001b[38;2;30;71;6m██████████\u001b[0m| 547/547 [00:09<00:00, 55.25it/s]\n",
      "\u001b[32m2025-01-19 00:00:56.610\u001b[0m | \u001b[1mINFO    \u001b[0m | \u001b[36mmltrainer.trainer\u001b[0m:\u001b[36mreport\u001b[0m:\u001b[36m191\u001b[0m - \u001b[1mEpoch 18 train 0.0878 test 3.8991 metric ['0.6700', '0.6700', '0.2904', '0.6700', '0.3912']\u001b[0m\n",
      "100%|\u001b[38;2;30;71;6m██████████\u001b[0m| 547/547 [00:09<00:00, 55.10it/s]\n",
      "\u001b[32m2025-01-19 00:01:07.688\u001b[0m | \u001b[1mINFO    \u001b[0m | \u001b[36mmltrainer.trainer\u001b[0m:\u001b[36mreport\u001b[0m:\u001b[36m191\u001b[0m - \u001b[1mEpoch 19 train 0.0791 test 3.7960 metric ['0.6811', '0.6811', '0.3034', '0.6811', '0.4077']\u001b[0m\n",
      "100%|\u001b[38;2;30;71;6m██████████\u001b[0m| 547/547 [00:09<00:00, 54.74it/s]\n",
      "\u001b[32m2025-01-19 00:01:18.809\u001b[0m | \u001b[1mINFO    \u001b[0m | \u001b[36mmltrainer.trainer\u001b[0m:\u001b[36mreport\u001b[0m:\u001b[36m191\u001b[0m - \u001b[1mEpoch 20 train 0.0833 test 3.8755 metric ['0.6687', '0.6687', '0.3087', '0.6687', '0.4124']\u001b[0m\n",
      "100%|\u001b[38;2;30;71;6m██████████\u001b[0m| 547/547 [00:09<00:00, 54.83it/s]\n",
      "\u001b[32m2025-01-19 00:01:29.851\u001b[0m | \u001b[1mINFO    \u001b[0m | \u001b[36mmltrainer.trainer\u001b[0m:\u001b[36mreport\u001b[0m:\u001b[36m191\u001b[0m - \u001b[1mEpoch 21 train 0.0786 test 3.8706 metric ['0.6859', '0.6859', '0.3055', '0.6859', '0.4153']\u001b[0m\n",
      "100%|\u001b[38;2;30;71;6m██████████\u001b[0m| 547/547 [00:10<00:00, 54.12it/s]\n",
      "\u001b[32m2025-01-19 00:01:41.131\u001b[0m | \u001b[1mINFO    \u001b[0m | \u001b[36mmltrainer.trainer\u001b[0m:\u001b[36mreport\u001b[0m:\u001b[36m191\u001b[0m - \u001b[1mEpoch 22 train 0.0797 test 3.7719 metric ['0.6932', '0.6932', '0.3088', '0.6932', '0.4044']\u001b[0m\n",
      "100%|\u001b[38;2;30;71;6m██████████\u001b[0m| 547/547 [00:09<00:00, 54.90it/s]\n",
      "\u001b[32m2025-01-19 00:01:52.237\u001b[0m | \u001b[1mINFO    \u001b[0m | \u001b[36mmltrainer.trainer\u001b[0m:\u001b[36mreport\u001b[0m:\u001b[36m191\u001b[0m - \u001b[1mEpoch 23 train 0.0946 test 4.0833 metric ['0.6707', '0.6707', '0.2894', '0.6707', '0.3817']\u001b[0m\n",
      "100%|\u001b[38;2;30;71;6m██████████\u001b[0m| 547/547 [00:09<00:00, 55.37it/s]\n",
      "\u001b[32m2025-01-19 00:02:03.283\u001b[0m | \u001b[1mINFO    \u001b[0m | \u001b[36mmltrainer.trainer\u001b[0m:\u001b[36mreport\u001b[0m:\u001b[36m191\u001b[0m - \u001b[1mEpoch 24 train 0.0905 test 4.1014 metric ['0.6402', '0.6402', '0.2882', '0.6402', '0.4022']\u001b[0m\n",
      "100%|\u001b[38;2;30;71;6m██████████\u001b[0m| 547/547 [00:09<00:00, 55.10it/s]\n",
      "\u001b[32m2025-01-19 00:02:14.348\u001b[0m | \u001b[1mINFO    \u001b[0m | \u001b[36mmltrainer.trainer\u001b[0m:\u001b[36mreport\u001b[0m:\u001b[36m191\u001b[0m - \u001b[1mEpoch 25 train 0.0817 test 3.9151 metric ['0.6834', '0.6834', '0.3054', '0.6834', '0.4109']\u001b[0m\n",
      "100%|\u001b[38;2;30;71;6m██████████\u001b[0m| 547/547 [00:10<00:00, 54.69it/s]\n",
      "\u001b[32m2025-01-19 00:02:25.435\u001b[0m | \u001b[1mINFO    \u001b[0m | \u001b[36mmltrainer.trainer\u001b[0m:\u001b[36mreport\u001b[0m:\u001b[36m191\u001b[0m - \u001b[1mEpoch 26 train 0.0770 test 4.0116 metric ['0.6857', '0.6857', '0.3158', '0.6857', '0.4182']\u001b[0m\n",
      "100%|\u001b[38;2;30;71;6m██████████\u001b[0m| 547/547 [00:09<00:00, 55.26it/s]\n",
      "\u001b[32m2025-01-19 00:02:36.484\u001b[0m | \u001b[1mINFO    \u001b[0m | \u001b[36mmltrainer.trainer\u001b[0m:\u001b[36mreport\u001b[0m:\u001b[36m191\u001b[0m - \u001b[1mEpoch 27 train 0.0827 test 3.9726 metric ['0.6719', '0.6719', '0.2861', '0.6719', '0.3794']\u001b[0m\n",
      "100%|\u001b[38;2;30;71;6m██████████\u001b[0m| 547/547 [00:09<00:00, 54.90it/s]\n",
      "\u001b[32m2025-01-19 00:02:47.574\u001b[0m | \u001b[1mINFO    \u001b[0m | \u001b[36mmltrainer.trainer\u001b[0m:\u001b[36mreport\u001b[0m:\u001b[36m191\u001b[0m - \u001b[1mEpoch 28 train 0.0737 test 3.9994 metric ['0.6799', '0.6799', '0.3004', '0.6799', '0.3993']\u001b[0m\n",
      "100%|\u001b[38;2;30;71;6m██████████\u001b[0m| 547/547 [00:10<00:00, 54.43it/s]\n",
      "\u001b[32m2025-01-19 00:02:58.703\u001b[0m | \u001b[1mINFO    \u001b[0m | \u001b[36mmltrainer.trainer\u001b[0m:\u001b[36mreport\u001b[0m:\u001b[36m191\u001b[0m - \u001b[1mEpoch 29 train 0.0843 test 3.8838 metric ['0.6811', '0.6811', '0.2964', '0.6811', '0.3936']\u001b[0m\n",
      "100%|\u001b[38;2;30;71;6m██████████\u001b[0m| 30/30 [05:33<00:00, 11.13s/it]\n"
     ]
    }
   ],
   "source": [
    "from mltrainer import Trainer, TrainerSettings, ReportTypes\n",
    "#loss_fn = torch.nn.CrossEntropyLoss()\n",
    "loss_fn = torch.nn.CrossEntropyLoss(weight=class_weights_tensor)\n",
    "model = model.to(device)\n",
    "\n",
    "with mlflow.start_run():\n",
    "    optimizer = torch.optim.Adam\n",
    "\n",
    "    settings = TrainerSettings(\n",
    "        device=device,\n",
    "        epochs=30,\n",
    "        metrics=[accuracy, f1micro, f1macro, precision, recall],\n",
    "        logdir=\"logs/heart1D\",\n",
    "        train_steps=len(trainstreamer) //5,\n",
    "        valid_steps=len(teststreamer) //5,\n",
    "        reporttypes=[ReportTypes.TENSORBOARD, ReportTypes.MLFLOW],\n",
    "        scheduler_kwargs={\"factor\": 0.5, \"patience\": 2},\n",
    "        #scheduler_kwargs=None,\n",
    "        earlystop_kwargs=None\n",
    "    )\n",
    "\n",
    "    mlflow.set_tag(\"model\", \"Transfomer\")\n",
    "    mlflow.set_tag(\"dataset\", \"heart_small_binary\")\n",
    "    mlflow.log_params(config)\n",
    "    mlflow.log_param(\"epochs\", settings.epochs)\n",
    "    mlflow.log_param(\"optimizer\", str(optimizer))\n",
    "    mlflow.log_param(\"scheduler\", \"ReduceLROnPlateau\")\n",
    "    mlflow.log_param(\"earlystop\", \"None\")\n",
    "    mlflow.log_params(settings.optimizer_kwargs)\n",
    "\n",
    "    trainer = Trainer(\n",
    "        model=model,\n",
    "        settings=settings,\n",
    "        loss_fn=loss_fn,\n",
    "        optimizer=optimizer,\n",
    "        #traindataloader=trainstreamer.stream(),\n",
    "        #validdataloader=teststreamer.stream(),\n",
    "        traindataloader=((x.to(device), y.to(device)) for x, y in trainstreamer.stream()),\n",
    "        validdataloader=((x.to(device), y.to(device)) for x, y in teststreamer.stream()),\n",
    "        scheduler=torch.optim.lr_scheduler.ReduceLROnPlateau,\n",
    "        \n",
    "        )\n",
    "    trainer.loop()"
   ]
  },
  {
   "cell_type": "code",
   "execution_count": 57,
   "metadata": {},
   "outputs": [
    {
     "data": {
      "text/plain": [
       "[Text(0.5, 23.52222222222222, 'Predicted'),\n",
       " Text(50.722222222222214, 0.5, 'Target')]"
      ]
     },
     "execution_count": 57,
     "metadata": {},
     "output_type": "execute_result"
    },
    {
     "data": {
      "image/png": "[encoded data removed]",
      "text/plain": [
       "<Figure size 640x480 with 2 Axes>"
      ]
     },
     "metadata": {},
     "output_type": "display_data"
    }
   ],
   "source": [
    "import numpy as np\n",
    "\n",
    "y_true = []\n",
    "y_pred = []\n",
    "\n",
    "testdata = teststreamer.stream()\n",
    "for _ in range(len(teststreamer)):\n",
    "    X, y = next(testdata)\n",
    "    X, y = X.to(device), y.to(device)\n",
    "    yhat = model(X)\n",
    "    yhat = yhat.argmax(dim=1) # we get the one with the highest probability\n",
    "    y_pred.append(yhat.cpu().tolist())\n",
    "    y_true.append(y.cpu().tolist())\n",
    "\n",
    "yhat = [x for y in y_pred for x in y]\n",
    "y = [x for y in y_true for x in y]\n",
    "\n",
    "cfm = confusion_matrix(y, yhat)\n",
    "cfm = cfm / np.sum(cfm, axis=1, keepdims=True)\n",
    "\n",
    "plot = sns.heatmap(cfm, annot=cfm, fmt=\".3f\")\n",
    "plot.set(xlabel=\"Predicted\", ylabel=\"Target\")"
   ]
  },
  {
   "cell_type": "code",
   "execution_count": null,
   "metadata": {},
   "outputs": [],
   "source": [
    "# F1 score computation during training\n",
    "def compute_f1_score(predictions, labels):\n",
    "    # Assuming predictions are logits and labels are integers\n",
    "    pred_labels = torch.argmax(predictions, dim=1)\n",
    "    return f1_score(labels.cpu(), pred_labels.cpu(), average='macro')"
   ]
  },
  {
   "cell_type": "code",
   "execution_count": 59,
   "metadata": {},
   "outputs": [
    {
     "name": "stderr",
     "output_type": "stream",
     "text": [
      "\u001b[32m2025-01-19 15:38:15.313\u001b[0m | \u001b[1mINFO    \u001b[0m | \u001b[36mmltrainer.trainer\u001b[0m:\u001b[36mdir_add_timestamp\u001b[0m:\u001b[36m29\u001b[0m - \u001b[1mLogging to logs/heart1D/20250119-153815\u001b[0m\n",
      "100%|\u001b[38;2;30;71;6m██████████\u001b[0m| 905/905 [00:40<00:00, 22.54it/s]\n",
      "\u001b[32m2025-01-19 15:38:57.595\u001b[0m | \u001b[1mINFO    \u001b[0m | \u001b[36mmltrainer.trainer\u001b[0m:\u001b[36mreport\u001b[0m:\u001b[36m191\u001b[0m - \u001b[1mEpoch 0 train 0.6184 test 0.3078 metric ['0.9113', '0.9113', '0.6949', '0.9113', '0.7703']\u001b[0m\n",
      "100%|\u001b[38;2;30;71;6m██████████\u001b[0m| 905/905 [00:41<00:00, 22.05it/s]\n",
      "\u001b[32m2025-01-19 15:39:40.785\u001b[0m | \u001b[1mINFO    \u001b[0m | \u001b[36mmltrainer.trainer\u001b[0m:\u001b[36mreport\u001b[0m:\u001b[36m191\u001b[0m - \u001b[1mEpoch 1 train 0.4570 test 0.3875 metric ['0.8805', '0.8805', '0.6473', '0.8805', '0.7682']\u001b[0m\n",
      "100%|\u001b[38;2;30;71;6m██████████\u001b[0m| 905/905 [00:41<00:00, 21.97it/s]\n",
      "\u001b[32m2025-01-19 15:40:24.163\u001b[0m | \u001b[1mINFO    \u001b[0m | \u001b[36mmltrainer.trainer\u001b[0m:\u001b[36mreport\u001b[0m:\u001b[36m191\u001b[0m - \u001b[1mEpoch 2 train 0.4244 test 0.2981 metric ['0.9060', '0.9060', '0.6960', '0.9060', '0.8153']\u001b[0m\n",
      "100%|\u001b[38;2;30;71;6m██████████\u001b[0m| 905/905 [00:41<00:00, 21.79it/s]\n",
      "\u001b[32m2025-01-19 15:41:07.839\u001b[0m | \u001b[1mINFO    \u001b[0m | \u001b[36mmltrainer.trainer\u001b[0m:\u001b[36mreport\u001b[0m:\u001b[36m191\u001b[0m - \u001b[1mEpoch 3 train 0.3901 test 0.2658 metric ['0.9207', '0.9207', '0.7322', '0.9207', '0.8374']\u001b[0m\n",
      "100%|\u001b[38;2;30;71;6m██████████\u001b[0m| 905/905 [00:41<00:00, 21.71it/s]\n",
      "\u001b[32m2025-01-19 15:41:51.688\u001b[0m | \u001b[1mINFO    \u001b[0m | \u001b[36mmltrainer.trainer\u001b[0m:\u001b[36mreport\u001b[0m:\u001b[36m191\u001b[0m - \u001b[1mEpoch 4 train 0.3828 test 0.2214 metric ['0.9400', '0.9400', '0.7493', '0.9400', '0.8042']\u001b[0m\n",
      "100%|\u001b[38;2;30;71;6m██████████\u001b[0m| 905/905 [00:41<00:00, 21.69it/s]\n",
      "\u001b[32m2025-01-19 15:42:35.577\u001b[0m | \u001b[1mINFO    \u001b[0m | \u001b[36mmltrainer.trainer\u001b[0m:\u001b[36mreport\u001b[0m:\u001b[36m191\u001b[0m - \u001b[1mEpoch 5 train 0.3490 test 0.3516 metric ['0.8860', '0.8860', '0.6762', '0.8860', '0.8581']\u001b[0m\n",
      "100%|\u001b[38;2;30;71;6m██████████\u001b[0m| 905/905 [00:41<00:00, 21.71it/s]\n",
      "\u001b[32m2025-01-19 15:43:19.451\u001b[0m | \u001b[1mINFO    \u001b[0m | \u001b[36mmltrainer.trainer\u001b[0m:\u001b[36mreport\u001b[0m:\u001b[36m191\u001b[0m - \u001b[1mEpoch 6 train 0.3274 test 0.2676 metric ['0.9221', '0.9221', '0.7379', '0.9221', '0.8666']\u001b[0m\n",
      "100%|\u001b[38;2;30;71;6m██████████\u001b[0m| 905/905 [00:41<00:00, 21.69it/s]\n",
      "\u001b[32m2025-01-19 15:44:03.329\u001b[0m | \u001b[1mINFO    \u001b[0m | \u001b[36mmltrainer.trainer\u001b[0m:\u001b[36mreport\u001b[0m:\u001b[36m191\u001b[0m - \u001b[1mEpoch 7 train 0.3138 test 0.2023 metric ['0.9476', '0.9476', '0.7800', '0.9476', '0.8225']\u001b[0m\n",
      "100%|\u001b[38;2;30;71;6m██████████\u001b[0m| 905/905 [00:41<00:00, 21.65it/s]\n",
      "\u001b[32m2025-01-19 15:44:47.270\u001b[0m | \u001b[1mINFO    \u001b[0m | \u001b[36mmltrainer.trainer\u001b[0m:\u001b[36mreport\u001b[0m:\u001b[36m191\u001b[0m - \u001b[1mEpoch 8 train 0.3268 test 0.2231 metric ['0.9352', '0.9352', '0.7523', '0.9352', '0.8641']\u001b[0m\n",
      "100%|\u001b[38;2;30;71;6m██████████\u001b[0m| 905/905 [00:41<00:00, 21.72it/s]\n",
      "\u001b[32m2025-01-19 15:45:31.098\u001b[0m | \u001b[1mINFO    \u001b[0m | \u001b[36mmltrainer.trainer\u001b[0m:\u001b[36mreport\u001b[0m:\u001b[36m191\u001b[0m - \u001b[1mEpoch 9 train 0.3027 test 0.1900 metric ['0.9481', '0.9481', '0.7965', '0.9481', '0.8555']\u001b[0m\n",
      "100%|\u001b[38;2;30;71;6m██████████\u001b[0m| 905/905 [00:41<00:00, 21.69it/s]\n",
      "\u001b[32m2025-01-19 15:46:14.981\u001b[0m | \u001b[1mINFO    \u001b[0m | \u001b[36mmltrainer.trainer\u001b[0m:\u001b[36mreport\u001b[0m:\u001b[36m191\u001b[0m - \u001b[1mEpoch 10 train 0.3095 test 0.2212 metric ['0.9352', '0.9352', '0.7210', '0.9352', '0.8485']\u001b[0m\n",
      "100%|\u001b[38;2;30;71;6m██████████\u001b[0m| 905/905 [00:41<00:00, 21.75it/s]\n",
      "\u001b[32m2025-01-19 15:46:58.813\u001b[0m | \u001b[1mINFO    \u001b[0m | \u001b[36mmltrainer.trainer\u001b[0m:\u001b[36mreport\u001b[0m:\u001b[36m191\u001b[0m - \u001b[1mEpoch 11 train 0.3048 test 0.2253 metric ['0.9341', '0.9341', '0.7620', '0.9341', '0.8586']\u001b[0m\n",
      "100%|\u001b[38;2;30;71;6m██████████\u001b[0m| 905/905 [00:41<00:00, 21.75it/s]\n",
      "\u001b[32m2025-01-19 15:47:42.592\u001b[0m | \u001b[1mINFO    \u001b[0m | \u001b[36mmltrainer.trainer\u001b[0m:\u001b[36mreport\u001b[0m:\u001b[36m191\u001b[0m - \u001b[1mEpoch 12 train 0.3025 test 0.2238 metric ['0.9396', '0.9396', '0.7501', '0.9396', '0.8087']\u001b[0m\n",
      "100%|\u001b[38;2;30;71;6m██████████\u001b[0m| 905/905 [00:41<00:00, 21.67it/s]\n",
      "\u001b[32m2025-01-19 15:48:26.525\u001b[0m | \u001b[1mINFO    \u001b[0m | \u001b[36mmltrainer.trainer\u001b[0m:\u001b[36mreport\u001b[0m:\u001b[36m191\u001b[0m - \u001b[1mEpoch 13 train 0.2829 test 0.2128 metric ['0.9338', '0.9338', '0.7857', '0.9338', '0.8751']\u001b[0m\n",
      "100%|\u001b[38;2;30;71;6m██████████\u001b[0m| 905/905 [00:41<00:00, 21.68it/s]\n",
      "\u001b[32m2025-01-19 15:49:10.397\u001b[0m | \u001b[1mINFO    \u001b[0m | \u001b[36mmltrainer.trainer\u001b[0m:\u001b[36mreport\u001b[0m:\u001b[36m191\u001b[0m - \u001b[1mEpoch 14 train 0.2774 test 0.2370 metric ['0.9265', '0.9265', '0.7499', '0.9265', '0.8564']\u001b[0m\n",
      "100%|\u001b[38;2;30;71;6m██████████\u001b[0m| 905/905 [00:41<00:00, 21.67it/s]\n",
      "\u001b[32m2025-01-19 15:49:54.283\u001b[0m | \u001b[1mINFO    \u001b[0m | \u001b[36mmltrainer.trainer\u001b[0m:\u001b[36mreport\u001b[0m:\u001b[36m191\u001b[0m - \u001b[1mEpoch 15 train 0.2520 test 0.2048 metric ['0.9442', '0.9442', '0.7835', '0.9442', '0.8318']\u001b[0m\n",
      "100%|\u001b[38;2;30;71;6m██████████\u001b[0m| 905/905 [00:42<00:00, 21.42it/s]\n",
      "\u001b[32m2025-01-19 15:50:38.760\u001b[0m | \u001b[1mINFO    \u001b[0m | \u001b[36mmltrainer.trainer\u001b[0m:\u001b[36mreport\u001b[0m:\u001b[36m191\u001b[0m - \u001b[1mEpoch 16 train 0.2545 test 0.2035 metric ['0.9435', '0.9435', '0.8006', '0.9435', '0.9045']\u001b[0m\n",
      "100%|\u001b[38;2;30;71;6m██████████\u001b[0m| 905/905 [00:42<00:00, 21.23it/s]\n",
      "\u001b[32m2025-01-19 15:51:23.661\u001b[0m | \u001b[1mINFO    \u001b[0m | \u001b[36mmltrainer.trainer\u001b[0m:\u001b[36mreport\u001b[0m:\u001b[36m191\u001b[0m - \u001b[1mEpoch 17 train 0.2681 test 0.1820 metric ['0.9485', '0.9485', '0.8161', '0.9485', '0.8732']\u001b[0m\n",
      "100%|\u001b[38;2;30;71;6m██████████\u001b[0m| 905/905 [00:42<00:00, 21.19it/s]\n",
      "\u001b[32m2025-01-19 15:52:08.564\u001b[0m | \u001b[1mINFO    \u001b[0m | \u001b[36mmltrainer.trainer\u001b[0m:\u001b[36mreport\u001b[0m:\u001b[36m191\u001b[0m - \u001b[1mEpoch 18 train 0.2543 test 0.2564 metric ['0.9189', '0.9189', '0.7382', '0.9189', '0.8765']\u001b[0m\n",
      "100%|\u001b[38;2;30;71;6m██████████\u001b[0m| 905/905 [00:42<00:00, 21.24it/s]\n",
      "\u001b[32m2025-01-19 15:52:53.404\u001b[0m | \u001b[1mINFO    \u001b[0m | \u001b[36mmltrainer.trainer\u001b[0m:\u001b[36mreport\u001b[0m:\u001b[36m191\u001b[0m - \u001b[1mEpoch 19 train 0.2407 test 0.2017 metric ['0.9400', '0.9400', '0.7959', '0.9400', '0.8764']\u001b[0m\n",
      "100%|\u001b[38;2;30;71;6m██████████\u001b[0m| 905/905 [00:42<00:00, 21.07it/s]\n",
      "\u001b[32m2025-01-19 15:53:38.546\u001b[0m | \u001b[1mINFO    \u001b[0m | \u001b[36mmltrainer.trainer\u001b[0m:\u001b[36mreport\u001b[0m:\u001b[36m191\u001b[0m - \u001b[1mEpoch 20 train 0.2370 test 0.2101 metric ['0.9382', '0.9382', '0.7792', '0.9382', '0.8785']\u001b[0m\n",
      "100%|\u001b[38;2;30;71;6m██████████\u001b[0m| 905/905 [00:42<00:00, 21.31it/s]\n",
      "\u001b[32m2025-01-19 15:54:23.263\u001b[0m | \u001b[1mINFO    \u001b[0m | \u001b[36mmltrainer.trainer\u001b[0m:\u001b[36mreport\u001b[0m:\u001b[36m191\u001b[0m - \u001b[1mEpoch 21 train 0.2336 test 0.2006 metric ['0.9370', '0.9370', '0.7581', '0.9370', '0.8644']\u001b[0m\n",
      "100%|\u001b[38;2;30;71;6m██████████\u001b[0m| 905/905 [00:42<00:00, 21.39it/s]\n",
      "\u001b[32m2025-01-19 15:55:07.775\u001b[0m | \u001b[1mINFO    \u001b[0m | \u001b[36mmltrainer.trainer\u001b[0m:\u001b[36mreport\u001b[0m:\u001b[36m191\u001b[0m - \u001b[1mEpoch 22 train 0.2382 test 0.2591 metric ['0.9159', '0.9159', '0.7340', '0.9159', '0.8739']\u001b[0m\n",
      "100%|\u001b[38;2;30;71;6m██████████\u001b[0m| 905/905 [00:43<00:00, 20.97it/s]\n",
      "\u001b[32m2025-01-19 15:55:53.557\u001b[0m | \u001b[1mINFO    \u001b[0m | \u001b[36mmltrainer.trainer\u001b[0m:\u001b[36mreport\u001b[0m:\u001b[36m191\u001b[0m - \u001b[1mEpoch 23 train 0.2155 test 0.1818 metric ['0.9488', '0.9488', '0.8067', '0.9488', '0.9010']\u001b[0m\n",
      "100%|\u001b[38;2;30;71;6m██████████\u001b[0m| 905/905 [10:57<00:00,  1.38it/s]\n",
      "\u001b[32m2025-01-19 16:06:53.776\u001b[0m | \u001b[1mINFO    \u001b[0m | \u001b[36mmltrainer.trainer\u001b[0m:\u001b[36mreport\u001b[0m:\u001b[36m191\u001b[0m - \u001b[1mEpoch 24 train 0.2102 test 0.1689 metric ['0.9515', '0.9515', '0.8216', '0.9515', '0.8906']\u001b[0m\n",
      "100%|\u001b[38;2;30;71;6m██████████\u001b[0m| 905/905 [05:56<00:00,  2.54it/s]\n",
      "\u001b[32m2025-01-19 16:12:52.686\u001b[0m | \u001b[1mINFO    \u001b[0m | \u001b[36mmltrainer.trainer\u001b[0m:\u001b[36mreport\u001b[0m:\u001b[36m191\u001b[0m - \u001b[1mEpoch 25 train 0.2061 test 0.1801 metric ['0.9511', '0.9511', '0.8132', '0.9511', '0.9071']\u001b[0m\n",
      "100%|\u001b[38;2;30;71;6m██████████\u001b[0m| 905/905 [00:50<00:00, 17.91it/s]\n",
      "\u001b[32m2025-01-19 16:13:45.893\u001b[0m | \u001b[1mINFO    \u001b[0m | \u001b[36mmltrainer.trainer\u001b[0m:\u001b[36mreport\u001b[0m:\u001b[36m191\u001b[0m - \u001b[1mEpoch 26 train 0.1983 test 0.1493 metric ['0.9534', '0.9534', '0.8383', '0.9534', '0.8926']\u001b[0m\n",
      "100%|\u001b[38;2;30;71;6m██████████\u001b[0m| 905/905 [00:55<00:00, 16.20it/s]\n",
      "\u001b[32m2025-01-19 16:14:44.827\u001b[0m | \u001b[1mINFO    \u001b[0m | \u001b[36mmltrainer.trainer\u001b[0m:\u001b[36mreport\u001b[0m:\u001b[36m191\u001b[0m - \u001b[1mEpoch 27 train 0.1967 test 0.1522 metric ['0.9536', '0.9536', '0.8109', '0.9536', '0.8972']\u001b[0m\n",
      "100%|\u001b[38;2;30;71;6m██████████\u001b[0m| 905/905 [06:00<00:00,  2.51it/s]\n",
      "\u001b[32m2025-01-19 16:20:48.409\u001b[0m | \u001b[1mINFO    \u001b[0m | \u001b[36mmltrainer.trainer\u001b[0m:\u001b[36mreport\u001b[0m:\u001b[36m191\u001b[0m - \u001b[1mEpoch 28 train 0.1926 test 0.1770 metric ['0.9442', '0.9442', '0.7794', '0.9442', '0.9048']\u001b[0m\n",
      "100%|\u001b[38;2;30;71;6m██████████\u001b[0m| 905/905 [00:52<00:00, 17.29it/s]\n",
      "\u001b[32m2025-01-19 16:21:43.758\u001b[0m | \u001b[1mINFO    \u001b[0m | \u001b[36mmltrainer.trainer\u001b[0m:\u001b[36mreport\u001b[0m:\u001b[36m191\u001b[0m - \u001b[1mEpoch 29 train 0.1975 test 0.1726 metric ['0.9547', '0.9547', '0.8328', '0.9547', '0.9014']\u001b[0m\n",
      "100%|\u001b[38;2;30;71;6m██████████\u001b[0m| 30/30 [43:28<00:00, 86.95s/it] \n"
     ]
    }
   ],
   "source": [
    "# trainer without class weights + ReduceLROnPlateau scheduler\n",
    "from mltrainer import Trainer, TrainerSettings, ReportTypes\n",
    "loss_fn = torch.nn.CrossEntropyLoss()\n",
    "\n",
    "with mlflow.start_run():\n",
    "    optimizer = torch.optim.Adam\n",
    "\n",
    "    settings = TrainerSettings(\n",
    "        epochs=30,\n",
    "        metrics=[accuracy, f1micro, f1macro, precision, recall],\n",
    "        logdir=\"logs/heart1D\",\n",
    "        train_steps=len(trainstreamer) //5,\n",
    "        valid_steps=len(teststreamer) //5,\n",
    "        reporttypes=[ReportTypes.TENSORBOARD, ReportTypes.MLFLOW],\n",
    "        scheduler_kwargs={\"factor\": 0.7, \"patience\": 4},\n",
    "        earlystop_kwargs=None\n",
    "    )\n",
    "\n",
    "    mlflow.set_tag(\"model\", \"Transfomer\")\n",
    "    mlflow.set_tag(\"dataset\", \"heart_small_binary\")\n",
    "    mlflow.log_params(config)\n",
    "    mlflow.log_param(\"epochs\", settings.epochs)\n",
    "    mlflow.log_param(\"optimizer\", str(optimizer))\n",
    "    mlflow.log_param(\"scheduler\", \"None\")\n",
    "    mlflow.log_param(\"earlystop\", \"None\")\n",
    "    mlflow.log_params(settings.optimizer_kwargs)\n",
    "\n",
    "    trainer = Trainer(\n",
    "        model=model,\n",
    "        settings=settings,\n",
    "        loss_fn=loss_fn,\n",
    "        optimizer=optimizer,\n",
    "        traindataloader=trainstreamer.stream(),\n",
    "        validdataloader=teststreamer.stream(),\n",
    "        scheduler=torch.optim.lr_scheduler.ReduceLROnPlateau,\n",
    "        )\n",
    "    trainer.loop()"
   ]
  },
  {
   "cell_type": "code",
   "execution_count": 60,
   "metadata": {},
   "outputs": [
    {
     "name": "stdout",
     "output_type": "stream",
     "text": [
      "{'hidden': 256, 'dropout': 0.1, 'output': 5, 'num_heads': 4, 'num_blocks': 2}\n",
      "test_results=[0.961 0.691 0.917 0.545 0.978]\n"
     ]
    },
    {
     "data": {
      "text/plain": [
       "[Text(0.5, 23.52222222222222, 'Predicted'),\n",
       " Text(50.722222222222214, 0.5, 'Target')]"
      ]
     },
     "execution_count": 60,
     "metadata": {},
     "output_type": "execute_result"
    },
    {
     "data": {
      "image/png": "[encoded data removed]",
      "text/plain": [
       "<Figure size 640x480 with 2 Axes>"
      ]
     },
     "metadata": {},
     "output_type": "display_data"
    }
   ],
   "source": [
    "import seaborn as sns\n",
    "import numpy as np\n",
    "\n",
    "\n",
    "y_true = []\n",
    "y_pred = []\n",
    "#model = model.to(\"cpu\")\n",
    "\n",
    "#testdata = [(x.to(device), y.to(device)) for x, y in teststreamer.stream()]\n",
    "testdata = teststreamer.stream()\n",
    "for _ in range(len(teststreamer)):\n",
    "    X, y = next(testdata)\n",
    "    \n",
    "    yhat = model(X)\n",
    "    yhat = yhat.argmax(dim=1) # we get the one with the highest probability\n",
    "    y_pred.append(yhat.cpu().tolist())\n",
    "    y_true.append(y.cpu().tolist())\n",
    "\n",
    "yhat = [x for y in y_pred for x in y]\n",
    "y = [x for y in y_true for x in y]\n",
    "\n",
    "cfm = confusion_matrix(y, yhat)\n",
    "cfm = cfm / np.sum(cfm, axis=1, keepdims=True)\n",
    "print(config)\n",
    "print(f'test_results={np.round(cfm[cfm > 0.3], 3)}')\n",
    "plot = sns.heatmap(cfm, annot=cfm, fmt=\".3f\")\n",
    "plot.set(xlabel=\"Predicted\", ylabel=\"Target\")"
   ]
  },
  {
   "cell_type": "code",
   "execution_count": null,
   "metadata": {},
   "outputs": [],
   "source": [
    "# Check if MPS is available\n",
    "if torch.backends.mps.is_available():\n",
    "    device = torch.device('mps')\n",
    "    print('MPS is available')\n",
    "else:\n",
    "    device = torch.device('cpu')\n",
    "\n",
    "print(f\"Model is on device: {next(model.parameters()).device}\")"
   ]
  },
  {
   "cell_type": "code",
   "execution_count": 56,
   "metadata": {},
   "outputs": [
    {
     "name": "stderr",
     "output_type": "stream",
     "text": [
      "\u001b[32m2025-01-19 15:34:30.060\u001b[0m | \u001b[1mINFO    \u001b[0m | \u001b[36mmltrainer.trainer\u001b[0m:\u001b[36mdir_add_timestamp\u001b[0m:\u001b[36m29\u001b[0m - \u001b[1mLogging to logs/heart1D/20250119-153430\u001b[0m\n"
     ]
    },
    {
     "name": "stdout",
     "output_type": "stream",
     "text": [
      "{'hidden': 256, 'dropout': 0.1, 'output': 5, 'num_heads': 4, 'num_blocks': 2}\n"
     ]
    },
    {
     "name": "stderr",
     "output_type": "stream",
     "text": [
      "100%|\u001b[38;2;30;71;6m██████████\u001b[0m| 905/905 [00:18<00:00, 48.84it/s]\n",
      "\u001b[32m2025-01-19 15:34:50.147\u001b[0m | \u001b[1mINFO    \u001b[0m | \u001b[36mmltrainer.trainer\u001b[0m:\u001b[36mreport\u001b[0m:\u001b[36m191\u001b[0m - \u001b[1mEpoch 0 train 0.3211 test 3.0622 metric ['0.6383', '0.6383', '0.2903', '0.6383', '0.4575']\u001b[0m\n",
      "100%|\u001b[38;2;30;71;6m██████████\u001b[0m| 905/905 [00:17<00:00, 50.65it/s]\n",
      "\u001b[32m2025-01-19 15:35:09.614\u001b[0m | \u001b[1mINFO    \u001b[0m | \u001b[36mmltrainer.trainer\u001b[0m:\u001b[36mreport\u001b[0m:\u001b[36m191\u001b[0m - \u001b[1mEpoch 1 train 0.2194 test 4.3984 metric ['0.7518', '0.7518', '0.2743', '0.7518', '0.3036']\u001b[0m\n",
      "100%|\u001b[38;2;30;71;6m██████████\u001b[0m| 905/905 [00:18<00:00, 49.41it/s]\n",
      "\u001b[32m2025-01-19 15:35:29.509\u001b[0m | \u001b[1mINFO    \u001b[0m | \u001b[36mmltrainer.trainer\u001b[0m:\u001b[36mreport\u001b[0m:\u001b[36m191\u001b[0m - \u001b[1mEpoch 2 train 0.1976 test 4.0675 metric ['0.6627', '0.6627', '0.2441', '0.6627', '0.3286']\u001b[0m\n",
      "100%|\u001b[38;2;30;71;6m██████████\u001b[0m| 905/905 [00:18<00:00, 48.63it/s]\n",
      "\u001b[32m2025-01-19 15:35:49.677\u001b[0m | \u001b[1mINFO    \u001b[0m | \u001b[36mmltrainer.trainer\u001b[0m:\u001b[36mreport\u001b[0m:\u001b[36m191\u001b[0m - \u001b[1mEpoch 3 train 0.1996 test 5.4238 metric ['0.1310', '0.1310', '0.0761', '0.1310', '0.2491']\u001b[0m\n",
      "100%|\u001b[38;2;30;71;6m██████████\u001b[0m| 905/905 [00:18<00:00, 48.57it/s]\n",
      "\u001b[32m2025-01-19 15:36:09.905\u001b[0m | \u001b[1mINFO    \u001b[0m | \u001b[36mmltrainer.trainer\u001b[0m:\u001b[36mreport\u001b[0m:\u001b[36m191\u001b[0m - \u001b[1mEpoch 4 train 0.1475 test 3.5949 metric ['0.7484', '0.7484', '0.3123', '0.7484', '0.3728']\u001b[0m\n",
      "100%|\u001b[38;2;30;71;6m██████████\u001b[0m| 5/5 [01:39<00:00, 19.97s/it]\n"
     ]
    }
   ],
   "source": [
    "#train with mps device\n",
    "\n",
    "config = {\n",
    "    \"hidden\": 256,\n",
    "    \"dropout\": 0.1,\n",
    "    \"output\": 5,\n",
    "    \"num_heads\": 4,\n",
    "    \"num_blocks\": 2,\n",
    "}\n",
    "print(config)\n",
    "model = models.Transformer(config)\n",
    "\n",
    "\n",
    "#loss_fn = torch.nn.CrossEntropyLoss()\n",
    "loss_fn = torch.nn.CrossEntropyLoss(weight=class_weights_tensor)\n",
    "#model = model.to(device)\n",
    "\n",
    "with mlflow.start_run():\n",
    "    optimizer = torch.optim.Adam\n",
    "\n",
    "    settings = TrainerSettings(\n",
    "        device=device,\n",
    "        epochs=5,\n",
    "        metrics=[accuracy, f1micro, f1macro, precision, recall],\n",
    "        logdir=\"logs/heart1D\",\n",
    "        train_steps=len(trainstreamer) //5,\n",
    "        valid_steps=len(teststreamer) //5,\n",
    "        reporttypes=[ReportTypes.TENSORBOARD, ReportTypes.MLFLOW],\n",
    "        scheduler_kwargs={\"factor\": 0.5, \"patience\": 2},\n",
    "        #scheduler_kwargs=None,\n",
    "        earlystop_kwargs=None\n",
    "    )\n",
    "\n",
    "    mlflow.set_tag(\"model\", \"Transfomer\")\n",
    "    mlflow.set_tag(\"dataset\", \"heart_small_binary\")\n",
    "    mlflow.log_params(config)\n",
    "    mlflow.log_param(\"epochs\", settings.epochs)\n",
    "    mlflow.log_param(\"optimizer\", str(optimizer))\n",
    "    mlflow.log_param(\"scheduler\", \"ReduceLROnPlateau\")\n",
    "    mlflow.log_param(\"earlystop\", \"None\")\n",
    "    mlflow.log_params(settings.optimizer_kwargs)\n",
    "\n",
    "    trainer = Trainer(\n",
    "        device = device,\n",
    "        model=model,\n",
    "        settings=settings,\n",
    "        loss_fn=loss_fn,\n",
    "        optimizer=optimizer,\n",
    "        traindataloader=trainstreamer.stream(),\n",
    "        validdataloader=teststreamer.stream(),\n",
    "        #traindataloader=((x.to(device), y.to(device)) for x, y in trainstreamer.stream()),\n",
    "        #validdataloader=((x.to(device), y.to(device)) for x, y in teststreamer.stream()),\n",
    "        scheduler=torch.optim.lr_scheduler.ReduceLROnPlateau,\n",
    "        #scheduler=None,\n",
    "        \n",
    "        )\n",
    "    trainer.loop()"
   ]
  },
  {
   "cell_type": "code",
   "execution_count": 57,
   "metadata": {},
   "outputs": [
    {
     "name": "stdout",
     "output_type": "stream",
     "text": [
      "[-0.009  0.191 -0.086  0.193 -0.054]\n"
     ]
    }
   ],
   "source": [
    "# difference between test and train\n",
    "test_scores = [float(x) for x in ['0.9727', '0.9727', '0.8755', '0.9727', '0.9323']]\n",
    "train_scores = [0.982, 0.782, 0.961, 0.78, 0.986]\n",
    "difference = [test - train for test, train in zip(test_scores, train_scores)]\n",
    "print(np.round(difference, 3))\n",
    "\n",
    "def calculate_difference(test_scores_str, train_scores_str):\n",
    "    test_scores = [float(x) for x in test_scores_str]\n",
    "    train_scores = [float(x) for x in train_scores_str]\n",
    "    difference = [test - train for test, train in zip(test_scores, train_scores)]\n",
    "    return np.round(difference, 3)\n"
   ]
  },
  {
   "cell_type": "code",
   "execution_count": 32,
   "metadata": {},
   "outputs": [
    {
     "name": "stdout",
     "output_type": "stream",
     "text": [
      "difference: [-0.014  0.352 -0.106  0.035 -0.075]\n"
     ]
    }
   ],
   "source": [
    "training_results=['0.9547', '0.9547', '0.8328', '0.9547', '0.9014']\n",
    "test_results=['0.961' '0.691' '0.917' '0.545' '0.978']\n",
    "print(f'difference: {calculate_difference(training_results, test_results)}')"
   ]
  },
  {
   "cell_type": "code",
   "execution_count": null,
   "metadata": {},
   "outputs": [
    {
     "name": "stdout",
     "output_type": "stream",
     "text": [
      "test_results=[0.862 0.865 0.569 0.431 0.876 0.988]\n"
     ]
    },
    {
     "data": {
      "text/plain": [
       "[Text(0.5, 23.52222222222222, 'Predicted'),\n",
       " Text(50.722222222222214, 0.5, 'Target')]"
      ]
     },
     "execution_count": 58,
     "metadata": {},
     "output_type": "execute_result"
    },
    {
     "data": {
      "image/png": "[encoded data removed]",
      "text/plain": [
       "<Figure size 640x480 with 2 Axes>"
      ]
     },
     "metadata": {},
     "output_type": "display_data"
    }
   ],
   "source": [
    "import seaborn as sns\n",
    "import numpy as np\n",
    "\n",
    "\n",
    "y_true = []\n",
    "y_pred = []\n",
    "model = model.to(\"cpu\")\n",
    "\n",
    "#testdata = [(x.to(device), y.to(device)) for x, y in teststreamer.stream()]\n",
    "testdata = teststreamer.stream()\n",
    "for _ in range(len(teststreamer)):\n",
    "    X, y = next(testdata)\n",
    "    \n",
    "    yhat = model(X)\n",
    "    yhat = yhat.argmax(dim=1) # we get the one with the highest probability\n",
    "    y_pred.append(yhat.cpu().tolist())\n",
    "    y_true.append(y.cpu().tolist())\n",
    "\n",
    "yhat = [x for y in y_pred for x in y]\n",
    "y = [x for y in y_true for x in y]\n",
    "\n",
    "cfm = confusion_matrix(y, yhat)\n",
    "cfm = cfm / np.sum(cfm, axis=1, keepdims=True)\n",
    "print(config)\n",
    "print(f'test_results=[{np.round(cfm[cfm > 0.3], 3)}]')\n",
    "plot = sns.heatmap(cfm, annot=cfm, fmt=\".3f\")\n",
    "plot.set(xlabel=\"Predicted\", ylabel=\"Target\")"
   ]
  },
  {
   "cell_type": "code",
   "execution_count": null,
   "metadata": {},
   "outputs": [
    {
     "name": "stderr",
     "output_type": "stream",
     "text": [
      "\u001b[32m2025-01-15 20:25:21.473\u001b[0m | \u001b[1mINFO    \u001b[0m | \u001b[36mmltrainer.settings\u001b[0m:\u001b[36mcheck_path\u001b[0m:\u001b[36m61\u001b[0m - \u001b[1mCreated logdir /Users/francesca/code_repo/MADS-exam-25/notebooks/logs/heart1D\u001b[0m\n",
      "\u001b[32m2025-01-15 20:25:21.484\u001b[0m | \u001b[1mINFO    \u001b[0m | \u001b[36mmltrainer.trainer\u001b[0m:\u001b[36mdir_add_timestamp\u001b[0m:\u001b[36m29\u001b[0m - \u001b[1mLogging to logs/heart1D/20250115-202521\u001b[0m\n",
      "100%|\u001b[38;2;30;71;6m██████████\u001b[0m| 547/547 [00:04<00:00, 110.98it/s]\n",
      "\u001b[32m2025-01-15 20:25:27.246\u001b[0m | \u001b[1mINFO    \u001b[0m | \u001b[36mmltrainer.trainer\u001b[0m:\u001b[36mreport\u001b[0m:\u001b[36m191\u001b[0m - \u001b[1mEpoch 0 train 0.6697 test 0.5468 metric ['0.8203', '0.8203', '0.2576', '0.8203', '0.2839']\u001b[0m\n",
      "100%|\u001b[38;2;30;71;6m██████████\u001b[0m| 547/547 [00:04<00:00, 111.69it/s]\n",
      "\u001b[32m2025-01-15 20:25:32.709\u001b[0m | \u001b[1mINFO    \u001b[0m | \u001b[36mmltrainer.trainer\u001b[0m:\u001b[36mreport\u001b[0m:\u001b[36m191\u001b[0m - \u001b[1mEpoch 1 train 0.4691 test 0.3629 metric ['0.9046', '0.9046', '0.5638', '0.9046', '0.5641']\u001b[0m\n",
      "100%|\u001b[38;2;30;71;6m██████████\u001b[0m| 547/547 [00:04<00:00, 111.83it/s]\n",
      "\u001b[32m2025-01-15 20:25:38.163\u001b[0m | \u001b[1mINFO    \u001b[0m | \u001b[36mmltrainer.trainer\u001b[0m:\u001b[36mreport\u001b[0m:\u001b[36m191\u001b[0m - \u001b[1mEpoch 2 train 0.3797 test 0.3620 metric ['0.8989', '0.8989', '0.5795', '0.8989', '0.5814']\u001b[0m\n",
      "100%|\u001b[38;2;30;71;6m██████████\u001b[0m| 547/547 [00:04<00:00, 111.29it/s]\n",
      "\u001b[32m2025-01-15 20:25:43.637\u001b[0m | \u001b[1mINFO    \u001b[0m | \u001b[36mmltrainer.trainer\u001b[0m:\u001b[36mreport\u001b[0m:\u001b[36m191\u001b[0m - \u001b[1mEpoch 3 train 0.3441 test 0.3431 metric ['0.8975', '0.8975', '0.5561', '0.8975', '0.5951']\u001b[0m\n",
      "100%|\u001b[38;2;30;71;6m██████████\u001b[0m| 547/547 [00:04<00:00, 111.21it/s]\n",
      "\u001b[32m2025-01-15 20:25:49.138\u001b[0m | \u001b[1mINFO    \u001b[0m | \u001b[36mmltrainer.trainer\u001b[0m:\u001b[36mreport\u001b[0m:\u001b[36m191\u001b[0m - \u001b[1mEpoch 4 train 0.3278 test 0.3044 metric ['0.9203', '0.9203', '0.6509', '0.9203', '0.6689']\u001b[0m\n",
      "100%|\u001b[38;2;30;71;6m██████████\u001b[0m| 5/5 [00:27<00:00,  5.48s/it]\n"
     ]
    }
   ],
   "source": [
    "from mltrainer import Trainer, TrainerSettings, ReportTypes\n",
    "loss_fn = torch.nn.CrossEntropyLoss()\n",
    "\n",
    "with mlflow.start_run():\n",
    "    optimizer = torch.optim.Adam\n",
    "\n",
    "    settings = TrainerSettings(\n",
    "        epochs=5,\n",
    "        metrics=[accuracy, f1micro, f1macro, precision, recall],\n",
    "        logdir=\"logs/heart1D\",\n",
    "        train_steps=len(trainstreamer) //5,\n",
    "        valid_steps=len(teststreamer) //5,\n",
    "        reporttypes=[ReportTypes.TENSORBOARD, ReportTypes.MLFLOW],\n",
    "        scheduler_kwargs=None,\n",
    "        earlystop_kwargs=None\n",
    "    )\n",
    "\n",
    "    mlflow.set_tag(\"model\", \"Transfomer\")\n",
    "    mlflow.set_tag(\"dataset\", \"heart_small_binary\")\n",
    "    mlflow.log_params(config)\n",
    "    mlflow.log_param(\"epochs\", settings.epochs)\n",
    "    mlflow.log_param(\"optimizer\", str(optimizer))\n",
    "    mlflow.log_param(\"scheduler\", \"None\")\n",
    "    mlflow.log_param(\"earlystop\", \"None\")\n",
    "    mlflow.log_params(settings.optimizer_kwargs)\n",
    "\n",
    "    trainer = Trainer(\n",
    "        model=model,\n",
    "        settings=settings,\n",
    "        loss_fn=loss_fn,\n",
    "        optimizer=optimizer,\n",
    "        traindataloader=trainstreamer.stream(),\n",
    "        validdataloader=teststreamer.stream(),\n",
    "        scheduler=None,\n",
    "        )\n",
    "    trainer.loop()"
   ]
  },
  {
   "cell_type": "code",
   "execution_count": null,
   "metadata": {},
   "outputs": [],
   "source": []
  },
  {
   "cell_type": "code",
   "execution_count": 16,
   "metadata": {},
   "outputs": [
    {
     "data": {
      "text/plain": [
       "[Text(0.5, 23.52222222222222, 'Predicted'),\n",
       " Text(50.722222222222214, 0.5, 'Target')]"
      ]
     },
     "execution_count": 16,
     "metadata": {},
     "output_type": "execute_result"
    },
    {
     "data": {
      "image/png": "[encoded data removed]",
      "text/plain": [
       "<Figure size 640x480 with 2 Axes>"
      ]
     },
     "metadata": {},
     "output_type": "display_data"
    }
   ],
   "source": [
    "\n",
    "\n",
    "y_true = []\n",
    "y_pred = []\n",
    "\n",
    "testdata = teststreamer.stream()\n",
    "for _ in range(len(teststreamer)):\n",
    "    X, y = next(testdata)\n",
    "    yhat = model(X)\n",
    "    yhat = yhat.argmax(dim=1) # we get the one with the highest probability\n",
    "    y_pred.append(yhat.cpu().tolist())\n",
    "    y_true.append(y.cpu().tolist())\n",
    "\n",
    "yhat = [x for y in y_pred for x in y]\n",
    "y = [x for y in y_true for x in y]\n",
    "\n",
    "cfm = confusion_matrix(y, yhat)\n",
    "cfm = cfm / np.sum(cfm, axis=1, keepdims=True)\n",
    "\n",
    "plot = sns.heatmap(cfm, annot=cfm, fmt=\".3f\")\n",
    "plot.set(xlabel=\"Predicted\", ylabel=\"Target\")"
   ]
  },
  {
   "cell_type": "code",
   "execution_count": 20,
   "metadata": {},
   "outputs": [],
   "source": [
    "from src import models\n",
    "config = {\n",
    "    \"hidden\": 32,\n",
    "    \"dropout\": 0.1,\n",
    "    \"output\": 5,\n",
    "    \"num_heads\": 4,\n",
    "    \"num_blocks\": 2,\n",
    "}\n",
    "model = models.Transformer(config)"
   ]
  },
  {
   "cell_type": "code",
   "execution_count": 21,
   "metadata": {},
   "outputs": [
    {
     "name": "stderr",
     "output_type": "stream",
     "text": [
      "\u001b[32m2025-01-16 10:05:17.764\u001b[0m | \u001b[1mINFO    \u001b[0m | \u001b[36mmltrainer.trainer\u001b[0m:\u001b[36mdir_add_timestamp\u001b[0m:\u001b[36m29\u001b[0m - \u001b[1mLogging to logs/heart1D/20250116-100517\u001b[0m\n",
      "100%|\u001b[38;2;30;71;6m██████████\u001b[0m| 547/547 [00:10<00:00, 51.50it/s]\n",
      "\u001b[32m2025-01-16 10:05:29.335\u001b[0m | \u001b[1mINFO    \u001b[0m | \u001b[36mmltrainer.trainer\u001b[0m:\u001b[36mreport\u001b[0m:\u001b[36m191\u001b[0m - \u001b[1mEpoch 0 train 0.5582 test 0.3087 metric ['0.9230', '0.9230', '0.6780', '0.9230', '0.6790']\u001b[0m\n",
      "100%|\u001b[38;2;30;71;6m██████████\u001b[0m| 547/547 [00:10<00:00, 50.81it/s]\n",
      "\u001b[32m2025-01-16 10:05:41.094\u001b[0m | \u001b[1mINFO    \u001b[0m | \u001b[36mmltrainer.trainer\u001b[0m:\u001b[36mreport\u001b[0m:\u001b[36m191\u001b[0m - \u001b[1mEpoch 1 train 0.2968 test 0.2268 metric ['0.9350', '0.9350', '0.7091', '0.9350', '0.7120']\u001b[0m\n",
      "100%|\u001b[38;2;30;71;6m██████████\u001b[0m| 547/547 [00:10<00:00, 50.22it/s]\n",
      "\u001b[32m2025-01-16 10:05:52.936\u001b[0m | \u001b[1mINFO    \u001b[0m | \u001b[36mmltrainer.trainer\u001b[0m:\u001b[36mreport\u001b[0m:\u001b[36m191\u001b[0m - \u001b[1mEpoch 2 train 0.2443 test 0.1929 metric ['0.9472', '0.9472', '0.7601', '0.9472', '0.7742']\u001b[0m\n",
      "100%|\u001b[38;2;30;71;6m██████████\u001b[0m| 547/547 [00:10<00:00, 51.75it/s]\n",
      "\u001b[32m2025-01-16 10:06:04.416\u001b[0m | \u001b[1mINFO    \u001b[0m | \u001b[36mmltrainer.trainer\u001b[0m:\u001b[36mreport\u001b[0m:\u001b[36m191\u001b[0m - \u001b[1mEpoch 3 train 0.2131 test 0.1906 metric ['0.9517', '0.9517', '0.7712', '0.9517', '0.7840']\u001b[0m\n",
      "100%|\u001b[38;2;30;71;6m██████████\u001b[0m| 547/547 [00:10<00:00, 52.32it/s]\n",
      "\u001b[32m2025-01-16 10:06:15.851\u001b[0m | \u001b[1mINFO    \u001b[0m | \u001b[36mmltrainer.trainer\u001b[0m:\u001b[36mreport\u001b[0m:\u001b[36m191\u001b[0m - \u001b[1mEpoch 4 train 0.1864 test 0.1616 metric ['0.9543', '0.9543', '0.8016', '0.9543', '0.8380']\u001b[0m\n",
      "100%|\u001b[38;2;30;71;6m██████████\u001b[0m| 5/5 [00:58<00:00, 11.62s/it]\n"
     ]
    }
   ],
   "source": [
    "from mltrainer import Trainer, TrainerSettings, ReportTypes\n",
    "loss_fn = torch.nn.CrossEntropyLoss()\n",
    "\n",
    "with mlflow.start_run():\n",
    "    optimizer = torch.optim.Adam\n",
    "\n",
    "    settings = TrainerSettings(\n",
    "        epochs=5,\n",
    "        metrics=[accuracy, f1micro, f1macro, precision, recall],\n",
    "        logdir=\"logs/heart1D\",\n",
    "        train_steps=len(trainstreamer) //5,\n",
    "        valid_steps=len(teststreamer) //5,\n",
    "        reporttypes=[ReportTypes.TENSORBOARD, ReportTypes.MLFLOW],\n",
    "        scheduler_kwargs=None,\n",
    "        earlystop_kwargs=None\n",
    "    )\n",
    "\n",
    "    mlflow.set_tag(\"model\", \"Transfomer\")\n",
    "    mlflow.set_tag(\"dataset\", \"heart_small_binary\")\n",
    "    mlflow.log_params(config)\n",
    "    mlflow.log_param(\"epochs\", settings.epochs)\n",
    "    mlflow.log_param(\"optimizer\", str(optimizer))\n",
    "    mlflow.log_param(\"scheduler\", \"None\")\n",
    "    mlflow.log_param(\"earlystop\", \"None\")\n",
    "    mlflow.log_params(settings.optimizer_kwargs)\n",
    "\n",
    "    trainer = Trainer(\n",
    "        model=model,\n",
    "        settings=settings,\n",
    "        loss_fn=loss_fn,\n",
    "        optimizer=optimizer,\n",
    "        traindataloader=trainstreamer.stream(),\n",
    "        validdataloader=teststreamer.stream(),\n",
    "        scheduler=None,\n",
    "        )\n",
    "    trainer.loop()"
   ]
  },
  {
   "cell_type": "code",
   "execution_count": 19,
   "metadata": {},
   "outputs": [
    {
     "data": {
      "text/plain": [
       "[Text(0.5, 23.52222222222222, 'Predicted'),\n",
       " Text(50.722222222222214, 0.5, 'Target')]"
      ]
     },
     "execution_count": 19,
     "metadata": {},
     "output_type": "execute_result"
    },
    {
     "data": {
      "image/png": "[encoded data removed]",
      "text/plain": [
       "<Figure size 640x480 with 2 Axes>"
      ]
     },
     "metadata": {},
     "output_type": "display_data"
    }
   ],
   "source": [
    "y_true = []\n",
    "y_pred = []\n",
    "\n",
    "testdata = teststreamer.stream()\n",
    "for _ in range(len(teststreamer)):\n",
    "    X, y = next(testdata)\n",
    "    yhat = model(X)\n",
    "    yhat = yhat.argmax(dim=1) # we get the one with the highest probability\n",
    "    y_pred.append(yhat.cpu().tolist())\n",
    "    y_true.append(y.cpu().tolist())\n",
    "\n",
    "yhat = [x for y in y_pred for x in y]\n",
    "y = [x for y in y_true for x in y]\n",
    "\n",
    "cfm = confusion_matrix(y, yhat)\n",
    "cfm = cfm / np.sum(cfm, axis=1, keepdims=True)\n",
    "\n",
    "plot = sns.heatmap(cfm, annot=cfm, fmt=\".3f\")\n",
    "plot.set(xlabel=\"Predicted\", ylabel=\"Target\")"
   ]
  },
  {
   "cell_type": "code",
   "execution_count": 22,
   "metadata": {},
   "outputs": [
    {
     "data": {
      "text/plain": [
       "[Text(0.5, 23.52222222222222, 'Predicted'),\n",
       " Text(50.722222222222214, 0.5, 'Target')]"
      ]
     },
     "execution_count": 22,
     "metadata": {},
     "output_type": "execute_result"
    },
    {
     "data": {
      "image/png": "[encoded data removed]",
      "text/plain": [
       "<Figure size 640x480 with 2 Axes>"
      ]
     },
     "metadata": {},
     "output_type": "display_data"
    }
   ],
   "source": [
    "y_true = []\n",
    "y_pred = []\n",
    "\n",
    "testdata = teststreamer.stream()\n",
    "for _ in range(len(teststreamer)):\n",
    "    X, y = next(testdata)\n",
    "    yhat = model(X)\n",
    "    yhat = yhat.argmax(dim=1) # we get the one with the highest probability\n",
    "    y_pred.append(yhat.cpu().tolist())\n",
    "    y_true.append(y.cpu().tolist())\n",
    "\n",
    "yhat = [x for y in y_pred for x in y]\n",
    "y = [x for y in y_true for x in y]\n",
    "\n",
    "cfm = confusion_matrix(y, yhat)\n",
    "cfm = cfm / np.sum(cfm, axis=1, keepdims=True)\n",
    "\n",
    "plot = sns.heatmap(cfm, annot=cfm, fmt=\".3f\")\n",
    "plot.set(xlabel=\"Predicted\", ylabel=\"Target\")"
   ]
  }
 ],
 "metadata": {
  "kernelspec": {
   "display_name": ".venv",
   "language": "python",
   "name": "python3"
  },
  "language_info": {
   "codemirror_mode": {
    "name": "ipython",
    "version": 3
   },
   "file_extension": ".py",
   "mimetype": "text/x-python",
   "name": "python",
   "nbconvert_exporter": "python",
   "pygments_lexer": "ipython3",
   "version": "3.11.9"
  }
 },
 "nbformat": 4,
 "nbformat_minor": 2
}
