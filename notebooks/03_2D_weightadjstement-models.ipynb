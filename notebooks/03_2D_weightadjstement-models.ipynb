{
 "cells": [
  {
   "cell_type": "code",
   "execution_count": 2,
   "metadata": {},
   "outputs": [
    {
     "data": {
      "text/plain": [
       "'0.1.129'"
      ]
     },
     "execution_count": 2,
     "metadata": {},
     "output_type": "execute_result"
    }
   ],
   "source": [
    "from mads_datasets.base import BaseDatastreamer\n",
    "from mltrainer.preprocessors import BasePreprocessor\n",
    "import matplotlib.pyplot as plt\n",
    "from pathlib import Path\n",
    "import pandas as pd\n",
    "import seaborn as sns\n",
    "from sklearn.metrics import confusion_matrix\n",
    "from torch import nn\n",
    "import torch\n",
    "from mltrainer import Trainer, TrainerSettings, ReportTypes\n",
    "import tomllib\n",
    "import seaborn as sns\n",
    "import numpy as np\n",
    "from torch import Tensor\n",
    "import math\n",
    "from typing import List, Tuple, Dict, Any, Union\n",
    "from src import datasets, metrics\n",
    "import mltrainer\n",
    "mltrainer.__version__"
   ]
  },
  {
   "cell_type": "code",
   "execution_count": 3,
   "metadata": {},
   "outputs": [
    {
     "name": "stdout",
     "output_type": "stream",
     "text": [
      "{'ptb': 'heart', 'arrhythmia': 'heart_big'}\n"
     ]
    }
   ],
   "source": [
    "datadir = Path('../data')\n",
    "configfile = Path(\"config.toml\")\n",
    "\n",
    "with configfile.open('rb') as f:\n",
    "    config = tomllib.load(f)\n",
    "print(config)"
   ]
  },
  {
   "cell_type": "code",
   "execution_count": 4,
   "metadata": {},
   "outputs": [
    {
     "data": {
      "text/plain": [
       "(PosixPath('../data/heart_big_oversampled_full_train.parq'),\n",
       " PosixPath('../data/heart_big_test.parq'))"
      ]
     },
     "execution_count": 4,
     "metadata": {},
     "output_type": "execute_result"
    }
   ],
   "source": [
    "trainfile = datadir / (config['arrhythmia'] + '_oversampled_full_train.parq')\n",
    "testfile = datadir / (config['arrhythmia'] + '_test.parq')\n",
    "trainfile, testfile"
   ]
  },
  {
   "cell_type": "code",
   "execution_count": 5,
   "metadata": {},
   "outputs": [],
   "source": [
    "train_df = pd.read_parquet(trainfile)\n",
    "test_df = pd.read_parquet(testfile)"
   ]
  },
  {
   "cell_type": "code",
   "execution_count": 6,
   "metadata": {},
   "outputs": [
    {
     "data": {
      "image/png": "[encoded data removed]",
      "text/plain": [
       "<Figure size 640x480 with 1 Axes>"
      ]
     },
     "metadata": {},
     "output_type": "display_data"
    }
   ],
   "source": [
    "import matplotlib.pyplot as plt\n",
    "colors = ['#1f77b4', '#ff7f0e', '#2ca02c', '#d62728', '#9467bd']\n",
    "class_names = ['N', 'S', 'V', 'F', 'Q']\n",
    "plt.bar(class_names, train_df.target.value_counts(), color = colors)\n",
    "\n",
    "plt.xlabel('Class')\n",
    "plt.ylabel('Number of examples')\n",
    "plt.title('Distribution of classes in training set')\n",
    "plt.show()"
   ]
  },
  {
   "cell_type": "markdown",
   "metadata": {},
   "source": [
    "Load the data"
   ]
  },
  {
   "cell_type": "code",
   "execution_count": 7,
   "metadata": {},
   "outputs": [],
   "source": [
    "# load data in dataframes\n",
    "train_df = pd.read_parquet(trainfile)\n",
    "test_df = pd.read_parquet(testfile)"
   ]
  },
  {
   "cell_type": "code",
   "execution_count": 33,
   "metadata": {},
   "outputs": [
    {
     "data": {
      "text/plain": [
       "(Heartdataset (len 275000), Heartdataset (len 21892))"
      ]
     },
     "execution_count": 33,
     "metadata": {},
     "output_type": "execute_result"
    }
   ],
   "source": [
    "traindataset = datasets.HeartDataset1D(trainfile, target=\"target\")\n",
    "testdataset = datasets.HeartDataset1D(testfile, target=\"target\")\n",
    "traindataset, testdataset\n",
    "\n",
    "# moving to mps device crashes the jupyter kernel"
   ]
  },
  {
   "cell_type": "code",
   "execution_count": 34,
   "metadata": {},
   "outputs": [
    {
     "data": {
      "text/plain": [
       "(torch.Size([192, 1]), torch.Size([]))"
      ]
     },
     "execution_count": 34,
     "metadata": {},
     "output_type": "execute_result"
    }
   ],
   "source": [
    "x, y= traindataset[0]\n",
    "x.shape, y.shape"
   ]
  },
  {
   "cell_type": "markdown",
   "metadata": {},
   "source": [
    "Visualise it as 1D data"
   ]
  },
  {
   "cell_type": "markdown",
   "metadata": {},
   "source": [
    "Set up the streamer"
   ]
  },
  {
   "cell_type": "code",
   "execution_count": 35,
   "metadata": {},
   "outputs": [
    {
     "data": {
      "text/plain": [
       "(8593, 684)"
      ]
     },
     "execution_count": 35,
     "metadata": {},
     "output_type": "execute_result"
    }
   ],
   "source": [
    "trainstreamer = BaseDatastreamer(traindataset, preprocessor = BasePreprocessor(), batchsize=32)\n",
    "teststreamer = BaseDatastreamer(testdataset, preprocessor = BasePreprocessor(), batchsize=32)\n",
    "len(trainstreamer), len(teststreamer)"
   ]
  },
  {
   "cell_type": "code",
   "execution_count": 36,
   "metadata": {},
   "outputs": [
    {
     "name": "stdout",
     "output_type": "stream",
     "text": [
      "torch.Size([32, 192, 1]) torch.Size([32])\n"
     ]
    },
    {
     "data": {
      "text/plain": [
       "torch.Size([1, 32, 192, 1])"
      ]
     },
     "execution_count": 36,
     "metadata": {},
     "output_type": "execute_result"
    }
   ],
   "source": [
    "x, y = next(trainstreamer.stream())\n",
    "print(x.shape, y.shape)\n",
    "x = x.unsqueeze(0)\n",
    "x.shape"
   ]
  },
  {
   "cell_type": "code",
   "execution_count": 37,
   "metadata": {},
   "outputs": [
    {
     "name": "stdout",
     "output_type": "stream",
     "text": [
      "torch.Size([32, 1, 16, 12])\n"
     ]
    }
   ],
   "source": [
    "\n",
    "# Reshape the tensor to [32, 1, 16, 12]\n",
    "reshaped_tensor = x.view(32, 1, 16, 12)\n",
    "\n",
    "# Alternatively, you can use reshape\n",
    "reshaped_tensor1 = x.reshape(32, 1, 16, 12)\n",
    "\n",
    "print(reshaped_tensor1.shape)  # Output: torch.Size([32, 1, 16, 12])"
   ]
  },
  {
   "cell_type": "markdown",
   "metadata": {},
   "source": [
    "Positional encoding to use with the transformer."
   ]
  },
  {
   "cell_type": "code",
   "execution_count": 41,
   "metadata": {},
   "outputs": [],
   "source": [
    "class PositionalEncoding(nn.Module):\n",
    "\n",
    "    def __init__(self, d_model: int, dropout: float = 0.1, max_seq_len: int = 5000):\n",
    "        super().__init__()\n",
    "        self.dropout = nn.Dropout(p=dropout)\n",
    "\n",
    "        position = torch.arange(max_seq_len).unsqueeze(1)\n",
    "        div_term = torch.exp(torch.arange(0, d_model, 2) * (-math.log(10000.0) / d_model))\n",
    "        pe = torch.zeros(1, max_seq_len, d_model)\n",
    "        # batch, seq_len, d_model\n",
    "        pe[0, :, 0::2] = torch.sin(position * div_term)\n",
    "        pe[0, :, 1::2] = torch.cos(position * div_term)\n",
    "        self.register_buffer('pe', pe)\n",
    "\n",
    "    def forward(self, x: Tensor) -> Tensor:\n",
    "        \"\"\"\n",
    "        Arguments:\n",
    "            x: Tensor, shape ``[batch_size, seq_len, embedding_dim]``\n",
    "        \"\"\"\n",
    "        x = x + self.pe[:, :x.size(1), :]\n",
    "        return self.dropout(x)"
   ]
  },
  {
   "cell_type": "markdown",
   "metadata": {},
   "source": [
    "Note, the layers have different assumptions about the data structure:\n",
    "- streamer:         (batch, seq_len, channels)\n",
    "- conv1d:           (batch, channels, seq_len)\n",
    "- pos_encoding:     (batch, seq_len, channels)\n",
    "- gru (batchfirst): (batch, seq_len, channels)\n",
    "- attention:        (batch, seq_len, channels)\n",
    "\n",
    "As you can see, its just the conv1d layer that expects channels as the second dimension. Using a conv1d layer you\n",
    "will need to transpose the dimensions, I will show how to do that in the Transformer `forward` method.\n",
    "\n",
    "Again, the strategy of creating a block helps us stack the architecture more easily."
   ]
  },
  {
   "cell_type": "code",
   "execution_count": 42,
   "metadata": {},
   "outputs": [],
   "source": [
    "class ConvBlock(nn.Module):\n",
    "    def __init__(self, in_channels, out_channels):\n",
    "        super().__init__()\n",
    "        self.conv = nn.Sequential(\n",
    "            nn.Conv2d(in_channels, out_channels, kernel_size=3, stride=1, padding=1),\n",
    "            nn.ReLU(),\n",
    "            nn.Conv2d(out_channels, out_channels, kernel_size=3, stride=1, padding=1),\n",
    "            nn.ReLU(),\n",
    "        )\n",
    "    def forward(self, x):\n",
    "        \n",
    "        return self.conv(x)"
   ]
  },
  {
   "cell_type": "code",
   "execution_count": 43,
   "metadata": {},
   "outputs": [],
   "source": [
    "import torch\n",
    "class CNN(nn.Module):\n",
    "    def __init__(self, config: dict) -> None:\n",
    "        super().__init__()\n",
    "        hidden = config['hidden']\n",
    "        self.convolutions = nn.ModuleList([\n",
    "            ConvBlock(1, hidden),\n",
    "        ])\n",
    "\n",
    "        for i in range(config['num_blocks']):\n",
    "            self.convolutions.extend([ConvBlock(hidden, hidden), nn.ReLU()])\n",
    "        self.convolutions.append(nn.MaxPool2d(2, 2))\n",
    "\n",
    "        self.dense = nn.Sequential(\n",
    "            nn.Flatten(),\n",
    "            nn.Linear((8*6) * hidden, hidden),\n",
    "            nn.ReLU(),\n",
    "            nn.Linear(hidden, config['num_classes']),\n",
    "        )\n",
    "\n",
    "    def forward(self, x: torch.Tensor) -> torch.Tensor:\n",
    "        for conv in self.convolutions:\n",
    "            x = conv(x)\n",
    "        x = self.dense(x)\n",
    "        return x"
   ]
  },
  {
   "cell_type": "code",
   "execution_count": 44,
   "metadata": {},
   "outputs": [],
   "source": [
    "class TransformerBlock(nn.Module):\n",
    "    def __init__(self, hidden_size, num_heads, dropout):\n",
    "        # feel free to change the input parameters of the constructor\n",
    "        super(TransformerBlock, self).__init__()\n",
    "        self.attention = nn.MultiheadAttention(\n",
    "            embed_dim=hidden_size,\n",
    "            num_heads=num_heads,\n",
    "            dropout=dropout,\n",
    "            batch_first=True,\n",
    "        )\n",
    "        self.ff = nn.Sequential(\n",
    "            nn.Linear(hidden_size, hidden_size),\n",
    "            nn.ReLU(),\n",
    "            nn.Linear(hidden_size, hidden_size),\n",
    "        )\n",
    "        self.layer_norm1 = nn.LayerNorm(hidden_size)\n",
    "        self.layer_norm2 = nn.LayerNorm(hidden_size)\n",
    "\n",
    "    def forward(self, x):\n",
    "        identity = x.clone() # skip connection\n",
    "        x, _ = self.attention(x, x, x)\n",
    "        x = self.layer_norm1(x + identity) # Add & Norm skip\n",
    "        identity = x.clone() # second skip connection\n",
    "        x = self.ff(x)\n",
    "        x = self.layer_norm2(x + identity) # Add & Norm skip\n",
    "        return x\n",
    "\n",
    "class Transformer1D(nn.Module):\n",
    "    def __init__(\n",
    "        self,\n",
    "        config: dict,\n",
    "    ) -> None:\n",
    "        super().__init__()\n",
    "        self.conv1d = nn.Conv1d(\n",
    "            in_channels=1,\n",
    "            out_channels=config[\"hidden\"],\n",
    "            kernel_size=3,\n",
    "            stride=2,\n",
    "            padding=1,\n",
    "        )\n",
    "        self.pos_encoder = PositionalEncoding(config[\"hidden\"], config[\"dropout\"])\n",
    "\n",
    "        # Create multiple transformer blocks\n",
    "        self.transformer_blocks = nn.ModuleList([\n",
    "            TransformerBlock(config[\"hidden\"], config[\"num_heads\"], config[\"dropout\"])\n",
    "            for _ in range(config[\"num_blocks\"])\n",
    "        ])\n",
    "\n",
    "        #self.out = nn.Linear(config[\"hidden\"], config[\"output\"])\n",
    "        #extra dense layers\n",
    "        self.out = nn.Sequential(\n",
    "            nn.Linear(config[\"hidden\"], config[\"hidden\"]//2),\n",
    "            nn.ReLU(),\n",
    "            nn.Dropout(config[\"dropout\"]),\n",
    "            nn.Linear(config[\"hidden\"]//2, config[\"output\"]),\n",
    "        )\n",
    "\n",
    "    def forward(self, x: Tensor) -> Tensor:\n",
    "        # streamer:         (batch, seq_len, channels)\n",
    "        # conv1d:           (batch, channels, seq_len)\n",
    "        # pos_encoding:     (batch, seq_len, channels)\n",
    "        # attention:        (batch, seq_len, channels)\n",
    "        x = self.conv1d(x.transpose(1, 2)) # flip channels and seq_len for conv1d\n",
    "        x = self.pos_encoder(x.transpose(1, 2)) # flip back to seq_len and channels\n",
    "\n",
    "        # Apply multiple transformer blocks\n",
    "        for transformer_block in self.transformer_blocks:\n",
    "            x = transformer_block(x)\n",
    "\n",
    "        x = x.mean(dim=1) # Global Average Pooling\n",
    "        x = self.out(x)\n",
    "        return x"
   ]
  },
  {
   "cell_type": "markdown",
   "metadata": {},
   "source": [
    "## Adding a ResNet block to 1D Transformer"
   ]
  },
  {
   "cell_type": "code",
   "execution_count": 11,
   "metadata": {},
   "outputs": [],
   "source": [
    "# ResNet Block for 1D convolutions\n",
    "class ResNetBlock(nn.Module):\n",
    "    def __init__(self, in_channels, out_channels, stride=1):\n",
    "        super(ResNetBlock, self).__init__()\n",
    "        self.conv1 = nn.Conv1d(in_channels, out_channels, kernel_size=3, stride=stride, padding=1)\n",
    "        self.bn1 = nn.BatchNorm1d(out_channels)\n",
    "        self.relu = nn.ReLU(inplace=True)\n",
    "        \n",
    "        self.conv2 = nn.Conv1d(out_channels, out_channels, kernel_size=3, stride=1, padding=1)\n",
    "        self.bn2 = nn.BatchNorm1d(out_channels)\n",
    "        \n",
    "        # Skip connection (identity map)\n",
    "        self.shortcut = nn.Sequential()\n",
    "        if stride != 1 or in_channels != out_channels:\n",
    "            self.shortcut = nn.Sequential(\n",
    "                nn.Conv1d(in_channels, out_channels, kernel_size=1, stride=stride, padding=0),\n",
    "                nn.BatchNorm1d(out_channels)\n",
    "            )\n",
    "\n",
    "    def forward(self, x):\n",
    "        out = self.conv1(x)\n",
    "        out = self.bn1(out)\n",
    "        out = self.relu(out)\n",
    "        out = self.conv2(out)\n",
    "        out = self.bn2(out)\n",
    "        out += self.shortcut(x)  # Add the shortcut (skip connection)\n",
    "        out = self.relu(out)\n",
    "        return out\n",
    "\n",
    "\n",
    "# Transformer model with ResNet block\n",
    "class Transformer1D(nn.Module):\n",
    "    def __init__(self, config: dict) -> None:\n",
    "        super().__init__()\n",
    "        self.conv1d = nn.Conv1d(\n",
    "            in_channels=1,\n",
    "            out_channels=config[\"hidden\"],\n",
    "            kernel_size=3,\n",
    "            stride=2,\n",
    "            padding=1,\n",
    "        )\n",
    "        self.pos_encoder = PositionalEncoding(config[\"hidden\"], config[\"dropout\"])\n",
    "\n",
    "        # Adding a ResNet Block after the convolution layer\n",
    "        self.resnet_block = ResNetBlock(config[\"hidden\"], config[\"hidden\"])\n",
    "\n",
    "        # Create multiple transformer blocks\n",
    "        self.transformer_blocks = nn.ModuleList(\n",
    "            [\n",
    "                TransformerBlock(\n",
    "                    config[\"hidden\"], config[\"num_heads\"], config[\"dropout\"]\n",
    "                )\n",
    "                for _ in range(config[\"num_blocks\"])\n",
    "            ]\n",
    "        )\n",
    "\n",
    "        self.out = nn.Linear(config[\"hidden\"], config[\"output\"])\n",
    "\n",
    "    def forward(self, x: Tensor) -> Tensor:\n",
    "        # x: (batch, seq_len, channels)\n",
    "        # Conv1D transforms to (batch, channels, seq_len)\n",
    "        x = self.conv1d(x.transpose(1, 2))  # flip channels and seq_len for conv1d\n",
    "\n",
    "        # Apply ResNet block after convolution\n",
    "        x = self.resnet_block(x)\n",
    "\n",
    "        # Apply positional encoding\n",
    "        x = self.pos_encoder(x.transpose(1, 2))  # flip back to seq_len and channels\n",
    "\n",
    "        # Apply multiple transformer blocks\n",
    "        for transformer_block in self.transformer_blocks:\n",
    "            x = transformer_block(x)\n",
    "\n",
    "        x = x.mean(dim=1)  # Global Average Pooling\n",
    "        x = self.out(x)\n",
    "        return x"
   ]
  },
  {
   "cell_type": "code",
   "execution_count": 182,
   "metadata": {},
   "outputs": [
    {
     "name": "stdout",
     "output_type": "stream",
     "text": [
      "{'hidden': 128, 'dropout': 0.1, 'output': 5, 'num_heads': 8, 'num_blocks': 1, 'num_classes': 5}\n",
      "torch.Size([1, 5000, 128])\n"
     ]
    }
   ],
   "source": [
    "import math\n",
    "\n",
    "config = {\n",
    "    \"hidden\": 128,\n",
    "    \"dropout\": 0.1,\n",
    "    \"output\": 5,\n",
    "    \"num_heads\": 8,\n",
    "    \"num_blocks\": 1,\n",
    "    \"num_classes\": 5,\n",
    "}\n",
    "print(config)\n",
    "model = Transformer1D(config)"
   ]
  },
  {
   "cell_type": "markdown",
   "metadata": {},
   "source": [
    "## Adding 2D Conv to Transformer"
   ]
  },
  {
   "cell_type": "code",
   "execution_count": 22,
   "metadata": {},
   "outputs": [
    {
     "data": {
      "text/plain": [
       "(Heartdataset2D (#275000), Heartdataset2D (#21892))"
      ]
     },
     "execution_count": 22,
     "metadata": {},
     "output_type": "execute_result"
    }
   ],
   "source": [
    "shape = (16, 12)\n",
    "traindataset = datasets.HeartDataset2D(trainfile, target=\"target\", shape=shape)\n",
    "testdataset = datasets.HeartDataset2D(testfile, target=\"target\", shape=shape)\n",
    "traindataset, testdataset"
   ]
  },
  {
   "cell_type": "code",
   "execution_count": 30,
   "metadata": {},
   "outputs": [
    {
     "data": {
      "text/plain": [
       "(8593, 684)"
      ]
     },
     "execution_count": 30,
     "metadata": {},
     "output_type": "execute_result"
    }
   ],
   "source": [
    "trainstreamer = BaseDatastreamer(traindataset, preprocessor = BasePreprocessor(), batchsize=32)\n",
    "teststreamer = BaseDatastreamer(testdataset, preprocessor = BasePreprocessor(), batchsize=32)\n",
    "len(trainstreamer), len(teststreamer)"
   ]
  },
  {
   "cell_type": "code",
   "execution_count": 45,
   "metadata": {},
   "outputs": [],
   "source": [
    "class Transformer2D(nn.Module):\n",
    "    def __init__(\n",
    "        self,\n",
    "        config: dict,\n",
    "    ) -> None:\n",
    "        super().__init__()\n",
    "        hidden = config[\"hidden\"]\n",
    "        self.convolutions = nn.ModuleList([\n",
    "            ConvBlock(1, hidden),\n",
    "        ])\n",
    "\n",
    "        for i in range(config['num_blocks']):\n",
    "            self.convolutions.extend([ConvBlock(hidden, hidden), nn.ReLU()])\n",
    "        self.convolutions.append(nn.MaxPool2d(2, 2))\n",
    "\n",
    "        self.pos_encoder = PositionalEncoding(config[\"hidden\"], config[\"dropout\"])\n",
    "\n",
    "        # Create multiple transformer blocks\n",
    "        self.transformer_blocks = nn.ModuleList([\n",
    "            TransformerBlock(config[\"hidden\"], config[\"num_heads\"], config[\"dropout\"])\n",
    "            for _ in range(config[\"num_blocks\"])\n",
    "        ])\n",
    "\n",
    "        #self.out = nn.Linear(config[\"hidden\"], config[\"num_classes\"])\n",
    "        self.out = nn.Sequential(\n",
    "            nn.Flatten(),\n",
    "            nn.Linear(config[\"hidden\"], config[\"hidden\"]//2),\n",
    "            nn.ReLU(),\n",
    "            nn.Dropout(config[\"dropout\"]),\n",
    "            nn.Linear(config[\"hidden\"]//2, config['num_classes']),\n",
    "        )\n",
    "\n",
    "    def forward(self, x: Tensor) -> Tensor:\n",
    "        # streamer:         (batch, seq_len, channels)\n",
    "        # conv2d            (batch, channels, seq_len) [32, 1, 16, 12]\n",
    "        # conv1d:           (batch, channels, seq_len) [32, 1, 192]\n",
    "        # pos_encoding:     (batch, seq_len, channels)\n",
    "        # attention:        (batch, seq_len, channels)\n",
    "        #x = self.conv1d(x.transpose(1, 2)) # flip channels and seq_len for conv1d\n",
    "        x = x.view(32, 1, 16, 12) # reshape to 2D\n",
    "        for conv in self.convolutions:\n",
    "            x = conv(x)\n",
    "        x = x.view(32, config[\"hidden\"], (6*8))\n",
    "        x = self.pos_encoder(x.transpose(1, 2)) # flip back to seq_len and channels\n",
    "\n",
    "        # Apply multiple transformer blocks\n",
    "        for transformer_block in self.transformer_blocks:\n",
    "            x = transformer_block(x)\n",
    "\n",
    "        x = x.mean(dim=1) # Global Average Pooling\n",
    "        x = self.out(x)\n",
    "        return x\n"
   ]
  },
  {
   "cell_type": "code",
   "execution_count": 46,
   "metadata": {},
   "outputs": [
    {
     "name": "stdout",
     "output_type": "stream",
     "text": [
      "{'hidden': 256, 'dropout': 0.1, 'output': 5, 'num_heads': 8, 'num_blocks': 1, 'num_classes': 5}\n"
     ]
    }
   ],
   "source": [
    "import math\n",
    "\n",
    "config = {\n",
    "    \"hidden\": 256,\n",
    "    \"dropout\": 0.1,\n",
    "    \"output\": 5,\n",
    "    \"num_heads\": 8,\n",
    "    \"num_blocks\": 1,\n",
    "    \"num_classes\": 5,\n",
    "}\n",
    "print(config)\n",
    "model = Transformer2D(config)"
   ]
  },
  {
   "cell_type": "code",
   "execution_count": 33,
   "metadata": {},
   "outputs": [
    {
     "data": {
      "text/plain": [
       "<Experiment: artifact_location='/Users/francesca/code_repo/MADS-exam-25/notebooks/mlruns/6', creation_time=1737304334725, experiment_id='6', last_update_time=1737304334725, lifecycle_stage='active', name='Transformer2D', tags={}>"
      ]
     },
     "execution_count": 33,
     "metadata": {},
     "output_type": "execute_result"
    }
   ],
   "source": [
    "import mlflow\n",
    "mlflow.set_tracking_uri(\"sqlite:///mads_exam.db\")\n",
    "mlflow.set_experiment(\"Transformer2D\")"
   ]
  },
  {
   "cell_type": "code",
   "execution_count": null,
   "metadata": {},
   "outputs": [
    {
     "name": "stderr",
     "output_type": "stream",
     "text": [
      "\u001b[32m2025-01-21 23:41:58.038\u001b[0m | \u001b[1mINFO    \u001b[0m | \u001b[36mmltrainer.trainer\u001b[0m:\u001b[36mdir_add_timestamp\u001b[0m:\u001b[36m29\u001b[0m - \u001b[1mLogging to logs/heart1D/20250121-234158\u001b[0m\n",
      "100%|\u001b[38;2;30;71;6m██████████\u001b[0m| 1718/1718 [04:43<00:00,  6.06it/s]\n",
      "\u001b[32m2025-01-21 23:46:51.668\u001b[0m | \u001b[1mINFO    \u001b[0m | \u001b[36mmltrainer.trainer\u001b[0m:\u001b[36mreport\u001b[0m:\u001b[36m191\u001b[0m - \u001b[1mEpoch 0 train 0.6862 test 0.4279 metric ['0.8736', '0.8736', '0.6338', '0.8736', '0.8516']\u001b[0m\n",
      "100%|\u001b[38;2;30;71;6m██████████\u001b[0m| 1718/1718 [04:46<00:00,  5.99it/s]\n",
      "\u001b[32m2025-01-21 23:51:48.572\u001b[0m | \u001b[1mINFO    \u001b[0m | \u001b[36mmltrainer.trainer\u001b[0m:\u001b[36mreport\u001b[0m:\u001b[36m191\u001b[0m - \u001b[1mEpoch 1 train 0.3136 test 0.2542 metric ['0.9187', '0.9187', '0.7064', '0.9187', '0.9027']\u001b[0m\n",
      "100%|\u001b[38;2;30;71;6m██████████\u001b[0m| 1718/1718 [04:48<00:00,  5.95it/s]\n",
      "\u001b[32m2025-01-21 23:56:47.303\u001b[0m | \u001b[1mINFO    \u001b[0m | \u001b[36mmltrainer.trainer\u001b[0m:\u001b[36mreport\u001b[0m:\u001b[36m191\u001b[0m - \u001b[1mEpoch 2 train 0.2298 test 0.3183 metric ['0.8853', '0.8853', '0.6638', '0.8853', '0.8987']\u001b[0m\n",
      "100%|\u001b[38;2;30;71;6m██████████\u001b[0m| 1718/1718 [04:46<00:00,  5.99it/s]\n",
      "\u001b[32m2025-01-22 00:01:44.018\u001b[0m | \u001b[1mINFO    \u001b[0m | \u001b[36mmltrainer.trainer\u001b[0m:\u001b[36mreport\u001b[0m:\u001b[36m191\u001b[0m - \u001b[1mEpoch 3 train 0.1804 test 0.2778 metric ['0.8966', '0.8966', '0.7555', '0.8966', '0.9390']\u001b[0m\n",
      "100%|\u001b[38;2;30;71;6m██████████\u001b[0m| 1718/1718 [04:47<00:00,  5.97it/s]\n",
      "\u001b[32m2025-01-22 00:06:42.053\u001b[0m | \u001b[1mINFO    \u001b[0m | \u001b[36mmltrainer.trainer\u001b[0m:\u001b[36mreport\u001b[0m:\u001b[36m191\u001b[0m - \u001b[1mEpoch 4 train 0.1475 test 0.1909 metric ['0.9315', '0.9315', '0.7924', '0.9315', '0.9400']\u001b[0m\n",
      "100%|\u001b[38;2;30;71;6m██████████\u001b[0m| 1718/1718 [04:45<00:00,  6.02it/s]\n",
      "\u001b[32m2025-01-22 00:11:37.416\u001b[0m | \u001b[1mINFO    \u001b[0m | \u001b[36mmltrainer.trainer\u001b[0m:\u001b[36mreport\u001b[0m:\u001b[36m191\u001b[0m - \u001b[1mEpoch 5 train 0.1247 test 0.1884 metric ['0.9391', '0.9391', '0.7654', '0.9391', '0.9468']\u001b[0m\n",
      "100%|\u001b[38;2;30;71;6m██████████\u001b[0m| 1718/1718 [06:11<00:00,  4.62it/s]\n",
      "\u001b[32m2025-01-22 00:18:00.186\u001b[0m | \u001b[1mINFO    \u001b[0m | \u001b[36mmltrainer.trainer\u001b[0m:\u001b[36mreport\u001b[0m:\u001b[36m191\u001b[0m - \u001b[1mEpoch 6 train 0.1137 test 0.1385 metric ['0.9534', '0.9534', '0.8279', '0.9534', '0.9417']\u001b[0m\n",
      "100%|\u001b[38;2;30;71;6m██████████\u001b[0m| 1718/1718 [06:07<00:00,  4.67it/s]\n",
      "\u001b[32m2025-01-22 00:24:19.148\u001b[0m | \u001b[1mINFO    \u001b[0m | \u001b[36mmltrainer.trainer\u001b[0m:\u001b[36mreport\u001b[0m:\u001b[36m191\u001b[0m - \u001b[1mEpoch 7 train 0.0987 test 0.2010 metric ['0.9283', '0.9283', '0.7610', '0.9283', '0.9402']\u001b[0m\n",
      "100%|\u001b[38;2;30;71;6m██████████\u001b[0m| 1718/1718 [10:14<00:00,  2.79it/s]\n",
      "\u001b[32m2025-01-22 00:34:45.080\u001b[0m | \u001b[1mINFO    \u001b[0m | \u001b[36mmltrainer.trainer\u001b[0m:\u001b[36mreport\u001b[0m:\u001b[36m191\u001b[0m - \u001b[1mEpoch 8 train 0.0945 test 0.1223 metric ['0.9580', '0.9580', '0.8180', '0.9580', '0.9444']\u001b[0m\n",
      "100%|\u001b[38;2;30;71;6m██████████\u001b[0m| 1718/1718 [05:49<00:00,  4.91it/s]\n",
      "\u001b[32m2025-01-22 00:40:46.073\u001b[0m | \u001b[1mINFO    \u001b[0m | \u001b[36mmltrainer.trainer\u001b[0m:\u001b[36mreport\u001b[0m:\u001b[36m191\u001b[0m - \u001b[1mEpoch 9 train 0.0864 test 0.1727 metric ['0.9472', '0.9472', '0.7980', '0.9472', '0.9401']\u001b[0m\n",
      "100%|\u001b[38;2;30;71;6m██████████\u001b[0m| 1718/1718 [05:49<00:00,  4.91it/s]\n",
      "\u001b[32m2025-01-22 00:46:46.793\u001b[0m | \u001b[1mINFO    \u001b[0m | \u001b[36mmltrainer.trainer\u001b[0m:\u001b[36mreport\u001b[0m:\u001b[36m191\u001b[0m - \u001b[1mEpoch 10 train 0.0781 test 0.1320 metric ['0.9573', '0.9573', '0.8367', '0.9573', '0.9473']\u001b[0m\n",
      "100%|\u001b[38;2;30;71;6m██████████\u001b[0m| 1718/1718 [05:35<00:00,  5.12it/s]\n",
      "\u001b[32m2025-01-22 00:52:32.842\u001b[0m | \u001b[1mINFO    \u001b[0m | \u001b[36mmltrainer.trainer\u001b[0m:\u001b[36mreport\u001b[0m:\u001b[36m191\u001b[0m - \u001b[1mEpoch 11 train 0.0732 test 0.1247 metric ['0.9632', '0.9632', '0.8529', '0.9632', '0.9598']\u001b[0m\n",
      " 80%|\u001b[38;2;30;71;6m████████  \u001b[0m| 12/15 [1:10:34<18:59, 379.69s/it]"
     ]
    }
   ],
   "source": [
    "import mlflow\n",
    "# trainer transformer 1D without class weights + ReduceLROnPlateau scheduler\n",
    "from mltrainer import Trainer, TrainerSettings, ReportTypes\n",
    "loss_fn = torch.nn.CrossEntropyLoss()\n",
    "\n",
    "with mlflow.start_run():\n",
    "    optimizer = torch.optim.Adam\n",
    "\n",
    "    settings = TrainerSettings(\n",
    "        epochs=15,\n",
    "        metrics=[accuracy, f1micro, f1macro, precision, recall],\n",
    "        logdir=\"logs/heart1D\",\n",
    "        train_steps=len(trainstreamer) //5,\n",
    "        valid_steps=len(teststreamer) //5,\n",
    "        reporttypes=[ReportTypes.TENSORBOARD, ReportTypes.MLFLOW],\n",
    "        #scheduler_kwargs={\"factor\": 0.7, \"patience\": 4},\n",
    "        scheduler_kwargs={\"max_lr\": 0.01, \"total_steps\": len(trainstreamer)//5},\n",
    "        earlystop_kwargs=None\n",
    "    )\n",
    "\n",
    "    mlflow.set_tag(\"model\", \"Transfomer2D\")\n",
    "    mlflow.set_tag(\"dataset\", \"heart_big_fully_oversampled_binary\")\n",
    "    mlflow.log_params(config)\n",
    "    mlflow.log_param(\"epochs\", settings.epochs)\n",
    "    mlflow.log_param(\"optimizer\", str(optimizer))\n",
    "    mlflow.log_param(\"scheduler\", \"OneCycleLR\")\n",
    "    mlflow.log_param(\"earlystop\", \"None\")\n",
    "    mlflow.log_params(settings.optimizer_kwargs)\n",
    "\n",
    "    trainer = Trainer(\n",
    "        model=model,\n",
    "        settings=settings,\n",
    "        loss_fn=loss_fn,\n",
    "        optimizer=optimizer,\n",
    "        traindataloader=trainstreamer.stream(),\n",
    "        validdataloader=teststreamer.stream(),\n",
    "        scheduler=torch.optim.lr_scheduler.OneCycleLR,\n",
    "        #scheduler=None\n",
    "        )\n",
    "    trainer.loop()"
   ]
  },
  {
   "cell_type": "code",
   "execution_count": 184,
   "metadata": {},
   "outputs": [
    {
     "name": "stdout",
     "output_type": "stream",
     "text": [
      "{'hidden': 128, 'dropout': 0.1, 'output': 5, 'num_heads': 8, 'num_blocks': 1, 'num_classes': 5}\n",
      "test_results=[0.956 0.874 0.935 0.912 0.99 ]\n"
     ]
    },
    {
     "data": {
      "text/plain": [
       "[Text(0.5, 23.52222222222222, 'Predicted'),\n",
       " Text(50.722222222222214, 0.5, 'Target')]"
      ]
     },
     "execution_count": 184,
     "metadata": {},
     "output_type": "execute_result"
    },
    {
     "data": {
      "image/png": "[encoded data removed]",
      "text/plain": [
       "<Figure size 640x480 with 2 Axes>"
      ]
     },
     "metadata": {},
     "output_type": "display_data"
    }
   ],
   "source": [
    "y_true = []\n",
    "y_pred = []\n",
    "#model = model.to(\"cpu\")\n",
    "\n",
    "#testdata = [(x.to(device), y.to(device)) for x, y in teststreamer.stream()]\n",
    "testdata = teststreamer.stream()\n",
    "for _ in range(len(teststreamer)):\n",
    "    X, y = next(testdata)\n",
    "    \n",
    "    yhat = model(X)\n",
    "    yhat = yhat.argmax(dim=1) # we get the one with the highest probability\n",
    "    y_pred.append(yhat.cpu().tolist())\n",
    "    y_true.append(y.cpu().tolist())\n",
    "\n",
    "yhat = [x for y in y_pred for x in y]\n",
    "y = [x for y in y_true for x in y]\n",
    "\n",
    "cfm = confusion_matrix(y, yhat)\n",
    "cfm = cfm / np.sum(cfm, axis=1, keepdims=True)\n",
    "print(config)\n",
    "print(f'test_results={np.round(cfm[cfm > 0.3], 3)}')\n",
    "plot = sns.heatmap(cfm, annot=cfm, fmt=\".3f\")\n",
    "plot.set(xlabel=\"Predicted\", ylabel=\"Target\")"
   ]
  },
  {
   "cell_type": "markdown",
   "metadata": {},
   "source": [
    "## Adding RESNET BLOCK TO TRANSFORMER + 2D CNN"
   ]
  },
  {
   "cell_type": "code",
   "execution_count": 37,
   "metadata": {},
   "outputs": [],
   "source": [
    "import torch\n",
    "import torch.nn as nn\n",
    "import torch.nn.functional as F\n",
    "\n",
    "# Define the 2D ResNet Block\n",
    "class ResNetBlock2D(nn.Module):\n",
    "    def __init__(self, in_channels: int, out_channels: int) -> None:\n",
    "        super().__init__()\n",
    "        self.conv1 = nn.Conv2d(in_channels, out_channels, kernel_size=3, stride=1, padding=1)\n",
    "        self.bn1 = nn.BatchNorm2d(out_channels)\n",
    "        self.relu = nn.ReLU()\n",
    "        self.conv2 = nn.Conv2d(out_channels, out_channels, kernel_size=3, stride=1, padding=1)\n",
    "        self.bn2 = nn.BatchNorm2d(out_channels)\n",
    "\n",
    "        # If input and output sizes do not match, apply a projection (1x1 conv)\n",
    "        self.projection = nn.Conv2d(in_channels, out_channels, kernel_size=1) if in_channels != out_channels else nn.Identity()\n",
    "\n",
    "    def forward(self, x: torch.Tensor) -> torch.Tensor:\n",
    "        identity = x  # Store the input for the skip connection\n",
    "\n",
    "        x = self.conv1(x)\n",
    "        x = self.bn1(x)\n",
    "        x = self.relu(x)\n",
    "\n",
    "        x = self.conv2(x)\n",
    "        x = self.bn2(x)\n",
    "\n",
    "        # Add the input to the output (skip connection)\n",
    "        x += self.projection(identity)\n",
    "        x = self.relu(x)\n",
    "\n",
    "        return x\n",
    "\n",
    "\n",
    "class Transformer2DResNet(nn.Module):\n",
    "    def __init__(self, config: dict) -> None:\n",
    "        super().__init__()\n",
    "\n",
    "        # Modify the initial Conv2D to accept 1 input channels \n",
    "        self.conv2d = nn.Conv2d(\n",
    "            in_channels=1,  # Adjusted input channels if needed\n",
    "            out_channels=config[\"hidden\"],\n",
    "            kernel_size=3,\n",
    "            stride=2,\n",
    "            padding=1,\n",
    "        )\n",
    "        #print('2d conv')\n",
    "\n",
    "        # Add ResNet Block (2D)\n",
    "        self.resnet_block = ResNetBlock2D(config[\"hidden\"], config[\"hidden\"])\n",
    "        #print('resnet block')\n",
    "\n",
    "        # Positional Encoding for Transformer input\n",
    "        self.pos_encoder = PositionalEncoding(config[\"hidden\"], config[\"dropout\"])\n",
    "        #print('positional encoding')\n",
    "\n",
    "        # Create multiple transformer blocks\n",
    "        self.transformer_blocks = nn.ModuleList([\n",
    "            TransformerBlock(config[\"hidden\"], config[\"num_heads\"], config[\"dropout\"])\n",
    "            for _ in range(config[\"num_blocks\"])\n",
    "        ])\n",
    "\n",
    "        # Final output layers\n",
    "        self.out = nn.Sequential(\n",
    "            nn.Linear(config[\"hidden\"], config[\"hidden\"] // 2),\n",
    "            nn.ReLU(),\n",
    "            nn.Dropout(config[\"dropout\"]),\n",
    "            nn.Linear(config[\"hidden\"] // 2, config[\"output\"]),\n",
    "        )\n",
    "\n",
    "    def forward(self, x: torch.Tensor) -> torch.Tensor:\n",
    "       # print(\"input\", x.shape)\n",
    "        #x = x.view(32, 1, 16, 12) # reshape to 2D\n",
    "        # Apply Conv2D to the input (convert from (batch, channels, height, width) to (batch, hidden, height, width))\n",
    "        x = self.conv2d(x.transpose(1, 2))  # (batch, hidden, height//2, width//2)\n",
    "\n",
    "        # Apply ResNet Block (2D)\n",
    "        x = self.resnet_block(x)  # (batch, hidden, height//2, width//2)\n",
    "\n",
    "        # Apply positional encoding (convert back to (batch, seq_len, channels))\n",
    "        x = self.pos_encoder(x.flatten(2).transpose(1, 2))  # Flatten and transpose to (batch, seq_len, channels)\n",
    "\n",
    "        # Apply multiple transformer blocks\n",
    "        for transformer_block in self.transformer_blocks:\n",
    "            x = transformer_block(x)\n",
    "\n",
    "        # Global Average Pooling\n",
    "        x = x.mean(dim=1)  # (batch, hidden)\n",
    "\n",
    "        # Final classification layers\n",
    "        x = self.out(x)  # (batch, num_classes)\n",
    "        return x\n",
    "\n"
   ]
  },
  {
   "cell_type": "code",
   "execution_count": 230,
   "metadata": {},
   "outputs": [
    {
     "data": {
      "text/plain": [
       "(torch.Size([1, 16, 12]), tensor(0))"
      ]
     },
     "execution_count": 230,
     "metadata": {},
     "output_type": "execute_result"
    }
   ],
   "source": [
    "shape = (16, 12)\n",
    "traindataset = datasets.HeartDataset2D(trainfile, target=\"target\", shape=shape)\n",
    "testdataset = datasets.HeartDataset2D(testfile, target=\"target\", shape=shape)\n",
    "x, y = traindataset[20]\n",
    "x.shape, y"
   ]
  },
  {
   "cell_type": "code",
   "execution_count": 231,
   "metadata": {},
   "outputs": [
    {
     "name": "stdout",
     "output_type": "stream",
     "text": [
      "8593 684\n"
     ]
    },
    {
     "data": {
      "text/plain": [
       "(torch.Size([32, 1, 16, 12]), torch.Size([32]))"
      ]
     },
     "execution_count": 231,
     "metadata": {},
     "output_type": "execute_result"
    }
   ],
   "source": [
    "#Load the datastreamers\n",
    "trainstreamer = BaseDatastreamer(traindataset, preprocessor = BasePreprocessor(), batchsize=32)\n",
    "teststreamer = BaseDatastreamer(testdataset, preprocessor = BasePreprocessor(), batchsize=32)\n",
    "print(len(trainstreamer), len(teststreamer))\n",
    "x, y = next(trainstreamer.stream())\n",
    "x.shape, y.shape"
   ]
  },
  {
   "cell_type": "code",
   "execution_count": 243,
   "metadata": {},
   "outputs": [
    {
     "name": "stdout",
     "output_type": "stream",
     "text": [
      "{'hidden': 128, 'dropout': 0.1, 'output': 5, 'num_heads': 8, 'num_blocks': 1, 'num_classes': 5}\n"
     ]
    }
   ],
   "source": [
    "from src import models\n",
    "config = {\n",
    "    \"hidden\": 128,\n",
    "    \"dropout\": 0.1,\n",
    "    \"output\": 5,\n",
    "    \"num_heads\": 8,\n",
    "    \"num_blocks\": 1,\n",
    "    \"num_classes\": 5, \n",
    "}\n",
    "print(config)\n",
    "model = Transformer2DResnet(config)\n",
    "\n",
    "yhat = model(x)"
   ]
  },
  {
   "cell_type": "markdown",
   "metadata": {},
   "source": [
    "Model 1D\n",
    "Transofrmer block with 16 hidden units\n",
    "Dropout  0.1\n",
    "heads 4\n",
    "\n",
    "Transformer is 1D conv\n",
    "1 block\n",
    "1 positional encoding"
   ]
  },
  {
   "cell_type": "code",
   "execution_count": 27,
   "metadata": {},
   "outputs": [],
   "source": [
    "from src import metrics\n",
    "\n",
    "f1micro = metrics.F1Score(average='micro')\n",
    "f1macro = metrics.F1Score(average='macro')\n",
    "precision = metrics.Precision('micro')\n",
    "recall = metrics.Recall('macro')\n",
    "accuracy = metrics.Accuracy()"
   ]
  },
  {
   "cell_type": "code",
   "execution_count": 245,
   "metadata": {},
   "outputs": [
    {
     "data": {
      "text/plain": [
       "<Experiment: artifact_location='/Users/francesca/code_repo/MADS-exam-25/notebooks/mlruns/9', creation_time=1737451851340, experiment_id='9', last_update_time=1737451851340, lifecycle_stage='active', name='Transformer2DResNet', tags={}>"
      ]
     },
     "execution_count": 245,
     "metadata": {},
     "output_type": "execute_result"
    }
   ],
   "source": [
    "import mlflow\n",
    "mlflow.set_tracking_uri(\"sqlite:///mads_exam.db\")\n",
    "mlflow.set_experiment(\"Transformer2DResNet\")"
   ]
  },
  {
   "cell_type": "code",
   "execution_count": 239,
   "metadata": {},
   "outputs": [
    {
     "data": {
      "text/plain": [
       "Transformer2DResnet(\n",
       "  (conv2d): Conv2d(1, 128, kernel_size=(3, 3), stride=(2, 2), padding=(1, 1))\n",
       "  (resnet_block): ResNetBlock2D(\n",
       "    (conv1): Conv2d(128, 128, kernel_size=(3, 3), stride=(1, 1), padding=(1, 1))\n",
       "    (bn1): BatchNorm2d(128, eps=1e-05, momentum=0.1, affine=True, track_running_stats=True)\n",
       "    (relu): ReLU()\n",
       "    (conv2): Conv2d(128, 128, kernel_size=(3, 3), stride=(1, 1), padding=(1, 1))\n",
       "    (bn2): BatchNorm2d(128, eps=1e-05, momentum=0.1, affine=True, track_running_stats=True)\n",
       "    (projection): Identity()\n",
       "  )\n",
       "  (pos_encoder): PositionalEncoding(\n",
       "    (dropout): Dropout(p=0.1, inplace=False)\n",
       "  )\n",
       "  (transformer_blocks): ModuleList(\n",
       "    (0): TransformerBlock(\n",
       "      (attention): MultiheadAttention(\n",
       "        (out_proj): NonDynamicallyQuantizableLinear(in_features=128, out_features=128, bias=True)\n",
       "      )\n",
       "      (ff): Sequential(\n",
       "        (0): Linear(in_features=128, out_features=128, bias=True)\n",
       "        (1): ReLU()\n",
       "        (2): Linear(in_features=128, out_features=128, bias=True)\n",
       "      )\n",
       "      (layer_norm1): LayerNorm((128,), eps=1e-05, elementwise_affine=True)\n",
       "      (layer_norm2): LayerNorm((128,), eps=1e-05, elementwise_affine=True)\n",
       "    )\n",
       "  )\n",
       "  (out): Sequential(\n",
       "    (0): Linear(in_features=128, out_features=64, bias=True)\n",
       "    (1): ReLU()\n",
       "    (2): Dropout(p=0.1, inplace=False)\n",
       "    (3): Linear(in_features=64, out_features=5, bias=True)\n",
       "  )\n",
       ")"
      ]
     },
     "execution_count": 239,
     "metadata": {},
     "output_type": "execute_result"
    }
   ],
   "source": [
    "model"
   ]
  },
  {
   "cell_type": "code",
   "execution_count": 247,
   "metadata": {},
   "outputs": [
    {
     "name": "stderr",
     "output_type": "stream",
     "text": [
      "\u001b[32m2025-01-21 11:37:15.807\u001b[0m | \u001b[1mINFO    \u001b[0m | \u001b[36mmltrainer.trainer\u001b[0m:\u001b[36mdir_add_timestamp\u001b[0m:\u001b[36m29\u001b[0m - \u001b[1mLogging to logs/heart2D/20250121-113715\u001b[0m\n",
      "100%|\u001b[38;2;30;71;6m██████████\u001b[0m| 1718/1718 [00:42<00:00, 40.69it/s]\n",
      "\u001b[32m2025-01-21 11:37:59.718\u001b[0m | \u001b[1mINFO    \u001b[0m | \u001b[36mmltrainer.trainer\u001b[0m:\u001b[36mreport\u001b[0m:\u001b[36m191\u001b[0m - \u001b[1mEpoch 0 train 0.3412 test 0.3055 metric ['0.8996', '0.8996', '0.6858', '0.8996', '0.9032']\u001b[0m\n",
      "100%|\u001b[38;2;30;71;6m██████████\u001b[0m| 1718/1718 [00:42<00:00, 40.46it/s]\n",
      "\u001b[32m2025-01-21 11:38:43.834\u001b[0m | \u001b[1mINFO    \u001b[0m | \u001b[36mmltrainer.trainer\u001b[0m:\u001b[36mreport\u001b[0m:\u001b[36m191\u001b[0m - \u001b[1mEpoch 1 train 0.2298 test 0.5381 metric ['0.7835', '0.7835', '0.5929', '0.7835', '0.8879']\u001b[0m\n",
      "100%|\u001b[38;2;30;71;6m██████████\u001b[0m| 1718/1718 [00:43<00:00, 39.68it/s]\n",
      "\u001b[32m2025-01-21 11:39:28.800\u001b[0m | \u001b[1mINFO    \u001b[0m | \u001b[36mmltrainer.trainer\u001b[0m:\u001b[36mreport\u001b[0m:\u001b[36m191\u001b[0m - \u001b[1mEpoch 2 train 0.1876 test 0.2189 metric ['0.9138', '0.9138', '0.7120', '0.9138', '0.9291']\u001b[0m\n",
      "100%|\u001b[38;2;30;71;6m██████████\u001b[0m| 1718/1718 [00:43<00:00, 39.60it/s]\n",
      "\u001b[32m2025-01-21 11:40:13.831\u001b[0m | \u001b[1mINFO    \u001b[0m | \u001b[36mmltrainer.trainer\u001b[0m:\u001b[36mreport\u001b[0m:\u001b[36m191\u001b[0m - \u001b[1mEpoch 3 train 0.1623 test 0.1896 metric ['0.9283', '0.9283', '0.7591', '0.9283', '0.9308']\u001b[0m\n",
      "100%|\u001b[38;2;30;71;6m██████████\u001b[0m| 1718/1718 [00:42<00:00, 40.44it/s]\n",
      "\u001b[32m2025-01-21 11:40:57.997\u001b[0m | \u001b[1mINFO    \u001b[0m | \u001b[36mmltrainer.trainer\u001b[0m:\u001b[36mreport\u001b[0m:\u001b[36m191\u001b[0m - \u001b[1mEpoch 4 train 0.1368 test 0.2598 metric ['0.9033', '0.9033', '0.6853', '0.9033', '0.9138']\u001b[0m\n",
      "100%|\u001b[38;2;30;71;6m██████████\u001b[0m| 1718/1718 [00:42<00:00, 40.30it/s]\n",
      "\u001b[32m2025-01-21 11:41:42.288\u001b[0m | \u001b[1mINFO    \u001b[0m | \u001b[36mmltrainer.trainer\u001b[0m:\u001b[36mreport\u001b[0m:\u001b[36m191\u001b[0m - \u001b[1mEpoch 5 train 0.1277 test 0.1936 metric ['0.9283', '0.9283', '0.7469', '0.9283', '0.9389']\u001b[0m\n",
      "100%|\u001b[38;2;30;71;6m██████████\u001b[0m| 1718/1718 [00:42<00:00, 40.22it/s]\n",
      "\u001b[32m2025-01-21 11:42:26.673\u001b[0m | \u001b[1mINFO    \u001b[0m | \u001b[36mmltrainer.trainer\u001b[0m:\u001b[36mreport\u001b[0m:\u001b[36m191\u001b[0m - \u001b[1mEpoch 6 train 0.1198 test 0.1628 metric ['0.9472', '0.9472', '0.7933', '0.9472', '0.9285']\u001b[0m\n",
      "100%|\u001b[38;2;30;71;6m██████████\u001b[0m| 1718/1718 [00:46<00:00, 37.25it/s]\n",
      "\u001b[32m2025-01-21 11:43:14.458\u001b[0m | \u001b[1mINFO    \u001b[0m | \u001b[36mmltrainer.trainer\u001b[0m:\u001b[36mreport\u001b[0m:\u001b[36m191\u001b[0m - \u001b[1mEpoch 7 train 0.1117 test 0.1747 metric ['0.9437', '0.9437', '0.7846', '0.9437', '0.9446']\u001b[0m\n",
      "100%|\u001b[38;2;30;71;6m██████████\u001b[0m| 1718/1718 [00:43<00:00, 39.51it/s]\n",
      "\u001b[32m2025-01-21 11:43:59.581\u001b[0m | \u001b[1mINFO    \u001b[0m | \u001b[36mmltrainer.trainer\u001b[0m:\u001b[36mreport\u001b[0m:\u001b[36m191\u001b[0m - \u001b[1mEpoch 8 train 0.1027 test 0.1362 metric ['0.9554', '0.9554', '0.8277', '0.9554', '0.9530']\u001b[0m\n",
      "100%|\u001b[38;2;30;71;6m██████████\u001b[0m| 1718/1718 [00:42<00:00, 40.52it/s]\n",
      "\u001b[32m2025-01-21 11:44:43.622\u001b[0m | \u001b[1mINFO    \u001b[0m | \u001b[36mmltrainer.trainer\u001b[0m:\u001b[36mreport\u001b[0m:\u001b[36m191\u001b[0m - \u001b[1mEpoch 9 train 0.0970 test 0.1913 metric ['0.9267', '0.9267', '0.7507', '0.9267', '0.9317']\u001b[0m\n",
      "100%|\u001b[38;2;30;71;6m██████████\u001b[0m| 1718/1718 [00:42<00:00, 40.42it/s]\n",
      "\u001b[32m2025-01-21 11:45:27.779\u001b[0m | \u001b[1mINFO    \u001b[0m | \u001b[36mmltrainer.trainer\u001b[0m:\u001b[36mreport\u001b[0m:\u001b[36m191\u001b[0m - \u001b[1mEpoch 10 train 0.0907 test 0.1730 metric ['0.9403', '0.9403', '0.7838', '0.9403', '0.9307']\u001b[0m\n",
      "100%|\u001b[38;2;30;71;6m██████████\u001b[0m| 1718/1718 [00:42<00:00, 40.45it/s]\n",
      "\u001b[32m2025-01-21 11:46:11.892\u001b[0m | \u001b[1mINFO    \u001b[0m | \u001b[36mmltrainer.trainer\u001b[0m:\u001b[36mreport\u001b[0m:\u001b[36m191\u001b[0m - \u001b[1mEpoch 11 train 0.0885 test 0.1525 metric ['0.9469', '0.9469', '0.7802', '0.9469', '0.9474']\u001b[0m\n",
      "100%|\u001b[38;2;30;71;6m██████████\u001b[0m| 1718/1718 [00:42<00:00, 40.41it/s]\n",
      "\u001b[32m2025-01-21 11:46:56.142\u001b[0m | \u001b[1mINFO    \u001b[0m | \u001b[36mmltrainer.trainer\u001b[0m:\u001b[36mreport\u001b[0m:\u001b[36m191\u001b[0m - \u001b[1mEpoch 12 train 0.0823 test 0.0990 metric ['0.9688', '0.9688', '0.8496', '0.9688', '0.9454']\u001b[0m\n",
      "100%|\u001b[38;2;30;71;6m██████████\u001b[0m| 1718/1718 [00:42<00:00, 40.34it/s]\n",
      "\u001b[32m2025-01-21 11:47:40.368\u001b[0m | \u001b[1mINFO    \u001b[0m | \u001b[36mmltrainer.trainer\u001b[0m:\u001b[36mreport\u001b[0m:\u001b[36m191\u001b[0m - \u001b[1mEpoch 13 train 0.0800 test 0.1545 metric ['0.9488', '0.9488', '0.8135', '0.9488', '0.9439']\u001b[0m\n",
      "100%|\u001b[38;2;30;71;6m██████████\u001b[0m| 1718/1718 [00:42<00:00, 40.17it/s]\n",
      "\u001b[32m2025-01-21 11:48:24.777\u001b[0m | \u001b[1mINFO    \u001b[0m | \u001b[36mmltrainer.trainer\u001b[0m:\u001b[36mreport\u001b[0m:\u001b[36m191\u001b[0m - \u001b[1mEpoch 14 train 0.0779 test 0.1521 metric ['0.9566', '0.9566', '0.8421', '0.9566', '0.9477']\u001b[0m\n",
      "100%|\u001b[38;2;30;71;6m██████████\u001b[0m| 15/15 [11:08<00:00, 44.60s/it]\n"
     ]
    }
   ],
   "source": [
    "# trainer voor model 2DTransformer with Resnets, fully oversampled dataset, without class weights + ReduceLROnPlateau scheduler\n",
    "# training full oversampled dataset\n",
    "from mltrainer import Trainer, TrainerSettings, ReportTypes\n",
    "loss_fn = torch.nn.CrossEntropyLoss()\n",
    "\n",
    "with mlflow.start_run():\n",
    "    optimizer = torch.optim.Adam\n",
    "\n",
    "    settings = TrainerSettings(\n",
    "        epochs=15,\n",
    "        metrics=[accuracy, f1micro, f1macro, precision, recall],\n",
    "        logdir=\"logs/heart2D\",\n",
    "        train_steps=len(trainstreamer) //5,\n",
    "        valid_steps=len(teststreamer) //5,\n",
    "        reporttypes=[ReportTypes.TENSORBOARD, ReportTypes.MLFLOW],\n",
    "        scheduler_kwargs={\"factor\": 0.7, \"patience\": 4},\n",
    "        #scheduler_kwargs=None,\n",
    "        earlystop_kwargs=None\n",
    "    )\n",
    "\n",
    "    mlflow.set_tag(\"model\", \"Transfomer2D_ResNet\")\n",
    "    mlflow.set_tag(\"dataset\", \"heart_big_fully_oversampled\")\n",
    "    mlflow.log_params(config)\n",
    "    mlflow.log_param(\"epochs\", settings.epochs)\n",
    "    mlflow.log_param(\"optimizer\", str(optimizer))\n",
    "    mlflow.log_param(\"scheduler\", \"None\")\n",
    "    mlflow.log_param(\"earlystop\", \"None\")\n",
    "    mlflow.log_params(settings.optimizer_kwargs)\n",
    "\n",
    "    trainer = Trainer(\n",
    "        model=model,\n",
    "        settings=settings,\n",
    "        loss_fn=loss_fn,\n",
    "        optimizer=optimizer,\n",
    "        traindataloader=trainstreamer.stream(),\n",
    "        validdataloader=teststreamer.stream(),\n",
    "        scheduler=torch.optim.lr_scheduler.ReduceLROnPlateau,\n",
    "        #scheduler=None\n",
    "        )\n",
    "    trainer.loop()"
   ]
  },
  {
   "cell_type": "code",
   "execution_count": 248,
   "metadata": {},
   "outputs": [
    {
     "name": "stdout",
     "output_type": "stream",
     "text": [
      "{'hidden': 128, 'dropout': 0.1, 'output': 5, 'num_heads': 8, 'num_blocks': 1, 'num_classes': 5}\n",
      "test_results=[0.961 0.864 0.954 0.865 0.986]\n"
     ]
    },
    {
     "data": {
      "text/plain": [
       "[Text(0.5, 23.52222222222222, 'Predicted'),\n",
       " Text(50.722222222222214, 0.5, 'Target')]"
      ]
     },
     "execution_count": 248,
     "metadata": {},
     "output_type": "execute_result"
    },
    {
     "data": {
      "image/png": "[encoded data removed]",
      "text/plain": [
       "<Figure size 640x480 with 2 Axes>"
      ]
     },
     "metadata": {},
     "output_type": "display_data"
    }
   ],
   "source": [
    "# test res voor model 2DTransformer with Resnets, fully oversampled dataset, without class weights + ReduceLROnPlateau scheduler\n",
    "y_true = []\n",
    "y_pred = []\n",
    "#model = model.to(\"cpu\")\n",
    "\n",
    "#testdata = [(x.to(device), y.to(device)) for x, y in teststreamer.stream()]\n",
    "testdata = teststreamer.stream()\n",
    "for _ in range(len(teststreamer)):\n",
    "    X, y = next(testdata)\n",
    "    \n",
    "    yhat = model(X)\n",
    "    yhat = yhat.argmax(dim=1) # we get the one with the highest probability\n",
    "    y_pred.append(yhat.cpu().tolist())\n",
    "    y_true.append(y.cpu().tolist())\n",
    "\n",
    "yhat = [x for y in y_pred for x in y]\n",
    "y = [x for y in y_true for x in y]\n",
    "\n",
    "cfm = confusion_matrix(y, yhat)\n",
    "cfm = cfm / np.sum(cfm, axis=1, keepdims=True)\n",
    "print(config)\n",
    "print(f'test_results={np.round(cfm[cfm > 0.3], 3)}')\n",
    "plot = sns.heatmap(cfm, annot=cfm, fmt=\".3f\")\n",
    "plot.set(xlabel=\"Predicted\", ylabel=\"Target\")"
   ]
  },
  {
   "cell_type": "code",
   "execution_count": null,
   "metadata": {},
   "outputs": [
    {
     "name": "stdout",
     "output_type": "stream",
     "text": [
      "{'hidden': 128, 'dropout': 0.1, 'output': 5, 'num_heads': 8, 'num_blocks': 1, 'num_classes': 5}\n",
      "test_results=[0.947 0.868 0.955 0.889 0.988]\n"
     ]
    },
    {
     "data": {
      "text/plain": [
       "[Text(0.5, 23.52222222222222, 'Predicted'),\n",
       " Text(50.722222222222214, 0.5, 'Target')]"
      ]
     },
     "metadata": {},
     "output_type": "display_data"
    },
    {
     "data": {
      "image/png": "[encoded data removed]",
      "text/plain": [
       "<Figure size 640x480 with 2 Axes>"
      ]
     },
     "metadata": {},
     "output_type": "display_data"
    }
   ],
   "source": [
    "# test res voor model 2DTransformer with Resnets, fully oversampled dataset, without class weights without ReduceLROnPlateau scheduler\n",
    "y_true = []\n",
    "y_pred = []\n",
    "#model = model.to(\"cpu\")\n",
    "\n",
    "#testdata = [(x.to(device), y.to(device)) for x, y in teststreamer.stream()]\n",
    "testdata = teststreamer.stream()\n",
    "for _ in range(len(teststreamer)):\n",
    "    X, y = next(testdata)\n",
    "    \n",
    "    yhat = model(X)\n",
    "    yhat = yhat.argmax(dim=1) # we get the one with the highest probability\n",
    "    y_pred.append(yhat.cpu().tolist())\n",
    "    y_true.append(y.cpu().tolist())\n",
    "\n",
    "yhat = [x for y in y_pred for x in y]\n",
    "y = [x for y in y_true for x in y]\n",
    "\n",
    "cfm = confusion_matrix(y, yhat)\n",
    "cfm = cfm / np.sum(cfm, axis=1, keepdims=True)\n",
    "print(config)\n",
    "print(f'test_results={np.round(cfm[cfm > 0.3], 3)}')\n",
    "plot = sns.heatmap(cfm, annot=cfm, fmt=\".3f\")\n",
    "plot.set(xlabel=\"Predicted\", ylabel=\"Target\")"
   ]
  },
  {
   "cell_type": "code",
   "execution_count": 76,
   "metadata": {},
   "outputs": [
    {
     "name": "stderr",
     "output_type": "stream",
     "text": [
      "\u001b[32m2025-01-19 18:23:04.452\u001b[0m | \u001b[1mINFO    \u001b[0m | \u001b[36mmltrainer.trainer\u001b[0m:\u001b[36mdir_add_timestamp\u001b[0m:\u001b[36m29\u001b[0m - \u001b[1mLogging to logs/heart2D/20250119-182304\u001b[0m\n",
      "100%|\u001b[38;2;30;71;6m██████████\u001b[0m| 905/905 [00:19<00:00, 45.84it/s]\n",
      "\u001b[32m2025-01-19 18:23:25.202\u001b[0m | \u001b[1mINFO    \u001b[0m | \u001b[36mmltrainer.trainer\u001b[0m:\u001b[36mreport\u001b[0m:\u001b[36m191\u001b[0m - \u001b[1mEpoch 0 train 0.3048 test 0.1690 metric ['0.9543', '0.9543', '0.8139', '0.9543', '0.8658']\u001b[0m\n",
      "100%|\u001b[38;2;30;71;6m██████████\u001b[0m| 905/905 [00:19<00:00, 46.23it/s]\n",
      "\u001b[32m2025-01-19 18:23:45.818\u001b[0m | \u001b[1mINFO    \u001b[0m | \u001b[36mmltrainer.trainer\u001b[0m:\u001b[36mreport\u001b[0m:\u001b[36m191\u001b[0m - \u001b[1mEpoch 1 train 0.2617 test 0.1622 metric ['0.9478', '0.9478', '0.7916', '0.9478', '0.8617']\u001b[0m\n",
      "100%|\u001b[38;2;30;71;6m██████████\u001b[0m| 905/905 [00:19<00:00, 45.78it/s]\n",
      "\u001b[32m2025-01-19 18:24:06.592\u001b[0m | \u001b[1mINFO    \u001b[0m | \u001b[36mmltrainer.trainer\u001b[0m:\u001b[36mreport\u001b[0m:\u001b[36m191\u001b[0m - \u001b[1mEpoch 2 train 0.2246 test 0.1652 metric ['0.9534', '0.9534', '0.8197', '0.9534', '0.9053']\u001b[0m\n",
      "100%|\u001b[38;2;30;71;6m██████████\u001b[0m| 905/905 [00:19<00:00, 45.39it/s]\n",
      "\u001b[32m2025-01-19 18:24:27.616\u001b[0m | \u001b[1mINFO    \u001b[0m | \u001b[36mmltrainer.trainer\u001b[0m:\u001b[36mreport\u001b[0m:\u001b[36m191\u001b[0m - \u001b[1mEpoch 3 train 0.2028 test 0.1790 metric ['0.9506', '0.9506', '0.7871', '0.9506', '0.9091']\u001b[0m\n",
      "100%|\u001b[38;2;30;71;6m██████████\u001b[0m| 905/905 [00:20<00:00, 44.85it/s]\n",
      "\u001b[32m2025-01-19 18:24:48.836\u001b[0m | \u001b[1mINFO    \u001b[0m | \u001b[36mmltrainer.trainer\u001b[0m:\u001b[36mreport\u001b[0m:\u001b[36m191\u001b[0m - \u001b[1mEpoch 4 train 0.1994 test 0.1110 metric ['0.9655', '0.9655', '0.8558', '0.9655', '0.8882']\u001b[0m\n",
      "100%|\u001b[38;2;30;71;6m██████████\u001b[0m| 905/905 [00:19<00:00, 45.60it/s]\n",
      "\u001b[32m2025-01-19 18:25:09.701\u001b[0m | \u001b[1mINFO    \u001b[0m | \u001b[36mmltrainer.trainer\u001b[0m:\u001b[36mreport\u001b[0m:\u001b[36m191\u001b[0m - \u001b[1mEpoch 5 train 0.1877 test 0.1203 metric ['0.9653', '0.9653', '0.8604', '0.9653', '0.9034']\u001b[0m\n",
      "100%|\u001b[38;2;30;71;6m██████████\u001b[0m| 905/905 [00:20<00:00, 45.22it/s]\n",
      "\u001b[32m2025-01-19 18:25:30.730\u001b[0m | \u001b[1mINFO    \u001b[0m | \u001b[36mmltrainer.trainer\u001b[0m:\u001b[36mreport\u001b[0m:\u001b[36m191\u001b[0m - \u001b[1mEpoch 6 train 0.1775 test 0.1362 metric ['0.9602', '0.9602', '0.8393', '0.9602', '0.9027']\u001b[0m\n",
      "100%|\u001b[38;2;30;71;6m██████████\u001b[0m| 905/905 [00:19<00:00, 46.01it/s]\n",
      "\u001b[32m2025-01-19 18:25:51.458\u001b[0m | \u001b[1mINFO    \u001b[0m | \u001b[36mmltrainer.trainer\u001b[0m:\u001b[36mreport\u001b[0m:\u001b[36m191\u001b[0m - \u001b[1mEpoch 7 train 0.1697 test 0.1197 metric ['0.9694', '0.9694', '0.8792', '0.9694', '0.9159']\u001b[0m\n",
      "100%|\u001b[38;2;30;71;6m██████████\u001b[0m| 905/905 [00:19<00:00, 45.50it/s]\n",
      "\u001b[32m2025-01-19 18:26:12.352\u001b[0m | \u001b[1mINFO    \u001b[0m | \u001b[36mmltrainer.trainer\u001b[0m:\u001b[36mreport\u001b[0m:\u001b[36m191\u001b[0m - \u001b[1mEpoch 8 train 0.1604 test 0.1387 metric ['0.9573', '0.9573', '0.8395', '0.9573', '0.9260']\u001b[0m\n",
      "100%|\u001b[38;2;30;71;6m██████████\u001b[0m| 905/905 [00:19<00:00, 45.69it/s]\n",
      "\u001b[32m2025-01-19 18:26:33.163\u001b[0m | \u001b[1mINFO    \u001b[0m | \u001b[36mmltrainer.trainer\u001b[0m:\u001b[36mreport\u001b[0m:\u001b[36m191\u001b[0m - \u001b[1mEpoch 9 train 0.1532 test 0.1496 metric ['0.9534', '0.9534', '0.8252', '0.9534', '0.9162']\u001b[0m\n",
      "100%|\u001b[38;2;30;71;6m██████████\u001b[0m| 905/905 [00:19<00:00, 45.58it/s]\n",
      "\u001b[32m2025-01-19 18:26:54.014\u001b[0m | \u001b[1mINFO    \u001b[0m | \u001b[36mmltrainer.trainer\u001b[0m:\u001b[36mreport\u001b[0m:\u001b[36m191\u001b[0m - \u001b[1mEpoch 10 train 0.1329 test 0.1002 metric ['0.9678', '0.9678', '0.8605', '0.9678', '0.9297']\u001b[0m\n",
      "100%|\u001b[38;2;30;71;6m██████████\u001b[0m| 905/905 [00:19<00:00, 45.60it/s]\n",
      "\u001b[32m2025-01-19 18:27:14.897\u001b[0m | \u001b[1mINFO    \u001b[0m | \u001b[36mmltrainer.trainer\u001b[0m:\u001b[36mreport\u001b[0m:\u001b[36m191\u001b[0m - \u001b[1mEpoch 11 train 0.1362 test 0.1031 metric ['0.9694', '0.9694', '0.8767', '0.9694', '0.9253']\u001b[0m\n",
      "100%|\u001b[38;2;30;71;6m██████████\u001b[0m| 905/905 [00:19<00:00, 45.34it/s]\n",
      "\u001b[32m2025-01-19 18:27:35.877\u001b[0m | \u001b[1mINFO    \u001b[0m | \u001b[36mmltrainer.trainer\u001b[0m:\u001b[36mreport\u001b[0m:\u001b[36m191\u001b[0m - \u001b[1mEpoch 12 train 0.1280 test 0.0989 metric ['0.9720', '0.9720', '0.8867', '0.9720', '0.9246']\u001b[0m\n",
      "100%|\u001b[38;2;30;71;6m██████████\u001b[0m| 905/905 [00:20<00:00, 45.21it/s]\n",
      "\u001b[32m2025-01-19 18:27:56.940\u001b[0m | \u001b[1mINFO    \u001b[0m | \u001b[36mmltrainer.trainer\u001b[0m:\u001b[36mreport\u001b[0m:\u001b[36m191\u001b[0m - \u001b[1mEpoch 13 train 0.1277 test 0.1065 metric ['0.9678', '0.9678', '0.8644', '0.9678', '0.9295']\u001b[0m\n",
      "100%|\u001b[38;2;30;71;6m██████████\u001b[0m| 905/905 [00:20<00:00, 44.84it/s]\n",
      "\u001b[32m2025-01-19 18:28:18.149\u001b[0m | \u001b[1mINFO    \u001b[0m | \u001b[36mmltrainer.trainer\u001b[0m:\u001b[36mreport\u001b[0m:\u001b[36m191\u001b[0m - \u001b[1mEpoch 14 train 0.1185 test 0.1557 metric ['0.9501', '0.9501', '0.8003', '0.9501', '0.9309']\u001b[0m\n",
      "100%|\u001b[38;2;30;71;6m██████████\u001b[0m| 15/15 [05:13<00:00, 20.91s/it]\n"
     ]
    }
   ],
   "source": [
    "# trainer without class weights + ReduceLROnPlateau scheduler\n",
    "from mltrainer import Trainer, TrainerSettings, ReportTypes\n",
    "loss_fn = torch.nn.CrossEntropyLoss()\n",
    "\n",
    "with mlflow.start_run():\n",
    "    optimizer = torch.optim.Adam\n",
    "\n",
    "    settings = TrainerSettings(\n",
    "        epochs=15,\n",
    "        metrics=[accuracy, f1micro, f1macro, precision, recall],\n",
    "        logdir=\"logs/heart2D\",\n",
    "        train_steps=len(trainstreamer) //5,\n",
    "        valid_steps=len(teststreamer) //5,\n",
    "        reporttypes=[ReportTypes.TENSORBOARD, ReportTypes.MLFLOW],\n",
    "        scheduler_kwargs={\"factor\": 0.7, \"patience\": 4},\n",
    "        #scheduler_kwargs=None,\n",
    "        earlystop_kwargs=None\n",
    "    )\n",
    "\n",
    "    mlflow.set_tag(\"model\", \"Transfomer\")\n",
    "    mlflow.set_tag(\"dataset\", \"heart_small_binary\")\n",
    "    mlflow.log_params(config)\n",
    "    mlflow.log_param(\"epochs\", settings.epochs)\n",
    "    mlflow.log_param(\"optimizer\", str(optimizer))\n",
    "    mlflow.log_param(\"scheduler\", \"None\")\n",
    "    mlflow.log_param(\"earlystop\", \"None\")\n",
    "    mlflow.log_params(settings.optimizer_kwargs)\n",
    "\n",
    "    trainer = Trainer(\n",
    "        model=model,\n",
    "        settings=settings,\n",
    "        loss_fn=loss_fn,\n",
    "        optimizer=optimizer,\n",
    "        traindataloader=trainstreamer.stream(),\n",
    "        validdataloader=teststreamer.stream(),\n",
    "        scheduler=torch.optim.lr_scheduler.ReduceLROnPlateau,\n",
    "        #scheduler=None\n",
    "        )\n",
    "    trainer.loop()"
   ]
  },
  {
   "cell_type": "code",
   "execution_count": 77,
   "metadata": {},
   "outputs": [
    {
     "name": "stdout",
     "output_type": "stream",
     "text": [
      "{'hidden': 128, 'dropout': 0.1, 'output': 5, 'num_heads': 8, 'num_blocks': 1}\n",
      "test_results=[0.957 0.813 0.944 0.83  0.983]\n"
     ]
    },
    {
     "data": {
      "text/plain": [
       "[Text(0.5, 23.52222222222222, 'Predicted'),\n",
       " Text(50.722222222222214, 0.5, 'Target')]"
      ]
     },
     "execution_count": 77,
     "metadata": {},
     "output_type": "execute_result"
    },
    {
     "data": {
      "image/png": "[encoded data removed]",
      "text/plain": [
       "<Figure size 640x480 with 2 Axes>"
      ]
     },
     "metadata": {},
     "output_type": "display_data"
    }
   ],
   "source": [
    "import seaborn as sns\n",
    "import numpy as np\n",
    "\n",
    "\n",
    "y_true = []\n",
    "y_pred = []\n",
    "#model = model.to(\"cpu\")\n",
    "\n",
    "#testdata = [(x.to(device), y.to(device)) for x, y in teststreamer.stream()]\n",
    "testdata = teststreamer.stream()\n",
    "for _ in range(len(teststreamer)):\n",
    "    X, y = next(testdata)\n",
    "    \n",
    "    yhat = model(X)\n",
    "    yhat = yhat.argmax(dim=1) # we get the one with the highest probability\n",
    "    y_pred.append(yhat.cpu().tolist())\n",
    "    y_true.append(y.cpu().tolist())\n",
    "\n",
    "yhat = [x for y in y_pred for x in y]\n",
    "y = [x for y in y_true for x in y]\n",
    "\n",
    "cfm = confusion_matrix(y, yhat)\n",
    "cfm = cfm / np.sum(cfm, axis=1, keepdims=True)\n",
    "print(config)\n",
    "print(f'test_results={np.round(cfm[cfm > 0.3], 3)}')\n",
    "plot = sns.heatmap(cfm, annot=cfm, fmt=\".3f\")\n",
    "plot.set(xlabel=\"Predicted\", ylabel=\"Target\")"
   ]
  },
  {
   "cell_type": "code",
   "execution_count": 33,
   "metadata": {},
   "outputs": [],
   "source": [
    "# difference between test and train\n",
    "def calculate_difference(train_scores_str, test_scores_str):\n",
    "    # Remove the brackets and split the string by spaces\n",
    "    str_list = test_scores_str.strip('[]').split()\n",
    "\n",
    "    # Convert each element to a float\n",
    "    test_scores_str = [float(num) for num in str_list]\n",
    "\n",
    "    test_scores = [float(x) for x in test_scores_str]\n",
    "    train_scores = [float(x) for x in train_scores_str]\n",
    "    difference = [str(np.round(test - train, 3)) for test, train in zip(test_scores, train_scores)]\n",
    "\n",
    "    return difference\n"
   ]
  },
  {
   "cell_type": "code",
   "execution_count": 45,
   "metadata": {},
   "outputs": [
    {
     "name": "stdout",
     "output_type": "stream",
     "text": [
      "['0.022', '-0.119', '0.08', '-0.115', '0.047']\n",
      "difference: ['0.022', '-0.119', '0.08', '-0.115', '0.047']\n"
     ]
    }
   ],
   "source": [
    "training_results=['0.9685', '0.9685', '0.8796', '0.9685', '0.9429']\n",
    "test_results='[0.991 0.85  0.96  0.854 0.99 ]'\n",
    "print(f'difference: {calculate_difference(training_results, test_results)}')"
   ]
  },
  {
   "cell_type": "markdown",
   "metadata": {},
   "source": [
    "## Training with rebalanced class weights"
   ]
  },
  {
   "cell_type": "code",
   "execution_count": 78,
   "metadata": {},
   "outputs": [],
   "source": [
    "#calculate class weights\n",
    "classes = train_df.target.unique()\n",
    "class_weights = compute_class_weight('balanced', classes=classes, y=train_df.target)\n",
    "class_weights_tensor = torch.tensor(class_weights, dtype=torch.float32).to(device)\n",
    "loss_fn = torch.nn.CrossEntropyLoss(weight=class_weights_tensor)"
   ]
  },
  {
   "cell_type": "code",
   "execution_count": 89,
   "metadata": {},
   "outputs": [
    {
     "name": "stdout",
     "output_type": "stream",
     "text": [
      "{'hidden': 128, 'dropout': 0.1, 'output': 5, 'num_heads': 8, 'num_blocks': 1, 'shape': (16, 12)}\n"
     ]
    }
   ],
   "source": [
    "config = {\n",
    "    \"hidden\": 128,\n",
    "    \"dropout\": 0.1,\n",
    "    \"output\": 5,\n",
    "    \"num_heads\": 8,\n",
    "    \"num_blocks\": 1,\n",
    "    \"shape\": (16, 12)\n",
    "}\n",
    "print(config)\n",
    "model = models.Transformer(config)"
   ]
  },
  {
   "cell_type": "code",
   "execution_count": 90,
   "metadata": {},
   "outputs": [
    {
     "name": "stderr",
     "output_type": "stream",
     "text": [
      "\u001b[32m2025-01-19 18:40:34.408\u001b[0m | \u001b[1mINFO    \u001b[0m | \u001b[36mmltrainer.trainer\u001b[0m:\u001b[36mdir_add_timestamp\u001b[0m:\u001b[36m29\u001b[0m - \u001b[1mLogging to logs/heart2D/20250119-184034\u001b[0m\n",
      "100%|\u001b[38;2;30;71;6m██████████\u001b[0m| 905/905 [00:19<00:00, 45.82it/s]\n",
      "\u001b[32m2025-01-19 18:40:55.176\u001b[0m | \u001b[1mINFO    \u001b[0m | \u001b[36mmltrainer.trainer\u001b[0m:\u001b[36mreport\u001b[0m:\u001b[36m191\u001b[0m - \u001b[1mEpoch 0 train 0.5298 test 0.2844 metric ['0.9118', '0.9118', '0.7042', '0.9118', '0.8527']\u001b[0m\n",
      "100%|\u001b[38;2;30;71;6m██████████\u001b[0m| 905/905 [00:19<00:00, 45.34it/s]\n",
      "\u001b[32m2025-01-19 18:41:16.141\u001b[0m | \u001b[1mINFO    \u001b[0m | \u001b[36mmltrainer.trainer\u001b[0m:\u001b[36mreport\u001b[0m:\u001b[36m191\u001b[0m - \u001b[1mEpoch 1 train 0.3111 test 0.1776 metric ['0.9488', '0.9488', '0.7764', '0.9488', '0.8434']\u001b[0m\n",
      "100%|\u001b[38;2;30;71;6m██████████\u001b[0m| 905/905 [00:19<00:00, 45.73it/s]\n",
      "\u001b[32m2025-01-19 18:41:36.935\u001b[0m | \u001b[1mINFO    \u001b[0m | \u001b[36mmltrainer.trainer\u001b[0m:\u001b[36mreport\u001b[0m:\u001b[36m191\u001b[0m - \u001b[1mEpoch 2 train 0.2630 test 0.1717 metric ['0.9435', '0.9435', '0.7881', '0.9435', '0.9076']\u001b[0m\n",
      "100%|\u001b[38;2;30;71;6m██████████\u001b[0m| 905/905 [00:19<00:00, 45.79it/s]\n",
      "\u001b[32m2025-01-19 18:41:57.707\u001b[0m | \u001b[1mINFO    \u001b[0m | \u001b[36mmltrainer.trainer\u001b[0m:\u001b[36mreport\u001b[0m:\u001b[36m191\u001b[0m - \u001b[1mEpoch 3 train 0.2298 test 0.2227 metric ['0.9350', '0.9350', '0.7751', '0.9350', '0.8820']\u001b[0m\n",
      "100%|\u001b[38;2;30;71;6m██████████\u001b[0m| 905/905 [00:19<00:00, 45.63it/s]\n",
      "\u001b[32m2025-01-19 18:42:18.533\u001b[0m | \u001b[1mINFO    \u001b[0m | \u001b[36mmltrainer.trainer\u001b[0m:\u001b[36mreport\u001b[0m:\u001b[36m191\u001b[0m - \u001b[1mEpoch 4 train 0.2119 test 0.1971 metric ['0.9446', '0.9446', '0.8123', '0.9446', '0.9057']\u001b[0m\n",
      "100%|\u001b[38;2;30;71;6m██████████\u001b[0m| 905/905 [00:19<00:00, 45.38it/s]\n",
      "\u001b[32m2025-01-19 18:42:39.519\u001b[0m | \u001b[1mINFO    \u001b[0m | \u001b[36mmltrainer.trainer\u001b[0m:\u001b[36mreport\u001b[0m:\u001b[36m191\u001b[0m - \u001b[1mEpoch 5 train 0.1972 test 0.1467 metric ['0.9561', '0.9561', '0.8240', '0.9561', '0.9042']\u001b[0m\n",
      "100%|\u001b[38;2;30;71;6m██████████\u001b[0m| 905/905 [00:19<00:00, 45.52it/s]\n",
      "\u001b[32m2025-01-19 18:43:00.409\u001b[0m | \u001b[1mINFO    \u001b[0m | \u001b[36mmltrainer.trainer\u001b[0m:\u001b[36mreport\u001b[0m:\u001b[36m191\u001b[0m - \u001b[1mEpoch 6 train 0.1796 test 0.1272 metric ['0.9644', '0.9644', '0.8668', '0.9644', '0.9057']\u001b[0m\n",
      "100%|\u001b[38;2;30;71;6m██████████\u001b[0m| 905/905 [00:19<00:00, 45.80it/s]\n",
      "\u001b[32m2025-01-19 18:43:21.170\u001b[0m | \u001b[1mINFO    \u001b[0m | \u001b[36mmltrainer.trainer\u001b[0m:\u001b[36mreport\u001b[0m:\u001b[36m191\u001b[0m - \u001b[1mEpoch 7 train 0.1763 test 0.1177 metric ['0.9678', '0.9678', '0.8714', '0.9678', '0.9105']\u001b[0m\n",
      "100%|\u001b[38;2;30;71;6m██████████\u001b[0m| 905/905 [00:19<00:00, 45.83it/s]\n",
      "\u001b[32m2025-01-19 18:43:41.917\u001b[0m | \u001b[1mINFO    \u001b[0m | \u001b[36mmltrainer.trainer\u001b[0m:\u001b[36mreport\u001b[0m:\u001b[36m191\u001b[0m - \u001b[1mEpoch 8 train 0.1611 test 0.1481 metric ['0.9552', '0.9552', '0.8180', '0.9552', '0.9136']\u001b[0m\n",
      "100%|\u001b[38;2;30;71;6m██████████\u001b[0m| 905/905 [00:20<00:00, 45.18it/s]\n",
      "\u001b[32m2025-01-19 18:44:03.005\u001b[0m | \u001b[1mINFO    \u001b[0m | \u001b[36mmltrainer.trainer\u001b[0m:\u001b[36mreport\u001b[0m:\u001b[36m191\u001b[0m - \u001b[1mEpoch 9 train 0.1594 test 0.1405 metric ['0.9600', '0.9600', '0.8349', '0.9600', '0.9102']\u001b[0m\n",
      "100%|\u001b[38;2;30;71;6m██████████\u001b[0m| 905/905 [00:19<00:00, 45.83it/s]\n",
      "\u001b[32m2025-01-19 18:44:23.748\u001b[0m | \u001b[1mINFO    \u001b[0m | \u001b[36mmltrainer.trainer\u001b[0m:\u001b[36mreport\u001b[0m:\u001b[36m191\u001b[0m - \u001b[1mEpoch 10 train 0.1580 test 0.1379 metric ['0.9554', '0.9554', '0.8443', '0.9554', '0.9379']\u001b[0m\n",
      "100%|\u001b[38;2;30;71;6m██████████\u001b[0m| 905/905 [00:20<00:00, 44.21it/s]\n",
      "\u001b[32m2025-01-19 18:44:45.303\u001b[0m | \u001b[1mINFO    \u001b[0m | \u001b[36mmltrainer.trainer\u001b[0m:\u001b[36mreport\u001b[0m:\u001b[36m191\u001b[0m - \u001b[1mEpoch 11 train 0.1456 test 0.1428 metric ['0.9593', '0.9593', '0.8380', '0.9593', '0.9158']\u001b[0m\n",
      "100%|\u001b[38;2;30;71;6m██████████\u001b[0m| 905/905 [00:20<00:00, 45.20it/s]\n",
      "\u001b[32m2025-01-19 18:45:06.324\u001b[0m | \u001b[1mINFO    \u001b[0m | \u001b[36mmltrainer.trainer\u001b[0m:\u001b[36mreport\u001b[0m:\u001b[36m191\u001b[0m - \u001b[1mEpoch 12 train 0.1413 test 0.1264 metric ['0.9630', '0.9630', '0.8537', '0.9630', '0.9270']\u001b[0m\n",
      "100%|\u001b[38;2;30;71;6m██████████\u001b[0m| 905/905 [00:19<00:00, 45.98it/s]\n",
      "\u001b[32m2025-01-19 18:45:26.999\u001b[0m | \u001b[1mINFO    \u001b[0m | \u001b[36mmltrainer.trainer\u001b[0m:\u001b[36mreport\u001b[0m:\u001b[36m191\u001b[0m - \u001b[1mEpoch 13 train 0.1467 test 0.1230 metric ['0.9619', '0.9619', '0.8329', '0.9619', '0.9074']\u001b[0m\n",
      "100%|\u001b[38;2;30;71;6m██████████\u001b[0m| 905/905 [00:19<00:00, 45.47it/s]\n",
      "\u001b[32m2025-01-19 18:45:47.923\u001b[0m | \u001b[1mINFO    \u001b[0m | \u001b[36mmltrainer.trainer\u001b[0m:\u001b[36mreport\u001b[0m:\u001b[36m191\u001b[0m - \u001b[1mEpoch 14 train 0.1387 test 0.1139 metric ['0.9648', '0.9648', '0.8551', '0.9648', '0.9379']\u001b[0m\n",
      "100%|\u001b[38;2;30;71;6m██████████\u001b[0m| 15/15 [05:13<00:00, 20.90s/it]\n"
     ]
    }
   ],
   "source": [
    "from mltrainer import Trainer, TrainerSettings, ReportTypes\n",
    "\n",
    "loss_fn = torch.nn.CrossEntropyLoss()\n",
    "\n",
    "with mlflow.start_run():\n",
    "    optimizer = torch.optim.Adam\n",
    "\n",
    "    settings = TrainerSettings(\n",
    "        epochs=15,\n",
    "        metrics=[accuracy, f1micro, f1macro, precision, recall],\n",
    "        logdir=\"logs/heart2D\",\n",
    "        train_steps=len(trainstreamer) // 5, #met 5 epochs heeft het een keer de hele dataset gezien\n",
    "        valid_steps=len(teststreamer) // 5,\n",
    "        reporttypes=[ReportTypes.TENSORBOARD, ReportTypes.MLFLOW],\n",
    "        #scheduler_kwargs={\"factor\": 0.5, \"patience\": 2},\n",
    "        scheduler=None,\n",
    "        earlystop_kwargs=None\n",
    "    )\n",
    "\n",
    "    # modify the tags when you change them!\n",
    "    mlflow.set_tag(\"model\", \"Conv2D\")\n",
    "    mlflow.set_tag(\"dataset\", \"heart_big_binary\")\n",
    "    mlflow.log_param(\"scheduler\", \"None\")\n",
    "    mlflow.log_param(\"earlystop\", \"None\")\n",
    "\n",
    "    mlflow.log_params(config)\n",
    "    mlflow.log_param(\"epochs\", settings.epochs)\n",
    "    #mlflow.log_param(\"shape0\", shape[0])\n",
    "    mlflow.log_param(\"optimizer\", str(optimizer))\n",
    "    mlflow.log_params(settings.optimizer_kwargs)\n",
    "\n",
    "    trainer = Trainer(\n",
    "        #device=device,\n",
    "        model=model,\n",
    "        settings=settings,\n",
    "        loss_fn=loss_fn,\n",
    "        optimizer=optimizer,\n",
    "        traindataloader=trainstreamer.stream(),\n",
    "        validdataloader=teststreamer.stream(),\n",
    "        #scheduler=torch.optim.lr_scheduler.ReduceLROnPlateau,\n",
    "        scheduler=None\n",
    "        )\n",
    "    trainer.loop()"
   ]
  },
  {
   "cell_type": "code",
   "execution_count": null,
   "metadata": {},
   "outputs": [
    {
     "name": "stderr",
     "output_type": "stream",
     "text": [
      "\u001b[32m2025-01-19 18:40:34.408\u001b[0m | \u001b[1mINFO    \u001b[0m | \u001b[36mmltrainer.trainer\u001b[0m:\u001b[36mdir_add_timestamp\u001b[0m:\u001b[36m29\u001b[0m - \u001b[1mLogging to logs/heart2D/20250119-184034\u001b[0m\n",
      "100%|\u001b[38;2;30;71;6m██████████\u001b[0m| 905/905 [00:19<00:00, 45.82it/s]\n",
      "\u001b[32m2025-01-19 18:40:55.176\u001b[0m | \u001b[1mINFO    \u001b[0m | \u001b[36mmltrainer.trainer\u001b[0m:\u001b[36mreport\u001b[0m:\u001b[36m191\u001b[0m - \u001b[1mEpoch 0 train 0.5298 test 0.2844 metric ['0.9118', '0.9118', '0.7042', '0.9118', '0.8527']\u001b[0m\n",
      "100%|\u001b[38;2;30;71;6m██████████\u001b[0m| 905/905 [00:19<00:00, 45.34it/s]\n",
      "\u001b[32m2025-01-19 18:41:16.141\u001b[0m | \u001b[1mINFO    \u001b[0m | \u001b[36mmltrainer.trainer\u001b[0m:\u001b[36mreport\u001b[0m:\u001b[36m191\u001b[0m - \u001b[1mEpoch 1 train 0.3111 test 0.1776 metric ['0.9488', '0.9488', '0.7764', '0.9488', '0.8434']\u001b[0m\n",
      "100%|\u001b[38;2;30;71;6m██████████\u001b[0m| 905/905 [00:19<00:00, 45.73it/s]\n",
      "\u001b[32m2025-01-19 18:41:36.935\u001b[0m | \u001b[1mINFO    \u001b[0m | \u001b[36mmltrainer.trainer\u001b[0m:\u001b[36mreport\u001b[0m:\u001b[36m191\u001b[0m - \u001b[1mEpoch 2 train 0.2630 test 0.1717 metric ['0.9435', '0.9435', '0.7881', '0.9435', '0.9076']\u001b[0m\n",
      "100%|\u001b[38;2;30;71;6m██████████\u001b[0m| 905/905 [00:19<00:00, 45.79it/s]\n",
      "\u001b[32m2025-01-19 18:41:57.707\u001b[0m | \u001b[1mINFO    \u001b[0m | \u001b[36mmltrainer.trainer\u001b[0m:\u001b[36mreport\u001b[0m:\u001b[36m191\u001b[0m - \u001b[1mEpoch 3 train 0.2298 test 0.2227 metric ['0.9350', '0.9350', '0.7751', '0.9350', '0.8820']\u001b[0m\n",
      "100%|\u001b[38;2;30;71;6m██████████\u001b[0m| 905/905 [00:19<00:00, 45.63it/s]\n",
      "\u001b[32m2025-01-19 18:42:18.533\u001b[0m | \u001b[1mINFO    \u001b[0m | \u001b[36mmltrainer.trainer\u001b[0m:\u001b[36mreport\u001b[0m:\u001b[36m191\u001b[0m - \u001b[1mEpoch 4 train 0.2119 test 0.1971 metric ['0.9446', '0.9446', '0.8123', '0.9446', '0.9057']\u001b[0m\n",
      "100%|\u001b[38;2;30;71;6m██████████\u001b[0m| 905/905 [00:19<00:00, 45.38it/s]\n",
      "\u001b[32m2025-01-19 18:42:39.519\u001b[0m | \u001b[1mINFO    \u001b[0m | \u001b[36mmltrainer.trainer\u001b[0m:\u001b[36mreport\u001b[0m:\u001b[36m191\u001b[0m - \u001b[1mEpoch 5 train 0.1972 test 0.1467 metric ['0.9561', '0.9561', '0.8240', '0.9561', '0.9042']\u001b[0m\n",
      "100%|\u001b[38;2;30;71;6m██████████\u001b[0m| 905/905 [00:19<00:00, 45.52it/s]\n",
      "\u001b[32m2025-01-19 18:43:00.409\u001b[0m | \u001b[1mINFO    \u001b[0m | \u001b[36mmltrainer.trainer\u001b[0m:\u001b[36mreport\u001b[0m:\u001b[36m191\u001b[0m - \u001b[1mEpoch 6 train 0.1796 test 0.1272 metric ['0.9644', '0.9644', '0.8668', '0.9644', '0.9057']\u001b[0m\n",
      "100%|\u001b[38;2;30;71;6m██████████\u001b[0m| 905/905 [00:19<00:00, 45.80it/s]\n",
      "\u001b[32m2025-01-19 18:43:21.170\u001b[0m | \u001b[1mINFO    \u001b[0m | \u001b[36mmltrainer.trainer\u001b[0m:\u001b[36mreport\u001b[0m:\u001b[36m191\u001b[0m - \u001b[1mEpoch 7 train 0.1763 test 0.1177 metric ['0.9678', '0.9678', '0.8714', '0.9678', '0.9105']\u001b[0m\n",
      "100%|\u001b[38;2;30;71;6m██████████\u001b[0m| 905/905 [00:19<00:00, 45.83it/s]\n",
      "\u001b[32m2025-01-19 18:43:41.917\u001b[0m | \u001b[1mINFO    \u001b[0m | \u001b[36mmltrainer.trainer\u001b[0m:\u001b[36mreport\u001b[0m:\u001b[36m191\u001b[0m - \u001b[1mEpoch 8 train 0.1611 test 0.1481 metric ['0.9552', '0.9552', '0.8180', '0.9552', '0.9136']\u001b[0m\n",
      "100%|\u001b[38;2;30;71;6m██████████\u001b[0m| 905/905 [00:20<00:00, 45.18it/s]\n",
      "\u001b[32m2025-01-19 18:44:03.005\u001b[0m | \u001b[1mINFO    \u001b[0m | \u001b[36mmltrainer.trainer\u001b[0m:\u001b[36mreport\u001b[0m:\u001b[36m191\u001b[0m - \u001b[1mEpoch 9 train 0.1594 test 0.1405 metric ['0.9600', '0.9600', '0.8349', '0.9600', '0.9102']\u001b[0m\n",
      "100%|\u001b[38;2;30;71;6m██████████\u001b[0m| 905/905 [00:19<00:00, 45.83it/s]\n",
      "\u001b[32m2025-01-19 18:44:23.748\u001b[0m | \u001b[1mINFO    \u001b[0m | \u001b[36mmltrainer.trainer\u001b[0m:\u001b[36mreport\u001b[0m:\u001b[36m191\u001b[0m - \u001b[1mEpoch 10 train 0.1580 test 0.1379 metric ['0.9554', '0.9554', '0.8443', '0.9554', '0.9379']\u001b[0m\n",
      "100%|\u001b[38;2;30;71;6m██████████\u001b[0m| 905/905 [00:20<00:00, 44.21it/s]\n",
      "\u001b[32m2025-01-19 18:44:45.303\u001b[0m | \u001b[1mINFO    \u001b[0m | \u001b[36mmltrainer.trainer\u001b[0m:\u001b[36mreport\u001b[0m:\u001b[36m191\u001b[0m - \u001b[1mEpoch 11 train 0.1456 test 0.1428 metric ['0.9593', '0.9593', '0.8380', '0.9593', '0.9158']\u001b[0m\n",
      "100%|\u001b[38;2;30;71;6m██████████\u001b[0m| 905/905 [00:20<00:00, 45.20it/s]\n",
      "\u001b[32m2025-01-19 18:45:06.324\u001b[0m | \u001b[1mINFO    \u001b[0m | \u001b[36mmltrainer.trainer\u001b[0m:\u001b[36mreport\u001b[0m:\u001b[36m191\u001b[0m - \u001b[1mEpoch 12 train 0.1413 test 0.1264 metric ['0.9630', '0.9630', '0.8537', '0.9630', '0.9270']\u001b[0m\n",
      "100%|\u001b[38;2;30;71;6m██████████\u001b[0m| 905/905 [00:19<00:00, 45.98it/s]\n",
      "\u001b[32m2025-01-19 18:45:26.999\u001b[0m | \u001b[1mINFO    \u001b[0m | \u001b[36mmltrainer.trainer\u001b[0m:\u001b[36mreport\u001b[0m:\u001b[36m191\u001b[0m - \u001b[1mEpoch 13 train 0.1467 test 0.1230 metric ['0.9619', '0.9619', '0.8329', '0.9619', '0.9074']\u001b[0m\n",
      "100%|\u001b[38;2;30;71;6m██████████\u001b[0m| 905/905 [00:19<00:00, 45.47it/s]\n",
      "\u001b[32m2025-01-19 18:45:47.923\u001b[0m | \u001b[1mINFO    \u001b[0m | \u001b[36mmltrainer.trainer\u001b[0m:\u001b[36mreport\u001b[0m:\u001b[36m191\u001b[0m - \u001b[1mEpoch 14 train 0.1387 test 0.1139 metric ['0.9648', '0.9648', '0.8551', '0.9648', '0.9379']\u001b[0m\n",
      "100%|\u001b[38;2;30;71;6m██████████\u001b[0m| 15/15 [05:13<00:00, 20.90s/it]\n"
     ]
    }
   ],
   "source": [
    "from mltrainer import Trainer, TrainerSettings, ReportTypes\n",
    "\n",
    "loss_fn = torch.nn.CrossEntropyLoss()\n",
    "\n",
    "with mlflow.start_run():\n",
    "    optimizer = torch.optim.Adam\n",
    "\n",
    "    settings = TrainerSettings(\n",
    "        epochs=15,\n",
    "        metrics=[accuracy, f1micro, f1macro, precision, recall],\n",
    "        logdir=\"logs/heart2D\",\n",
    "        train_steps=len(trainstreamer) // 5, #met 5 epochs heeft het een keer de hele dataset gezien\n",
    "        valid_steps=len(teststreamer) // 5,\n",
    "        reporttypes=[ReportTypes.TENSORBOARD, ReportTypes.MLFLOW],\n",
    "        #scheduler_kwargs={\"factor\": 0.5, \"patience\": 2},\n",
    "        scheduler=None,\n",
    "        earlystop_kwargs=None\n",
    "    )\n",
    "\n",
    "    # modify the tags when you change them!\n",
    "    mlflow.set_tag(\"model\", \"Conv2D\")\n",
    "    mlflow.set_tag(\"dataset\", \"heart_big_binary\")\n",
    "    mlflow.log_param(\"scheduler\", \"None\")\n",
    "    mlflow.log_param(\"earlystop\", \"None\")\n",
    "\n",
    "    mlflow.log_params(config)\n",
    "    mlflow.log_param(\"epochs\", settings.epochs)\n",
    "    #mlflow.log_param(\"shape0\", shape[0])\n",
    "    mlflow.log_param(\"optimizer\", str(optimizer))\n",
    "    mlflow.log_params(settings.optimizer_kwargs)\n",
    "\n",
    "    trainer = Trainer(\n",
    "        #device=device,\n",
    "        model=model,\n",
    "        settings=settings,\n",
    "        loss_fn=loss_fn,\n",
    "        optimizer=optimizer,\n",
    "        traindataloader=trainstreamer.stream(),\n",
    "        validdataloader=teststreamer.stream(),\n",
    "        #scheduler=torch.optim.lr_scheduler.ReduceLROnPlateau,\n",
    "        scheduler=None\n",
    "        )\n",
    "    trainer.loop()"
   ]
  },
  {
   "cell_type": "code",
   "execution_count": 91,
   "metadata": {},
   "outputs": [
    {
     "name": "stdout",
     "output_type": "stream",
     "text": [
      "{'hidden': 128, 'dropout': 0.1, 'output': 5, 'num_heads': 8, 'num_blocks': 1, 'shape': (16, 12)}\n",
      "test_results=[0.97  0.759 0.952 0.794 0.981]\n"
     ]
    },
    {
     "data": {
      "text/plain": [
       "[Text(0.5, 23.52222222222222, 'Predicted'),\n",
       " Text(50.722222222222214, 0.5, 'Target')]"
      ]
     },
     "execution_count": 91,
     "metadata": {},
     "output_type": "execute_result"
    },
    {
     "data": {
      "image/png": "[encoded data removed]",
      "text/plain": [
       "<Figure size 640x480 with 2 Axes>"
      ]
     },
     "metadata": {},
     "output_type": "display_data"
    }
   ],
   "source": [
    "y_true = []\n",
    "y_pred = []\n",
    "#model = model.to(\"cpu\")\n",
    "\n",
    "#testdata = [(x.to(device), y.to(device)) for x, y in teststreamer.stream()]\n",
    "testdata = teststreamer.stream()\n",
    "for _ in range(len(teststreamer)):\n",
    "    X, y = next(testdata)\n",
    "    \n",
    "    yhat = model(X)\n",
    "    yhat = yhat.argmax(dim=1) # we get the one with the highest probability\n",
    "    y_pred.append(yhat.cpu().tolist())\n",
    "    y_true.append(y.cpu().tolist())\n",
    "\n",
    "yhat = [x for y in y_pred for x in y]\n",
    "y = [x for y in y_true for x in y]\n",
    "\n",
    "cfm = confusion_matrix(y, yhat)\n",
    "cfm = cfm / np.sum(cfm, axis=1, keepdims=True)\n",
    "print(config)\n",
    "print(f'test_results={np.round(cfm[cfm > 0.3], 3)}')\n",
    "plot = sns.heatmap(cfm, annot=cfm, fmt=\".3f\")\n",
    "plot.set(xlabel=\"Predicted\", ylabel=\"Target\")"
   ]
  },
  {
   "cell_type": "code",
   "execution_count": 95,
   "metadata": {},
   "outputs": [
    {
     "name": "stdout",
     "output_type": "stream",
     "text": [
      "difference: ['0.005', '-0.206', '0.097', '-0.171', '0.043']\n"
     ]
    }
   ],
   "source": [
    "training_results=['0.9648', '0.9648', '0.8551', '0.9648', '0.9379']\n",
    "test_results='[0.97 0.759 0.952 0.794 0.981]'\n",
    "print(f'difference: {calculate_difference(training_results, test_results)}')"
   ]
  },
  {
   "cell_type": "code",
   "execution_count": 37,
   "metadata": {},
   "outputs": [
    {
     "name": "stdout",
     "output_type": "stream",
     "text": [
      "difference: ['0.0', '-0.079', '0.141', '0.001', '0.047']\n"
     ]
    }
   ],
   "source": [
    "training_results=['0.9419', '0.9419', '0.7937', '0.9419', '0.9365']\n",
    "test_results='[0.942 0.863 0.935 0.943 0.984]'\n",
    "print(f'difference: {calculate_difference(training_results, test_results)}')"
   ]
  },
  {
   "cell_type": "code",
   "execution_count": null,
   "metadata": {},
   "outputs": [],
   "source": [
    "# Training with full oversampled dataset"
   ]
  },
  {
   "cell_type": "code",
   "execution_count": 224,
   "metadata": {},
   "outputs": [
    {
     "name": "stderr",
     "output_type": "stream",
     "text": [
      "\u001b[32m2025-01-21 10:56:47.262\u001b[0m | \u001b[1mINFO    \u001b[0m | \u001b[36mmltrainer.trainer\u001b[0m:\u001b[36mdir_add_timestamp\u001b[0m:\u001b[36m29\u001b[0m - \u001b[1mLogging to logs/heart2D/20250121-105647\u001b[0m\n",
      "  0%|\u001b[38;2;30;71;6m          \u001b[0m| 0/1718 [00:00<?, ?it/s]\n",
      "  0%|\u001b[38;2;30;71;6m          \u001b[0m| 0/15 [00:00<?, ?it/s]\n"
     ]
    },
    {
     "ename": "RuntimeError",
     "evalue": "Given groups=1, weight of size [128, 1, 3, 3], expected input[1, 32, 192, 1] to have 1 channels, but got 32 channels instead",
     "output_type": "error",
     "traceback": [
      "\u001b[0;31m---------------------------------------------------------------------------\u001b[0m",
      "\u001b[0;31mRuntimeError\u001b[0m                              Traceback (most recent call last)",
      "Cell \u001b[0;32mIn[224], line 43\u001b[0m\n\u001b[1;32m     30\u001b[0m mlflow\u001b[38;5;241m.\u001b[39mlog_params(settings\u001b[38;5;241m.\u001b[39moptimizer_kwargs)\n\u001b[1;32m     32\u001b[0m trainer \u001b[38;5;241m=\u001b[39m Trainer(\n\u001b[1;32m     33\u001b[0m     \u001b[38;5;66;03m#device=device,\u001b[39;00m\n\u001b[1;32m     34\u001b[0m     model\u001b[38;5;241m=\u001b[39mmodel,\n\u001b[0;32m   (...)\u001b[0m\n\u001b[1;32m     41\u001b[0m     scheduler\u001b[38;5;241m=\u001b[39m\u001b[38;5;28;01mNone\u001b[39;00m\n\u001b[1;32m     42\u001b[0m     )\n\u001b[0;32m---> 43\u001b[0m \u001b[43mtrainer\u001b[49m\u001b[38;5;241;43m.\u001b[39;49m\u001b[43mloop\u001b[49m\u001b[43m(\u001b[49m\u001b[43m)\u001b[49m\n",
      "File \u001b[0;32m~/code_repo/MADS-exam-25/.venv/lib/python3.11/site-packages/mltrainer/trainer.py:90\u001b[0m, in \u001b[0;36mTrainer.loop\u001b[0;34m(self)\u001b[0m\n\u001b[1;32m     88\u001b[0m \u001b[38;5;28;01mdef\u001b[39;00m\u001b[38;5;250m \u001b[39m\u001b[38;5;21mloop\u001b[39m(\u001b[38;5;28mself\u001b[39m) \u001b[38;5;241m-\u001b[39m\u001b[38;5;241m>\u001b[39m \u001b[38;5;28;01mNone\u001b[39;00m:\n\u001b[1;32m     89\u001b[0m     \u001b[38;5;28;01mfor\u001b[39;00m epoch \u001b[38;5;129;01min\u001b[39;00m tqdm(\u001b[38;5;28mrange\u001b[39m(\u001b[38;5;28mself\u001b[39m\u001b[38;5;241m.\u001b[39msettings\u001b[38;5;241m.\u001b[39mepochs), colour\u001b[38;5;241m=\u001b[39m\u001b[38;5;124m\"\u001b[39m\u001b[38;5;124m#1e4706\u001b[39m\u001b[38;5;124m\"\u001b[39m):\n\u001b[0;32m---> 90\u001b[0m         train_loss \u001b[38;5;241m=\u001b[39m \u001b[38;5;28;43mself\u001b[39;49m\u001b[38;5;241;43m.\u001b[39;49m\u001b[43mtrainbatches\u001b[49m\u001b[43m(\u001b[49m\u001b[43m)\u001b[49m\n\u001b[1;32m     91\u001b[0m         metric_dict, test_loss \u001b[38;5;241m=\u001b[39m \u001b[38;5;28mself\u001b[39m\u001b[38;5;241m.\u001b[39mevalbatches()\n\u001b[1;32m     92\u001b[0m         \u001b[38;5;28mself\u001b[39m\u001b[38;5;241m.\u001b[39mreport(epoch, train_loss, test_loss, metric_dict)\n",
      "File \u001b[0;32m~/code_repo/MADS-exam-25/.venv/lib/python3.11/site-packages/mltrainer/trainer.py:120\u001b[0m, in \u001b[0;36mTrainer.trainbatches\u001b[0;34m(self)\u001b[0m\n\u001b[1;32m    118\u001b[0m     x, y \u001b[38;5;241m=\u001b[39m x\u001b[38;5;241m.\u001b[39mto(\u001b[38;5;28mself\u001b[39m\u001b[38;5;241m.\u001b[39mdevice), y\u001b[38;5;241m.\u001b[39mto(\u001b[38;5;28mself\u001b[39m\u001b[38;5;241m.\u001b[39mdevice)\n\u001b[1;32m    119\u001b[0m \u001b[38;5;28mself\u001b[39m\u001b[38;5;241m.\u001b[39moptimizer\u001b[38;5;241m.\u001b[39mzero_grad()\n\u001b[0;32m--> 120\u001b[0m yhat \u001b[38;5;241m=\u001b[39m \u001b[38;5;28;43mself\u001b[39;49m\u001b[38;5;241;43m.\u001b[39;49m\u001b[43mmodel\u001b[49m\u001b[43m(\u001b[49m\u001b[43mx\u001b[49m\u001b[43m)\u001b[49m\n\u001b[1;32m    121\u001b[0m loss \u001b[38;5;241m=\u001b[39m \u001b[38;5;28mself\u001b[39m\u001b[38;5;241m.\u001b[39mloss_fn(yhat, y)\u001b[38;5;241m.\u001b[39mto(\u001b[38;5;28mself\u001b[39m\u001b[38;5;241m.\u001b[39mdevice)\n\u001b[1;32m    122\u001b[0m loss\u001b[38;5;241m.\u001b[39mbackward()\n",
      "File \u001b[0;32m~/code_repo/MADS-exam-25/.venv/lib/python3.11/site-packages/torch/nn/modules/module.py:1736\u001b[0m, in \u001b[0;36mModule._wrapped_call_impl\u001b[0;34m(self, *args, **kwargs)\u001b[0m\n\u001b[1;32m   1734\u001b[0m     \u001b[38;5;28;01mreturn\u001b[39;00m \u001b[38;5;28mself\u001b[39m\u001b[38;5;241m.\u001b[39m_compiled_call_impl(\u001b[38;5;241m*\u001b[39margs, \u001b[38;5;241m*\u001b[39m\u001b[38;5;241m*\u001b[39mkwargs)  \u001b[38;5;66;03m# type: ignore[misc]\u001b[39;00m\n\u001b[1;32m   1735\u001b[0m \u001b[38;5;28;01melse\u001b[39;00m:\n\u001b[0;32m-> 1736\u001b[0m     \u001b[38;5;28;01mreturn\u001b[39;00m \u001b[38;5;28;43mself\u001b[39;49m\u001b[38;5;241;43m.\u001b[39;49m\u001b[43m_call_impl\u001b[49m\u001b[43m(\u001b[49m\u001b[38;5;241;43m*\u001b[39;49m\u001b[43margs\u001b[49m\u001b[43m,\u001b[49m\u001b[43m \u001b[49m\u001b[38;5;241;43m*\u001b[39;49m\u001b[38;5;241;43m*\u001b[39;49m\u001b[43mkwargs\u001b[49m\u001b[43m)\u001b[49m\n",
      "File \u001b[0;32m~/code_repo/MADS-exam-25/.venv/lib/python3.11/site-packages/torch/nn/modules/module.py:1747\u001b[0m, in \u001b[0;36mModule._call_impl\u001b[0;34m(self, *args, **kwargs)\u001b[0m\n\u001b[1;32m   1742\u001b[0m \u001b[38;5;66;03m# If we don't have any hooks, we want to skip the rest of the logic in\u001b[39;00m\n\u001b[1;32m   1743\u001b[0m \u001b[38;5;66;03m# this function, and just call forward.\u001b[39;00m\n\u001b[1;32m   1744\u001b[0m \u001b[38;5;28;01mif\u001b[39;00m \u001b[38;5;129;01mnot\u001b[39;00m (\u001b[38;5;28mself\u001b[39m\u001b[38;5;241m.\u001b[39m_backward_hooks \u001b[38;5;129;01mor\u001b[39;00m \u001b[38;5;28mself\u001b[39m\u001b[38;5;241m.\u001b[39m_backward_pre_hooks \u001b[38;5;129;01mor\u001b[39;00m \u001b[38;5;28mself\u001b[39m\u001b[38;5;241m.\u001b[39m_forward_hooks \u001b[38;5;129;01mor\u001b[39;00m \u001b[38;5;28mself\u001b[39m\u001b[38;5;241m.\u001b[39m_forward_pre_hooks\n\u001b[1;32m   1745\u001b[0m         \u001b[38;5;129;01mor\u001b[39;00m _global_backward_pre_hooks \u001b[38;5;129;01mor\u001b[39;00m _global_backward_hooks\n\u001b[1;32m   1746\u001b[0m         \u001b[38;5;129;01mor\u001b[39;00m _global_forward_hooks \u001b[38;5;129;01mor\u001b[39;00m _global_forward_pre_hooks):\n\u001b[0;32m-> 1747\u001b[0m     \u001b[38;5;28;01mreturn\u001b[39;00m \u001b[43mforward_call\u001b[49m\u001b[43m(\u001b[49m\u001b[38;5;241;43m*\u001b[39;49m\u001b[43margs\u001b[49m\u001b[43m,\u001b[49m\u001b[43m \u001b[49m\u001b[38;5;241;43m*\u001b[39;49m\u001b[38;5;241;43m*\u001b[39;49m\u001b[43mkwargs\u001b[49m\u001b[43m)\u001b[49m\n\u001b[1;32m   1749\u001b[0m result \u001b[38;5;241m=\u001b[39m \u001b[38;5;28;01mNone\u001b[39;00m\n\u001b[1;32m   1750\u001b[0m called_always_called_hooks \u001b[38;5;241m=\u001b[39m \u001b[38;5;28mset\u001b[39m()\n",
      "Cell \u001b[0;32mIn[186], line 70\u001b[0m, in \u001b[0;36mTransformer2DResnet.forward\u001b[0;34m(self, x)\u001b[0m\n\u001b[1;32m     68\u001b[0m \u001b[38;5;28;01mdef\u001b[39;00m\u001b[38;5;250m \u001b[39m\u001b[38;5;21mforward\u001b[39m(\u001b[38;5;28mself\u001b[39m, x: torch\u001b[38;5;241m.\u001b[39mTensor) \u001b[38;5;241m-\u001b[39m\u001b[38;5;241m>\u001b[39m torch\u001b[38;5;241m.\u001b[39mTensor:\n\u001b[1;32m     69\u001b[0m     \u001b[38;5;66;03m# Apply Conv2D to the input (convert from (batch, channels, seq_len, seq_len) to (batch, channels, height, width))\u001b[39;00m\n\u001b[0;32m---> 70\u001b[0m     x \u001b[38;5;241m=\u001b[39m \u001b[38;5;28;43mself\u001b[39;49m\u001b[38;5;241;43m.\u001b[39;49m\u001b[43mconv2d\u001b[49m\u001b[43m(\u001b[49m\u001b[43mx\u001b[49m\u001b[43m)\u001b[49m  \u001b[38;5;66;03m# (batch, hidden, height, width)\u001b[39;00m\n\u001b[1;32m     72\u001b[0m     \u001b[38;5;66;03m# Apply ResNet Block\u001b[39;00m\n\u001b[1;32m     73\u001b[0m     x \u001b[38;5;241m=\u001b[39m \u001b[38;5;28mself\u001b[39m\u001b[38;5;241m.\u001b[39mresnet_block(x)  \u001b[38;5;66;03m# (batch, hidden, height, width)\u001b[39;00m\n",
      "File \u001b[0;32m~/code_repo/MADS-exam-25/.venv/lib/python3.11/site-packages/torch/nn/modules/module.py:1736\u001b[0m, in \u001b[0;36mModule._wrapped_call_impl\u001b[0;34m(self, *args, **kwargs)\u001b[0m\n\u001b[1;32m   1734\u001b[0m     \u001b[38;5;28;01mreturn\u001b[39;00m \u001b[38;5;28mself\u001b[39m\u001b[38;5;241m.\u001b[39m_compiled_call_impl(\u001b[38;5;241m*\u001b[39margs, \u001b[38;5;241m*\u001b[39m\u001b[38;5;241m*\u001b[39mkwargs)  \u001b[38;5;66;03m# type: ignore[misc]\u001b[39;00m\n\u001b[1;32m   1735\u001b[0m \u001b[38;5;28;01melse\u001b[39;00m:\n\u001b[0;32m-> 1736\u001b[0m     \u001b[38;5;28;01mreturn\u001b[39;00m \u001b[38;5;28;43mself\u001b[39;49m\u001b[38;5;241;43m.\u001b[39;49m\u001b[43m_call_impl\u001b[49m\u001b[43m(\u001b[49m\u001b[38;5;241;43m*\u001b[39;49m\u001b[43margs\u001b[49m\u001b[43m,\u001b[49m\u001b[43m \u001b[49m\u001b[38;5;241;43m*\u001b[39;49m\u001b[38;5;241;43m*\u001b[39;49m\u001b[43mkwargs\u001b[49m\u001b[43m)\u001b[49m\n",
      "File \u001b[0;32m~/code_repo/MADS-exam-25/.venv/lib/python3.11/site-packages/torch/nn/modules/module.py:1747\u001b[0m, in \u001b[0;36mModule._call_impl\u001b[0;34m(self, *args, **kwargs)\u001b[0m\n\u001b[1;32m   1742\u001b[0m \u001b[38;5;66;03m# If we don't have any hooks, we want to skip the rest of the logic in\u001b[39;00m\n\u001b[1;32m   1743\u001b[0m \u001b[38;5;66;03m# this function, and just call forward.\u001b[39;00m\n\u001b[1;32m   1744\u001b[0m \u001b[38;5;28;01mif\u001b[39;00m \u001b[38;5;129;01mnot\u001b[39;00m (\u001b[38;5;28mself\u001b[39m\u001b[38;5;241m.\u001b[39m_backward_hooks \u001b[38;5;129;01mor\u001b[39;00m \u001b[38;5;28mself\u001b[39m\u001b[38;5;241m.\u001b[39m_backward_pre_hooks \u001b[38;5;129;01mor\u001b[39;00m \u001b[38;5;28mself\u001b[39m\u001b[38;5;241m.\u001b[39m_forward_hooks \u001b[38;5;129;01mor\u001b[39;00m \u001b[38;5;28mself\u001b[39m\u001b[38;5;241m.\u001b[39m_forward_pre_hooks\n\u001b[1;32m   1745\u001b[0m         \u001b[38;5;129;01mor\u001b[39;00m _global_backward_pre_hooks \u001b[38;5;129;01mor\u001b[39;00m _global_backward_hooks\n\u001b[1;32m   1746\u001b[0m         \u001b[38;5;129;01mor\u001b[39;00m _global_forward_hooks \u001b[38;5;129;01mor\u001b[39;00m _global_forward_pre_hooks):\n\u001b[0;32m-> 1747\u001b[0m     \u001b[38;5;28;01mreturn\u001b[39;00m \u001b[43mforward_call\u001b[49m\u001b[43m(\u001b[49m\u001b[38;5;241;43m*\u001b[39;49m\u001b[43margs\u001b[49m\u001b[43m,\u001b[49m\u001b[43m \u001b[49m\u001b[38;5;241;43m*\u001b[39;49m\u001b[38;5;241;43m*\u001b[39;49m\u001b[43mkwargs\u001b[49m\u001b[43m)\u001b[49m\n\u001b[1;32m   1749\u001b[0m result \u001b[38;5;241m=\u001b[39m \u001b[38;5;28;01mNone\u001b[39;00m\n\u001b[1;32m   1750\u001b[0m called_always_called_hooks \u001b[38;5;241m=\u001b[39m \u001b[38;5;28mset\u001b[39m()\n",
      "File \u001b[0;32m~/code_repo/MADS-exam-25/.venv/lib/python3.11/site-packages/torch/nn/modules/conv.py:554\u001b[0m, in \u001b[0;36mConv2d.forward\u001b[0;34m(self, input)\u001b[0m\n\u001b[1;32m    553\u001b[0m \u001b[38;5;28;01mdef\u001b[39;00m\u001b[38;5;250m \u001b[39m\u001b[38;5;21mforward\u001b[39m(\u001b[38;5;28mself\u001b[39m, \u001b[38;5;28minput\u001b[39m: Tensor) \u001b[38;5;241m-\u001b[39m\u001b[38;5;241m>\u001b[39m Tensor:\n\u001b[0;32m--> 554\u001b[0m     \u001b[38;5;28;01mreturn\u001b[39;00m \u001b[38;5;28;43mself\u001b[39;49m\u001b[38;5;241;43m.\u001b[39;49m\u001b[43m_conv_forward\u001b[49m\u001b[43m(\u001b[49m\u001b[38;5;28;43minput\u001b[39;49m\u001b[43m,\u001b[49m\u001b[43m \u001b[49m\u001b[38;5;28;43mself\u001b[39;49m\u001b[38;5;241;43m.\u001b[39;49m\u001b[43mweight\u001b[49m\u001b[43m,\u001b[49m\u001b[43m \u001b[49m\u001b[38;5;28;43mself\u001b[39;49m\u001b[38;5;241;43m.\u001b[39;49m\u001b[43mbias\u001b[49m\u001b[43m)\u001b[49m\n",
      "File \u001b[0;32m~/code_repo/MADS-exam-25/.venv/lib/python3.11/site-packages/torch/nn/modules/conv.py:549\u001b[0m, in \u001b[0;36mConv2d._conv_forward\u001b[0;34m(self, input, weight, bias)\u001b[0m\n\u001b[1;32m    537\u001b[0m \u001b[38;5;28;01mif\u001b[39;00m \u001b[38;5;28mself\u001b[39m\u001b[38;5;241m.\u001b[39mpadding_mode \u001b[38;5;241m!=\u001b[39m \u001b[38;5;124m\"\u001b[39m\u001b[38;5;124mzeros\u001b[39m\u001b[38;5;124m\"\u001b[39m:\n\u001b[1;32m    538\u001b[0m     \u001b[38;5;28;01mreturn\u001b[39;00m F\u001b[38;5;241m.\u001b[39mconv2d(\n\u001b[1;32m    539\u001b[0m         F\u001b[38;5;241m.\u001b[39mpad(\n\u001b[1;32m    540\u001b[0m             \u001b[38;5;28minput\u001b[39m, \u001b[38;5;28mself\u001b[39m\u001b[38;5;241m.\u001b[39m_reversed_padding_repeated_twice, mode\u001b[38;5;241m=\u001b[39m\u001b[38;5;28mself\u001b[39m\u001b[38;5;241m.\u001b[39mpadding_mode\n\u001b[0;32m   (...)\u001b[0m\n\u001b[1;32m    547\u001b[0m         \u001b[38;5;28mself\u001b[39m\u001b[38;5;241m.\u001b[39mgroups,\n\u001b[1;32m    548\u001b[0m     )\n\u001b[0;32m--> 549\u001b[0m \u001b[38;5;28;01mreturn\u001b[39;00m \u001b[43mF\u001b[49m\u001b[38;5;241;43m.\u001b[39;49m\u001b[43mconv2d\u001b[49m\u001b[43m(\u001b[49m\n\u001b[1;32m    550\u001b[0m \u001b[43m    \u001b[49m\u001b[38;5;28;43minput\u001b[39;49m\u001b[43m,\u001b[49m\u001b[43m \u001b[49m\u001b[43mweight\u001b[49m\u001b[43m,\u001b[49m\u001b[43m \u001b[49m\u001b[43mbias\u001b[49m\u001b[43m,\u001b[49m\u001b[43m \u001b[49m\u001b[38;5;28;43mself\u001b[39;49m\u001b[38;5;241;43m.\u001b[39;49m\u001b[43mstride\u001b[49m\u001b[43m,\u001b[49m\u001b[43m \u001b[49m\u001b[38;5;28;43mself\u001b[39;49m\u001b[38;5;241;43m.\u001b[39;49m\u001b[43mpadding\u001b[49m\u001b[43m,\u001b[49m\u001b[43m \u001b[49m\u001b[38;5;28;43mself\u001b[39;49m\u001b[38;5;241;43m.\u001b[39;49m\u001b[43mdilation\u001b[49m\u001b[43m,\u001b[49m\u001b[43m \u001b[49m\u001b[38;5;28;43mself\u001b[39;49m\u001b[38;5;241;43m.\u001b[39;49m\u001b[43mgroups\u001b[49m\n\u001b[1;32m    551\u001b[0m \u001b[43m\u001b[49m\u001b[43m)\u001b[49m\n",
      "\u001b[0;31mRuntimeError\u001b[0m: Given groups=1, weight of size [128, 1, 3, 3], expected input[1, 32, 192, 1] to have 1 channels, but got 32 channels instead"
     ]
    }
   ],
   "source": [
    "from mltrainer import Trainer, TrainerSettings, ReportTypes\n",
    "\n",
    "loss_fn = torch.nn.CrossEntropyLoss()\n",
    "\n",
    "with mlflow.start_run():\n",
    "    optimizer = torch.optim.Adam\n",
    "\n",
    "    settings = TrainerSettings(\n",
    "        epochs=15,\n",
    "        metrics=[accuracy, f1micro, f1macro, precision, recall],\n",
    "        logdir=\"logs/heart2D\",\n",
    "        train_steps=len(trainstreamer) // 5, #met 5 epochs heeft het een keer de hele dataset gezien\n",
    "        valid_steps=len(teststreamer) // 5,\n",
    "        reporttypes=[ReportTypes.TENSORBOARD, ReportTypes.MLFLOW],\n",
    "        #scheduler_kwargs={\"factor\": 0.5, \"patience\": 2},\n",
    "        scheduler=None,\n",
    "        earlystop_kwargs=None\n",
    "    )\n",
    "\n",
    "    # modify the tags when you change them!\n",
    "    mlflow.set_tag(\"model\", \"Conv2D\")\n",
    "    mlflow.set_tag(\"dataset\", \"heart_big_binary\")\n",
    "    mlflow.log_param(\"scheduler\", \"None\")\n",
    "    mlflow.log_param(\"earlystop\", \"None\")\n",
    "\n",
    "    mlflow.log_params(config)\n",
    "    mlflow.log_param(\"epochs\", settings.epochs)\n",
    "    #mlflow.log_param(\"shape0\", shape[0])\n",
    "    mlflow.log_param(\"optimizer\", str(optimizer))\n",
    "    mlflow.log_params(settings.optimizer_kwargs)\n",
    "\n",
    "    trainer = Trainer(\n",
    "        #device=device,\n",
    "        model=model,\n",
    "        settings=settings,\n",
    "        loss_fn=loss_fn,\n",
    "        optimizer=optimizer,\n",
    "        traindataloader=trainstreamer.stream(),\n",
    "        validdataloader=teststreamer.stream(),\n",
    "        #scheduler=torch.optim.lr_scheduler.ReduceLROnPlateau,\n",
    "        scheduler=None\n",
    "        )\n",
    "    trainer.loop()"
   ]
  },
  {
   "cell_type": "code",
   "execution_count": null,
   "metadata": {},
   "outputs": [
    {
     "name": "stderr",
     "output_type": "stream",
     "text": [
      "\u001b[32m2025-01-19 19:35:50.987\u001b[0m | \u001b[1mINFO    \u001b[0m | \u001b[36mmltrainer.trainer\u001b[0m:\u001b[36mdir_add_timestamp\u001b[0m:\u001b[36m29\u001b[0m - \u001b[1mLogging to logs/heart2D/20250119-193550\u001b[0m\n",
      "100%|\u001b[38;2;30;71;6m██████████\u001b[0m| 2717/2717 [00:59<00:00, 45.83it/s]\n",
      "\u001b[32m2025-01-19 19:36:51.328\u001b[0m | \u001b[1mINFO    \u001b[0m | \u001b[36mmltrainer.trainer\u001b[0m:\u001b[36mreport\u001b[0m:\u001b[36m191\u001b[0m - \u001b[1mEpoch 0 train 0.4443 test 0.7048 metric ['0.7001', '0.7001', '0.5082', '0.7001', '0.8452']\u001b[0m\n",
      "100%|\u001b[38;2;30;71;6m██████████\u001b[0m| 2717/2717 [00:59<00:00, 45.69it/s]\n",
      "\u001b[32m2025-01-19 19:37:51.815\u001b[0m | \u001b[1mINFO    \u001b[0m | \u001b[36mmltrainer.trainer\u001b[0m:\u001b[36mreport\u001b[0m:\u001b[36m191\u001b[0m - \u001b[1mEpoch 1 train 0.2388 test 0.4888 metric ['0.8217', '0.8217', '0.5873', '0.8217', '0.8921']\u001b[0m\n",
      "100%|\u001b[38;2;30;71;6m██████████\u001b[0m| 2717/2717 [00:59<00:00, 45.92it/s]\n",
      "\u001b[32m2025-01-19 19:38:52.001\u001b[0m | \u001b[1mINFO    \u001b[0m | \u001b[36mmltrainer.trainer\u001b[0m:\u001b[36mreport\u001b[0m:\u001b[36m191\u001b[0m - \u001b[1mEpoch 2 train 0.1954 test 0.4198 metric ['0.8316', '0.8316', '0.6331', '0.8316', '0.8842']\u001b[0m\n",
      "100%|\u001b[38;2;30;71;6m██████████\u001b[0m| 2717/2717 [00:59<00:00, 45.85it/s]\n",
      "\u001b[32m2025-01-19 19:39:52.287\u001b[0m | \u001b[1mINFO    \u001b[0m | \u001b[36mmltrainer.trainer\u001b[0m:\u001b[36mreport\u001b[0m:\u001b[36m191\u001b[0m - \u001b[1mEpoch 3 train 0.1661 test 0.2527 metric ['0.9037', '0.9037', '0.7066', '0.9037', '0.9185']\u001b[0m\n",
      "100%|\u001b[38;2;30;71;6m██████████\u001b[0m| 2717/2717 [00:59<00:00, 45.85it/s]\n",
      "\u001b[32m2025-01-19 19:40:52.561\u001b[0m | \u001b[1mINFO    \u001b[0m | \u001b[36mmltrainer.trainer\u001b[0m:\u001b[36mreport\u001b[0m:\u001b[36m191\u001b[0m - \u001b[1mEpoch 4 train 0.1505 test 0.3369 metric ['0.8748', '0.8748', '0.6912', '0.8748', '0.9051']\u001b[0m\n",
      "100%|\u001b[38;2;30;71;6m██████████\u001b[0m| 2717/2717 [00:59<00:00, 45.77it/s]\n",
      "\u001b[32m2025-01-19 19:41:52.942\u001b[0m | \u001b[1mINFO    \u001b[0m | \u001b[36mmltrainer.trainer\u001b[0m:\u001b[36mreport\u001b[0m:\u001b[36m191\u001b[0m - \u001b[1mEpoch 5 train 0.1364 test 0.2212 metric ['0.9258', '0.9258', '0.7614', '0.9258', '0.9440']\u001b[0m\n",
      "100%|\u001b[38;2;30;71;6m██████████\u001b[0m| 2717/2717 [00:59<00:00, 45.83it/s]\n",
      "\u001b[32m2025-01-19 19:42:53.241\u001b[0m | \u001b[1mINFO    \u001b[0m | \u001b[36mmltrainer.trainer\u001b[0m:\u001b[36mreport\u001b[0m:\u001b[36m191\u001b[0m - \u001b[1mEpoch 6 train 0.1242 test 0.2914 metric ['0.9003', '0.9003', '0.7027', '0.9003', '0.9150']\u001b[0m\n",
      "100%|\u001b[38;2;30;71;6m██████████\u001b[0m| 2717/2717 [00:59<00:00, 45.69it/s]\n",
      "\u001b[32m2025-01-19 19:43:53.728\u001b[0m | \u001b[1mINFO    \u001b[0m | \u001b[36mmltrainer.trainer\u001b[0m:\u001b[36mreport\u001b[0m:\u001b[36m191\u001b[0m - \u001b[1mEpoch 7 train 0.1226 test 0.2966 metric ['0.8869', '0.8869', '0.6902', '0.8869', '0.9022']\u001b[0m\n",
      "100%|\u001b[38;2;30;71;6m██████████\u001b[0m| 2717/2717 [01:00<00:00, 45.21it/s]\n",
      "\u001b[32m2025-01-19 19:44:54.866\u001b[0m | \u001b[1mINFO    \u001b[0m | \u001b[36mmltrainer.trainer\u001b[0m:\u001b[36mreport\u001b[0m:\u001b[36m191\u001b[0m - \u001b[1mEpoch 8 train 0.1109 test 0.2824 metric ['0.9058', '0.9058', '0.7419', '0.9058', '0.9245']\u001b[0m\n",
      "100%|\u001b[38;2;30;71;6m██████████\u001b[0m| 2717/2717 [00:58<00:00, 46.19it/s]\n",
      "\u001b[32m2025-01-19 19:45:54.688\u001b[0m | \u001b[1mINFO    \u001b[0m | \u001b[36mmltrainer.trainer\u001b[0m:\u001b[36mreport\u001b[0m:\u001b[36m191\u001b[0m - \u001b[1mEpoch 9 train 0.1056 test 0.1711 metric ['0.9442', '0.9442', '0.7835', '0.9442', '0.9254']\u001b[0m\n",
      "100%|\u001b[38;2;30;71;6m██████████\u001b[0m| 2717/2717 [01:00<00:00, 45.07it/s]\n",
      "\u001b[32m2025-01-19 19:46:55.989\u001b[0m | \u001b[1mINFO    \u001b[0m | \u001b[36mmltrainer.trainer\u001b[0m:\u001b[36mreport\u001b[0m:\u001b[36m191\u001b[0m - \u001b[1mEpoch 10 train 0.0988 test 0.2388 metric ['0.9269', '0.9269', '0.7435', '0.9269', '0.9102']\u001b[0m\n",
      "100%|\u001b[38;2;30;71;6m██████████\u001b[0m| 2717/2717 [01:00<00:00, 45.24it/s]\n",
      "\u001b[32m2025-01-19 19:47:57.078\u001b[0m | \u001b[1mINFO    \u001b[0m | \u001b[36mmltrainer.trainer\u001b[0m:\u001b[36mreport\u001b[0m:\u001b[36m191\u001b[0m - \u001b[1mEpoch 11 train 0.0973 test 0.2198 metric ['0.9249', '0.9249', '0.7510', '0.9249', '0.9343']\u001b[0m\n",
      "100%|\u001b[38;2;30;71;6m██████████\u001b[0m| 2717/2717 [00:59<00:00, 45.38it/s]\n",
      "\u001b[32m2025-01-19 19:48:57.999\u001b[0m | \u001b[1mINFO    \u001b[0m | \u001b[36mmltrainer.trainer\u001b[0m:\u001b[36mreport\u001b[0m:\u001b[36m191\u001b[0m - \u001b[1mEpoch 12 train 0.0936 test 0.2088 metric ['0.9318', '0.9318', '0.7655', '0.9318', '0.9394']\u001b[0m\n",
      "100%|\u001b[38;2;30;71;6m██████████\u001b[0m| 2717/2717 [00:59<00:00, 45.83it/s]\n",
      "\u001b[32m2025-01-19 19:49:58.289\u001b[0m | \u001b[1mINFO    \u001b[0m | \u001b[36mmltrainer.trainer\u001b[0m:\u001b[36mreport\u001b[0m:\u001b[36m191\u001b[0m - \u001b[1mEpoch 13 train 0.0904 test 0.2153 metric ['0.9228', '0.9228', '0.7624', '0.9228', '0.9448']\u001b[0m\n",
      "100%|\u001b[38;2;30;71;6m██████████\u001b[0m| 2717/2717 [00:59<00:00, 45.88it/s]\n",
      "\u001b[32m2025-01-19 19:50:58.535\u001b[0m | \u001b[1mINFO    \u001b[0m | \u001b[36mmltrainer.trainer\u001b[0m:\u001b[36mreport\u001b[0m:\u001b[36m191\u001b[0m - \u001b[1mEpoch 14 train 0.0841 test 0.1791 metric ['0.9400', '0.9400', '0.7774', '0.9400', '0.9342']\u001b[0m\n",
      "100%|\u001b[38;2;30;71;6m██████████\u001b[0m| 15/15 [15:07<00:00, 60.50s/it]\n"
     ]
    }
   ],
   "source": [
    "\n",
    "from mltrainer import Trainer, TrainerSettings, ReportTypes\n",
    "\n",
    "loss_fn = torch.nn.CrossEntropyLoss()\n",
    "\n",
    "with mlflow.start_run():\n",
    "    optimizer = torch.optim.Adam\n",
    "\n",
    "    settings = TrainerSettings(\n",
    "        epochs=15,\n",
    "        metrics=[accuracy, f1micro, f1macro, precision, recall],\n",
    "        logdir=\"logs/heart2D\",\n",
    "        train_steps=len(trainstreamer) // 5, #met 5 epochs heeft het een keer de hele dataset gezien\n",
    "        valid_steps=len(teststreamer) // 5,\n",
    "        reporttypes=[ReportTypes.TENSORBOARD, ReportTypes.MLFLOW],\n",
    "        #scheduler_kwargs={\"factor\": 0.5, \"patience\": 2},\n",
    "        scheduler=None,\n",
    "        earlystop_kwargs=None\n",
    "    )\n",
    "\n",
    "    # modify the tags when you change them!\n",
    "    mlflow.set_tag(\"model\", \"Conv2D\")\n",
    "    mlflow.set_tag(\"dataset\", \"heart_big_binary\")\n",
    "    mlflow.log_param(\"scheduler\", \"None\")\n",
    "    mlflow.log_param(\"earlystop\", \"None\")\n",
    "\n",
    "    mlflow.log_params(config)\n",
    "    mlflow.log_param(\"epochs\", settings.epochs)\n",
    "    #mlflow.log_param(\"shape0\", shape[0])\n",
    "    mlflow.log_param(\"optimizer\", str(optimizer))\n",
    "    mlflow.log_params(settings.optimizer_kwargs)\n",
    "\n",
    "    trainer = Trainer(\n",
    "        #device=device,\n",
    "        model=model,\n",
    "        settings=settings,\n",
    "        loss_fn=loss_fn,\n",
    "        optimizer=optimizer,\n",
    "        traindataloader=trainstreamer.stream(),\n",
    "        validdataloader=teststreamer.stream(),\n",
    "        #scheduler=torch.optim.lr_scheduler.ReduceLROnPlateau,\n",
    "        scheduler=None\n",
    "        )\n",
    "    trainer.loop()"
   ]
  }
 ],
 "metadata": {
  "kernelspec": {
   "display_name": ".venv",
   "language": "python",
   "name": "python3"
  },
  "language_info": {
   "codemirror_mode": {
    "name": "ipython",
    "version": 3
   },
   "file_extension": ".py",
   "mimetype": "text/x-python",
   "name": "python",
   "nbconvert_exporter": "python",
   "pygments_lexer": "ipython3",
   "version": "3.11.9"
  }
 },
 "nbformat": 4,
 "nbformat_minor": 2
}
