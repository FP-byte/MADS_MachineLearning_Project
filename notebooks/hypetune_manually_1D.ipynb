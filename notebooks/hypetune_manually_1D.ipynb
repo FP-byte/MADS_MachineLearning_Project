{
 "cells": [
  {
   "cell_type": "code",
   "execution_count": 1,
   "metadata": {},
   "outputs": [
    {
     "data": {
      "text/plain": [
       "'0.1.129'"
      ]
     },
     "execution_count": 1,
     "metadata": {},
     "output_type": "execute_result"
    }
   ],
   "source": [
    "from mads_datasets.base import BaseDatastreamer\n",
    "from mltrainer.preprocessors import BasePreprocessor\n",
    "import matplotlib.pyplot as plt\n",
    "from pathlib import Path\n",
    "import pandas as pd\n",
    "import seaborn as sns\n",
    "from sklearn.metrics import confusion_matrix\n",
    "from torch import nn\n",
    "import torch\n",
    "from mltrainer import Trainer, TrainerSettings, ReportTypes\n",
    "import tomllib\n",
    "import seaborn as sns\n",
    "import numpy as np\n",
    "from torch import Tensor\n",
    "import math\n",
    "from typing import List, Tuple, Dict, Any, Union\n",
    "from src import datasets, metrics\n",
    "import mltrainer\n",
    "import mlflow\n",
    "from src import models\n",
    "import torch.nn.functional as F\n",
    "from torchsummary import summary\n",
    "\n",
    "\n",
    "mltrainer.__version__"
   ]
  },
  {
   "cell_type": "code",
   "execution_count": 2,
   "metadata": {},
   "outputs": [],
   "source": [
    "confusion_matrixs = {}"
   ]
  },
  {
   "cell_type": "code",
   "execution_count": 3,
   "metadata": {},
   "outputs": [],
   "source": [
    "\n",
    "def test_model(model, teststreamer):\n",
    "    y_true = []\n",
    "    y_pred = []\n",
    "    #model = model.to(\"cpu\")\n",
    "\n",
    "    #testdata = [(x.to(device), y.to(device)) for x, y in teststreamer.stream()]\n",
    "    testdata = teststreamer.stream()\n",
    "    for _ in range(len(teststreamer)):\n",
    "        X, y = next(testdata)\n",
    "\n",
    "        yhat = model(X)\n",
    "        yhat = yhat.argmax(dim=1) # we get the one with the highest probability\n",
    "        y_pred.append(yhat.cpu().tolist())\n",
    "        y_true.append(y.cpu().tolist())\n",
    "\n",
    "    yhat = [x for y in y_pred for x in y]\n",
    "    y = [x for y in y_true for x in y]\n",
    "    return y, yhat\n",
    "\n",
    "def plot_confusion_matrix(cfm, model_name):\n",
    "    # Create the plot using seaborn\n",
    "    plot = sns.heatmap(cfm, annot=True, fmt=\".3f\")\n",
    "    \n",
    "    # Set the labels for the axes\n",
    "    plot.set(xlabel=\"Predicted\", ylabel=\"Target\")\n",
    "    \n",
    "    # Save the plot to a file with the model name in the filename\n",
    "    plt.savefig(f\"{model_name}_confusion_matrix.png\", bbox_inches=\"tight\")\n",
    "    \n",
    "    # Optionally, display the plot\n",
    "    plt.show()\n",
    "\n",
    "# difference between test and train\n",
    "def calculate_difference(train_scores_str, test_scores_str):\n",
    "    # Remove the brackets and split the string by spaces\n",
    "    str_list = test_scores_str.strip('[]').split()\n",
    "\n",
    "    # Convert each element to a float\n",
    "    test_scores_str = [float(num) for num in str_list]\n",
    "\n",
    "    test_scores = [float(x) for x in test_scores_str]\n",
    "    train_scores = [float(x) for x in train_scores_str]\n",
    "    difference = [str(np.round(test - train, 3)) for test, train in zip(test_scores, train_scores)]\n",
    "    print(f'train loss average:{np.round(np.mean(test_scores), 3)}')\n",
    "    print(f'test loss average:{np.round(np.mean(test_scores), 3)}')\n",
    "\n",
    "    return difference\n",
    "\n"
   ]
  },
  {
   "cell_type": "code",
   "execution_count": 4,
   "metadata": {},
   "outputs": [],
   "source": [
    "def train_model(trainstreamer, teststreamer, config, settings=None):\n",
    "\n",
    "        loss_fn = torch.nn.CrossEntropyLoss()\n",
    "\n",
    "        with mlflow.start_run():\n",
    "            optimizer = torch.optim.Adam\n",
    "\n",
    "            if settings==None:\n",
    "                # default settings\n",
    "                settings = TrainerSettings(\n",
    "                    epochs=15,\n",
    "                    metrics=[accuracy, f1micro, f1macro, precision, recall],\n",
    "                    logdir=\"logs/heart1D_oversampled\",\n",
    "                    train_steps=len(trainstreamer) // 5,\n",
    "                    valid_steps=len(teststreamer) // 5,\n",
    "                    reporttypes=[ReportTypes.TENSORBOARD, ReportTypes.MLFLOW],\n",
    "                    scheduler_kwargs={\"factor\": 0.5, \"patience\": 2},\n",
    "                    earlystop_kwargs={\"patience\": 8},\n",
    "                )\n",
    "\n",
    "\n",
    "\n",
    "            trainer = Trainer(\n",
    "                model=model,\n",
    "                settings=settings,\n",
    "                loss_fn=loss_fn,\n",
    "                optimizer=optimizer,\n",
    "                traindataloader=trainstreamer.stream(),\n",
    "                validdataloader=teststreamer.stream(),\n",
    "                scheduler= config[\"scheduler\"],\n",
    "            )\n",
    "\n",
    "            mlflow.set_tag(\"model\", config[\"model\"])\n",
    "            mlflow.set_tag(\"dataset\", \"heart_big_oversampled\")\n",
    "            mlflow.log_param(\"scheduler\", str(trainer.scheduler).split(\".\")[-1])\n",
    "            mlflow.log_param(\"earlystop\", str(settings.earlystop_kwargs))\n",
    "\n",
    "            base_config = {\n",
    "                \"hidden\": config[\"hidden\"],\n",
    "                \"dropout\": config[\"dropout\"],\n",
    "                \"num_classes\": config[\"num_classes\"],\n",
    "                \"num_heads\": config[\"num_heads\"],\n",
    "                \"num_blocks\": config[\"num_blocks\"],\n",
    "               # \"shape\": config[\"shape\"]\n",
    "            }\n",
    "            mlflow.log_params(base_config)\n",
    "            mlflow.log_param(\"epochs\", settings.epochs)\n",
    "            mlflow.log_param(\"shape0\", config[\"shape\"])\n",
    "            mlflow.log_param(\"optimizer\", str(optimizer))\n",
    "            mlflow.log_params(settings.optimizer_kwargs)\n",
    "            trainer.loop()\n",
    "\n"
   ]
  },
  {
   "cell_type": "code",
   "execution_count": 5,
   "metadata": {},
   "outputs": [
    {
     "name": "stdout",
     "output_type": "stream",
     "text": [
      "{'ptb': 'heart', 'arrhythmia': 'heart_big'}\n",
      "MPS is available\n"
     ]
    }
   ],
   "source": [
    "datadir = Path('../data')\n",
    "configfile = Path(\"config.toml\")\n",
    "\n",
    "with configfile.open('rb') as f:\n",
    "    config = tomllib.load(f)\n",
    "print(config)\n",
    "\n",
    "if torch.backends.mps.is_available():\n",
    "            device = torch.device('mps')\n",
    "            print('MPS is available')\n",
    "else:\n",
    "            device = torch.device('cpu')"
   ]
  },
  {
   "cell_type": "code",
   "execution_count": 6,
   "metadata": {},
   "outputs": [
    {
     "data": {
      "text/plain": [
       "(PosixPath('../data/heart_big_oversampled_full_train.parq'),\n",
       " PosixPath('../data/heart_big_test.parq'))"
      ]
     },
     "execution_count": 6,
     "metadata": {},
     "output_type": "execute_result"
    }
   ],
   "source": [
    "#choos dataset\n",
    "trainfile = datadir / (config['arrhythmia'] + '_oversampled_full_train.parq')\n",
    "#trainfile = datadir / (config['arrhythmia'] + '_SMOTE_train.parq')\n",
    "testfile = datadir / (config['arrhythmia'] + '_test.parq')\n",
    "trainfile, testfile"
   ]
  },
  {
   "cell_type": "markdown",
   "metadata": {},
   "source": [
    "# 1D MODELS"
   ]
  },
  {
   "cell_type": "code",
   "execution_count": 7,
   "metadata": {},
   "outputs": [],
   "source": [
    "# 1D dataset\n",
    "traindataset = datasets.HeartDataset1D(trainfile, target=\"target\")\n",
    "testdataset = datasets.HeartDataset1D(testfile, target=\"target\")"
   ]
  },
  {
   "cell_type": "code",
   "execution_count": 8,
   "metadata": {},
   "outputs": [
    {
     "data": {
      "text/plain": [
       "(8593, 684)"
      ]
     },
     "execution_count": 8,
     "metadata": {},
     "output_type": "execute_result"
    }
   ],
   "source": [
    "trainstreamer = BaseDatastreamer(traindataset, preprocessor = BasePreprocessor(), batchsize=32)\n",
    "teststreamer = BaseDatastreamer(testdataset, preprocessor = BasePreprocessor(), batchsize=32)\n",
    "len(trainstreamer), len(teststreamer)"
   ]
  },
  {
   "cell_type": "code",
   "execution_count": 9,
   "metadata": {},
   "outputs": [
    {
     "data": {
      "text/plain": [
       "torch.Size([192, 1])"
      ]
     },
     "execution_count": 9,
     "metadata": {},
     "output_type": "execute_result"
    }
   ],
   "source": [
    "x, y = traindataset[0]\n",
    "x.shape"
   ]
  },
  {
   "cell_type": "code",
   "execution_count": 10,
   "metadata": {},
   "outputs": [
    {
     "data": {
      "text/plain": [
       "(torch.Size([32, 192, 1]), torch.Size([32]))"
      ]
     },
     "execution_count": 10,
     "metadata": {},
     "output_type": "execute_result"
    }
   ],
   "source": [
    "x, y = next(trainstreamer.stream())\n",
    "x.shape, y.shape"
   ]
  },
  {
   "cell_type": "markdown",
   "metadata": {},
   "source": [
    "## CNN 1D + RESNET"
   ]
  },
  {
   "cell_type": "code",
   "execution_count": 11,
   "metadata": {},
   "outputs": [
    {
     "name": "stdout",
     "output_type": "stream",
     "text": [
      "{'model': 'CNN1DResNet', 'scheduler': <class 'torch.optim.lr_scheduler.ReduceLROnPlateau'>, 'input': 1, 'hidden': 128, 'num_layers': 2, 'dropout': 0.2, 'num_classes': 5, 'num_heads': 8, 'num_blocks': 2, 'input_length': 192, 'shape': (1, 192)}\n"
     ]
    },
    {
     "name": "stderr",
     "output_type": "stream",
     "text": [
      "\u001b[32m2025-02-01 20:30:24.380\u001b[0m | \u001b[1mINFO    \u001b[0m | \u001b[36mmltrainer.trainer\u001b[0m:\u001b[36mdir_add_timestamp\u001b[0m:\u001b[36m29\u001b[0m - \u001b[1mLogging to logs/heart1D_oversampled/20250201-203024\u001b[0m\n",
      "\u001b[32m2025-02-01 20:30:24.694\u001b[0m | \u001b[1mINFO    \u001b[0m | \u001b[36mmltrainer.trainer\u001b[0m:\u001b[36m__init__\u001b[0m:\u001b[36m72\u001b[0m - \u001b[1mFound earlystop_kwargs in settings.Set to None if you dont want earlystopping.\u001b[0m\n",
      "100%|\u001b[38;2;30;71;6m██████████\u001b[0m| 1718/1718 [09:39<00:00,  2.96it/s]\n",
      "\u001b[32m2025-02-01 20:40:44.285\u001b[0m | \u001b[1mINFO    \u001b[0m | \u001b[36mmltrainer.trainer\u001b[0m:\u001b[36mreport\u001b[0m:\u001b[36m191\u001b[0m - \u001b[1mEpoch 0 train 0.2078 test 0.2364 metric ['0.9180', '0.9180', '0.7346', '0.9180', '0.9392']\u001b[0m\n",
      "100%|\u001b[38;2;30;71;6m██████████\u001b[0m| 1718/1718 [09:35<00:00,  2.99it/s]\n",
      "\u001b[32m2025-02-01 20:50:59.457\u001b[0m | \u001b[1mINFO    \u001b[0m | \u001b[36mmltrainer.trainer\u001b[0m:\u001b[36mreport\u001b[0m:\u001b[36m191\u001b[0m - \u001b[1mEpoch 1 train 0.0729 test 0.1330 metric ['0.9602', '0.9602', '0.8365', '0.9602', '0.9398']\u001b[0m\n",
      "100%|\u001b[38;2;30;71;6m██████████\u001b[0m| 1718/1718 [09:36<00:00,  2.98it/s]\n",
      "\u001b[32m2025-02-01 21:01:14.947\u001b[0m | \u001b[1mINFO    \u001b[0m | \u001b[36mmltrainer.trainer\u001b[0m:\u001b[36mreport\u001b[0m:\u001b[36m191\u001b[0m - \u001b[1mEpoch 2 train 0.0526 test 0.1042 metric ['0.9690', '0.9690', '0.8659', '0.9690', '0.9443']\u001b[0m\n",
      "100%|\u001b[38;2;30;71;6m██████████\u001b[0m| 1718/1718 [09:12<00:00,  3.11it/s]\n",
      "\u001b[32m2025-02-01 21:11:07.046\u001b[0m | \u001b[1mINFO    \u001b[0m | \u001b[36mmltrainer.trainer\u001b[0m:\u001b[36mreport\u001b[0m:\u001b[36m191\u001b[0m - \u001b[1mEpoch 3 train 0.0432 test 0.1380 metric ['0.9600', '0.9600', '0.8165', '0.9600', '0.9461']\u001b[0m\n",
      "\u001b[32m2025-02-01 21:11:07.046\u001b[0m | \u001b[1mINFO    \u001b[0m | \u001b[36mmltrainer.trainer\u001b[0m:\u001b[36m__call__\u001b[0m:\u001b[36m234\u001b[0m - \u001b[1mbest loss: 0.1042, current loss 0.1380.Counter 1/8.\u001b[0m\n",
      "100%|\u001b[38;2;30;71;6m██████████\u001b[0m| 1718/1718 [35:10<00:00,  1.23s/it]\n",
      "\u001b[32m2025-02-01 21:47:04.150\u001b[0m | \u001b[1mINFO    \u001b[0m | \u001b[36mmltrainer.trainer\u001b[0m:\u001b[36mreport\u001b[0m:\u001b[36m191\u001b[0m - \u001b[1mEpoch 4 train 0.0335 test 0.1102 metric ['0.9692', '0.9692', '0.8660', '0.9692', '0.9510']\u001b[0m\n",
      "\u001b[32m2025-02-01 21:47:04.151\u001b[0m | \u001b[1mINFO    \u001b[0m | \u001b[36mmltrainer.trainer\u001b[0m:\u001b[36m__call__\u001b[0m:\u001b[36m234\u001b[0m - \u001b[1mbest loss: 0.1042, current loss 0.1102.Counter 2/8.\u001b[0m\n",
      "100%|\u001b[38;2;30;71;6m██████████\u001b[0m| 1718/1718 [40:50<00:00,  1.43s/it]]\n",
      "\u001b[32m2025-02-01 22:28:35.544\u001b[0m | \u001b[1mINFO    \u001b[0m | \u001b[36mmltrainer.trainer\u001b[0m:\u001b[36mreport\u001b[0m:\u001b[36m191\u001b[0m - \u001b[1mEpoch 5 train 0.0249 test 0.1364 metric ['0.9674', '0.9674', '0.8628', '0.9674', '0.9530']\u001b[0m\n",
      "\u001b[32m2025-02-01 22:28:35.544\u001b[0m | \u001b[1mINFO    \u001b[0m | \u001b[36mmltrainer.trainer\u001b[0m:\u001b[36m__call__\u001b[0m:\u001b[36m234\u001b[0m - \u001b[1mbest loss: 0.1042, current loss 0.1364.Counter 3/8.\u001b[0m\n",
      "100%|\u001b[38;2;30;71;6m██████████\u001b[0m| 1718/1718 [11:58<00:00,  2.39it/s]]\n",
      "\u001b[32m2025-02-01 22:41:14.696\u001b[0m | \u001b[1mINFO    \u001b[0m | \u001b[36mmltrainer.trainer\u001b[0m:\u001b[36mreport\u001b[0m:\u001b[36m191\u001b[0m - \u001b[1mEpoch 6 train 0.0126 test 0.1315 metric ['0.9782', '0.9782', '0.9038', '0.9782', '0.9442']\u001b[0m\n",
      "\u001b[32m2025-02-01 22:41:14.696\u001b[0m | \u001b[1mINFO    \u001b[0m | \u001b[36mmltrainer.trainer\u001b[0m:\u001b[36m__call__\u001b[0m:\u001b[36m234\u001b[0m - \u001b[1mbest loss: 0.1042, current loss 0.1315.Counter 4/8.\u001b[0m\n",
      "100%|\u001b[38;2;30;71;6m██████████\u001b[0m| 1718/1718 [35:29<00:00,  1.24s/it]]\n",
      "\u001b[32m2025-02-01 23:22:32.812\u001b[0m | \u001b[1mINFO    \u001b[0m | \u001b[36mmltrainer.trainer\u001b[0m:\u001b[36mreport\u001b[0m:\u001b[36m191\u001b[0m - \u001b[1mEpoch 7 train 0.0119 test 0.0972 metric ['0.9802', '0.9802', '0.9011', '0.9802', '0.9429']\u001b[0m\n",
      "100%|\u001b[38;2;30;71;6m██████████\u001b[0m| 1718/1718 [36:02<00:00,  1.26s/it] \n",
      "\u001b[32m2025-02-01 23:59:23.086\u001b[0m | \u001b[1mINFO    \u001b[0m | \u001b[36mmltrainer.trainer\u001b[0m:\u001b[36mreport\u001b[0m:\u001b[36m191\u001b[0m - \u001b[1mEpoch 8 train 0.0103 test 0.0972 metric ['0.9858', '0.9858', '0.9372', '0.9858', '0.9415']\u001b[0m\n",
      "\u001b[32m2025-02-01 23:59:23.087\u001b[0m | \u001b[1mINFO    \u001b[0m | \u001b[36mmltrainer.trainer\u001b[0m:\u001b[36m__call__\u001b[0m:\u001b[36m234\u001b[0m - \u001b[1mbest loss: 0.0972, current loss 0.0972.Counter 1/8.\u001b[0m\n",
      "100%|\u001b[38;2;30;71;6m██████████\u001b[0m| 1718/1718 [40:17<00:00,  1.41s/it]\n",
      "\u001b[32m2025-02-02 00:40:23.457\u001b[0m | \u001b[1mINFO    \u001b[0m | \u001b[36mmltrainer.trainer\u001b[0m:\u001b[36mreport\u001b[0m:\u001b[36m191\u001b[0m - \u001b[1mEpoch 9 train 0.0104 test 0.0831 metric ['0.9851', '0.9851', '0.9349', '0.9851', '0.9668']\u001b[0m\n",
      "100%|\u001b[38;2;30;71;6m██████████\u001b[0m| 10/10 [4:09:58<00:00, 1499.87s/it]\n"
     ]
    },
    {
     "name": "stdout",
     "output_type": "stream",
     "text": [
      "{'model': 'CNN1DResNet', 'scheduler': <class 'torch.optim.lr_scheduler.ReduceLROnPlateau'>, 'input': 1, 'hidden': 128, 'num_layers': 2, 'dropout': 0.2, 'num_classes': 5, 'num_heads': 8, 'num_blocks': 2, 'input_length': 192, 'shape': (1, 192)}\n"
     ]
    },
    {
     "data": {
      "image/png": "[encoded data removed]",
      "text/plain": [
       "<Figure size 640x480 with 2 Axes>"
      ]
     },
     "metadata": {},
     "output_type": "display_data"
    }
   ],
   "source": [
    "f1micro = metrics.F1Score(average='micro')\n",
    "f1macro = metrics.F1Score(average='macro')\n",
    "precision = metrics.Precision('micro')\n",
    "recall = metrics.Recall('macro')\n",
    "accuracy = metrics.Accuracy()\n",
    "\n",
    "settings = TrainerSettings(\n",
    "        epochs=10,\n",
    "        metrics=[accuracy, f1micro, f1macro, precision, recall],\n",
    "        logdir=\"logs/heart1D_oversampled\",\n",
    "        train_steps=len(trainstreamer) // 5, #met 5 epochs heeft het een keer de hele dataset gezien\n",
    "        valid_steps=len(teststreamer) // 5,\n",
    "        reporttypes=[ReportTypes.TENSORBOARD, ReportTypes.MLFLOW],\n",
    "        scheduler_kwargs={\"factor\": 0.5, \"patience\": 2},\n",
    "        earlystop_kwargs= {\"patience\": 8},\n",
    "        device= device\n",
    "    )\n",
    "if config['traindataset'] =='smote':\n",
    "            settings.logdir=\"logs/heart1D_smote\"\n",
    "\n",
    "modelname= \"CNN1DResNet\"\n",
    "config = {\n",
    "    \"model\": modelname,\n",
    "    \"scheduler\": torch.optim.lr_scheduler.ReduceLROnPlateau,\n",
    "    \"input\": 1,\n",
    "    \"hidden\": 128,\n",
    "    \"num_layers\": 2,\n",
    "    \"dropout\": 0.2,\n",
    "    \"num_classes\": 5,\n",
    "    \"num_heads\": 8,\n",
    "    \"num_blocks\": 2,\n",
    "    \"num_classes\": 5,\n",
    "    \"input_length\": 192,\n",
    "    \"shape\":(1, 192),\n",
    "    'traindataset': 'oversampled'\n",
    "   \n",
    "}\n",
    "if 'smote' in trainfile:\n",
    "        settings.logdir=\"logs/heart1D_smote\"\n",
    "        config['traindataset'] = 'smote'\n",
    "\n",
    "\n",
    "\n",
    "print(config)\n",
    "model = models.CNN1DResNet(config)\n",
    "mlflow.set_tracking_uri(\"sqlite:///mads_exam.db\")\n",
    "mlflow.set_experiment(config[\"model\"])\n",
    "train_model(trainstreamer, teststreamer, config, settings)\n",
    "y, yhat = test_model(model, teststreamer)\n",
    "cfm = confusion_matrix(y, yhat)\n",
    "cfm = cfm / np.sum(cfm, axis=1, keepdims=True)\n",
    "confusion_matrixs[modelname] = cfm\n",
    "print(config)\n",
    "plot_confusion_matrix(cfm, modelname)"
   ]
  },
  {
   "cell_type": "markdown",
   "metadata": {},
   "source": [
    "# HYBRID MODEL 1D CNN + GRU + RESNET\n",
    "To speed up the trining, combining a CNN with GRU seemed like a better option\n",
    "The cnn runs in parallel instead of sequential"
   ]
  },
  {
   "cell_type": "code",
   "execution_count": 14,
   "metadata": {},
   "outputs": [
    {
     "name": "stderr",
     "output_type": "stream",
     "text": [
      "\u001b[32m2025-02-02 10:11:43.769\u001b[0m | \u001b[1mINFO    \u001b[0m | \u001b[36mmltrainer.trainer\u001b[0m:\u001b[36mdir_add_timestamp\u001b[0m:\u001b[36m29\u001b[0m - \u001b[1mLogging to logs/heart1D_oversampled/20250202-101143\u001b[0m\n",
      "\u001b[32m2025-02-02 10:11:43.769\u001b[0m | \u001b[1mINFO    \u001b[0m | \u001b[36mmltrainer.trainer\u001b[0m:\u001b[36m__init__\u001b[0m:\u001b[36m72\u001b[0m - \u001b[1mFound earlystop_kwargs in settings.Set to None if you dont want earlystopping.\u001b[0m\n"
     ]
    },
    {
     "name": "stdout",
     "output_type": "stream",
     "text": [
      "{'model': 'CNN1DGRUResNet', 'scheduler': <class 'torch.optim.lr_scheduler.ReduceLROnPlateau'>, 'gru_hidden': 128, 'hidden': 128, 'dropout': 0.2, 'num_layers': 5, 'num_heads': 8, 'num_blocks': 1, 'num_classes': 5, 'input_length': 192, 'input_size': 1, 'shape': (1, 192), 'traindataset': 'oversampled'}\n",
      "CNN1DGRUResNet(\n",
      "  (convolutions): ModuleList(\n",
      "    (0): ConvBlock1D(\n",
      "      (conv): Sequential(\n",
      "        (0): Conv1d(1, 128, kernel_size=(3,), stride=(1,), padding=(1,))\n",
      "        (1): ReLU()\n",
      "        (2): BatchNorm1d(128, eps=1e-05, momentum=0.1, affine=True, track_running_stats=True)\n",
      "      )\n",
      "    )\n",
      "    (1): ConvBlock1D(\n",
      "      (conv): Sequential(\n",
      "        (0): Conv1d(128, 128, kernel_size=(3,), stride=(1,), padding=(1,))\n",
      "        (1): ReLU()\n",
      "        (2): BatchNorm1d(128, eps=1e-05, momentum=0.1, affine=True, track_running_stats=True)\n",
      "      )\n",
      "    )\n",
      "    (2): ResNetBlock1D(\n",
      "      (conv1): Conv1d(128, 128, kernel_size=(3,), stride=(1,), padding=(1,))\n",
      "      (bn1): BatchNorm1d(128, eps=1e-05, momentum=0.1, affine=True, track_running_stats=True)\n",
      "      (relu): ReLU()\n",
      "      (conv2): Conv1d(128, 128, kernel_size=(3,), stride=(1,), padding=(1,))\n",
      "      (bn2): BatchNorm1d(128, eps=1e-05, momentum=0.1, affine=True, track_running_stats=True)\n",
      "      (shortcut): Identity()\n",
      "    )\n",
      "    (3): AvgPool1d(kernel_size=(2,), stride=(2,), padding=(0,))\n",
      "  )\n",
      "  (linear_after_conv): Linear(in_features=12288, out_features=128, bias=True)\n",
      "  (gru): GRU(128, 128, num_layers=5, batch_first=True, dropout=0.2)\n",
      "  (dense): Sequential(\n",
      "    (0): Flatten(start_dim=1, end_dim=-1)\n",
      "    (1): Linear(in_features=128, out_features=128, bias=True)\n",
      "    (2): ReLU()\n",
      "    (3): Linear(in_features=128, out_features=5, bias=True)\n",
      "  )\n",
      ")\n",
      "----------------------------------------------------------------\n",
      "        Layer (type)               Output Shape         Param #\n",
      "================================================================\n",
      "            Conv1d-1             [-1, 128, 192]             512\n",
      "              ReLU-2             [-1, 128, 192]               0\n",
      "       BatchNorm1d-3             [-1, 128, 192]             256\n",
      "       ConvBlock1D-4             [-1, 128, 192]               0\n",
      "            Conv1d-5             [-1, 128, 192]          49,280\n",
      "              ReLU-6             [-1, 128, 192]               0\n",
      "       BatchNorm1d-7             [-1, 128, 192]             256\n",
      "       ConvBlock1D-8             [-1, 128, 192]               0\n",
      "            Conv1d-9             [-1, 128, 192]          49,280\n",
      "      BatchNorm1d-10             [-1, 128, 192]             256\n",
      "             ReLU-11             [-1, 128, 192]               0\n",
      "           Conv1d-12             [-1, 128, 192]          49,280\n",
      "      BatchNorm1d-13             [-1, 128, 192]             256\n",
      "         Identity-14             [-1, 128, 192]               0\n",
      "             ReLU-15             [-1, 128, 192]               0\n",
      "    ResNetBlock1D-16             [-1, 128, 192]               0\n",
      "        AvgPool1d-17              [-1, 128, 96]               0\n",
      "           Linear-18                  [-1, 128]       1,572,992\n",
      "              GRU-19  [[-1, 1, 128], [-1, 2, 128]]               0\n",
      "          Flatten-20                  [-1, 128]               0\n",
      "           Linear-21                  [-1, 128]          16,512\n",
      "             ReLU-22                  [-1, 128]               0\n",
      "           Linear-23                    [-1, 5]             645\n",
      "================================================================\n",
      "Total params: 1,739,525\n",
      "Trainable params: 1,739,525\n",
      "Non-trainable params: 0\n",
      "----------------------------------------------------------------\n",
      "Input size (MB): 0.00\n",
      "Forward/backward pass size (MB): 2.85\n",
      "Params size (MB): 6.64\n",
      "Estimated Total Size (MB): 9.48\n",
      "----------------------------------------------------------------\n"
     ]
    },
    {
     "name": "stderr",
     "output_type": "stream",
     "text": [
      "100%|\u001b[38;2;30;71;6m██████████\u001b[0m| 1718/1718 [1:04:21<00:00,  2.25s/it]\n",
      "\u001b[32m2025-02-02 11:16:29.042\u001b[0m | \u001b[1mINFO    \u001b[0m | \u001b[36mmltrainer.trainer\u001b[0m:\u001b[36mreport\u001b[0m:\u001b[36m191\u001b[0m - \u001b[1mEpoch 0 train 0.5278 test 0.5324 metric ['0.8534', '0.8534', '0.6160', '0.8534', '0.8730']\u001b[0m\n",
      "100%|\u001b[38;2;30;71;6m██████████\u001b[0m| 1718/1718 [05:33<00:00,  5.16it/s]]\n",
      "\u001b[32m2025-02-02 11:22:25.646\u001b[0m | \u001b[1mINFO    \u001b[0m | \u001b[36mmltrainer.trainer\u001b[0m:\u001b[36mreport\u001b[0m:\u001b[36m191\u001b[0m - \u001b[1mEpoch 1 train 0.3905 test 0.5815 metric ['0.8415', '0.8415', '0.5836', '0.8415', '0.8450']\u001b[0m\n",
      "\u001b[32m2025-02-02 11:22:25.647\u001b[0m | \u001b[1mINFO    \u001b[0m | \u001b[36mmltrainer.trainer\u001b[0m:\u001b[36m__call__\u001b[0m:\u001b[36m234\u001b[0m - \u001b[1mbest loss: 0.5324, current loss 0.5815.Counter 1/8.\u001b[0m\n",
      "100%|\u001b[38;2;30;71;6m██████████\u001b[0m| 1718/1718 [05:32<00:00,  5.16it/s]]\n",
      "\u001b[32m2025-02-02 11:28:22.041\u001b[0m | \u001b[1mINFO    \u001b[0m | \u001b[36mmltrainer.trainer\u001b[0m:\u001b[36mreport\u001b[0m:\u001b[36m191\u001b[0m - \u001b[1mEpoch 2 train 0.3643 test 0.4705 metric ['0.8449', '0.8449', '0.6273', '0.8449', '0.8881']\u001b[0m\n",
      "100%|\u001b[38;2;30;71;6m██████████\u001b[0m| 1718/1718 [05:33<00:00,  5.16it/s]]\n",
      "\u001b[32m2025-02-02 11:34:19.001\u001b[0m | \u001b[1mINFO    \u001b[0m | \u001b[36mmltrainer.trainer\u001b[0m:\u001b[36mreport\u001b[0m:\u001b[36m191\u001b[0m - \u001b[1mEpoch 3 train 0.3271 test 0.4487 metric ['0.8516', '0.8516', '0.6248', '0.8516', '0.9060']\u001b[0m\n",
      "100%|\u001b[38;2;30;71;6m██████████\u001b[0m| 1718/1718 [07:03<00:00,  4.06it/s] \n",
      "\u001b[32m2025-02-02 11:41:46.191\u001b[0m | \u001b[1mINFO    \u001b[0m | \u001b[36mmltrainer.trainer\u001b[0m:\u001b[36mreport\u001b[0m:\u001b[36m191\u001b[0m - \u001b[1mEpoch 4 train 0.3069 test 0.4211 metric ['0.8284', '0.8284', '0.6064', '0.8284', '0.8718']\u001b[0m\n",
      "100%|\u001b[38;2;30;71;6m██████████\u001b[0m| 1718/1718 [05:57<00:00,  4.80it/s]\n",
      "\u001b[32m2025-02-02 11:48:08.304\u001b[0m | \u001b[1mINFO    \u001b[0m | \u001b[36mmltrainer.trainer\u001b[0m:\u001b[36mreport\u001b[0m:\u001b[36m191\u001b[0m - \u001b[1mEpoch 5 train 0.2950 test 0.3082 metric ['0.8869', '0.8869', '0.6499', '0.8869', '0.8885']\u001b[0m\n",
      "100%|\u001b[38;2;30;71;6m██████████\u001b[0m| 1718/1718 [05:56<00:00,  4.82it/s]\n",
      "\u001b[32m2025-02-02 11:54:29.021\u001b[0m | \u001b[1mINFO    \u001b[0m | \u001b[36mmltrainer.trainer\u001b[0m:\u001b[36mreport\u001b[0m:\u001b[36m191\u001b[0m - \u001b[1mEpoch 6 train 0.2863 test 0.5510 metric ['0.8125', '0.8125', '0.6117', '0.8125', '0.8795']\u001b[0m\n",
      "\u001b[32m2025-02-02 11:54:29.021\u001b[0m | \u001b[1mINFO    \u001b[0m | \u001b[36mmltrainer.trainer\u001b[0m:\u001b[36m__call__\u001b[0m:\u001b[36m234\u001b[0m - \u001b[1mbest loss: 0.3082, current loss 0.5510.Counter 1/8.\u001b[0m\n",
      "100%|\u001b[38;2;30;71;6m██████████\u001b[0m| 1718/1718 [07:13<00:00,  3.96it/s]\n",
      "\u001b[32m2025-02-02 12:02:06.679\u001b[0m | \u001b[1mINFO    \u001b[0m | \u001b[36mmltrainer.trainer\u001b[0m:\u001b[36mreport\u001b[0m:\u001b[36m191\u001b[0m - \u001b[1mEpoch 7 train 0.2769 test 0.4100 metric ['0.8527', '0.8527', '0.6295', '0.8527', '0.8774']\u001b[0m\n",
      "\u001b[32m2025-02-02 12:02:06.679\u001b[0m | \u001b[1mINFO    \u001b[0m | \u001b[36mmltrainer.trainer\u001b[0m:\u001b[36m__call__\u001b[0m:\u001b[36m234\u001b[0m - \u001b[1mbest loss: 0.3082, current loss 0.4100.Counter 2/8.\u001b[0m\n",
      "100%|\u001b[38;2;30;71;6m██████████\u001b[0m| 1718/1718 [05:45<00:00,  4.97it/s]\n",
      "\u001b[32m2025-02-02 12:08:15.890\u001b[0m | \u001b[1mINFO    \u001b[0m | \u001b[36mmltrainer.trainer\u001b[0m:\u001b[36mreport\u001b[0m:\u001b[36m191\u001b[0m - \u001b[1mEpoch 8 train 0.2665 test 0.3806 metric ['0.8591', '0.8591', '0.6424', '0.8591', '0.9068']\u001b[0m\n",
      "\u001b[32m2025-02-02 12:08:15.891\u001b[0m | \u001b[1mINFO    \u001b[0m | \u001b[36mmltrainer.trainer\u001b[0m:\u001b[36m__call__\u001b[0m:\u001b[36m234\u001b[0m - \u001b[1mbest loss: 0.3082, current loss 0.3806.Counter 3/8.\u001b[0m\n",
      "100%|\u001b[38;2;30;71;6m██████████\u001b[0m| 1718/1718 [05:33<00:00,  5.15it/s]\n",
      "\u001b[32m2025-02-02 12:14:13.430\u001b[0m | \u001b[1mINFO    \u001b[0m | \u001b[36mmltrainer.trainer\u001b[0m:\u001b[36mreport\u001b[0m:\u001b[36m191\u001b[0m - \u001b[1mEpoch 9 train 0.2089 test 0.3154 metric ['0.8828', '0.8828', '0.6720', '0.8828', '0.9054']\u001b[0m\n",
      "\u001b[32m2025-02-02 12:14:13.430\u001b[0m | \u001b[1mINFO    \u001b[0m | \u001b[36mmltrainer.trainer\u001b[0m:\u001b[36m__call__\u001b[0m:\u001b[36m234\u001b[0m - \u001b[1mbest loss: 0.3082, current loss 0.3154.Counter 4/8.\u001b[0m\n",
      "100%|\u001b[38;2;30;71;6m██████████\u001b[0m| 10/10 [2:02:29<00:00, 734.96s/it]\n"
     ]
    },
    {
     "name": "stdout",
     "output_type": "stream",
     "text": [
      "{'model': 'CNN1DGRUResNet', 'scheduler': <class 'torch.optim.lr_scheduler.ReduceLROnPlateau'>, 'gru_hidden': 128, 'hidden': 128, 'dropout': 0.2, 'num_layers': 5, 'num_heads': 8, 'num_blocks': 1, 'num_classes': 5, 'input_length': 192, 'input_size': 1, 'shape': (1, 192), 'traindataset': 'oversampled'}\n"
     ]
    },
    {
     "ename": "NameError",
     "evalue": "name 'modename' is not defined",
     "output_type": "error",
     "traceback": [
      "\u001b[0;31m---------------------------------------------------------------------------\u001b[0m",
      "\u001b[0;31mNameError\u001b[0m                                 Traceback (most recent call last)",
      "Cell \u001b[0;32mIn[14], line 33\u001b[0m\n\u001b[1;32m     31\u001b[0m confusion_matrixs[modelname] \u001b[38;5;241m=\u001b[39m cfm\n\u001b[1;32m     32\u001b[0m \u001b[38;5;28mprint\u001b[39m(config)\n\u001b[0;32m---> 33\u001b[0m plot_confusion_matrix(cfm, \u001b[43mmodename\u001b[49m)\n",
      "\u001b[0;31mNameError\u001b[0m: name 'modename' is not defined"
     ]
    }
   ],
   "source": [
    "modelname= \"CNN1DGRUResNet\"\n",
    "config = {\n",
    "    \"model\": modelname,\n",
    "    \"scheduler\": torch.optim.lr_scheduler.ReduceLROnPlateau,\n",
    "    \"gru_hidden\": 128,\n",
    "    \"hidden\": 128,\n",
    "    \"dropout\": 0.2,\n",
    "    \"num_layers\": 5,\n",
    "    \"num_heads\": 8,\n",
    "    \"num_blocks\": 1,\n",
    "    \"num_classes\": 5,\n",
    "    \"input_length\": 192, \n",
    "    \"input_size\": 1, \n",
    "    \"shape\":(1, 192),\n",
    "    'traindataset': 'oversampled'\n",
    "}\n",
    "if 'smote' in str(trainfile):\n",
    "        settings.logdir=\"logs/heart1D_smote\"\n",
    "        config['traindataset'] = 'smote'\n",
    "\n",
    "print(config)\n",
    "model = models.CNN1DGRUResNet(config)\n",
    "print(model)\n",
    "summary(model, input_size=(192, 1))\n",
    "mlflow.set_tracking_uri(\"sqlite:///mads_exam.db\")\n",
    "mlflow.set_experiment(config[\"model\"])\n",
    "train_model(trainstreamer, teststreamer, config, settings)\n",
    "y, yhat = test_model(model, teststreamer)\n",
    "cfm = confusion_matrix(y, yhat)\n",
    "cfm = cfm / np.sum(cfm, axis=1, keepdims=True)\n",
    "confusion_matrixs[modelname] = cfm\n",
    "print(config)\n",
    "plot_confusion_matrix(cfm, modelname)"
   ]
  },
  {
   "cell_type": "code",
   "execution_count": 15,
   "metadata": {},
   "outputs": [
    {
     "data": {
      "image/png": "[encoded data removed]",
      "text/plain": [
       "<Figure size 640x480 with 2 Axes>"
      ]
     },
     "metadata": {},
     "output_type": "display_data"
    }
   ],
   "source": [
    "plot_confusion_matrix(cfm, modelname)"
   ]
  },
  {
   "cell_type": "markdown",
   "metadata": {},
   "source": [
    "## 1D CNN + GRU + RESNET + MULTIHEAD ATTENTION\n",
    "\n",
    "IDEA: adding multihead attention would help the CNN to focus on long term relations between datapoints, kind of supporting the memory component, retaining what's important.\n",
    "Multi-Head Attention helps focus on important parts of the input sequence regardless of their position, which is particularly useful for learning global relationships between distant time steps, identifying long-term temporal patterns in ECG signals.\n",
    "\n",
    "Tested: with Average vs Max Pooling\n",
    "Max pooling seems the best choice since the data does not need to smoothed out, the features which are interesting are the peaks which are detected with a max pooling\n",
    "Unlike average pooling, which smooths out the signal and can cause the loss of important high-frequency features, max pooling retains the strongest features in each local region. This can be especially helpful in cases where the model needs to focus on specific events (e.g., irregular heartbeats or spikes in ECG data)."
   ]
  },
  {
   "cell_type": "code",
   "execution_count": null,
   "metadata": {},
   "outputs": [
    {
     "name": "stderr",
     "output_type": "stream",
     "text": [
      "2025/02/02 12:19:36 INFO mlflow.tracking.fluent: Experiment with name 'CNN1DGRUResNetMH' does not exist. Creating a new experiment.\n",
      "\u001b[32m2025-02-02 12:19:36.779\u001b[0m | \u001b[1mINFO    \u001b[0m | \u001b[36mmltrainer.trainer\u001b[0m:\u001b[36mdir_add_timestamp\u001b[0m:\u001b[36m29\u001b[0m - \u001b[1mLogging to logs/heart1D_oversampled/20250202-121936\u001b[0m\n",
      "\u001b[32m2025-02-02 12:19:36.779\u001b[0m | \u001b[1mINFO    \u001b[0m | \u001b[36mmltrainer.trainer\u001b[0m:\u001b[36m__init__\u001b[0m:\u001b[36m72\u001b[0m - \u001b[1mFound earlystop_kwargs in settings.Set to None if you dont want earlystopping.\u001b[0m\n"
     ]
    },
    {
     "name": "stdout",
     "output_type": "stream",
     "text": [
      "{'model': 'CNN1DGRUResNetMH', 'scheduler': <class 'torch.optim.lr_scheduler.ReduceLROnPlateau'>, 'gru_hidden': 128, 'hidden': 128, 'dropout': 0.2, 'num_layers': 5, 'num_heads': 8, 'num_blocks': 1, 'num_classes': 5, 'input_length': 192, 'input_size': 1, 'shape': (1, 192), 'traindataset': 'oversampled'}\n",
      "CNN1DGRUResNetMH(\n",
      "  (convolutions): ModuleList(\n",
      "    (0): ConvBlock1D(\n",
      "      (conv): Sequential(\n",
      "        (0): Conv1d(1, 128, kernel_size=(3,), stride=(1,), padding=(1,))\n",
      "        (1): ReLU()\n",
      "        (2): BatchNorm1d(128, eps=1e-05, momentum=0.1, affine=True, track_running_stats=True)\n",
      "      )\n",
      "    )\n",
      "    (1): ConvBlock1D(\n",
      "      (conv): Sequential(\n",
      "        (0): Conv1d(128, 128, kernel_size=(3,), stride=(1,), padding=(1,))\n",
      "        (1): ReLU()\n",
      "        (2): BatchNorm1d(128, eps=1e-05, momentum=0.1, affine=True, track_running_stats=True)\n",
      "      )\n",
      "    )\n",
      "    (2): ResNetBlock1D(\n",
      "      (conv1): Conv1d(128, 128, kernel_size=(3,), stride=(1,), padding=(1,))\n",
      "      (bn1): BatchNorm1d(128, eps=1e-05, momentum=0.1, affine=True, track_running_stats=True)\n",
      "      (relu): ReLU()\n",
      "      (conv2): Conv1d(128, 128, kernel_size=(3,), stride=(1,), padding=(1,))\n",
      "      (bn2): BatchNorm1d(128, eps=1e-05, momentum=0.1, affine=True, track_running_stats=True)\n",
      "      (shortcut): Identity()\n",
      "    )\n",
      "    (3): MaxPool1d(kernel_size=2, stride=2, padding=0, dilation=1, ceil_mode=False)\n",
      "  )\n",
      "  (linear_after_conv): Linear(in_features=12288, out_features=128, bias=True)\n",
      "  (gru): GRU(128, 128, num_layers=5, batch_first=True, dropout=0.2)\n",
      "  (attention): MultiheadAttention(\n",
      "    (out_proj): NonDynamicallyQuantizableLinear(in_features=128, out_features=128, bias=True)\n",
      "  )\n",
      "  (dense): Sequential(\n",
      "    (0): Flatten(start_dim=1, end_dim=-1)\n",
      "    (1): Linear(in_features=128, out_features=128, bias=True)\n",
      "    (2): ReLU()\n",
      "    (3): Linear(in_features=128, out_features=5, bias=True)\n",
      "  )\n",
      ")\n",
      "----------------------------------------------------------------\n",
      "        Layer (type)               Output Shape         Param #\n",
      "================================================================\n",
      "            Conv1d-1             [-1, 128, 192]             512\n",
      "              ReLU-2             [-1, 128, 192]               0\n",
      "       BatchNorm1d-3             [-1, 128, 192]             256\n",
      "       ConvBlock1D-4             [-1, 128, 192]               0\n",
      "            Conv1d-5             [-1, 128, 192]          49,280\n",
      "              ReLU-6             [-1, 128, 192]               0\n",
      "       BatchNorm1d-7             [-1, 128, 192]             256\n",
      "       ConvBlock1D-8             [-1, 128, 192]               0\n",
      "            Conv1d-9             [-1, 128, 192]          49,280\n",
      "      BatchNorm1d-10             [-1, 128, 192]             256\n",
      "             ReLU-11             [-1, 128, 192]               0\n",
      "           Conv1d-12             [-1, 128, 192]          49,280\n",
      "      BatchNorm1d-13             [-1, 128, 192]             256\n",
      "         Identity-14             [-1, 128, 192]               0\n",
      "             ReLU-15             [-1, 128, 192]               0\n",
      "    ResNetBlock1D-16             [-1, 128, 192]               0\n",
      "        MaxPool1d-17              [-1, 128, 96]               0\n",
      "           Linear-18                  [-1, 128]       1,572,992\n",
      "              GRU-19  [[-1, 1, 128], [-1, 2, 128]]               0\n",
      "MultiheadAttention-20  [[-1, 1, 128], [-1, 1, 1]]               0\n",
      "          Flatten-21                  [-1, 128]               0\n",
      "           Linear-22                  [-1, 128]          16,512\n",
      "             ReLU-23                  [-1, 128]               0\n",
      "           Linear-24                    [-1, 5]             645\n",
      "================================================================\n",
      "Total params: 1,739,525\n",
      "Trainable params: 1,739,525\n",
      "Non-trainable params: 0\n",
      "----------------------------------------------------------------\n",
      "Input size (MB): 0.00\n",
      "Forward/backward pass size (MB): 2.85\n",
      "Params size (MB): 6.64\n",
      "Estimated Total Size (MB): 9.48\n",
      "----------------------------------------------------------------\n"
     ]
    },
    {
     "name": "stderr",
     "output_type": "stream",
     "text": [
      "  0%|\u001b[38;2;30;71;6m          \u001b[0m| 0/10 [00:00<?, ?it/s]"
     ]
    }
   ],
   "source": [
    "modelname= \"CNN1DGRUResNetMH\"\n",
    "config = {\n",
    "    \"model\": modelname,\n",
    "    \"scheduler\": torch.optim.lr_scheduler.ReduceLROnPlateau,\n",
    "    \"gru_hidden\": 128,\n",
    "    \"hidden\": 128,\n",
    "    \"dropout\": 0.2,\n",
    "    \"num_layers\": 5,\n",
    "    \"num_heads\": 8,\n",
    "    \"num_blocks\": 1,\n",
    "    \"num_classes\": 5,\n",
    "    \"input_length\": 192, \n",
    "    \"input_size\": 1, \n",
    "    \"shape\":(1, 192),\n",
    "    'traindataset': 'oversampled'\n",
    "}\n",
    "if 'smote' in str(trainfile):\n",
    "        settings.logdir=\"logs/heart1D_smote\"\n",
    "        config['traindataset'] = 'smote'\n",
    "\n",
    "print(config)\n",
    "model = models.CNN1DGRUResNetMH(config)\n",
    "print(model)\n",
    "summary(model, input_size=(192, 1))\n",
    "mlflow.set_tracking_uri(\"sqlite:///mads_exam.db\")\n",
    "mlflow.set_experiment(config[\"model\"])\n",
    "train_model(trainstreamer, teststreamer, config, settings)\n",
    "y, yhat = test_model(model, teststreamer)\n",
    "cfm = confusion_matrix(y, yhat)\n",
    "cfm = cfm / np.sum(cfm, axis=1, keepdims=True)\n",
    "confusion_matrixs[modelname] = cfm\n",
    "print(config)\n",
    "plot_confusion_matrix(cfm, modelname)"
   ]
  },
  {
   "cell_type": "markdown",
   "metadata": {},
   "source": [
    "# 1D TRANSFORMER MODELS"
   ]
  },
  {
   "cell_type": "markdown",
   "metadata": {},
   "source": [
    " ## TRANSFORMER 1D CNN"
   ]
  },
  {
   "cell_type": "code",
   "execution_count": null,
   "metadata": {},
   "outputs": [],
   "source": [
    "\n",
    "f1micro = metrics.F1Score(average='micro')\n",
    "f1macro = metrics.F1Score(average='macro')\n",
    "precision = metrics.Precision('micro')\n",
    "recall = metrics.Recall('macro')\n",
    "accuracy = metrics.Accuracy()\n",
    "\n",
    "settings = TrainerSettings(\n",
    "        epochs=15,\n",
    "        metrics=[accuracy, f1micro, f1macro, precision, recall],\n",
    "        logdir=\"logs/heart1D_oversampled\",\n",
    "        train_steps=len(trainstreamer) // 5, #met 5 epochs heeft het een keer de hele dataset gezien\n",
    "        valid_steps=len(teststreamer) // 5,\n",
    "        reporttypes=[ReportTypes.TENSORBOARD, ReportTypes.MLFLOW],\n",
    "        scheduler_kwargs={\"factor\": 0.5, \"patience\": 2},\n",
    "        earlystop_kwargs= {\"patience\": 8},\n",
    "        device= device\n",
    "    )\n",
    "\n",
    "\n",
    "modelname= \"Transformer1D\"\n",
    "config = {\n",
    "    \"model\": modelname,\n",
    "    \"scheduler\": torch.optim.lr_scheduler.ReduceLROnPlateau,\n",
    "    \"input\": 1,\n",
    "    \"hidden\": 128,\n",
    "    \"num_layers\": 2,\n",
    "    \"dropout\": 0.2,\n",
    "    \"num_classes\": 5,\n",
    "    \"num_heads\": 8,\n",
    "    \"num_blocks\": 2,\n",
    "    \"num_classes\": 5,\n",
    "    \"shape\": (16, 12),\n",
    "    'traindataset': 'oversampled'\n",
    "   \n",
    "}\n",
    "if 'smote' in trainfile:\n",
    "        settings.logdir=\"logs/heart1D_smote\"\n",
    "        config['traindataset'] = 'smote'\n",
    "\n",
    "\n",
    "print(config)\n",
    "model = models.Transformer(config)\n",
    "mlflow.set_tracking_uri(\"sqlite:///mads_exam.db\")\n",
    "mlflow.set_experiment(config[\"model\"])\n",
    "train_model(trainstreamer, teststreamer, config, settings)\n",
    "y, yhat = test_model(model, teststreamer)\n",
    "cfm = confusion_matrix(y, yhat)\n",
    "cfm = cfm / np.sum(cfm, axis=1, keepdims=True)\n",
    "confusion_matrixs[modelname] = cfm\n",
    "print(config)\n",
    "plot_confusion_matrix(cfm, modename)"
   ]
  },
  {
   "cell_type": "markdown",
   "metadata": {},
   "source": [
    "## 1D transformer + RESNET"
   ]
  },
  {
   "cell_type": "code",
   "execution_count": null,
   "metadata": {},
   "outputs": [],
   "source": [
    "f1micro = metrics.F1Score(average='micro')\n",
    "f1macro = metrics.F1Score(average='macro')\n",
    "precision = metrics.Precision('micro')\n",
    "recall = metrics.Recall('macro')\n",
    "accuracy = metrics.Accuracy()\n",
    "\n",
    "settings = TrainerSettings(\n",
    "        epochs=15,\n",
    "        metrics=[accuracy, f1micro, f1macro, precision, recall],\n",
    "        logdir=\"logs/heart1D_oversampled\",\n",
    "        train_steps=len(trainstreamer) // 5, #met 5 epochs heeft het een keer de hele dataset gezien\n",
    "        valid_steps=len(teststreamer) // 5,\n",
    "        reporttypes=[ReportTypes.TENSORBOARD, ReportTypes.MLFLOW],\n",
    "        scheduler_kwargs={\"factor\": 0.5, \"patience\": 2},\n",
    "        earlystop_kwargs= {\"patience\": 8},\n",
    "        device= device\n",
    "    )\n",
    "\n",
    "\n",
    "modelname= \"Transformer1DResnet\"\n",
    "config = {\n",
    "    \"model\": modelname,\n",
    "    \"scheduler\": torch.optim.lr_scheduler.ReduceLROnPlateau,\n",
    "    \"input\": 1,\n",
    "    \"hidden\": 128,\n",
    "    \"num_layers\": 2,\n",
    "    \"dropout\": 0.2,\n",
    "    \"num_classes\": 5,\n",
    "    \"num_heads\": 8,\n",
    "    \"num_blocks\": 2,\n",
    "    \"num_classes\": 5,\n",
    "    \"shape\": (16, 12),\n",
    "    'traindataset': 'oversampled'\n",
    "   \n",
    "}\n",
    "if 'smote' in trainfile:\n",
    "        settings.logdir=\"logs/heart1D_smote\"\n",
    "        config['traindataset'] = 'smote'\n",
    "\n",
    "\n",
    "print(config)\n",
    "model = models.Transformer1DResnet(config)\n",
    "mlflow.set_tracking_uri(\"sqlite:///mads_exam.db\")\n",
    "mlflow.set_experiment(config[\"model\"])\n",
    "train_model(trainstreamer, teststreamer, config, settings)\n",
    "y, yhat = test_model(model, teststreamer)\n",
    "cfm = confusion_matrix(y, yhat)\n",
    "cfm = cfm / np.sum(cfm, axis=1, keepdims=True)\n",
    "confusion_matrixs[modelname] = cfm\n",
    "print(config)\n",
    "plot_confusion_matrix(cfm, modename)"
   ]
  },
  {
   "cell_type": "markdown",
   "metadata": {},
   "source": [
    "## 1D TRANSFOMER + RESNET + SQUEEZE AND EXCITE\n",
    "- The SE block would help compact the feature representation through global pooling and speed traing\n"
   ]
  },
  {
   "cell_type": "code",
   "execution_count": null,
   "metadata": {},
   "outputs": [],
   "source": [
    "f1micro = metrics.F1Score(average='micro')\n",
    "f1macro = metrics.F1Score(average='macro')\n",
    "precision = metrics.Precision('micro')\n",
    "recall = metrics.Recall('macro')\n",
    "accuracy = metrics.Accuracy()\n",
    "\n",
    "settings = TrainerSettings(\n",
    "        epochs=15,\n",
    "        metrics=[accuracy, f1micro, f1macro, precision, recall],\n",
    "        logdir=\"logs/heart1D_oversampled\",\n",
    "        train_steps=len(trainstreamer) // 5, #met 5 epochs heeft het een keer de hele dataset gezien\n",
    "        valid_steps=len(teststreamer) // 5,\n",
    "        reporttypes=[ReportTypes.TENSORBOARD, ReportTypes.MLFLOW],\n",
    "        scheduler_kwargs={\"factor\": 0.5, \"patience\": 2},\n",
    "        earlystop_kwargs= {\"patience\": 8},\n",
    "        device= device\n",
    "    )\n",
    "\n",
    "\n",
    "modelname= \"Transformer1DResnetSE\"\n",
    "config = {\n",
    "    \"model\": modelname,\n",
    "    \"scheduler\": torch.optim.lr_scheduler.ReduceLROnPlateau,\n",
    "    \"input\": 1,\n",
    "    \"hidden\": 128,\n",
    "    \"num_layers\": 2,\n",
    "    \"dropout\": 0.2,\n",
    "    \"num_classes\": 5,\n",
    "    \"num_heads\": 8,\n",
    "    \"num_blocks\": 2,\n",
    "    \"num_classes\": 5,\n",
    "    \"shape\": (16, 12),\n",
    "    'traindataset': 'oversampled'\n",
    "   \n",
    "}\n",
    "if 'smote' in trainfile:\n",
    "        settings.logdir=\"logs/heart1D_smote\"\n",
    "        config['traindataset'] = 'smote'\n",
    "\n",
    "\n",
    "print(config)\n",
    "model = models.Transformer1DResnetSE(config)\n",
    "yhat = model(x)\n",
    "mlflow.set_tracking_uri(\"sqlite:///mads_exam.db\")\n",
    "mlflow.set_experiment(config[\"model\"])\n",
    "train_model(trainstreamer, teststreamer, config, settings)\n",
    "y, yhat = test_model(model, teststreamer)\n",
    "cfm = confusion_matrix(y, yhat)\n",
    "cfm = cfm / np.sum(cfm, axis=1, keepdims=True)\n",
    "confusion_matrixs[modelname] = cfm\n",
    "print(config)\n",
    "plot_confusion_matrix(cfm, modename)"
   ]
  },
  {
   "cell_type": "markdown",
   "metadata": {},
   "source": [
    "## TRANSFORMER + RESNET + SE + MULTIHEAD ATTENTION"
   ]
  },
  {
   "cell_type": "code",
   "execution_count": null,
   "metadata": {},
   "outputs": [],
   "source": [
    "\n",
    "f1micro = metrics.F1Score(average='micro')\n",
    "f1macro = metrics.F1Score(average='macro')\n",
    "precision = metrics.Precision('micro')\n",
    "recall = metrics.Recall('macro')\n",
    "accuracy = metrics.Accuracy()\n",
    "\n",
    "settings = TrainerSettings(\n",
    "        epochs=15,\n",
    "        metrics=[accuracy, f1micro, f1macro, precision, recall],\n",
    "        logdir=\"logs/heart1D_oversampled\",\n",
    "        train_steps=len(trainstreamer) // 5, #met 5 epochs heeft het een keer de hele dataset gezien\n",
    "        valid_steps=len(teststreamer) // 5,\n",
    "        reporttypes=[ReportTypes.TENSORBOARD, ReportTypes.MLFLOW],\n",
    "        scheduler_kwargs={\"factor\": 0.5, \"patience\": 2},\n",
    "        earlystop_kwargs= {\"patience\": 8},\n",
    "        device= device\n",
    "    )\n",
    "\n",
    "\n",
    "modelname= \"Transformer1DResnetSEwithAttention\"\n",
    "config = {\n",
    "    \"model\": modelname,\n",
    "    \"scheduler\": torch.optim.lr_scheduler.ReduceLROnPlateau,\n",
    "    \"input\": 1,\n",
    "    \"hidden\": 128,\n",
    "    \"num_layers\": 2,\n",
    "    \"dropout\": 0.2,\n",
    "    \"num_classes\": 5,\n",
    "    \"num_heads\": 8,\n",
    "    \"num_blocks\": 2,\n",
    "    \"num_classes\": 5,\n",
    "    \"shape\": (16, 12),\n",
    "    'traindataset': 'oversampled'\n",
    "   \n",
    "}\n",
    "if 'smote' in trainfile:\n",
    "        settings.logdir=\"logs/heart1D_smote\"\n",
    "        config['traindataset'] = 'smote'\n",
    "\n",
    "\n",
    "print(config)\n",
    "model = models.Transformer1DResnetSEwithAttention(config)\n",
    "mlflow.set_tracking_uri(\"sqlite:///mads_exam.db\")\n",
    "mlflow.set_experiment(config[\"model\"])\n",
    "train_model(trainstreamer, teststreamer, config, settings)\n",
    "y, yhat = test_model(model, teststreamer)\n",
    "cfm = confusion_matrix(y, yhat)\n",
    "cfm = cfm / np.sum(cfm, axis=1, keepdims=True)\n",
    "confusion_matrixs[modelname] = cfm\n",
    "print(config)\n",
    "plot_confusion_matrix(cfm, modename)"
   ]
  },
  {
   "cell_type": "code",
   "execution_count": null,
   "metadata": {},
   "outputs": [],
   "source": [
    " # testing types of seeds"
   ]
  },
  {
   "cell_type": "code",
   "execution_count": 22,
   "metadata": {},
   "outputs": [
    {
     "name": "stdout",
     "output_type": "stream",
     "text": [
      "Random Seed from Date and Time (hashed): 1902171767351478533\n"
     ]
    },
    {
     "data": {
      "text/plain": [
       "'2025-01-30_11-57-17'"
      ]
     },
     "execution_count": 22,
     "metadata": {},
     "output_type": "execute_result"
    }
   ],
   "source": [
    "from datetime import datetime\n",
    "\n",
    "# Get current date and time in a specific format (e.g., '2025-01-28_15-30-45')\n",
    "current_time_str = datetime.now().strftime(\"%Y-%m-%d_%H-%M-%S\")\n",
    "\n",
    "# Hash the string to create a seed\n",
    "random_seed = hash(current_time_str)\n",
    "print(f\"Random Seed from Date and Time (hashed): {random_seed}\")\n",
    "current_time_str"
   ]
  },
  {
   "cell_type": "code",
   "execution_count": 23,
   "metadata": {},
   "outputs": [
    {
     "name": "stdout",
     "output_type": "stream",
     "text": [
      "Random Seed from Date and Time: 1738234650\n"
     ]
    }
   ],
   "source": [
    "import time\n",
    "\n",
    "# Use the current date and time to generate a more unique seed\n",
    "current_time_str = time.strftime(\"%Y-%m-%d %H:%M:%S\", time.localtime())\n",
    "random_seed = int(time.mktime(time.strptime(current_time_str, \"%Y-%m-%d %H:%M:%S\")))\n",
    "print(f\"Random Seed from Date and Time: {random_seed}\")"
   ]
  },
  {
   "cell_type": "code",
   "execution_count": 24,
   "metadata": {},
   "outputs": [
    {
     "name": "stdout",
     "output_type": "stream",
     "text": [
      "Random Seed: 2921403402\n"
     ]
    }
   ],
   "source": [
    "import random\n",
    "\n",
    "# Generate a random integer between 0 and 2^32 - 1\n",
    "random_seed = random.randint(0, 2**32 - 1)\n",
    "print(f\"Random Seed: {random_seed}\")"
   ]
  }
 ],
 "metadata": {
  "kernelspec": {
   "display_name": ".venv",
   "language": "python",
   "name": "python3"
  },
  "language_info": {
   "codemirror_mode": {
    "name": "ipython",
    "version": 3
   },
   "file_extension": ".py",
   "mimetype": "text/x-python",
   "name": "python",
   "nbconvert_exporter": "python",
   "pygments_lexer": "ipython3",
   "version": "3.11.9"
  }
 },
 "nbformat": 4,
 "nbformat_minor": 4
}
