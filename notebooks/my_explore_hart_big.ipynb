{
 "cells": [
  {
   "cell_type": "markdown",
   "metadata": {},
   "source": [
    "## Explore: architectuur analyse"
   ]
  },
  {
   "cell_type": "markdown",
   "metadata": {},
   "source": [
    "### Arrhythmia Dataset\n",
    "\n",
    "- Number of Samples: 109446\n",
    "- Number of Categories: 5\n",
    "- Sampling Frequency: 125Hz\n",
    "- Data Source: Physionet's MIT-BIH Arrhythmia Dataset\n",
    "- Classes: ['N': 0, 'S': 1, 'V': 2, 'F': 3, 'Q': 4]\n",
    "All the samples are cropped, downsampled and padded with zeroes if necessary to the fixed dimension of 187. There is a target column named \"target\".\n",
    "\n",
    "You can find this in `data/heart_big_train.parq` and `data/heart_big_test.parq`.\n"
   ]
  },
  {
   "cell_type": "code",
   "execution_count": 2,
   "metadata": {},
   "outputs": [
    {
     "name": "stdout",
     "output_type": "stream",
     "text": [
      "{'ptb': 'heart', 'arrhythmia': 'heart_big'}\n"
     ]
    }
   ],
   "source": [
    "from pathlib import Path\n",
    "import pandas as pd\n",
    "import tomllib\n",
    "datadir = Path('../data')\n",
    "configfile = Path(\"config.toml\")\n",
    "with configfile.open('rb') as f:                                                                                                                   \n",
    "    config = tomllib.load(f)\n",
    "print(config)\n"
   ]
  },
  {
   "cell_type": "code",
   "execution_count": 3,
   "metadata": {},
   "outputs": [
    {
     "name": "stdout",
     "output_type": "stream",
     "text": [
      "109446\n"
     ]
    },
    {
     "data": {
      "text/plain": [
       "(87554, 21892)"
      ]
     },
     "execution_count": 3,
     "metadata": {},
     "output_type": "execute_result"
    }
   ],
   "source": [
    "trainfile = datadir / (config['arrhythmia'] + '_train.parq')\n",
    "testfile = datadir / (config['arrhythmia'] + '_test.parq')\n",
    "\n",
    "train_df = pd.read_parquet(trainfile)\n",
    "test_df = pd.read_parquet(testfile)\n",
    "#number of rows \n",
    "print(len(train_df)+len(test_df))\n",
    "len(train_df), len(test_df)\n"
   ]
  },
  {
   "cell_type": "code",
   "execution_count": 4,
   "metadata": {},
   "outputs": [
    {
     "data": {
      "text/plain": [
       "(target\n",
       " 0.0    82.772917\n",
       " 4.0     7.345181\n",
       " 2.0     6.610777\n",
       " 1.0     2.539005\n",
       " 3.0     0.732120\n",
       " Name: proportion, dtype: float64,\n",
       " target\n",
       " 0.0    82.760826\n",
       " 4.0     7.345149\n",
       " 2.0     6.614288\n",
       " 1.0     2.539741\n",
       " 3.0     0.739996\n",
       " Name: proportion, dtype: float64)"
      ]
     },
     "execution_count": 4,
     "metadata": {},
     "output_type": "execute_result"
    }
   ],
   "source": [
    "train_df.target.value_counts(), test_df.target.value_counts()\n",
    "train_percentages = train_df.target.value_counts(normalize=True) * 100\n",
    "test_percentages = test_df.target.value_counts(normalize=True) * 100\n",
    "train_percentages, test_percentages"
   ]
  },
  {
   "cell_type": "code",
   "execution_count": 5,
   "metadata": {},
   "outputs": [
    {
     "data": {
      "text/plain": [
       "0        0.000000\n",
       "1        0.000000\n",
       "2        0.000000\n",
       "3        0.000000\n",
       "4        0.164319\n",
       "           ...   \n",
       "87549    0.000000\n",
       "87550    0.000000\n",
       "87551    0.000000\n",
       "87552    0.000000\n",
       "87553    0.000000\n",
       "Name: 139, Length: 87554, dtype: float64"
      ]
     },
     "execution_count": 5,
     "metadata": {},
     "output_type": "execute_result"
    }
   ],
   "source": [
    "train_df['139']"
   ]
  },
  {
   "cell_type": "code",
   "execution_count": 6,
   "metadata": {},
   "outputs": [
    {
     "name": "stdout",
     "output_type": "stream",
     "text": [
      "0      1.000000\n",
      "1      0.829949\n",
      "2      0.220812\n",
      "3      0.043147\n",
      "4      0.185279\n",
      "         ...   \n",
      "182    0.000000\n",
      "183    0.000000\n",
      "184    0.000000\n",
      "185    0.000000\n",
      "186    0.000000\n",
      "Name: 139, Length: 187, dtype: float64\n"
     ]
    }
   ],
   "source": [
    "import seaborn as sns\n",
    "import matplotlib.pyplot as plt\n",
    "\n",
    "signal = train_df.iloc[139, :-1]\n",
    "\n",
    "print(signal)"
   ]
  },
  {
   "cell_type": "code",
   "execution_count": 7,
   "metadata": {},
   "outputs": [
    {
     "data": {
      "image/png": "[encoded data removed]",
      "text/plain": [
       "<Figure size 640x480 with 1 Axes>"
      ]
     },
     "metadata": {},
     "output_type": "display_data"
    }
   ],
   "source": [
    "sns.lineplot(data=signal)\n",
    "plt.xticks(range(0, len(signal), 25));"
   ]
  },
  {
   "cell_type": "code",
   "execution_count": 13,
   "metadata": {},
   "outputs": [
    {
     "data": {
      "text/plain": [
       "(Heartdataset (len 87554), Heartdataset (len 21892))"
      ]
     },
     "execution_count": 13,
     "metadata": {},
     "output_type": "execute_result"
    }
   ],
   "source": [
    "from src import datasets, metrics\n",
    "traindataset = datasets.HeartDataset1D(trainfile, target=\"target\")\n",
    "testdataset = datasets.HeartDataset1D(testfile, target=\"target\")\n",
    "traindataset, testdataset"
   ]
  },
  {
   "cell_type": "code",
   "execution_count": 16,
   "metadata": {},
   "outputs": [
    {
     "name": "stdout",
     "output_type": "stream",
     "text": [
      "torch.Size([192, 1]) tensor(0)\n"
     ]
    },
    {
     "data": {
      "image/png": "[encoded data removed]",
      "text/plain": [
       "<Figure size 640x480 with 1 Axes>"
      ]
     },
     "metadata": {},
     "output_type": "display_data"
    }
   ],
   "source": [
    "x, y = traindataset[139]\n",
    "viz = x.squeeze().cpu().numpy()\n",
    "sns.lineplot(x=range(len(viz)), y=viz)\n",
    "title = 'normal' if y == 0 else 'abnormal'\n",
    "plt.title(f\"Label: {title}\");\n",
    "print(x.shape, y)"
   ]
  },
  {
   "cell_type": "code",
   "execution_count": 24,
   "metadata": {},
   "outputs": [
    {
     "data": {
      "text/html": [
       "<div>\n",
       "<style scoped>\n",
       "    .dataframe tbody tr th:only-of-type {\n",
       "        vertical-align: middle;\n",
       "    }\n",
       "\n",
       "    .dataframe tbody tr th {\n",
       "        vertical-align: top;\n",
       "    }\n",
       "\n",
       "    .dataframe thead th {\n",
       "        text-align: right;\n",
       "    }\n",
       "</style>\n",
       "<table border=\"1\" class=\"dataframe\">\n",
       "  <thead>\n",
       "    <tr style=\"text-align: right;\">\n",
       "      <th></th>\n",
       "      <th>0</th>\n",
       "      <th>1</th>\n",
       "      <th>2</th>\n",
       "      <th>3</th>\n",
       "      <th>4</th>\n",
       "      <th>5</th>\n",
       "      <th>6</th>\n",
       "      <th>7</th>\n",
       "      <th>8</th>\n",
       "      <th>9</th>\n",
       "      <th>...</th>\n",
       "      <th>178</th>\n",
       "      <th>179</th>\n",
       "      <th>180</th>\n",
       "      <th>181</th>\n",
       "      <th>182</th>\n",
       "      <th>183</th>\n",
       "      <th>184</th>\n",
       "      <th>185</th>\n",
       "      <th>186</th>\n",
       "      <th>target</th>\n",
       "    </tr>\n",
       "  </thead>\n",
       "  <tbody>\n",
       "    <tr>\n",
       "      <th>74694</th>\n",
       "      <td>0.000000</td>\n",
       "      <td>0.009756</td>\n",
       "      <td>0.074390</td>\n",
       "      <td>0.162195</td>\n",
       "      <td>0.240244</td>\n",
       "      <td>0.291463</td>\n",
       "      <td>0.370732</td>\n",
       "      <td>0.442683</td>\n",
       "      <td>0.498780</td>\n",
       "      <td>0.560976</td>\n",
       "      <td>...</td>\n",
       "      <td>0.0</td>\n",
       "      <td>0.0</td>\n",
       "      <td>0.0</td>\n",
       "      <td>0.0</td>\n",
       "      <td>0.0</td>\n",
       "      <td>0.0</td>\n",
       "      <td>0.0</td>\n",
       "      <td>0.0</td>\n",
       "      <td>0.0</td>\n",
       "      <td>2.0</td>\n",
       "    </tr>\n",
       "    <tr>\n",
       "      <th>74695</th>\n",
       "      <td>1.000000</td>\n",
       "      <td>0.865672</td>\n",
       "      <td>0.660448</td>\n",
       "      <td>0.458955</td>\n",
       "      <td>0.242537</td>\n",
       "      <td>0.126866</td>\n",
       "      <td>0.164179</td>\n",
       "      <td>0.242537</td>\n",
       "      <td>0.298507</td>\n",
       "      <td>0.350746</td>\n",
       "      <td>...</td>\n",
       "      <td>0.0</td>\n",
       "      <td>0.0</td>\n",
       "      <td>0.0</td>\n",
       "      <td>0.0</td>\n",
       "      <td>0.0</td>\n",
       "      <td>0.0</td>\n",
       "      <td>0.0</td>\n",
       "      <td>0.0</td>\n",
       "      <td>0.0</td>\n",
       "      <td>2.0</td>\n",
       "    </tr>\n",
       "    <tr>\n",
       "      <th>74696</th>\n",
       "      <td>0.556728</td>\n",
       "      <td>0.530343</td>\n",
       "      <td>0.440633</td>\n",
       "      <td>0.290237</td>\n",
       "      <td>0.171504</td>\n",
       "      <td>0.055409</td>\n",
       "      <td>0.005277</td>\n",
       "      <td>0.042216</td>\n",
       "      <td>0.000000</td>\n",
       "      <td>0.013193</td>\n",
       "      <td>...</td>\n",
       "      <td>0.0</td>\n",
       "      <td>0.0</td>\n",
       "      <td>0.0</td>\n",
       "      <td>0.0</td>\n",
       "      <td>0.0</td>\n",
       "      <td>0.0</td>\n",
       "      <td>0.0</td>\n",
       "      <td>0.0</td>\n",
       "      <td>0.0</td>\n",
       "      <td>2.0</td>\n",
       "    </tr>\n",
       "    <tr>\n",
       "      <th>74697</th>\n",
       "      <td>1.000000</td>\n",
       "      <td>0.968031</td>\n",
       "      <td>0.782609</td>\n",
       "      <td>0.512788</td>\n",
       "      <td>0.418159</td>\n",
       "      <td>0.381074</td>\n",
       "      <td>0.347826</td>\n",
       "      <td>0.320972</td>\n",
       "      <td>0.312020</td>\n",
       "      <td>0.295396</td>\n",
       "      <td>...</td>\n",
       "      <td>0.0</td>\n",
       "      <td>0.0</td>\n",
       "      <td>0.0</td>\n",
       "      <td>0.0</td>\n",
       "      <td>0.0</td>\n",
       "      <td>0.0</td>\n",
       "      <td>0.0</td>\n",
       "      <td>0.0</td>\n",
       "      <td>0.0</td>\n",
       "      <td>2.0</td>\n",
       "    </tr>\n",
       "    <tr>\n",
       "      <th>74698</th>\n",
       "      <td>0.000000</td>\n",
       "      <td>0.037681</td>\n",
       "      <td>0.101449</td>\n",
       "      <td>0.215942</td>\n",
       "      <td>0.236232</td>\n",
       "      <td>0.349275</td>\n",
       "      <td>0.389855</td>\n",
       "      <td>0.485507</td>\n",
       "      <td>0.539130</td>\n",
       "      <td>0.601449</td>\n",
       "      <td>...</td>\n",
       "      <td>0.0</td>\n",
       "      <td>0.0</td>\n",
       "      <td>0.0</td>\n",
       "      <td>0.0</td>\n",
       "      <td>0.0</td>\n",
       "      <td>0.0</td>\n",
       "      <td>0.0</td>\n",
       "      <td>0.0</td>\n",
       "      <td>0.0</td>\n",
       "      <td>2.0</td>\n",
       "    </tr>\n",
       "    <tr>\n",
       "      <th>...</th>\n",
       "      <td>...</td>\n",
       "      <td>...</td>\n",
       "      <td>...</td>\n",
       "      <td>...</td>\n",
       "      <td>...</td>\n",
       "      <td>...</td>\n",
       "      <td>...</td>\n",
       "      <td>...</td>\n",
       "      <td>...</td>\n",
       "      <td>...</td>\n",
       "      <td>...</td>\n",
       "      <td>...</td>\n",
       "      <td>...</td>\n",
       "      <td>...</td>\n",
       "      <td>...</td>\n",
       "      <td>...</td>\n",
       "      <td>...</td>\n",
       "      <td>...</td>\n",
       "      <td>...</td>\n",
       "      <td>...</td>\n",
       "      <td>...</td>\n",
       "    </tr>\n",
       "    <tr>\n",
       "      <th>80477</th>\n",
       "      <td>0.984199</td>\n",
       "      <td>0.975169</td>\n",
       "      <td>0.880361</td>\n",
       "      <td>0.848758</td>\n",
       "      <td>0.794582</td>\n",
       "      <td>0.753950</td>\n",
       "      <td>0.715576</td>\n",
       "      <td>0.584650</td>\n",
       "      <td>0.336343</td>\n",
       "      <td>0.194131</td>\n",
       "      <td>...</td>\n",
       "      <td>0.0</td>\n",
       "      <td>0.0</td>\n",
       "      <td>0.0</td>\n",
       "      <td>0.0</td>\n",
       "      <td>0.0</td>\n",
       "      <td>0.0</td>\n",
       "      <td>0.0</td>\n",
       "      <td>0.0</td>\n",
       "      <td>0.0</td>\n",
       "      <td>2.0</td>\n",
       "    </tr>\n",
       "    <tr>\n",
       "      <th>80478</th>\n",
       "      <td>0.528846</td>\n",
       "      <td>0.455128</td>\n",
       "      <td>0.285256</td>\n",
       "      <td>0.000000</td>\n",
       "      <td>0.022436</td>\n",
       "      <td>0.054487</td>\n",
       "      <td>0.080128</td>\n",
       "      <td>0.064103</td>\n",
       "      <td>0.086538</td>\n",
       "      <td>0.064103</td>\n",
       "      <td>...</td>\n",
       "      <td>0.0</td>\n",
       "      <td>0.0</td>\n",
       "      <td>0.0</td>\n",
       "      <td>0.0</td>\n",
       "      <td>0.0</td>\n",
       "      <td>0.0</td>\n",
       "      <td>0.0</td>\n",
       "      <td>0.0</td>\n",
       "      <td>0.0</td>\n",
       "      <td>2.0</td>\n",
       "    </tr>\n",
       "    <tr>\n",
       "      <th>80479</th>\n",
       "      <td>0.930921</td>\n",
       "      <td>0.927632</td>\n",
       "      <td>0.690789</td>\n",
       "      <td>0.250000</td>\n",
       "      <td>0.000000</td>\n",
       "      <td>0.021382</td>\n",
       "      <td>0.087171</td>\n",
       "      <td>0.125000</td>\n",
       "      <td>0.215461</td>\n",
       "      <td>0.302632</td>\n",
       "      <td>...</td>\n",
       "      <td>0.0</td>\n",
       "      <td>0.0</td>\n",
       "      <td>0.0</td>\n",
       "      <td>0.0</td>\n",
       "      <td>0.0</td>\n",
       "      <td>0.0</td>\n",
       "      <td>0.0</td>\n",
       "      <td>0.0</td>\n",
       "      <td>0.0</td>\n",
       "      <td>2.0</td>\n",
       "    </tr>\n",
       "    <tr>\n",
       "      <th>80480</th>\n",
       "      <td>0.996124</td>\n",
       "      <td>0.997416</td>\n",
       "      <td>0.830749</td>\n",
       "      <td>0.534884</td>\n",
       "      <td>0.450904</td>\n",
       "      <td>0.408269</td>\n",
       "      <td>0.369509</td>\n",
       "      <td>0.355297</td>\n",
       "      <td>0.342377</td>\n",
       "      <td>0.337209</td>\n",
       "      <td>...</td>\n",
       "      <td>0.0</td>\n",
       "      <td>0.0</td>\n",
       "      <td>0.0</td>\n",
       "      <td>0.0</td>\n",
       "      <td>0.0</td>\n",
       "      <td>0.0</td>\n",
       "      <td>0.0</td>\n",
       "      <td>0.0</td>\n",
       "      <td>0.0</td>\n",
       "      <td>2.0</td>\n",
       "    </tr>\n",
       "    <tr>\n",
       "      <th>80481</th>\n",
       "      <td>0.017857</td>\n",
       "      <td>0.000000</td>\n",
       "      <td>0.040816</td>\n",
       "      <td>0.121173</td>\n",
       "      <td>0.210459</td>\n",
       "      <td>0.271684</td>\n",
       "      <td>0.352041</td>\n",
       "      <td>0.423469</td>\n",
       "      <td>0.463010</td>\n",
       "      <td>0.549745</td>\n",
       "      <td>...</td>\n",
       "      <td>0.0</td>\n",
       "      <td>0.0</td>\n",
       "      <td>0.0</td>\n",
       "      <td>0.0</td>\n",
       "      <td>0.0</td>\n",
       "      <td>0.0</td>\n",
       "      <td>0.0</td>\n",
       "      <td>0.0</td>\n",
       "      <td>0.0</td>\n",
       "      <td>2.0</td>\n",
       "    </tr>\n",
       "  </tbody>\n",
       "</table>\n",
       "<p>5788 rows × 188 columns</p>\n",
       "</div>"
      ],
      "text/plain": [
       "              0         1         2         3         4         5         6  \\\n",
       "74694  0.000000  0.009756  0.074390  0.162195  0.240244  0.291463  0.370732   \n",
       "74695  1.000000  0.865672  0.660448  0.458955  0.242537  0.126866  0.164179   \n",
       "74696  0.556728  0.530343  0.440633  0.290237  0.171504  0.055409  0.005277   \n",
       "74697  1.000000  0.968031  0.782609  0.512788  0.418159  0.381074  0.347826   \n",
       "74698  0.000000  0.037681  0.101449  0.215942  0.236232  0.349275  0.389855   \n",
       "...         ...       ...       ...       ...       ...       ...       ...   \n",
       "80477  0.984199  0.975169  0.880361  0.848758  0.794582  0.753950  0.715576   \n",
       "80478  0.528846  0.455128  0.285256  0.000000  0.022436  0.054487  0.080128   \n",
       "80479  0.930921  0.927632  0.690789  0.250000  0.000000  0.021382  0.087171   \n",
       "80480  0.996124  0.997416  0.830749  0.534884  0.450904  0.408269  0.369509   \n",
       "80481  0.017857  0.000000  0.040816  0.121173  0.210459  0.271684  0.352041   \n",
       "\n",
       "              7         8         9  ...  178  179  180  181  182  183  184  \\\n",
       "74694  0.442683  0.498780  0.560976  ...  0.0  0.0  0.0  0.0  0.0  0.0  0.0   \n",
       "74695  0.242537  0.298507  0.350746  ...  0.0  0.0  0.0  0.0  0.0  0.0  0.0   \n",
       "74696  0.042216  0.000000  0.013193  ...  0.0  0.0  0.0  0.0  0.0  0.0  0.0   \n",
       "74697  0.320972  0.312020  0.295396  ...  0.0  0.0  0.0  0.0  0.0  0.0  0.0   \n",
       "74698  0.485507  0.539130  0.601449  ...  0.0  0.0  0.0  0.0  0.0  0.0  0.0   \n",
       "...         ...       ...       ...  ...  ...  ...  ...  ...  ...  ...  ...   \n",
       "80477  0.584650  0.336343  0.194131  ...  0.0  0.0  0.0  0.0  0.0  0.0  0.0   \n",
       "80478  0.064103  0.086538  0.064103  ...  0.0  0.0  0.0  0.0  0.0  0.0  0.0   \n",
       "80479  0.125000  0.215461  0.302632  ...  0.0  0.0  0.0  0.0  0.0  0.0  0.0   \n",
       "80480  0.355297  0.342377  0.337209  ...  0.0  0.0  0.0  0.0  0.0  0.0  0.0   \n",
       "80481  0.423469  0.463010  0.549745  ...  0.0  0.0  0.0  0.0  0.0  0.0  0.0   \n",
       "\n",
       "       185  186  target  \n",
       "74694  0.0  0.0     2.0  \n",
       "74695  0.0  0.0     2.0  \n",
       "74696  0.0  0.0     2.0  \n",
       "74697  0.0  0.0     2.0  \n",
       "74698  0.0  0.0     2.0  \n",
       "...    ...  ...     ...  \n",
       "80477  0.0  0.0     2.0  \n",
       "80478  0.0  0.0     2.0  \n",
       "80479  0.0  0.0     2.0  \n",
       "80480  0.0  0.0     2.0  \n",
       "80481  0.0  0.0     2.0  \n",
       "\n",
       "[5788 rows x 188 columns]"
      ]
     },
     "execution_count": 24,
     "metadata": {},
     "output_type": "execute_result"
    }
   ],
   "source": [
    "train_df[train_df['target']==2]"
   ]
  },
  {
   "cell_type": "code",
   "execution_count": 25,
   "metadata": {},
   "outputs": [
    {
     "name": "stdout",
     "output_type": "stream",
     "text": [
      "torch.Size([192, 1]) tensor(2)\n"
     ]
    },
    {
     "data": {
      "image/png": "[encoded data removed]",
      "text/plain": [
       "<Figure size 640x480 with 1 Axes>"
      ]
     },
     "metadata": {},
     "output_type": "display_data"
    }
   ],
   "source": [
    "\n",
    "x, y = traindataset[74698]\n",
    "viz = x.squeeze().cpu().numpy()\n",
    "sns.lineplot(x=range(len(viz)), y=viz)\n",
    "title = 'normal' if y == 0 else 'abnormal'\n",
    "plt.title(f\"Label: {title}\");\n",
    "print(x.shape, y)"
   ]
  },
  {
   "cell_type": "code",
   "execution_count": null,
   "metadata": {},
   "outputs": [
    {
     "name": "stdout",
     "output_type": "stream",
     "text": [
      "torch.Size([192, 1]) tensor(3)\n"
     ]
    },
    {
     "data": {
      "image/png": "[encoded data removed]",
      "text/plain": [
       "<Figure size 640x480 with 1 Axes>"
      ]
     },
     "metadata": {},
     "output_type": "display_data"
    }
   ],
   "source": [
    "x, y = traindataset[81121]\n",
    "viz = x.squeeze().cpu().numpy()\n",
    "sns.lineplot(x=range(len(viz)), y=viz)\n",
    "title = 'normal' if y == 0 else 'abnormal'\n",
    "plt.title(f\"Label: {title}\");\n",
    "print(x.shape, y)"
   ]
  },
  {
   "cell_type": "code",
   "execution_count": null,
   "metadata": {},
   "outputs": [],
   "source": [
    "# Exploration notes en observations\n",
    "- Dataset is a time series\n",
    "- Dataset is unbalanced (class 3 has 0.75 of the data)\n",
    "- The signal is not normalized?\n",
    "- The signal is not centered due to padding, padding maakt de data points te groot?\n",
    "\n",
    "# about the 1D model\n",
    "- The model is a transformer with a transformer block and 1D convolutional layer\n",
    "\n",
    "Transofrmer block with the following hyperparameters:\n",
    "16 hidden units\n",
    "Dropout  0.1\n",
    "heads 4\n",
    "\n",
    "Transformer is 1D conv\n",
    "1 block\n",
    "1 positional encoding\n",
    "2x skiplayer\n",
    "\n",
    "Accuracy: model presteert slecht met 1, 2, 3 \n",
    "\n",
    "# about the 2D model\n",
    "- Model CNN 2D bestaat uit:\n",
    "2 layers with ReLU\n",
    "1 MaxPool2d layer\n",
    "Dense layer bestaat uit 2 linear layers\n",
    "\n",
    "Hyperparameters:\n",
    "- 16 hidden units\n",
    "- 1 block met 2 conv\n",
    "\n",
    "Accuracy: 96% but with a low accuracy for class 3 and 5\n",
    "\n"
   ]
  },
  {
   "cell_type": "markdown",
   "metadata": {},
   "source": [
    "**Precision**: Hoeveel van de voorspellingen voor een bepaalde klasse zijn daadwerkelijk correct? \n",
    "**Precision** (ook wel **positieve voorspellingsnauwkeurigheid**) geeft aan hoeveel van de voorspellingen van de positieve klasse correct zijn. \n",
    "Dit is vooral belangrijk wanneer je wilt weten hoe betrouwbaar de voorspellingen van een specifieke klasse zijn.\n",
    "\n",
    "**Recall**: Hoeveel van de werkelijke gevallen van een bepaalde klasse zijn correct voorspeld? \n",
    "Recall (ook wel gevoeligheid of True Positive Rate) geeft aan hoeveel van de **werkelijke positieve gevallen correct** door het model worden voorspeld. \n",
    "Het is de maatstaf voor hoe goed het model in staat is om positieve gevallen te detecteren binnen elke klasse.\n",
    "\n",
    "# Macro F1 score\n",
    "Voor alle experimenten (gezien de medische aard) is F1 score van belang vooral bij ongebalanceerde datasets. Uit eigen onderzoek heb ik het volgende begrepen:\n",
    "F1 score: Bereken de F1-score per klasse en neem vervolgens het gemiddelde van die scores. Dit betekent dat elke klasse evenveel gewicht krijgt bij de berekening, ongeacht het aantal voorbeelden in de klasse (en dus ongeacht hoe frequent of zeldzaam de klasse is).\n",
    "Macro Precision metric geeft meer inzicht in het verschil tussen de prestaties van de klassen\n",
    "Macro Recall geeft gemiddelde recall over alle klassen, waarbij elke klasse gelijk wordt gewogen."
   ]
  },
  {
   "cell_type": "markdown",
   "metadata": {},
   "source": [
    "# Experiment 1 16 januari\n",
    "Netwek verbreden: Toevoeging hidden units in beide modellen zou de accuracy moeten verhogen (meer capaciteit)\n",
    "Verdubbeling van hidden units naar 32 in beide modellen \n",
    "Maak model dieper (1 block meer)\n",
    "\n",
    "\n",
    "## 2D conv: observaties\n",
    "meer capaciteit verbetert accuracy en geeft de hoogste F1score macro\n",
    "de accuracy met 2 blocks (4 conv layers) is slechter dan met 1 block en het model ga overfitten en de accuracy van prediction 2 en 3 is zelfs slechter\n",
    "In het algemeen een 2D conv doet het beter maar overfit snel en presteert niet goed als het dieper wordt gemaakt.\n",
    "Dit kan wijzen tot het feit dat een 2D conv geen geschikte model is voor deze timeseries, omdat bij diepere lagen de informatie verloren gaat.\n",
    "Naar verwachting zou een GRU of LSTM betere prestaties leveren omdat het geschikter is als timeseriemodel.\n",
    "\n",
    "## 1D conv + transformer: observaties\n",
    "Bredere model: meer hidden units verbeter accuracy maar verschillen zijn minimaal\n",
    "Dieper model: meer blocken (verdubbeling van multihead attention) bereikt resultaten die vergelijkbaar zijn met de 2D conv. met het verschil dat prediction 3 beter is.\n",
    "Zowel de F1scoremacro als accuracy zijn beter met meer hidden units en meer lagen, alleen lijkt dit een vrij complex model (overkill) voor deze dataset.\n",
    "Bovendien, lost dit model niet het grootste probleem, namelijk het feit dat een klasse (met weinig data) niet voldoende gedetecteerd wordt.\n",
    "Transformer met een diepere structuur en een meer capaciteit bereikt een hogere accuracy en lijkt net zo goed als de 2Dconv te overfitten\n",
    "Pred. van class 3 (wegens gebrek aan data) is overal een probleem, de Transformer met dubbele multiheads kan de hoogste accuracy bereiken (0.389), dit is 0.10 hoger dan een 2D conv met 32 hidden units.\n",
    "In het algemeen doe de 2D model beter maar lijk ook sneller te overfitten (de train-prediction van klass 0, 1 en 3 zijn hetzelfde?)\n",
    "\n",
    "\n",
    "# algemene observaties conclusies\n",
    "Het 2D conv model is ongeschikt voor de classificatie, het volgende experiment zal een GRU of LSTM worden gebruikt\n",
    "Het transformer model presteert beter met meer hidden units en meer attention maar traint langer en groeit exponentieel, wat voor deze dataset misschien overbodig is.\n",
    "Het feit dat de dataset ongebalanceerd is, maakt het moeilijk om de dataset als zodanig te trainen. Het moet een oplossing komen voor het balanceren van de dataset.\n",
    "Ik overweeg een autoencoder te testen gezien het grote aantal data in de klasse 'normaal' is dit een goede basis om een autoencoder model te gebruiken.\n",
    "\n",
    "\n",
    "# Experiment 2:\n",
    "- LSTM of GRU testen ipv 2D conv model\n",
    "- Autoencoder idee verder onderzoeken\n",
    "- 1D Transformer testen met een aangepaste input (weet nog niet welke), bijv. data-augmetatie of dergelijks\n",
    "\n"
   ]
  }
 ],
 "metadata": {
  "kernelspec": {
   "display_name": ".venv",
   "language": "python",
   "name": "python3"
  },
  "language_info": {
   "codemirror_mode": {
    "name": "ipython",
    "version": 3
   },
   "file_extension": ".py",
   "mimetype": "text/x-python",
   "name": "python",
   "nbconvert_exporter": "python",
   "pygments_lexer": "ipython3",
   "version": "3.11.9"
  }
 },
 "nbformat": 4,
 "nbformat_minor": 2
}
