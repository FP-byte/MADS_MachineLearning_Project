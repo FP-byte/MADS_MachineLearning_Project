{
 "cells": [
  {
   "attachments": {},
   "cell_type": "markdown",
   "metadata": {},
   "source": [
    "First:\n",
    "- go to the terminal\n",
    "- go to the `4_tuning_networks` folder, use `cd` to get there, or `z` to get there faster.\n",
    "- if you are planning on closing the laptop to let this run by itself, start a tmux session by giving the command `tmux`. You can name the session with `ctrl+b $`, leave the tmux with `ctrl+b` d, access it again with `tmux a -t 0` or replace the 0 with the name you gave it. See [tmux](https://github.com/tmux/tmux/wiki/Getting-Started) for more info.\n",
    "- Activate the `.venv`, and run `python hypertune.py`\n",
    "- In the hypertune.py file, a tune_dir is specified: `models/ray`. We will check the contents of that folder after the hypertune finished. You can also use tensorboard to check the results. \n",
    "- this will take some time. I clocked 1901 seconds (30 minutes) on the VM"
   ]
  },
  {
   "attachments": {},
   "cell_type": "markdown",
   "metadata": {},
   "source": [
    " 0.0992908 |           119 |            3 |     26 |         576.744  |    0 |   0.942187"
   ]
  },
  {
   "cell_type": "code",
   "execution_count": 1,
   "metadata": {},
   "outputs": [
    {
     "data": {
      "text/plain": [
       "True"
      ]
     },
     "execution_count": 1,
     "metadata": {},
     "output_type": "execute_result"
    }
   ],
   "source": [
    "from pathlib import Path\n",
    "tune_dir = Path(\"models/ray\").resolve()\n",
    "tune_dir.exists()"
   ]
  },
  {
   "cell_type": "code",
   "execution_count": 2,
   "metadata": {},
   "outputs": [
    {
     "data": {
      "text/plain": [
       "PosixPath('/Users/francesca/code_repo/MADS-exam-25/src/models/ray/train_2025-02-02_13-04-11')"
      ]
     },
     "execution_count": 2,
     "metadata": {},
     "output_type": "execute_result"
    }
   ],
   "source": [
    "tunelogs = [d for d in tune_dir.iterdir()]\n",
    "tunelogs.sort()\n",
    "latest = tunelogs[-1]\n",
    "latest"
   ]
  },
  {
   "cell_type": "code",
   "execution_count": 3,
   "metadata": {},
   "outputs": [
    {
     "name": "stderr",
     "output_type": "stream",
     "text": [
      "2025-02-02 17:08:50,336\tINFO worker.py:1821 -- Started a local Ray instance.\n"
     ]
    }
   ],
   "source": [
    "from ray.tune import ExperimentAnalysis\n",
    "import ray\n",
    "ray.init(ignore_reinit_error=True)\n",
    "\n",
    "\n",
    "analysis = ExperimentAnalysis(latest)\n"
   ]
  },
  {
   "attachments": {},
   "cell_type": "markdown",
   "metadata": {},
   "source": [
    "So, we find some info:"
   ]
  },
  {
   "cell_type": "code",
   "execution_count": 4,
   "metadata": {},
   "outputs": [
    {
     "data": {
      "text/plain": [
       "Index(['iterations', 'train_loss', 'test_loss', 'Accuracy', 'F1scoremicro',\n",
       "       'F1scoremacro', 'Precisionmacro', 'Recallmacro', 'timestamp',\n",
       "       'checkpoint_dir_name', 'done', 'training_iteration', 'date',\n",
       "       'time_this_iter_s', 'time_total_s', 'pid', 'hostname', 'node_ip',\n",
       "       'time_since_restore', 'iterations_since_restore', 'experiment_tag',\n",
       "       'config/preprocessor', 'config/optimizer', 'config/tune_dir',\n",
       "       'config/data_dir', 'config/seed', 'config/gru_hidden', 'config/input',\n",
       "       'config/batch', 'config/hidden', 'config/dropout', 'config/num_layers',\n",
       "       'config/model_type', 'config/num_heads', 'config/num_blocks',\n",
       "       'config/num_classes', 'config/scheduler', 'config/factor',\n",
       "       'config/patience', 'config/earlystopping_patience',\n",
       "       'config/input_length', 'config/traindataset', 'config/trainfile',\n",
       "       'config/testfile'],\n",
       "      dtype='object')"
      ]
     },
     "execution_count": 4,
     "metadata": {},
     "output_type": "execute_result"
    }
   ],
   "source": [
    "analysis.results_df.columns\n"
   ]
  },
  {
   "attachments": {},
   "cell_type": "markdown",
   "metadata": {},
   "source": [
    "Let's focus on the parameters we wanted to tune."
   ]
  },
  {
   "cell_type": "code",
   "execution_count": 5,
   "metadata": {},
   "outputs": [],
   "source": [
    "import plotly.express as px\n",
    "\n",
    "plot = analysis.results_df\n",
    "select = [\"Accuracy\", \"config/hidden\", \"config/dropout\", \"config/batch\"]\n",
    "p = plot[select].reset_index().dropna()\n"
   ]
  },
  {
   "attachments": {},
   "cell_type": "markdown",
   "metadata": {},
   "source": [
    "Let's sort by accuracy"
   ]
  },
  {
   "cell_type": "code",
   "execution_count": 6,
   "metadata": {},
   "outputs": [],
   "source": [
    "p.sort_values(\"Accuracy\", inplace=True)"
   ]
  },
  {
   "attachments": {},
   "cell_type": "markdown",
   "metadata": {},
   "source": [
    "Make a parallel plot"
   ]
  },
  {
   "cell_type": "code",
   "execution_count": 7,
   "metadata": {},
   "outputs": [
    {
     "data": {
      "application/vnd.plotly.v1+json": {
       "config": {
        "plotlyServerURL": "https://plot.ly"
       },
       "data": [
        {
         "dimensions": [
          {
           "label": "Accuracy",
           "values": [
            0.3685897435897436,
            0.47265625,
            0.4768772893772894,
            0.4951923076923077,
            0.6176739926739927,
            0.6176739926739927,
            0.7012867647058824,
            0.7012867647058824,
            0.7403492647058824,
            0.8092948717948718,
            0.8375459558823529,
            0.8566849816849816,
            0.8942307692307693,
            0.9630055147058824,
            0.9676011029411765
           ]
          },
          {
           "label": "config/hidden",
           "values": [
            64,
            64,
            64,
            64,
            128,
            128,
            64,
            128,
            128,
            128,
            64,
            128,
            128,
            128,
            64
           ]
          },
          {
           "label": "config/dropout",
           "values": [
            0.4,
            0.4,
            0.4,
            0.4,
            0.4,
            0.4,
            0.4,
            0.4,
            0.4,
            0.4,
            0.4,
            0.4,
            0.4,
            0.4,
            0.4
           ]
          },
          {
           "label": "config/batch",
           "values": [
            16,
            16,
            32,
            16,
            32,
            16,
            16,
            32,
            16,
            16,
            32,
            32,
            32,
            16,
            32
           ]
          }
         ],
         "domain": {
          "x": [
           0,
           1
          ],
          "y": [
           0,
           1
          ]
         },
         "line": {
          "color": [
           0.3685897435897436,
           0.47265625,
           0.4768772893772894,
           0.4951923076923077,
           0.6176739926739927,
           0.6176739926739927,
           0.7012867647058824,
           0.7012867647058824,
           0.7403492647058824,
           0.8092948717948718,
           0.8375459558823529,
           0.8566849816849816,
           0.8942307692307693,
           0.9630055147058824,
           0.9676011029411765
          ],
          "coloraxis": "coloraxis"
         },
         "name": "",
         "type": "parcoords"
        }
       ],
       "layout": {
        "coloraxis": {
         "colorbar": {
          "title": {
           "text": "Accuracy"
          }
         },
         "colorscale": [
          [
           0,
           "#0d0887"
          ],
          [
           0.1111111111111111,
           "#46039f"
          ],
          [
           0.2222222222222222,
           "#7201a8"
          ],
          [
           0.3333333333333333,
           "#9c179e"
          ],
          [
           0.4444444444444444,
           "#bd3786"
          ],
          [
           0.5555555555555556,
           "#d8576b"
          ],
          [
           0.6666666666666666,
           "#ed7953"
          ],
          [
           0.7777777777777778,
           "#fb9f3a"
          ],
          [
           0.8888888888888888,
           "#fdca26"
          ],
          [
           1,
           "#f0f921"
          ]
         ]
        },
        "legend": {
         "tracegroupgap": 0
        },
        "margin": {
         "t": 60
        },
        "template": {
         "data": {
          "bar": [
           {
            "error_x": {
             "color": "#2a3f5f"
            },
            "error_y": {
             "color": "#2a3f5f"
            },
            "marker": {
             "line": {
              "color": "#E5ECF6",
              "width": 0.5
             },
             "pattern": {
              "fillmode": "overlay",
              "size": 10,
              "solidity": 0.2
             }
            },
            "type": "bar"
           }
          ],
          "barpolar": [
           {
            "marker": {
             "line": {
              "color": "#E5ECF6",
              "width": 0.5
             },
             "pattern": {
              "fillmode": "overlay",
              "size": 10,
              "solidity": 0.2
             }
            },
            "type": "barpolar"
           }
          ],
          "carpet": [
           {
            "aaxis": {
             "endlinecolor": "#2a3f5f",
             "gridcolor": "white",
             "linecolor": "white",
             "minorgridcolor": "white",
             "startlinecolor": "#2a3f5f"
            },
            "baxis": {
             "endlinecolor": "#2a3f5f",
             "gridcolor": "white",
             "linecolor": "white",
             "minorgridcolor": "white",
             "startlinecolor": "#2a3f5f"
            },
            "type": "carpet"
           }
          ],
          "choropleth": [
           {
            "colorbar": {
             "outlinewidth": 0,
             "ticks": ""
            },
            "type": "choropleth"
           }
          ],
          "contour": [
           {
            "colorbar": {
             "outlinewidth": 0,
             "ticks": ""
            },
            "colorscale": [
             [
              0,
              "#0d0887"
             ],
             [
              0.1111111111111111,
              "#46039f"
             ],
             [
              0.2222222222222222,
              "#7201a8"
             ],
             [
              0.3333333333333333,
              "#9c179e"
             ],
             [
              0.4444444444444444,
              "#bd3786"
             ],
             [
              0.5555555555555556,
              "#d8576b"
             ],
             [
              0.6666666666666666,
              "#ed7953"
             ],
             [
              0.7777777777777778,
              "#fb9f3a"
             ],
             [
              0.8888888888888888,
              "#fdca26"
             ],
             [
              1,
              "#f0f921"
             ]
            ],
            "type": "contour"
           }
          ],
          "contourcarpet": [
           {
            "colorbar": {
             "outlinewidth": 0,
             "ticks": ""
            },
            "type": "contourcarpet"
           }
          ],
          "heatmap": [
           {
            "colorbar": {
             "outlinewidth": 0,
             "ticks": ""
            },
            "colorscale": [
             [
              0,
              "#0d0887"
             ],
             [
              0.1111111111111111,
              "#46039f"
             ],
             [
              0.2222222222222222,
              "#7201a8"
             ],
             [
              0.3333333333333333,
              "#9c179e"
             ],
             [
              0.4444444444444444,
              "#bd3786"
             ],
             [
              0.5555555555555556,
              "#d8576b"
             ],
             [
              0.6666666666666666,
              "#ed7953"
             ],
             [
              0.7777777777777778,
              "#fb9f3a"
             ],
             [
              0.8888888888888888,
              "#fdca26"
             ],
             [
              1,
              "#f0f921"
             ]
            ],
            "type": "heatmap"
           }
          ],
          "heatmapgl": [
           {
            "colorbar": {
             "outlinewidth": 0,
             "ticks": ""
            },
            "colorscale": [
             [
              0,
              "#0d0887"
             ],
             [
              0.1111111111111111,
              "#46039f"
             ],
             [
              0.2222222222222222,
              "#7201a8"
             ],
             [
              0.3333333333333333,
              "#9c179e"
             ],
             [
              0.4444444444444444,
              "#bd3786"
             ],
             [
              0.5555555555555556,
              "#d8576b"
             ],
             [
              0.6666666666666666,
              "#ed7953"
             ],
             [
              0.7777777777777778,
              "#fb9f3a"
             ],
             [
              0.8888888888888888,
              "#fdca26"
             ],
             [
              1,
              "#f0f921"
             ]
            ],
            "type": "heatmapgl"
           }
          ],
          "histogram": [
           {
            "marker": {
             "pattern": {
              "fillmode": "overlay",
              "size": 10,
              "solidity": 0.2
             }
            },
            "type": "histogram"
           }
          ],
          "histogram2d": [
           {
            "colorbar": {
             "outlinewidth": 0,
             "ticks": ""
            },
            "colorscale": [
             [
              0,
              "#0d0887"
             ],
             [
              0.1111111111111111,
              "#46039f"
             ],
             [
              0.2222222222222222,
              "#7201a8"
             ],
             [
              0.3333333333333333,
              "#9c179e"
             ],
             [
              0.4444444444444444,
              "#bd3786"
             ],
             [
              0.5555555555555556,
              "#d8576b"
             ],
             [
              0.6666666666666666,
              "#ed7953"
             ],
             [
              0.7777777777777778,
              "#fb9f3a"
             ],
             [
              0.8888888888888888,
              "#fdca26"
             ],
             [
              1,
              "#f0f921"
             ]
            ],
            "type": "histogram2d"
           }
          ],
          "histogram2dcontour": [
           {
            "colorbar": {
             "outlinewidth": 0,
             "ticks": ""
            },
            "colorscale": [
             [
              0,
              "#0d0887"
             ],
             [
              0.1111111111111111,
              "#46039f"
             ],
             [
              0.2222222222222222,
              "#7201a8"
             ],
             [
              0.3333333333333333,
              "#9c179e"
             ],
             [
              0.4444444444444444,
              "#bd3786"
             ],
             [
              0.5555555555555556,
              "#d8576b"
             ],
             [
              0.6666666666666666,
              "#ed7953"
             ],
             [
              0.7777777777777778,
              "#fb9f3a"
             ],
             [
              0.8888888888888888,
              "#fdca26"
             ],
             [
              1,
              "#f0f921"
             ]
            ],
            "type": "histogram2dcontour"
           }
          ],
          "mesh3d": [
           {
            "colorbar": {
             "outlinewidth": 0,
             "ticks": ""
            },
            "type": "mesh3d"
           }
          ],
          "parcoords": [
           {
            "line": {
             "colorbar": {
              "outlinewidth": 0,
              "ticks": ""
             }
            },
            "type": "parcoords"
           }
          ],
          "pie": [
           {
            "automargin": true,
            "type": "pie"
           }
          ],
          "scatter": [
           {
            "fillpattern": {
             "fillmode": "overlay",
             "size": 10,
             "solidity": 0.2
            },
            "type": "scatter"
           }
          ],
          "scatter3d": [
           {
            "line": {
             "colorbar": {
              "outlinewidth": 0,
              "ticks": ""
             }
            },
            "marker": {
             "colorbar": {
              "outlinewidth": 0,
              "ticks": ""
             }
            },
            "type": "scatter3d"
           }
          ],
          "scattercarpet": [
           {
            "marker": {
             "colorbar": {
              "outlinewidth": 0,
              "ticks": ""
             }
            },
            "type": "scattercarpet"
           }
          ],
          "scattergeo": [
           {
            "marker": {
             "colorbar": {
              "outlinewidth": 0,
              "ticks": ""
             }
            },
            "type": "scattergeo"
           }
          ],
          "scattergl": [
           {
            "marker": {
             "colorbar": {
              "outlinewidth": 0,
              "ticks": ""
             }
            },
            "type": "scattergl"
           }
          ],
          "scattermapbox": [
           {
            "marker": {
             "colorbar": {
              "outlinewidth": 0,
              "ticks": ""
             }
            },
            "type": "scattermapbox"
           }
          ],
          "scatterpolar": [
           {
            "marker": {
             "colorbar": {
              "outlinewidth": 0,
              "ticks": ""
             }
            },
            "type": "scatterpolar"
           }
          ],
          "scatterpolargl": [
           {
            "marker": {
             "colorbar": {
              "outlinewidth": 0,
              "ticks": ""
             }
            },
            "type": "scatterpolargl"
           }
          ],
          "scatterternary": [
           {
            "marker": {
             "colorbar": {
              "outlinewidth": 0,
              "ticks": ""
             }
            },
            "type": "scatterternary"
           }
          ],
          "surface": [
           {
            "colorbar": {
             "outlinewidth": 0,
             "ticks": ""
            },
            "colorscale": [
             [
              0,
              "#0d0887"
             ],
             [
              0.1111111111111111,
              "#46039f"
             ],
             [
              0.2222222222222222,
              "#7201a8"
             ],
             [
              0.3333333333333333,
              "#9c179e"
             ],
             [
              0.4444444444444444,
              "#bd3786"
             ],
             [
              0.5555555555555556,
              "#d8576b"
             ],
             [
              0.6666666666666666,
              "#ed7953"
             ],
             [
              0.7777777777777778,
              "#fb9f3a"
             ],
             [
              0.8888888888888888,
              "#fdca26"
             ],
             [
              1,
              "#f0f921"
             ]
            ],
            "type": "surface"
           }
          ],
          "table": [
           {
            "cells": {
             "fill": {
              "color": "#EBF0F8"
             },
             "line": {
              "color": "white"
             }
            },
            "header": {
             "fill": {
              "color": "#C8D4E3"
             },
             "line": {
              "color": "white"
             }
            },
            "type": "table"
           }
          ]
         },
         "layout": {
          "annotationdefaults": {
           "arrowcolor": "#2a3f5f",
           "arrowhead": 0,
           "arrowwidth": 1
          },
          "autotypenumbers": "strict",
          "coloraxis": {
           "colorbar": {
            "outlinewidth": 0,
            "ticks": ""
           }
          },
          "colorscale": {
           "diverging": [
            [
             0,
             "#8e0152"
            ],
            [
             0.1,
             "#c51b7d"
            ],
            [
             0.2,
             "#de77ae"
            ],
            [
             0.3,
             "#f1b6da"
            ],
            [
             0.4,
             "#fde0ef"
            ],
            [
             0.5,
             "#f7f7f7"
            ],
            [
             0.6,
             "#e6f5d0"
            ],
            [
             0.7,
             "#b8e186"
            ],
            [
             0.8,
             "#7fbc41"
            ],
            [
             0.9,
             "#4d9221"
            ],
            [
             1,
             "#276419"
            ]
           ],
           "sequential": [
            [
             0,
             "#0d0887"
            ],
            [
             0.1111111111111111,
             "#46039f"
            ],
            [
             0.2222222222222222,
             "#7201a8"
            ],
            [
             0.3333333333333333,
             "#9c179e"
            ],
            [
             0.4444444444444444,
             "#bd3786"
            ],
            [
             0.5555555555555556,
             "#d8576b"
            ],
            [
             0.6666666666666666,
             "#ed7953"
            ],
            [
             0.7777777777777778,
             "#fb9f3a"
            ],
            [
             0.8888888888888888,
             "#fdca26"
            ],
            [
             1,
             "#f0f921"
            ]
           ],
           "sequentialminus": [
            [
             0,
             "#0d0887"
            ],
            [
             0.1111111111111111,
             "#46039f"
            ],
            [
             0.2222222222222222,
             "#7201a8"
            ],
            [
             0.3333333333333333,
             "#9c179e"
            ],
            [
             0.4444444444444444,
             "#bd3786"
            ],
            [
             0.5555555555555556,
             "#d8576b"
            ],
            [
             0.6666666666666666,
             "#ed7953"
            ],
            [
             0.7777777777777778,
             "#fb9f3a"
            ],
            [
             0.8888888888888888,
             "#fdca26"
            ],
            [
             1,
             "#f0f921"
            ]
           ]
          },
          "colorway": [
           "#636efa",
           "#EF553B",
           "#00cc96",
           "#ab63fa",
           "#FFA15A",
           "#19d3f3",
           "#FF6692",
           "#B6E880",
           "#FF97FF",
           "#FECB52"
          ],
          "font": {
           "color": "#2a3f5f"
          },
          "geo": {
           "bgcolor": "white",
           "lakecolor": "white",
           "landcolor": "#E5ECF6",
           "showlakes": true,
           "showland": true,
           "subunitcolor": "white"
          },
          "hoverlabel": {
           "align": "left"
          },
          "hovermode": "closest",
          "mapbox": {
           "style": "light"
          },
          "paper_bgcolor": "white",
          "plot_bgcolor": "#E5ECF6",
          "polar": {
           "angularaxis": {
            "gridcolor": "white",
            "linecolor": "white",
            "ticks": ""
           },
           "bgcolor": "#E5ECF6",
           "radialaxis": {
            "gridcolor": "white",
            "linecolor": "white",
            "ticks": ""
           }
          },
          "scene": {
           "xaxis": {
            "backgroundcolor": "#E5ECF6",
            "gridcolor": "white",
            "gridwidth": 2,
            "linecolor": "white",
            "showbackground": true,
            "ticks": "",
            "zerolinecolor": "white"
           },
           "yaxis": {
            "backgroundcolor": "#E5ECF6",
            "gridcolor": "white",
            "gridwidth": 2,
            "linecolor": "white",
            "showbackground": true,
            "ticks": "",
            "zerolinecolor": "white"
           },
           "zaxis": {
            "backgroundcolor": "#E5ECF6",
            "gridcolor": "white",
            "gridwidth": 2,
            "linecolor": "white",
            "showbackground": true,
            "ticks": "",
            "zerolinecolor": "white"
           }
          },
          "shapedefaults": {
           "line": {
            "color": "#2a3f5f"
           }
          },
          "ternary": {
           "aaxis": {
            "gridcolor": "white",
            "linecolor": "white",
            "ticks": ""
           },
           "baxis": {
            "gridcolor": "white",
            "linecolor": "white",
            "ticks": ""
           },
           "bgcolor": "#E5ECF6",
           "caxis": {
            "gridcolor": "white",
            "linecolor": "white",
            "ticks": ""
           }
          },
          "title": {
           "x": 0.05
          },
          "xaxis": {
           "automargin": true,
           "gridcolor": "white",
           "linecolor": "white",
           "ticks": "",
           "title": {
            "standoff": 15
           },
           "zerolinecolor": "white",
           "zerolinewidth": 2
          },
          "yaxis": {
           "automargin": true,
           "gridcolor": "white",
           "linecolor": "white",
           "ticks": "",
           "title": {
            "standoff": 15
           },
           "zerolinecolor": "white",
           "zerolinewidth": 2
          }
         }
        }
       }
      }
     },
     "metadata": {},
     "output_type": "display_data"
    }
   ],
   "source": [
    "px.parallel_coordinates(p, color=\"Accuracy\")\n"
   ]
  },
  {
   "cell_type": "code",
   "execution_count": 21,
   "metadata": {},
   "outputs": [
    {
     "data": {
      "text/plain": [
       "<Axes: xlabel='config/hidden', ylabel='config/batch'>"
      ]
     },
     "execution_count": 21,
     "metadata": {},
     "output_type": "execute_result"
    },
    {
     "data": {
      "image/png": "[encoded data removed]",
      "text/plain": [
       "<Figure size 640x480 with 1 Axes>"
      ]
     },
     "metadata": {},
     "output_type": "display_data"
    }
   ],
   "source": [
    "import seaborn as sns\n",
    "\n",
    "sns.scatterplot(data=p, x=\"config/hidden\", y=\"config/batch\", hue=\"Accuracy\", palette=\"coolwarm\")"
   ]
  },
  {
   "cell_type": "code",
   "execution_count": 23,
   "metadata": {},
   "outputs": [
    {
     "data": {
      "text/plain": [
       "<matplotlib.legend.Legend at 0x169976c50>"
      ]
     },
     "execution_count": 23,
     "metadata": {},
     "output_type": "execute_result"
    },
    {
     "data": {
      "image/png": "[encoded data removed]",
      "text/plain": [
       "<Figure size 640x480 with 1 Axes>"
      ]
     },
     "metadata": {},
     "output_type": "display_data"
    }
   ],
   "source": [
    "import matplotlib.pyplot as plt\n",
    "cmap = sns.cubehelix_palette(as_cmap=True)\n",
    "sns.scatterplot(data=p, x=\"config/hidden\", y=\"config/batch\", hue=\"Accuracy\", palette=\"coolwarm\")\n",
    "sns.kdeplot(data=p, x=\"config/hidden\", y=\"config/batch\", cmap=cmap)\n",
    "plt.legend(loc='center left', bbox_to_anchor=(1, 0.5), ncol=1)"
   ]
  },
  {
   "attachments": {},
   "cell_type": "markdown",
   "metadata": {},
   "source": [
    "Get the best trial"
   ]
  },
  {
   "cell_type": "code",
   "execution_count": 14,
   "metadata": {},
   "outputs": [
    {
     "data": {
      "text/plain": [
       "train_fc263c4d"
      ]
     },
     "execution_count": 14,
     "metadata": {},
     "output_type": "execute_result"
    }
   ],
   "source": [
    "analysis.get_best_trial(metric=\"test_loss\", mode=\"min\")\n"
   ]
  },
  {
   "attachments": {},
   "cell_type": "markdown",
   "metadata": {},
   "source": [
    "The top ten"
   ]
  },
  {
   "cell_type": "code",
   "execution_count": 15,
   "metadata": {},
   "outputs": [
    {
     "data": {
      "text/html": [
       "<div>\n",
       "<style scoped>\n",
       "    .dataframe tbody tr th:only-of-type {\n",
       "        vertical-align: middle;\n",
       "    }\n",
       "\n",
       "    .dataframe tbody tr th {\n",
       "        vertical-align: top;\n",
       "    }\n",
       "\n",
       "    .dataframe thead th {\n",
       "        text-align: right;\n",
       "    }\n",
       "</style>\n",
       "<table border=\"1\" class=\"dataframe\">\n",
       "  <thead>\n",
       "    <tr style=\"text-align: right;\">\n",
       "      <th></th>\n",
       "      <th>trial_id</th>\n",
       "      <th>Accuracy</th>\n",
       "      <th>config/hidden</th>\n",
       "      <th>config/dropout</th>\n",
       "      <th>config/num_layers</th>\n",
       "    </tr>\n",
       "  </thead>\n",
       "  <tbody>\n",
       "    <tr>\n",
       "      <th>10</th>\n",
       "      <td>2c700a82</td>\n",
       "      <td>0.368107</td>\n",
       "      <td>128.0</td>\n",
       "      <td>0.3</td>\n",
       "      <td>4.0</td>\n",
       "    </tr>\n",
       "    <tr>\n",
       "      <th>6</th>\n",
       "      <td>5e49ec56</td>\n",
       "      <td>0.825827</td>\n",
       "      <td>128.0</td>\n",
       "      <td>0.2</td>\n",
       "      <td>3.0</td>\n",
       "    </tr>\n",
       "    <tr>\n",
       "      <th>8</th>\n",
       "      <td>7a322dbd</td>\n",
       "      <td>0.845696</td>\n",
       "      <td>64.0</td>\n",
       "      <td>0.3</td>\n",
       "      <td>3.0</td>\n",
       "    </tr>\n",
       "    <tr>\n",
       "      <th>11</th>\n",
       "      <td>d1bddff1</td>\n",
       "      <td>0.860806</td>\n",
       "      <td>64.0</td>\n",
       "      <td>0.4</td>\n",
       "      <td>4.0</td>\n",
       "    </tr>\n",
       "    <tr>\n",
       "      <th>9</th>\n",
       "      <td>c58e101a</td>\n",
       "      <td>0.880055</td>\n",
       "      <td>128.0</td>\n",
       "      <td>0.3</td>\n",
       "      <td>4.0</td>\n",
       "    </tr>\n",
       "    <tr>\n",
       "      <th>3</th>\n",
       "      <td>1deb50cb</td>\n",
       "      <td>0.887134</td>\n",
       "      <td>64.0</td>\n",
       "      <td>0.3</td>\n",
       "      <td>2.0</td>\n",
       "    </tr>\n",
       "    <tr>\n",
       "      <th>14</th>\n",
       "      <td>4c7380ea</td>\n",
       "      <td>0.888278</td>\n",
       "      <td>64.0</td>\n",
       "      <td>0.3</td>\n",
       "      <td>2.0</td>\n",
       "    </tr>\n",
       "    <tr>\n",
       "      <th>2</th>\n",
       "      <td>dab05494</td>\n",
       "      <td>0.904642</td>\n",
       "      <td>128.0</td>\n",
       "      <td>0.2</td>\n",
       "      <td>3.0</td>\n",
       "    </tr>\n",
       "    <tr>\n",
       "      <th>5</th>\n",
       "      <td>9bd993dc</td>\n",
       "      <td>0.909007</td>\n",
       "      <td>64.0</td>\n",
       "      <td>0.2</td>\n",
       "      <td>2.0</td>\n",
       "    </tr>\n",
       "    <tr>\n",
       "      <th>0</th>\n",
       "      <td>fc263c4d</td>\n",
       "      <td>0.926930</td>\n",
       "      <td>64.0</td>\n",
       "      <td>0.4</td>\n",
       "      <td>2.0</td>\n",
       "    </tr>\n",
       "  </tbody>\n",
       "</table>\n",
       "</div>"
      ],
      "text/plain": [
       "    trial_id  Accuracy  config/hidden  config/dropout  config/num_layers\n",
       "10  2c700a82  0.368107          128.0             0.3                4.0\n",
       "6   5e49ec56  0.825827          128.0             0.2                3.0\n",
       "8   7a322dbd  0.845696           64.0             0.3                3.0\n",
       "11  d1bddff1  0.860806           64.0             0.4                4.0\n",
       "9   c58e101a  0.880055          128.0             0.3                4.0\n",
       "3   1deb50cb  0.887134           64.0             0.3                2.0\n",
       "14  4c7380ea  0.888278           64.0             0.3                2.0\n",
       "2   dab05494  0.904642          128.0             0.2                3.0\n",
       "5   9bd993dc  0.909007           64.0             0.2                2.0\n",
       "0   fc263c4d  0.926930           64.0             0.4                2.0"
      ]
     },
     "execution_count": 15,
     "metadata": {},
     "output_type": "execute_result"
    }
   ],
   "source": [
    "p[-10:]\n"
   ]
  },
  {
   "attachments": {},
   "cell_type": "markdown",
   "metadata": {},
   "source": [
    "Or the best config"
   ]
  },
  {
   "cell_type": "code",
   "execution_count": 16,
   "metadata": {},
   "outputs": [
    {
     "data": {
      "text/plain": [
       "{'preprocessor': mltrainer.preprocessors.BasePreprocessor,\n",
       " 'optimizer': torch.optim.adam.Adam,\n",
       " 'tune_dir': PosixPath('/Users/francesca/code_repo/MADS-exam-25/src/models/ray'),\n",
       " 'data_dir': PosixPath('/Users/francesca/code_repo/MADS-exam-25/data/processed'),\n",
       " 'seed': 1691705107,\n",
       " 'gru_hidden': 256,\n",
       " 'input': 1,\n",
       " 'batch': 32,\n",
       " 'hidden': 64,\n",
       " 'dropout': 0.4,\n",
       " 'num_layers': 2,\n",
       " 'model_type': 'CNN1DGRUResNet',\n",
       " 'num_blocks': 5,\n",
       " 'num_classes': 5,\n",
       " 'num_heads': 2,\n",
       " 'scheduler': torch.optim.lr_scheduler.ReduceLROnPlateau,\n",
       " 'factor': 0.2,\n",
       " 'patience': 2,\n",
       " 'earlystopping_patience': 15,\n",
       " 'input_length': 192,\n",
       " 'traindataset': 'smote',\n",
       " 'trainfile': PosixPath('/Users/francesca/code_repo/MADS-exam-25/data/processed/heart_big_oversampled_full_train.parq'),\n",
       " 'testfile': PosixPath('/Users/francesca/code_repo/MADS-exam-25/data/processed/heart_big_test.parq')}"
      ]
     },
     "execution_count": 16,
     "metadata": {},
     "output_type": "execute_result"
    }
   ],
   "source": [
    "analysis.get_best_config(metric=\"Accuracy\", mode=\"max\")\n"
   ]
  },
  {
   "cell_type": "code",
   "execution_count": 23,
   "metadata": {},
   "outputs": [
    {
     "name": "stderr",
     "output_type": "stream",
     "text": [
      "\u001b[32m2025-02-02 17:29:12.995\u001b[0m | \u001b[1mINFO    \u001b[0m | \u001b[36m__main__\u001b[0m:\u001b[36mload_tunelogs_data\u001b[0m:\u001b[36m19\u001b[0m - \u001b[1mTune directory: /Users/francesca/code_repo/MADS-exam-25/src/models/ray\u001b[0m\n",
      "2025-02-02 17:29:13,010\tINFO worker.py:1654 -- Calling ray.init() again after it has already been called.\n",
      "\u001b[32m2025-02-02 17:29:13.031\u001b[0m | \u001b[1mINFO    \u001b[0m | \u001b[36m__main__\u001b[0m:\u001b[36mload_tunelogs_data\u001b[0m:\u001b[36m47\u001b[0m - \u001b[1mBest trial for train_2025-01-21_20-12-30: train_85395c8b\u001b[0m\n",
      "\u001b[32m2025-02-02 17:29:13.051\u001b[0m | \u001b[1mINFO    \u001b[0m | \u001b[36m__main__\u001b[0m:\u001b[36mload_tunelogs_data\u001b[0m:\u001b[36m47\u001b[0m - \u001b[1mBest trial for train_2025-01-22_00-11-48: train_35901bdf\u001b[0m\n",
      "\u001b[32m2025-02-02 17:29:13.074\u001b[0m | \u001b[1mINFO    \u001b[0m | \u001b[36m__main__\u001b[0m:\u001b[36mload_tunelogs_data\u001b[0m:\u001b[36m47\u001b[0m - \u001b[1mBest trial for train_2025-01-22_09-31-05: train_b9a3cf06\u001b[0m\n",
      "\u001b[32m2025-02-02 17:29:13.097\u001b[0m | \u001b[1mINFO    \u001b[0m | \u001b[36m__main__\u001b[0m:\u001b[36mload_tunelogs_data\u001b[0m:\u001b[36m47\u001b[0m - \u001b[1mBest trial for train_2025-01-22_11-32-38: train_8acc2e65\u001b[0m\n",
      "\u001b[32m2025-02-02 17:29:13.118\u001b[0m | \u001b[1mINFO    \u001b[0m | \u001b[36m__main__\u001b[0m:\u001b[36mload_tunelogs_data\u001b[0m:\u001b[36m47\u001b[0m - \u001b[1mBest trial for train_2025-01-22_12-48-20: train_102d91aa\u001b[0m\n",
      "\u001b[32m2025-02-02 17:29:13.140\u001b[0m | \u001b[1mINFO    \u001b[0m | \u001b[36m__main__\u001b[0m:\u001b[36mload_tunelogs_data\u001b[0m:\u001b[36m47\u001b[0m - \u001b[1mBest trial for train_2025-01-22_14-19-25: train_712bf7b4\u001b[0m\n",
      "\u001b[32m2025-02-02 17:29:13.161\u001b[0m | \u001b[1mINFO    \u001b[0m | \u001b[36m__main__\u001b[0m:\u001b[36mload_tunelogs_data\u001b[0m:\u001b[36m47\u001b[0m - \u001b[1mBest trial for train_2025-01-22_18-54-05: train_9e3c9f62\u001b[0m\n",
      "2025-02-02 17:29:13,168\tWARNING experiment_analysis.py:180 -- Failed to fetch metrics for 1 trial(s):\n",
      "- train_0a70f789: FileNotFoundError('Could not fetch metrics for train_0a70f789: both result.json and progress.csv were not found at /Users/francesca/code_repo/MADS-exam-25/src/models/ray/train_2025-01-22_22-40-34/trial_0a70f789')\n",
      "\u001b[32m2025-02-02 17:29:13.170\u001b[0m | \u001b[31m\u001b[1mERROR   \u001b[0m | \u001b[36m__main__\u001b[0m:\u001b[36mload_tunelogs_data\u001b[0m:\u001b[36m53\u001b[0m - \u001b[31m\u001b[1mFailed to process /Users/francesca/code_repo/MADS-exam-25/src/models/ray/train_2025-01-22_22-40-34: 'accuracy'\u001b[0m\n",
      "2025-02-02 17:29:13,296\tWARNING experiment_analysis.py:180 -- Failed to fetch metrics for 1 trial(s):\n",
      "- train_a44ed585: FileNotFoundError('Could not fetch metrics for train_a44ed585: both result.json and progress.csv were not found at /Users/francesca/code_repo/MADS-exam-25/src/models/ray/train_2025-01-22_22-43-13/trial_a44ed585')\n",
      "\u001b[32m2025-02-02 17:29:13.297\u001b[0m | \u001b[31m\u001b[1mERROR   \u001b[0m | \u001b[36m__main__\u001b[0m:\u001b[36mload_tunelogs_data\u001b[0m:\u001b[36m53\u001b[0m - \u001b[31m\u001b[1mFailed to process /Users/francesca/code_repo/MADS-exam-25/src/models/ray/train_2025-01-22_22-43-13: 'accuracy'\u001b[0m\n",
      "2025-02-02 17:29:13,303\tWARNING experiment_analysis.py:180 -- Failed to fetch metrics for 1 trial(s):\n",
      "- train_3c00b3a7: FileNotFoundError('Could not fetch metrics for train_3c00b3a7: both result.json and progress.csv were not found at /Users/francesca/code_repo/MADS-exam-25/src/models/ray/train_2025-01-23_11-54-04/trial_3c00b3a7')\n",
      "\u001b[32m2025-02-02 17:29:13.304\u001b[0m | \u001b[31m\u001b[1mERROR   \u001b[0m | \u001b[36m__main__\u001b[0m:\u001b[36mload_tunelogs_data\u001b[0m:\u001b[36m53\u001b[0m - \u001b[31m\u001b[1mFailed to process /Users/francesca/code_repo/MADS-exam-25/src/models/ray/train_2025-01-23_11-54-04: 'accuracy'\u001b[0m\n",
      "2025-02-02 17:29:13,310\tWARNING experiment_analysis.py:180 -- Failed to fetch metrics for 1 trial(s):\n",
      "- train_6863f1c7: FileNotFoundError('Could not fetch metrics for train_6863f1c7: both result.json and progress.csv were not found at /Users/francesca/code_repo/MADS-exam-25/src/models/ray/train_2025-01-23_12-27-39/trial_6863f1c7')\n",
      "\u001b[32m2025-02-02 17:29:13.312\u001b[0m | \u001b[31m\u001b[1mERROR   \u001b[0m | \u001b[36m__main__\u001b[0m:\u001b[36mload_tunelogs_data\u001b[0m:\u001b[36m53\u001b[0m - \u001b[31m\u001b[1mFailed to process /Users/francesca/code_repo/MADS-exam-25/src/models/ray/train_2025-01-23_12-27-39: 'accuracy'\u001b[0m\n",
      "2025-02-02 17:29:13,320\tWARNING experiment_analysis.py:180 -- Failed to fetch metrics for 1 trial(s):\n",
      "- train_188acb40: FileNotFoundError('Could not fetch metrics for train_188acb40: both result.json and progress.csv were not found at /Users/francesca/code_repo/MADS-exam-25/src/models/ray/train_2025-01-23_12-29-57/trial_188acb40')\n",
      "\u001b[32m2025-02-02 17:29:13.321\u001b[0m | \u001b[31m\u001b[1mERROR   \u001b[0m | \u001b[36m__main__\u001b[0m:\u001b[36mload_tunelogs_data\u001b[0m:\u001b[36m53\u001b[0m - \u001b[31m\u001b[1mFailed to process /Users/francesca/code_repo/MADS-exam-25/src/models/ray/train_2025-01-23_12-29-57: 'accuracy'\u001b[0m\n",
      "2025-02-02 17:29:13,330\tWARNING experiment_analysis.py:180 -- Failed to fetch metrics for 1 trial(s):\n",
      "- train_69753e77: FileNotFoundError('Could not fetch metrics for train_69753e77: both result.json and progress.csv were not found at /Users/francesca/code_repo/MADS-exam-25/src/models/ray/train_2025-01-23_12-36-47/trial_69753e77')\n",
      "\u001b[32m2025-02-02 17:29:13.331\u001b[0m | \u001b[31m\u001b[1mERROR   \u001b[0m | \u001b[36m__main__\u001b[0m:\u001b[36mload_tunelogs_data\u001b[0m:\u001b[36m53\u001b[0m - \u001b[31m\u001b[1mFailed to process /Users/francesca/code_repo/MADS-exam-25/src/models/ray/train_2025-01-23_12-36-47: 'accuracy'\u001b[0m\n",
      "2025-02-02 17:29:13,346\tWARNING experiment_analysis.py:180 -- Failed to fetch metrics for 1 trial(s):\n",
      "- train_bfaff887: FileNotFoundError('Could not fetch metrics for train_bfaff887: both result.json and progress.csv were not found at /Users/francesca/code_repo/MADS-exam-25/src/models/ray/train_2025-01-23_12-42-39/trial_bfaff887')\n",
      "\u001b[32m2025-02-02 17:29:13.349\u001b[0m | \u001b[31m\u001b[1mERROR   \u001b[0m | \u001b[36m__main__\u001b[0m:\u001b[36mload_tunelogs_data\u001b[0m:\u001b[36m53\u001b[0m - \u001b[31m\u001b[1mFailed to process /Users/francesca/code_repo/MADS-exam-25/src/models/ray/train_2025-01-23_12-42-39: 'accuracy'\u001b[0m\n",
      "\u001b[32m2025-02-02 17:29:13.383\u001b[0m | \u001b[1mINFO    \u001b[0m | \u001b[36m__main__\u001b[0m:\u001b[36mload_tunelogs_data\u001b[0m:\u001b[36m47\u001b[0m - \u001b[1mBest trial for train_2025-01-23_12-44-55: train_7c90566e\u001b[0m\n",
      "2025-02-02 17:29:13,393\tWARNING experiment_analysis.py:180 -- Failed to fetch metrics for 1 trial(s):\n",
      "- train_ff83103d: FileNotFoundError('Could not fetch metrics for train_ff83103d: both result.json and progress.csv were not found at /Users/francesca/code_repo/MADS-exam-25/src/models/ray/train_2025-01-23_13-01-31/trial_ff83103d')\n",
      "\u001b[32m2025-02-02 17:29:13.395\u001b[0m | \u001b[31m\u001b[1mERROR   \u001b[0m | \u001b[36m__main__\u001b[0m:\u001b[36mload_tunelogs_data\u001b[0m:\u001b[36m53\u001b[0m - \u001b[31m\u001b[1mFailed to process /Users/francesca/code_repo/MADS-exam-25/src/models/ray/train_2025-01-23_13-01-31: 'accuracy'\u001b[0m\n",
      "\u001b[32m2025-02-02 17:29:13.422\u001b[0m | \u001b[1mINFO    \u001b[0m | \u001b[36m__main__\u001b[0m:\u001b[36mload_tunelogs_data\u001b[0m:\u001b[36m47\u001b[0m - \u001b[1mBest trial for train_2025-01-23_13-02-48: train_cfe8cc12\u001b[0m\n",
      "\u001b[32m2025-02-02 17:29:13.560\u001b[0m | \u001b[1mINFO    \u001b[0m | \u001b[36m__main__\u001b[0m:\u001b[36mload_tunelogs_data\u001b[0m:\u001b[36m47\u001b[0m - \u001b[1mBest trial for train_2025-01-23_15-55-17: train_a2a725a8\u001b[0m\n",
      "\u001b[32m2025-02-02 17:29:13.578\u001b[0m | \u001b[1mINFO    \u001b[0m | \u001b[36m__main__\u001b[0m:\u001b[36mload_tunelogs_data\u001b[0m:\u001b[36m47\u001b[0m - \u001b[1mBest trial for train_2025-01-23_18-29-51: train_52fb46af\u001b[0m\n",
      "\u001b[32m2025-02-02 17:29:13.591\u001b[0m | \u001b[1mINFO    \u001b[0m | \u001b[36m__main__\u001b[0m:\u001b[36mload_tunelogs_data\u001b[0m:\u001b[36m47\u001b[0m - \u001b[1mBest trial for train_2025-01-23_20-23-12: train_f068537b\u001b[0m\n",
      "\u001b[32m2025-02-02 17:29:13.613\u001b[0m | \u001b[31m\u001b[1mERROR   \u001b[0m | \u001b[36m__main__\u001b[0m:\u001b[36mload_tunelogs_data\u001b[0m:\u001b[36m53\u001b[0m - \u001b[31m\u001b[1mFailed to process /Users/francesca/code_repo/MADS-exam-25/src/models/ray/train_2025-01-24_13-26-28: 'accuracy'\u001b[0m\n",
      "\u001b[32m2025-02-02 17:29:13.633\u001b[0m | \u001b[31m\u001b[1mERROR   \u001b[0m | \u001b[36m__main__\u001b[0m:\u001b[36mload_tunelogs_data\u001b[0m:\u001b[36m53\u001b[0m - \u001b[31m\u001b[1mFailed to process /Users/francesca/code_repo/MADS-exam-25/src/models/ray/train_2025-01-24_13-43-35: 'accuracy'\u001b[0m\n",
      "\u001b[32m2025-02-02 17:29:13.776\u001b[0m | \u001b[31m\u001b[1mERROR   \u001b[0m | \u001b[36m__main__\u001b[0m:\u001b[36mload_tunelogs_data\u001b[0m:\u001b[36m53\u001b[0m - \u001b[31m\u001b[1mFailed to process /Users/francesca/code_repo/MADS-exam-25/src/models/ray/train_2025-01-24_13-46-22: 'accuracy'\u001b[0m\n",
      "\u001b[32m2025-02-02 17:29:13.808\u001b[0m | \u001b[1mINFO    \u001b[0m | \u001b[36m__main__\u001b[0m:\u001b[36mload_tunelogs_data\u001b[0m:\u001b[36m47\u001b[0m - \u001b[1mBest trial for train_2025-01-24_13-47-56: train_1852080d\u001b[0m\n",
      "\u001b[32m2025-02-02 17:29:13.823\u001b[0m | \u001b[31m\u001b[1mERROR   \u001b[0m | \u001b[36m__main__\u001b[0m:\u001b[36mload_tunelogs_data\u001b[0m:\u001b[36m53\u001b[0m - \u001b[31m\u001b[1mFailed to process /Users/francesca/code_repo/MADS-exam-25/src/models/ray/train_2025-01-24_15-39-19: 'accuracy'\u001b[0m\n",
      "\u001b[32m2025-02-02 17:29:13.837\u001b[0m | \u001b[31m\u001b[1mERROR   \u001b[0m | \u001b[36m__main__\u001b[0m:\u001b[36mload_tunelogs_data\u001b[0m:\u001b[36m53\u001b[0m - \u001b[31m\u001b[1mFailed to process /Users/francesca/code_repo/MADS-exam-25/src/models/ray/train_2025-01-24_15-40-45: 'accuracy'\u001b[0m\n",
      "2025-02-02 17:29:13,847\tWARNING experiment_analysis.py:180 -- Failed to fetch metrics for 1 trial(s):\n",
      "- train_8312222c: FileNotFoundError('Could not fetch metrics for train_8312222c: both result.json and progress.csv were not found at /Users/francesca/code_repo/MADS-exam-25/src/models/ray/train_2025-01-24_15-42-36/trial_8312222c')\n",
      "\u001b[32m2025-02-02 17:29:13.849\u001b[0m | \u001b[31m\u001b[1mERROR   \u001b[0m | \u001b[36m__main__\u001b[0m:\u001b[36mload_tunelogs_data\u001b[0m:\u001b[36m53\u001b[0m - \u001b[31m\u001b[1mFailed to process /Users/francesca/code_repo/MADS-exam-25/src/models/ray/train_2025-01-24_15-42-36: 'accuracy'\u001b[0m\n",
      "\u001b[32m2025-02-02 17:29:13.881\u001b[0m | \u001b[1mINFO    \u001b[0m | \u001b[36m__main__\u001b[0m:\u001b[36mload_tunelogs_data\u001b[0m:\u001b[36m47\u001b[0m - \u001b[1mBest trial for train_2025-01-24_15-57-13: train_bda4e823\u001b[0m\n",
      "\u001b[32m2025-02-02 17:29:13.894\u001b[0m | \u001b[1mINFO    \u001b[0m | \u001b[36m__main__\u001b[0m:\u001b[36mload_tunelogs_data\u001b[0m:\u001b[36m47\u001b[0m - \u001b[1mBest trial for train_2025-01-24_16-42-06: train_28d83230\u001b[0m\n",
      "\u001b[32m2025-02-02 17:29:13.899\u001b[0m | \u001b[1mINFO    \u001b[0m | \u001b[36m__main__\u001b[0m:\u001b[36mload_tunelogs_data\u001b[0m:\u001b[36m47\u001b[0m - \u001b[1mBest trial for train_2025-01-24_22-51-21: train_a6a32244\u001b[0m\n",
      "\u001b[32m2025-02-02 17:29:14.044\u001b[0m | \u001b[1mINFO    \u001b[0m | \u001b[36m__main__\u001b[0m:\u001b[36mload_tunelogs_data\u001b[0m:\u001b[36m47\u001b[0m - \u001b[1mBest trial for train_2025-01-24_22-58-17: train_f1067a5c\u001b[0m\n",
      "\u001b[32m2025-02-02 17:29:14.076\u001b[0m | \u001b[1mINFO    \u001b[0m | \u001b[36m__main__\u001b[0m:\u001b[36mload_tunelogs_data\u001b[0m:\u001b[36m47\u001b[0m - \u001b[1mBest trial for train_2025-01-24_23-25-06: train_55ddc608\u001b[0m\n",
      "\u001b[32m2025-02-02 17:29:14.106\u001b[0m | \u001b[1mINFO    \u001b[0m | \u001b[36m__main__\u001b[0m:\u001b[36mload_tunelogs_data\u001b[0m:\u001b[36m47\u001b[0m - \u001b[1mBest trial for train_2025-01-24_23-39-29: train_5ba1b825\u001b[0m\n",
      "\u001b[32m2025-02-02 17:29:14.254\u001b[0m | \u001b[1mINFO    \u001b[0m | \u001b[36m__main__\u001b[0m:\u001b[36mload_tunelogs_data\u001b[0m:\u001b[36m47\u001b[0m - \u001b[1mBest trial for train_2025-01-25_00-03-44: train_0f7634df\u001b[0m\n",
      "\u001b[32m2025-02-02 17:29:14.286\u001b[0m | \u001b[1mINFO    \u001b[0m | \u001b[36m__main__\u001b[0m:\u001b[36mload_tunelogs_data\u001b[0m:\u001b[36m47\u001b[0m - \u001b[1mBest trial for train_2025-01-25_00-06-34: train_0cb48a21\u001b[0m\n",
      "\u001b[32m2025-02-02 17:29:14.317\u001b[0m | \u001b[1mINFO    \u001b[0m | \u001b[36m__main__\u001b[0m:\u001b[36mload_tunelogs_data\u001b[0m:\u001b[36m47\u001b[0m - \u001b[1mBest trial for train_2025-01-25_10-39-41: train_b8ba2056\u001b[0m\n",
      "\u001b[32m2025-02-02 17:29:14.340\u001b[0m | \u001b[1mINFO    \u001b[0m | \u001b[36m__main__\u001b[0m:\u001b[36mload_tunelogs_data\u001b[0m:\u001b[36m47\u001b[0m - \u001b[1mBest trial for train_2025-01-25_10-49-25: train_839a01ae\u001b[0m\n",
      "\u001b[32m2025-02-02 17:29:14.368\u001b[0m | \u001b[1mINFO    \u001b[0m | \u001b[36m__main__\u001b[0m:\u001b[36mload_tunelogs_data\u001b[0m:\u001b[36m47\u001b[0m - \u001b[1mBest trial for train_2025-01-25_15-38-08: train_1044f763\u001b[0m\n",
      "\u001b[32m2025-02-02 17:29:14.374\u001b[0m | \u001b[1mINFO    \u001b[0m | \u001b[36m__main__\u001b[0m:\u001b[36mload_tunelogs_data\u001b[0m:\u001b[36m47\u001b[0m - \u001b[1mBest trial for train_2025-01-25_15-55-13: train_129fe488\u001b[0m\n",
      "\u001b[32m2025-02-02 17:29:14.379\u001b[0m | \u001b[1mINFO    \u001b[0m | \u001b[36m__main__\u001b[0m:\u001b[36mload_tunelogs_data\u001b[0m:\u001b[36m47\u001b[0m - \u001b[1mBest trial for train_2025-01-25_16-14-21: train_fdd58df9\u001b[0m\n",
      "\u001b[32m2025-02-02 17:29:14.383\u001b[0m | \u001b[1mINFO    \u001b[0m | \u001b[36m__main__\u001b[0m:\u001b[36mload_tunelogs_data\u001b[0m:\u001b[36m47\u001b[0m - \u001b[1mBest trial for train_2025-01-25_16-16-44: train_69ce7c20\u001b[0m\n",
      "\u001b[32m2025-02-02 17:29:14.526\u001b[0m | \u001b[1mINFO    \u001b[0m | \u001b[36m__main__\u001b[0m:\u001b[36mload_tunelogs_data\u001b[0m:\u001b[36m47\u001b[0m - \u001b[1mBest trial for train_2025-01-25_16-39-03: train_e09e5919\u001b[0m\n",
      "\u001b[32m2025-02-02 17:29:14.557\u001b[0m | \u001b[1mINFO    \u001b[0m | \u001b[36m__main__\u001b[0m:\u001b[36mload_tunelogs_data\u001b[0m:\u001b[36m47\u001b[0m - \u001b[1mBest trial for train_2025-01-27_21-42-26: train_fbb4328a\u001b[0m\n",
      "\u001b[32m2025-02-02 17:29:14.583\u001b[0m | \u001b[1mINFO    \u001b[0m | \u001b[36m__main__\u001b[0m:\u001b[36mload_tunelogs_data\u001b[0m:\u001b[36m47\u001b[0m - \u001b[1mBest trial for train_2025-01-27_21-56-49: train_47b1db73\u001b[0m\n",
      "\u001b[32m2025-02-02 17:29:14.587\u001b[0m | \u001b[31m\u001b[1mERROR   \u001b[0m | \u001b[36m__main__\u001b[0m:\u001b[36mload_tunelogs_data\u001b[0m:\u001b[36m53\u001b[0m - \u001b[31m\u001b[1mFailed to process /Users/francesca/code_repo/MADS-exam-25/src/models/ray/train_2025-01-27_23-06-21: 'accuracy'\u001b[0m\n",
      "\u001b[32m2025-02-02 17:29:14.591\u001b[0m | \u001b[31m\u001b[1mERROR   \u001b[0m | \u001b[36m__main__\u001b[0m:\u001b[36mload_tunelogs_data\u001b[0m:\u001b[36m53\u001b[0m - \u001b[31m\u001b[1mFailed to process /Users/francesca/code_repo/MADS-exam-25/src/models/ray/train_2025-01-27_23-07-48: 'accuracy'\u001b[0m\n",
      "\u001b[32m2025-02-02 17:29:14.593\u001b[0m | \u001b[31m\u001b[1mERROR   \u001b[0m | \u001b[36m__main__\u001b[0m:\u001b[36mload_tunelogs_data\u001b[0m:\u001b[36m53\u001b[0m - \u001b[31m\u001b[1mFailed to process /Users/francesca/code_repo/MADS-exam-25/src/models/ray/train_2025-01-27_23-16-35: 'accuracy'\u001b[0m\n",
      "\u001b[32m2025-02-02 17:29:14.596\u001b[0m | \u001b[31m\u001b[1mERROR   \u001b[0m | \u001b[36m__main__\u001b[0m:\u001b[36mload_tunelogs_data\u001b[0m:\u001b[36m53\u001b[0m - \u001b[31m\u001b[1mFailed to process /Users/francesca/code_repo/MADS-exam-25/src/models/ray/train_2025-01-27_23-18-12: 'accuracy'\u001b[0m\n",
      "\u001b[32m2025-02-02 17:29:14.598\u001b[0m | \u001b[31m\u001b[1mERROR   \u001b[0m | \u001b[36m__main__\u001b[0m:\u001b[36mload_tunelogs_data\u001b[0m:\u001b[36m53\u001b[0m - \u001b[31m\u001b[1mFailed to process /Users/francesca/code_repo/MADS-exam-25/src/models/ray/train_2025-01-27_23-19-13: 'accuracy'\u001b[0m\n",
      "\u001b[32m2025-02-02 17:29:14.601\u001b[0m | \u001b[31m\u001b[1mERROR   \u001b[0m | \u001b[36m__main__\u001b[0m:\u001b[36mload_tunelogs_data\u001b[0m:\u001b[36m53\u001b[0m - \u001b[31m\u001b[1mFailed to process /Users/francesca/code_repo/MADS-exam-25/src/models/ray/train_2025-01-27_23-20-45: 'accuracy'\u001b[0m\n",
      "\u001b[32m2025-02-02 17:29:14.604\u001b[0m | \u001b[31m\u001b[1mERROR   \u001b[0m | \u001b[36m__main__\u001b[0m:\u001b[36mload_tunelogs_data\u001b[0m:\u001b[36m53\u001b[0m - \u001b[31m\u001b[1mFailed to process /Users/francesca/code_repo/MADS-exam-25/src/models/ray/train_2025-01-27_23-22-24: 'accuracy'\u001b[0m\n",
      "\u001b[32m2025-02-02 17:29:14.606\u001b[0m | \u001b[31m\u001b[1mERROR   \u001b[0m | \u001b[36m__main__\u001b[0m:\u001b[36mload_tunelogs_data\u001b[0m:\u001b[36m53\u001b[0m - \u001b[31m\u001b[1mFailed to process /Users/francesca/code_repo/MADS-exam-25/src/models/ray/train_2025-01-27_23-25-20: 'accuracy'\u001b[0m\n",
      "\u001b[32m2025-02-02 17:29:14.610\u001b[0m | \u001b[1mINFO    \u001b[0m | \u001b[36m__main__\u001b[0m:\u001b[36mload_tunelogs_data\u001b[0m:\u001b[36m47\u001b[0m - \u001b[1mBest trial for train_2025-01-27_23-27-25: train_41e425ec\u001b[0m\n",
      "\u001b[32m2025-02-02 17:29:14.614\u001b[0m | \u001b[1mINFO    \u001b[0m | \u001b[36m__main__\u001b[0m:\u001b[36mload_tunelogs_data\u001b[0m:\u001b[36m47\u001b[0m - \u001b[1mBest trial for train_2025-01-27_23-32-14: train_a3a2e86d\u001b[0m\n",
      "\u001b[32m2025-02-02 17:29:14.619\u001b[0m | \u001b[1mINFO    \u001b[0m | \u001b[36m__main__\u001b[0m:\u001b[36mload_tunelogs_data\u001b[0m:\u001b[36m47\u001b[0m - \u001b[1mBest trial for train_2025-01-27_23-33-18: train_793c968e\u001b[0m\n",
      "\u001b[32m2025-02-02 17:29:14.622\u001b[0m | \u001b[1mINFO    \u001b[0m | \u001b[36m__main__\u001b[0m:\u001b[36mload_tunelogs_data\u001b[0m:\u001b[36m47\u001b[0m - \u001b[1mBest trial for train_2025-01-27_23-40-27: train_acb4b1f7\u001b[0m\n",
      "\u001b[32m2025-02-02 17:29:14.644\u001b[0m | \u001b[1mINFO    \u001b[0m | \u001b[36m__main__\u001b[0m:\u001b[36mload_tunelogs_data\u001b[0m:\u001b[36m47\u001b[0m - \u001b[1mBest trial for train_2025-01-27_23-45-37: train_e60ccc19\u001b[0m\n",
      "\u001b[32m2025-02-02 17:29:14.803\u001b[0m | \u001b[1mINFO    \u001b[0m | \u001b[36m__main__\u001b[0m:\u001b[36mload_tunelogs_data\u001b[0m:\u001b[36m47\u001b[0m - \u001b[1mBest trial for train_2025-01-28_09-53-47: train_d8a844f4\u001b[0m\n",
      "\u001b[32m2025-02-02 17:29:14.839\u001b[0m | \u001b[1mINFO    \u001b[0m | \u001b[36m__main__\u001b[0m:\u001b[36mload_tunelogs_data\u001b[0m:\u001b[36m47\u001b[0m - \u001b[1mBest trial for train_2025-01-28_17-36-47: train_7c7ad406\u001b[0m\n",
      "2025-02-02 17:29:14,846\tWARNING experiment_analysis.py:180 -- Failed to fetch metrics for 1 trial(s):\n",
      "- train_94c32343: FileNotFoundError('Could not fetch metrics for train_94c32343: both result.json and progress.csv were not found at /Users/francesca/code_repo/MADS-exam-25/src/models/ray/train_2025-01-28_20-43-20/trial_94c32343')\n",
      "\u001b[32m2025-02-02 17:29:14.848\u001b[0m | \u001b[31m\u001b[1mERROR   \u001b[0m | \u001b[36m__main__\u001b[0m:\u001b[36mload_tunelogs_data\u001b[0m:\u001b[36m53\u001b[0m - \u001b[31m\u001b[1mFailed to process /Users/francesca/code_repo/MADS-exam-25/src/models/ray/train_2025-01-28_20-43-20: 'accuracy'\u001b[0m\n",
      "\u001b[32m2025-02-02 17:29:14.879\u001b[0m | \u001b[1mINFO    \u001b[0m | \u001b[36m__main__\u001b[0m:\u001b[36mload_tunelogs_data\u001b[0m:\u001b[36m47\u001b[0m - \u001b[1mBest trial for train_2025-01-28_21-31-33: train_8efcf290\u001b[0m\n",
      "2025-02-02 17:29:14,887\tWARNING experiment_analysis.py:180 -- Failed to fetch metrics for 1 trial(s):\n",
      "- train_142c74fa: FileNotFoundError('Could not fetch metrics for train_142c74fa: both result.json and progress.csv were not found at /Users/francesca/code_repo/MADS-exam-25/src/models/ray/train_2025-01-28_21-52-44/trial_142c74fa')\n",
      "\u001b[32m2025-02-02 17:29:14.890\u001b[0m | \u001b[31m\u001b[1mERROR   \u001b[0m | \u001b[36m__main__\u001b[0m:\u001b[36mload_tunelogs_data\u001b[0m:\u001b[36m53\u001b[0m - \u001b[31m\u001b[1mFailed to process /Users/francesca/code_repo/MADS-exam-25/src/models/ray/train_2025-01-28_21-52-44: 'accuracy'\u001b[0m\n",
      "2025-02-02 17:29:14,902\tWARNING experiment_analysis.py:180 -- Failed to fetch metrics for 1 trial(s):\n",
      "- train_660d3f59: FileNotFoundError('Could not fetch metrics for train_660d3f59: both result.json and progress.csv were not found at /Users/francesca/code_repo/MADS-exam-25/src/models/ray/train_2025-01-28_21-53-42/trial_660d3f59')\n",
      "\u001b[32m2025-02-02 17:29:14.904\u001b[0m | \u001b[31m\u001b[1mERROR   \u001b[0m | \u001b[36m__main__\u001b[0m:\u001b[36mload_tunelogs_data\u001b[0m:\u001b[36m53\u001b[0m - \u001b[31m\u001b[1mFailed to process /Users/francesca/code_repo/MADS-exam-25/src/models/ray/train_2025-01-28_21-53-42: 'accuracy'\u001b[0m\n",
      "\u001b[32m2025-02-02 17:29:15.056\u001b[0m | \u001b[1mINFO    \u001b[0m | \u001b[36m__main__\u001b[0m:\u001b[36mload_tunelogs_data\u001b[0m:\u001b[36m47\u001b[0m - \u001b[1mBest trial for train_2025-01-28_21-54-33: train_cb0bbed4\u001b[0m\n",
      "\u001b[32m2025-02-02 17:29:15.096\u001b[0m | \u001b[1mINFO    \u001b[0m | \u001b[36m__main__\u001b[0m:\u001b[36mload_tunelogs_data\u001b[0m:\u001b[36m47\u001b[0m - \u001b[1mBest trial for train_2025-01-28_22-00-43: train_986992ac\u001b[0m\n",
      "\u001b[32m2025-02-02 17:29:15.127\u001b[0m | \u001b[1mINFO    \u001b[0m | \u001b[36m__main__\u001b[0m:\u001b[36mload_tunelogs_data\u001b[0m:\u001b[36m47\u001b[0m - \u001b[1mBest trial for train_2025-01-29_20-01-59: train_fc9c5dd3\u001b[0m\n",
      "\u001b[32m2025-02-02 17:29:15.151\u001b[0m | \u001b[1mINFO    \u001b[0m | \u001b[36m__main__\u001b[0m:\u001b[36mload_tunelogs_data\u001b[0m:\u001b[36m47\u001b[0m - \u001b[1mBest trial for train_2025-01-29_21-37-28: train_ff833b68\u001b[0m\n",
      "\u001b[32m2025-02-02 17:29:15.295\u001b[0m | \u001b[1mINFO    \u001b[0m | \u001b[36m__main__\u001b[0m:\u001b[36mload_tunelogs_data\u001b[0m:\u001b[36m47\u001b[0m - \u001b[1mBest trial for train_2025-01-30_08-59-17: train_d6761cb4\u001b[0m\n",
      "\u001b[32m2025-02-02 17:29:15.329\u001b[0m | \u001b[1mINFO    \u001b[0m | \u001b[36m__main__\u001b[0m:\u001b[36mload_tunelogs_data\u001b[0m:\u001b[36m47\u001b[0m - \u001b[1mBest trial for train_2025-01-30_09-14-27: train_f9cce68c\u001b[0m\n",
      "2025-02-02 17:29:15,336\tWARNING experiment_analysis.py:180 -- Failed to fetch metrics for 1 trial(s):\n",
      "- train_c751785a: FileNotFoundError('Could not fetch metrics for train_c751785a: both result.json and progress.csv were not found at /Users/francesca/code_repo/MADS-exam-25/src/models/ray/train_2025-01-30_10-10-11/trial_c751785a')\n",
      "\u001b[32m2025-02-02 17:29:15.338\u001b[0m | \u001b[31m\u001b[1mERROR   \u001b[0m | \u001b[36m__main__\u001b[0m:\u001b[36mload_tunelogs_data\u001b[0m:\u001b[36m53\u001b[0m - \u001b[31m\u001b[1mFailed to process /Users/francesca/code_repo/MADS-exam-25/src/models/ray/train_2025-01-30_10-10-11: 'accuracy'\u001b[0m\n",
      "\u001b[32m2025-02-02 17:29:15.373\u001b[0m | \u001b[1mINFO    \u001b[0m | \u001b[36m__main__\u001b[0m:\u001b[36mload_tunelogs_data\u001b[0m:\u001b[36m47\u001b[0m - \u001b[1mBest trial for train_2025-01-30_10-10-54: train_fb405f72\u001b[0m\n",
      "\u001b[32m2025-02-02 17:29:15.560\u001b[0m | \u001b[1mINFO    \u001b[0m | \u001b[36m__main__\u001b[0m:\u001b[36mload_tunelogs_data\u001b[0m:\u001b[36m47\u001b[0m - \u001b[1mBest trial for train_2025-01-30_11-07-31: train_147acc91\u001b[0m\n",
      "\u001b[32m2025-02-02 17:29:15.583\u001b[0m | \u001b[31m\u001b[1mERROR   \u001b[0m | \u001b[36m__main__\u001b[0m:\u001b[36mload_tunelogs_data\u001b[0m:\u001b[36m53\u001b[0m - \u001b[31m\u001b[1mFailed to process /Users/francesca/code_repo/MADS-exam-25/src/models/ray/train_2025-01-30_12-57-33: 'accuracy'\u001b[0m\n",
      "\u001b[32m2025-02-02 17:29:15.615\u001b[0m | \u001b[1mINFO    \u001b[0m | \u001b[36m__main__\u001b[0m:\u001b[36mload_tunelogs_data\u001b[0m:\u001b[36m47\u001b[0m - \u001b[1mBest trial for train_2025-01-30_13-00-37: train_bce750e7\u001b[0m\n",
      "\u001b[32m2025-02-02 17:29:15.652\u001b[0m | \u001b[1mINFO    \u001b[0m | \u001b[36m__main__\u001b[0m:\u001b[36mload_tunelogs_data\u001b[0m:\u001b[36m47\u001b[0m - \u001b[1mBest trial for train_2025-01-30_13-26-34: train_f0e233c7\u001b[0m\n",
      "\u001b[32m2025-02-02 17:29:15.814\u001b[0m | \u001b[1mINFO    \u001b[0m | \u001b[36m__main__\u001b[0m:\u001b[36mload_tunelogs_data\u001b[0m:\u001b[36m47\u001b[0m - \u001b[1mBest trial for train_2025-01-30_13-57-50: train_1c1f6e40\u001b[0m\n",
      "\u001b[32m2025-02-02 17:29:15.851\u001b[0m | \u001b[1mINFO    \u001b[0m | \u001b[36m__main__\u001b[0m:\u001b[36mload_tunelogs_data\u001b[0m:\u001b[36m47\u001b[0m - \u001b[1mBest trial for train_2025-01-30_18-02-00: train_83ce70f1\u001b[0m\n",
      "\u001b[32m2025-02-02 17:29:15.890\u001b[0m | \u001b[1mINFO    \u001b[0m | \u001b[36m__main__\u001b[0m:\u001b[36mload_tunelogs_data\u001b[0m:\u001b[36m47\u001b[0m - \u001b[1mBest trial for train_2025-01-30_20-41-28: train_7c611915\u001b[0m\n",
      "\u001b[32m2025-02-02 17:29:15.925\u001b[0m | \u001b[1mINFO    \u001b[0m | \u001b[36m__main__\u001b[0m:\u001b[36mload_tunelogs_data\u001b[0m:\u001b[36m47\u001b[0m - \u001b[1mBest trial for train_2025-01-30_22-52-15: train_c6460017\u001b[0m\n",
      "2025-02-02 17:29:15,932\tWARNING experiment_analysis.py:180 -- Failed to fetch metrics for 1 trial(s):\n",
      "- train_a1a528f0: FileNotFoundError('Could not fetch metrics for train_a1a528f0: both result.json and progress.csv were not found at /Users/francesca/code_repo/MADS-exam-25/src/models/ray/train_2025-01-30_23-15-34/trial_a1a528f0')\n",
      "\u001b[32m2025-02-02 17:29:15.934\u001b[0m | \u001b[31m\u001b[1mERROR   \u001b[0m | \u001b[36m__main__\u001b[0m:\u001b[36mload_tunelogs_data\u001b[0m:\u001b[36m53\u001b[0m - \u001b[31m\u001b[1mFailed to process /Users/francesca/code_repo/MADS-exam-25/src/models/ray/train_2025-01-30_23-15-34: 'accuracy'\u001b[0m\n",
      "\u001b[32m2025-02-02 17:29:16.077\u001b[0m | \u001b[1mINFO    \u001b[0m | \u001b[36m__main__\u001b[0m:\u001b[36mload_tunelogs_data\u001b[0m:\u001b[36m47\u001b[0m - \u001b[1mBest trial for train_2025-01-30_23-25-55: train_a20f42a8\u001b[0m\n",
      "2025-02-02 17:29:16,082\tWARNING experiment_analysis.py:180 -- Failed to fetch metrics for 1 trial(s):\n",
      "- train_bec58f0a: FileNotFoundError('Could not fetch metrics for train_bec58f0a: both result.json and progress.csv were not found at /Users/francesca/code_repo/MADS-exam-25/src/models/ray/train_2025-01-31_08-26-53/trial_bec58f0a')\n",
      "\u001b[32m2025-02-02 17:29:16.084\u001b[0m | \u001b[31m\u001b[1mERROR   \u001b[0m | \u001b[36m__main__\u001b[0m:\u001b[36mload_tunelogs_data\u001b[0m:\u001b[36m53\u001b[0m - \u001b[31m\u001b[1mFailed to process /Users/francesca/code_repo/MADS-exam-25/src/models/ray/train_2025-01-31_08-26-53: 'accuracy'\u001b[0m\n",
      "\u001b[32m2025-02-02 17:29:16.113\u001b[0m | \u001b[1mINFO    \u001b[0m | \u001b[36m__main__\u001b[0m:\u001b[36mload_tunelogs_data\u001b[0m:\u001b[36m47\u001b[0m - \u001b[1mBest trial for train_2025-01-31_08-27-10: train_8ff48125\u001b[0m\n",
      "\u001b[32m2025-02-02 17:29:16.143\u001b[0m | \u001b[1mINFO    \u001b[0m | \u001b[36m__main__\u001b[0m:\u001b[36mload_tunelogs_data\u001b[0m:\u001b[36m47\u001b[0m - \u001b[1mBest trial for train_2025-01-31_12-14-22: train_8225bffb\u001b[0m\n",
      "\u001b[32m2025-02-02 17:29:16.298\u001b[0m | \u001b[1mINFO    \u001b[0m | \u001b[36m__main__\u001b[0m:\u001b[36mload_tunelogs_data\u001b[0m:\u001b[36m47\u001b[0m - \u001b[1mBest trial for train_2025-01-31_14-58-10: train_6b305282\u001b[0m\n",
      "\u001b[32m2025-02-02 17:29:16.328\u001b[0m | \u001b[1mINFO    \u001b[0m | \u001b[36m__main__\u001b[0m:\u001b[36mload_tunelogs_data\u001b[0m:\u001b[36m47\u001b[0m - \u001b[1mBest trial for train_2025-01-31_15-22-08: train_f64fc038\u001b[0m\n",
      "\u001b[32m2025-02-02 17:29:16.329\u001b[0m | \u001b[31m\u001b[1mERROR   \u001b[0m | \u001b[36m__main__\u001b[0m:\u001b[36mload_tunelogs_data\u001b[0m:\u001b[36m53\u001b[0m - \u001b[31m\u001b[1mFailed to process /Users/francesca/code_repo/MADS-exam-25/src/models/ray/train_2025-01-31_15-35-00: No experiment snapshot file of form 'experiment_state-*.json' was found at: (local, /Users/francesca/code_repo/MADS-exam-25/src/models/ray/train_2025-01-31_15-35-00)\n",
      "Please check if you specified the correct experiment path, which should be a combination of the `storage_path` and `name` specified in your run.\u001b[0m\n",
      "\u001b[32m2025-02-02 17:29:16.329\u001b[0m | \u001b[31m\u001b[1mERROR   \u001b[0m | \u001b[36m__main__\u001b[0m:\u001b[36mload_tunelogs_data\u001b[0m:\u001b[36m53\u001b[0m - \u001b[31m\u001b[1mFailed to process /Users/francesca/code_repo/MADS-exam-25/src/models/ray/train_2025-01-31_15-36-13: No experiment snapshot file of form 'experiment_state-*.json' was found at: (local, /Users/francesca/code_repo/MADS-exam-25/src/models/ray/train_2025-01-31_15-36-13)\n",
      "Please check if you specified the correct experiment path, which should be a combination of the `storage_path` and `name` specified in your run.\u001b[0m\n",
      "\u001b[32m2025-02-02 17:29:16.350\u001b[0m | \u001b[31m\u001b[1mERROR   \u001b[0m | \u001b[36m__main__\u001b[0m:\u001b[36mload_tunelogs_data\u001b[0m:\u001b[36m53\u001b[0m - \u001b[31m\u001b[1mFailed to process /Users/francesca/code_repo/MADS-exam-25/src/models/ray/train_2025-01-31_15-41-14: 'accuracy'\u001b[0m\n",
      "2025-02-02 17:29:16,359\tWARNING experiment_analysis.py:180 -- Failed to fetch metrics for 1 trial(s):\n",
      "- train_568a49f1: FileNotFoundError('Could not fetch metrics for train_568a49f1: both result.json and progress.csv were not found at /Users/francesca/code_repo/MADS-exam-25/src/models/ray/train_2025-01-31_15-45-20/trial_568a49f1')\n",
      "\u001b[32m2025-02-02 17:29:16.361\u001b[0m | \u001b[31m\u001b[1mERROR   \u001b[0m | \u001b[36m__main__\u001b[0m:\u001b[36mload_tunelogs_data\u001b[0m:\u001b[36m53\u001b[0m - \u001b[31m\u001b[1mFailed to process /Users/francesca/code_repo/MADS-exam-25/src/models/ray/train_2025-01-31_15-45-20: 'accuracy'\u001b[0m\n",
      "\u001b[32m2025-02-02 17:29:16.392\u001b[0m | \u001b[1mINFO    \u001b[0m | \u001b[36m__main__\u001b[0m:\u001b[36mload_tunelogs_data\u001b[0m:\u001b[36m47\u001b[0m - \u001b[1mBest trial for train_2025-01-31_15-47-33: train_bd3578ad\u001b[0m\n",
      "\u001b[32m2025-02-02 17:29:16.544\u001b[0m | \u001b[1mINFO    \u001b[0m | \u001b[36m__main__\u001b[0m:\u001b[36mload_tunelogs_data\u001b[0m:\u001b[36m47\u001b[0m - \u001b[1mBest trial for train_2025-01-31_16-16-14: train_84e452c4\u001b[0m\n",
      "\u001b[32m2025-02-02 17:29:16.579\u001b[0m | \u001b[1mINFO    \u001b[0m | \u001b[36m__main__\u001b[0m:\u001b[36mload_tunelogs_data\u001b[0m:\u001b[36m47\u001b[0m - \u001b[1mBest trial for train_2025-01-31_18-57-36: train_948b5a7b\u001b[0m\n",
      "\u001b[32m2025-02-02 17:29:16.609\u001b[0m | \u001b[1mINFO    \u001b[0m | \u001b[36m__main__\u001b[0m:\u001b[36mload_tunelogs_data\u001b[0m:\u001b[36m47\u001b[0m - \u001b[1mBest trial for train_2025-01-31_20-21-17: train_36f7e684\u001b[0m\n",
      "\u001b[32m2025-02-02 17:29:16.640\u001b[0m | \u001b[1mINFO    \u001b[0m | \u001b[36m__main__\u001b[0m:\u001b[36mload_tunelogs_data\u001b[0m:\u001b[36m47\u001b[0m - \u001b[1mBest trial for train_2025-01-31_21-44-03: train_7ccc0da9\u001b[0m\n",
      "\u001b[32m2025-02-02 17:29:16.670\u001b[0m | \u001b[1mINFO    \u001b[0m | \u001b[36m__main__\u001b[0m:\u001b[36mload_tunelogs_data\u001b[0m:\u001b[36m47\u001b[0m - \u001b[1mBest trial for train_2025-02-01_09-02-42: train_de5d3743\u001b[0m\n",
      "\u001b[32m2025-02-02 17:29:16.823\u001b[0m | \u001b[1mINFO    \u001b[0m | \u001b[36m__main__\u001b[0m:\u001b[36mload_tunelogs_data\u001b[0m:\u001b[36m47\u001b[0m - \u001b[1mBest trial for train_2025-02-01_10-21-43: train_fc263c4d\u001b[0m\n",
      "\u001b[32m2025-02-02 17:29:16.856\u001b[0m | \u001b[1mINFO    \u001b[0m | \u001b[36m__main__\u001b[0m:\u001b[36mload_tunelogs_data\u001b[0m:\u001b[36m47\u001b[0m - \u001b[1mBest trial for train_2025-02-01_11-28-59: train_3f0d1e74\u001b[0m\n",
      "\u001b[32m2025-02-02 17:29:16.890\u001b[0m | \u001b[1mINFO    \u001b[0m | \u001b[36m__main__\u001b[0m:\u001b[36mload_tunelogs_data\u001b[0m:\u001b[36m47\u001b[0m - \u001b[1mBest trial for train_2025-02-01_18-39-26: train_d77553d2\u001b[0m\n",
      "\u001b[32m2025-02-02 17:29:17.051\u001b[0m | \u001b[1mINFO    \u001b[0m | \u001b[36m__main__\u001b[0m:\u001b[36mload_tunelogs_data\u001b[0m:\u001b[36m47\u001b[0m - \u001b[1mBest trial for train_2025-02-01_20-03-18: train_70048d50\u001b[0m\n",
      "\u001b[32m2025-02-02 17:29:17.088\u001b[0m | \u001b[1mINFO    \u001b[0m | \u001b[36m__main__\u001b[0m:\u001b[36mload_tunelogs_data\u001b[0m:\u001b[36m47\u001b[0m - \u001b[1mBest trial for train_2025-02-01_22-28-09: train_ed74cebc\u001b[0m\n",
      "\u001b[32m2025-02-02 17:29:17.121\u001b[0m | \u001b[1mINFO    \u001b[0m | \u001b[36m__main__\u001b[0m:\u001b[36mload_tunelogs_data\u001b[0m:\u001b[36m47\u001b[0m - \u001b[1mBest trial for train_2025-02-02_11-35-13: train_681ae735\u001b[0m\n",
      "\u001b[32m2025-02-02 17:29:17.155\u001b[0m | \u001b[1mINFO    \u001b[0m | \u001b[36m__main__\u001b[0m:\u001b[36mload_tunelogs_data\u001b[0m:\u001b[36m47\u001b[0m - \u001b[1mBest trial for train_2025-02-02_12-59-22: train_97ed4fda\u001b[0m\n",
      "\u001b[32m2025-02-02 17:29:17.318\u001b[0m | \u001b[1mINFO    \u001b[0m | \u001b[36m__main__\u001b[0m:\u001b[36mload_tunelogs_data\u001b[0m:\u001b[36m47\u001b[0m - \u001b[1mBest trial for train_2025-02-02_13-04-11: train_8bcbceeb\u001b[0m\n",
      "2025-02-02 17:29:17,325\tWARNING experiment_analysis.py:180 -- Failed to fetch metrics for 1 trial(s):\n",
      "- train_feb6b3fc: FileNotFoundError('Could not fetch metrics for train_feb6b3fc: both result.json and progress.csv were not found at /Users/francesca/code_repo/MADS-exam-25/src/models/ray/train_2025-02-02_17-14-13/trial_feb6b3fc')\n",
      "\u001b[32m2025-02-02 17:29:17.327\u001b[0m | \u001b[31m\u001b[1mERROR   \u001b[0m | \u001b[36m__main__\u001b[0m:\u001b[36mload_tunelogs_data\u001b[0m:\u001b[36m53\u001b[0m - \u001b[31m\u001b[1mFailed to process /Users/francesca/code_repo/MADS-exam-25/src/models/ray/train_2025-02-02_17-14-13: 'accuracy'\u001b[0m\n",
      "\u001b[32m2025-02-02 17:29:17.358\u001b[0m | \u001b[1mINFO    \u001b[0m | \u001b[36m__main__\u001b[0m:\u001b[36mload_tunelogs_data\u001b[0m:\u001b[36m47\u001b[0m - \u001b[1mBest trial for train_2025-02-02_17-16-10: train_c6705ce2\u001b[0m\n"
     ]
    },
    {
     "name": "stdout",
     "output_type": "stream",
     "text": [
      "Index(['iterations', 'train_loss', 'test_loss', 'accuracy', 'f1scoremicro',\n",
      "       'f1scoremacro', 'precisionmacro', 'recallmacro', 'timestamp',\n",
      "       'checkpoint_dir_name', 'done', 'training_iteration', 'trial_id', 'date',\n",
      "       'time_this_iter_s', 'time_total_s', 'pid', 'hostname', 'node_ip',\n",
      "       'time_since_restore', 'iterations_since_restore', 'preprocessor',\n",
      "       'trainfile', 'testfile', 'tune_dir', 'data_dir', 'batch', 'hidden',\n",
      "       'dropout', 'num_layers', 'model_type', 'num_blocks', 'num_classes',\n",
      "       'shape', 'logdir', 'experiment', 'num_heads', 'scheduler', 'factor',\n",
      "       'patience', 'input', 'optimizer', 'earlystopping_patience',\n",
      "       'input_length', 'gru_hidden', 'seed', 'traindataset'],\n",
      "      dtype='object')\n",
      "             experiment  trial_id  accuracy                model_type  \\\n",
      "0   2025-02-01_18-39-26  d77553d2  0.984890            CNN1DGRUResNet   \n",
      "1   2025-01-25_10-39-41  b8ba2056  0.988782               2DCNNResnet   \n",
      "2   2025-01-25_15-38-08  1044f763  0.987866               2DCNNResnet   \n",
      "3   2025-01-23_20-23-12  f068537b  0.987866               2DCNNResnet   \n",
      "4   2025-01-25_15-38-08  a8e7b5d8  0.980082               2DCNNResnet   \n",
      "5   2025-01-25_15-38-08  23916882  0.986722               2DCNNResnet   \n",
      "6   2025-01-31_18-57-36  6adccf0a  0.982537            CNN1DGRUResNet   \n",
      "7   2025-02-01_22-28-09  912a8b41  0.975184               CNN2DResNet   \n",
      "8   2025-01-25_10-39-41  5bbd8621  0.983288               2DCNNResnet   \n",
      "9   2025-01-23_15-55-17  a2a725a8  0.962683       2DTransformerResnet   \n",
      "10  2025-01-30_13-26-34  f0e233c7  0.984432               CNN1DResNet   \n",
      "11  2025-01-30_23-25-55  480dd2a2  0.976419               CNN1DResNet   \n",
      "12  2025-01-28_17-36-47  7c7ad406  0.975463              AttentionGRU   \n",
      "13  2025-02-01_20-03-18  70048d50  0.980699            CNN1DGRUResNet   \n",
      "14  2025-02-01_10-21-43  fc263c4d  0.985754            CNN1DGRUResNet   \n",
      "15  2025-01-31_20-21-17  36f7e684  0.986673  CNN1DResNetWithAttention   \n",
      "16  2025-01-22_18-54-05  936788a9  0.977252               2DCNNResnet   \n",
      "17  2025-02-01_09-02-42  de5d3743  0.982143               CNN1DResNet   \n",
      "18  2025-02-02_11-35-13  681ae735  0.972197          CNN1DGRUResNetMH   \n",
      "19  2025-01-31_20-21-17  7eeba1af  0.974130  CNN1DResNetWithAttention   \n",
      "\n",
      "    test_loss  batch                          optimizer  num_blocks   dropout  \\\n",
      "0    0.086679     16    <class 'torch.optim.adam.Adam'>           4  0.200000   \n",
      "1    0.066563     16                                NaN           1  0.300000   \n",
      "2    0.090779     16                                NaN           3  0.300000   \n",
      "3    0.112456     16                                NaN           3  0.338071   \n",
      "4    0.091605     16                                NaN           3  0.300000   \n",
      "5    0.118468     16                                NaN           1  0.300000   \n",
      "6    0.103465     32    <class 'torch.optim.adam.Adam'>           3  0.300000   \n",
      "7    0.088695     32    <class 'torch.optim.adam.Adam'>           7  0.300000   \n",
      "8    0.128833     16                                NaN           2  0.300000   \n",
      "9    0.123315     16                                NaN           2  0.274700   \n",
      "10   0.095645     16    <class 'torch.optim.adam.Adam'>           6  0.137541   \n",
      "11   0.163489     16  <class 'torch.optim.adamw.AdamW'>           1  0.300000   \n",
      "12   0.078806     60    <class 'torch.optim.adam.Adam'>           3  0.148662   \n",
      "13   0.107881     32    <class 'torch.optim.adam.Adam'>           2  0.200000   \n",
      "14   0.091874     32    <class 'torch.optim.adam.Adam'>           5  0.400000   \n",
      "15   0.089994     32    <class 'torch.optim.adam.Adam'>           3  0.300000   \n",
      "16   0.099774     32                                NaN           3  0.324703   \n",
      "17   0.096173     16    <class 'torch.optim.adam.Adam'>           5  0.200000   \n",
      "18   0.096152     32  <class 'torch.optim.adamw.AdamW'>           2  0.400000   \n",
      "19   0.132146     16    <class 'torch.optim.adam.Adam'>           3  0.400000   \n",
      "\n",
      "    hidden  num_layers  num_heads  recallmacro  iterations    factor  \\\n",
      "0       64           4        NaN     0.976865          25  0.300000   \n",
      "1      128           3        8.0     0.974396          29  0.200000   \n",
      "2       64           3        8.0     0.973342          39  0.300000   \n",
      "3      128           4        4.0     0.967824          39  0.200000   \n",
      "4      128           2        8.0     0.967541           8  0.300000   \n",
      "5       64           2        8.0     0.964716          39  0.300000   \n",
      "6      128           2        4.0     0.963731          35  0.400000   \n",
      "7       64           2        8.0     0.963705           8  0.400000   \n",
      "8       64           2        8.0     0.962754          26  0.200000   \n",
      "9       64           3        8.0     0.961623          29  0.274803   \n",
      "10     256           4        8.0     0.961107          23  0.300000   \n",
      "11     128           3        4.0     0.960625           8  0.200000   \n",
      "12     256           2        2.0     0.960432          19  0.400000   \n",
      "13      64           2        NaN     0.960267          39  0.400000   \n",
      "14      64           2        2.0     0.959340          27  0.200000   \n",
      "15      64           3        2.0     0.959300          24  0.200000   \n",
      "16     139           2        NaN     0.958644           8       NaN   \n",
      "17      16           3        2.0     0.958401          29  0.200000   \n",
      "18      64           3        4.0     0.958387          29  0.300000   \n",
      "19     128           3        8.0     0.958136           8  0.200000   \n",
      "\n",
      "                                trainfile  \n",
      "0   heart_big_oversampled_full_train.parq  \n",
      "1   heart_big_oversampled_full_train.parq  \n",
      "2   heart_big_oversampled_full_train.parq  \n",
      "3   heart_big_oversampled_full_train.parq  \n",
      "4   heart_big_oversampled_full_train.parq  \n",
      "5   heart_big_oversampled_full_train.parq  \n",
      "6              heart_big_SMOTE_train.parq  \n",
      "7   heart_big_oversampled_full_train.parq  \n",
      "8   heart_big_oversampled_full_train.parq  \n",
      "9   heart_big_oversampled_full_train.parq  \n",
      "10             heart_big_SMOTE_train.parq  \n",
      "11             heart_big_SMOTE_train.parq  \n",
      "12             heart_big_SMOTE_train.parq  \n",
      "13  heart_big_oversampled_full_train.parq  \n",
      "14  heart_big_oversampled_full_train.parq  \n",
      "15  heart_big_oversampled_full_train.parq  \n",
      "16  heart_big_oversampled_full_train.parq  \n",
      "17  heart_big_oversampled_full_train.parq  \n",
      "18  heart_big_oversampled_full_train.parq  \n",
      "19  heart_big_oversampled_full_train.parq  \n",
      "Top model configurations:{'experiment': '2025-02-01_18-39-26', 'trial_id': 'd77553d2', 'accuracy': 0.9848901098901099, 'model_type': 'CNN1DGRUResNet', 'test_loss': 0.08667893707752228, 'batch': 16, 'optimizer': <class 'torch.optim.adam.Adam'>, 'num_blocks': 4, 'dropout': 0.2, 'hidden': 64, 'num_layers': 4, 'num_heads': nan, 'recallmacro': 0.9768645731557821, 'iterations': 25, 'factor': 0.3, 'trainfile': 'heart_big_oversampled_full_train.parq'}\n",
      "{'experiment': '2025-02-01_18-39-26', 'trial_id': 'd77553d2', 'accuracy': 0.9848901098901099, 'model_type': 'CNN1DGRUResNet', 'test_loss': 0.08667893707752228, 'batch': 16, 'optimizer': <class 'torch.optim.adam.Adam'>, 'num_blocks': 4, 'dropout': 0.2, 'hidden': 64, 'num_layers': 4, 'num_heads': nan, 'recallmacro': 0.9768645731557821, 'iterations': 25, 'factor': 0.3, 'trainfile': 'heart_big_oversampled_full_train.parq'}\n"
     ]
    }
   ],
   "source": [
    "import pandas as pd\n",
    "from ray.tune import ExperimentAnalysis\n",
    "from loguru import logger\n",
    "from pathlib import Path\n",
    "import ray\n",
    "\n",
    "\n",
    "def load_tunelogs_data(path=\"models/ray\") -> pd.DataFrame:\n",
    "        \"\"\"\n",
    "        Loads the Ray Tune results from a specified directory and returns them as a DataFrame.\n",
    "\n",
    "        Args:\n",
    "            path (str): Directory path containing Ray Tune experiment logs.\n",
    "\n",
    "        Returns:\n",
    "            pd.DataFrame: Combined and cleaned results DataFrame.\n",
    "        \"\"\"\n",
    "        tune_dir = Path(path).resolve()\n",
    "        logger.info(f\"Tune directory: {tune_dir}\")\n",
    "        if not tune_dir.exists():\n",
    "            logger.warning(\"Model data directory does not exist. Check your tune directory path.\")\n",
    "            return pd.DataFrame()\n",
    "\n",
    "        # Initialize Ray\n",
    "        ray.init(ignore_reinit_error=True)\n",
    "\n",
    "        # Collect all directories within the tune_dir\n",
    "        tunelogs = sorted([d for d in tune_dir.iterdir() if d.is_dir()])\n",
    "        results = []\n",
    "\n",
    "        for logs in tunelogs:\n",
    "            try:\n",
    "                # Load experiment analysis\n",
    "                analysis = ExperimentAnalysis(logs)\n",
    "\n",
    "                # Convert results to DataFrame\n",
    "                df = analysis.dataframe()\n",
    "                df.columns = [col.lower().replace(\"config/\", \"\") for col in df.columns]\n",
    "                df.sort_values(\"accuracy\", inplace=True, ascending=False)\n",
    "\n",
    "                # Add experiment name as a column\n",
    "                df[\"experiment\"] = logs.name.replace(\"train_\", \"\")\n",
    "\n",
    "                # Optionally get best trial (for debugging/logging purposes)\n",
    "                best_trial = analysis.get_best_trial(metric=\"test_loss\", mode=\"min\")\n",
    "                if best_trial:\n",
    "                    logger.info(f\"Best trial for {logs.name}: {best_trial}\")\n",
    "\n",
    "                # Accumulate DataFrame\n",
    "                results.append(df)\n",
    "\n",
    "            except Exception as e:\n",
    "                logger.error(f\"Failed to process {logs}: {e}\")\n",
    "\n",
    "        # Combine all results into a single DataFrame\n",
    "        results_df = pd.concat(results, ignore_index=True)\n",
    "\n",
    "        # Get the top 10 rows based on accuracy\n",
    "        if \"recallmacro\" in results_df.columns:\n",
    "            print(results_df.columns)\n",
    "            top_10_df = results_df.nlargest(20, \"recallmacro\")\n",
    "            top_10_df['trainfile'] = top_10_df['trainfile'].apply(lambda x: x.name)\n",
    "            top_10_df = top_10_df[[\"experiment\", \"trial_id\", \"accuracy\", \"model_type\", \"test_loss\", \"batch\", 'optimizer', 'num_blocks', \"dropout\", \"hidden\", \"num_layers\", \"num_heads\", \"recallmacro\", \"iterations\", \"factor\", \"trainfile\"]]\n",
    "            top_10_df.reset_index(drop=True, inplace=True)\n",
    "            print(top_10_df)\n",
    "            # Save the top 10 results to a CSV file\n",
    "            top_10_df.to_csv(\"top10_results.csv\", index=False)\n",
    "            top_10_df.reset_index(drop=True, inplace=True)\n",
    "            top_config = top_10_df.iloc[0].to_dict()\n",
    "            print(f\"Top model configurations:{top_config}\")\n",
    "            \n",
    "        return top_10_df, results_df\n",
    "\n",
    "top_10_df, results_df=load_tunelogs_data()\n",
    "print(top_config)"
   ]
  },
  {
   "cell_type": "code",
   "execution_count": 52,
   "metadata": {},
   "outputs": [
    {
     "name": "stderr",
     "output_type": "stream",
     "text": [
      "/var/folders/n8/nxkbkrzj5b7brdryft6ds0kc0000gn/T/ipykernel_65159/122469855.py:2: SettingWithCopyWarning:\n",
      "\n",
      "\n",
      "A value is trying to be set on a copy of a slice from a DataFrame\n",
      "\n",
      "See the caveats in the documentation: https://pandas.pydata.org/pandas-docs/stable/user_guide/indexing.html#returning-a-view-versus-a-copy\n",
      "\n"
     ]
    }
   ],
   "source": [
    "cnngru_df = results_df[results_df[\"model_type\"] == \"CNN1DGRUResNet\"]\n",
    "cnngru_df.sort_values(\"accuracy\", inplace=True, ascending=False)"
   ]
  },
  {
   "cell_type": "code",
   "execution_count": 36,
   "metadata": {},
   "outputs": [
    {
     "data": {
      "text/plain": [
       "Index(['iterations', 'train_loss', 'test_loss', 'accuracy', 'f1scoremicro',\n",
       "       'f1scoremacro', 'precisionmacro', 'recallmacro', 'timestamp',\n",
       "       'checkpoint_dir_name', 'done', 'training_iteration', 'trial_id', 'date',\n",
       "       'time_this_iter_s', 'time_total_s', 'pid', 'hostname', 'node_ip',\n",
       "       'time_since_restore', 'iterations_since_restore', 'preprocessor',\n",
       "       'trainfile', 'testfile', 'tune_dir', 'data_dir', 'batch', 'hidden',\n",
       "       'dropout', 'num_layers', 'model_type', 'num_blocks', 'num_classes',\n",
       "       'shape', 'logdir', 'experiment', 'num_heads', 'scheduler', 'factor',\n",
       "       'patience', 'input', 'optimizer', 'earlystopping_patience',\n",
       "       'input_length', 'gru_hidden', 'seed', 'traindataset'],\n",
       "      dtype='object')"
      ]
     },
     "execution_count": 36,
     "metadata": {},
     "output_type": "execute_result"
    }
   ],
   "source": [
    "cnngru_df.columns"
   ]
  },
  {
   "cell_type": "code",
   "execution_count": 71,
   "metadata": {},
   "outputs": [],
   "source": [
    "plot = cnngru_df[:10]\n",
    "select = ['traindataset', \"num_blocks\",  \"dropout\", \"hidden\", \"num_layers\",  \"test_loss\"]\n",
    "p = plot[select].reset_index().dropna()\n",
    "p.drop(columns=[\"index\"], inplace=True)"
   ]
  },
  {
   "cell_type": "code",
   "execution_count": 72,
   "metadata": {},
   "outputs": [
    {
     "data": {
      "text/html": [
       "<div>\n",
       "<style scoped>\n",
       "    .dataframe tbody tr th:only-of-type {\n",
       "        vertical-align: middle;\n",
       "    }\n",
       "\n",
       "    .dataframe tbody tr th {\n",
       "        vertical-align: top;\n",
       "    }\n",
       "\n",
       "    .dataframe thead th {\n",
       "        text-align: right;\n",
       "    }\n",
       "</style>\n",
       "<table border=\"1\" class=\"dataframe\">\n",
       "  <thead>\n",
       "    <tr style=\"text-align: right;\">\n",
       "      <th></th>\n",
       "      <th>traindataset</th>\n",
       "      <th>num_blocks</th>\n",
       "      <th>dropout</th>\n",
       "      <th>hidden</th>\n",
       "      <th>num_layers</th>\n",
       "      <th>test_loss</th>\n",
       "    </tr>\n",
       "  </thead>\n",
       "  <tbody>\n",
       "    <tr>\n",
       "      <th>0</th>\n",
       "      <td>smote</td>\n",
       "      <td>5</td>\n",
       "      <td>0.4</td>\n",
       "      <td>64</td>\n",
       "      <td>2</td>\n",
       "      <td>0.091874</td>\n",
       "    </tr>\n",
       "    <tr>\n",
       "      <th>1</th>\n",
       "      <td>smote</td>\n",
       "      <td>4</td>\n",
       "      <td>0.2</td>\n",
       "      <td>64</td>\n",
       "      <td>4</td>\n",
       "      <td>0.086679</td>\n",
       "    </tr>\n",
       "    <tr>\n",
       "      <th>3</th>\n",
       "      <td>smote</td>\n",
       "      <td>5</td>\n",
       "      <td>0.2</td>\n",
       "      <td>64</td>\n",
       "      <td>3</td>\n",
       "      <td>0.109999</td>\n",
       "    </tr>\n",
       "    <tr>\n",
       "      <th>5</th>\n",
       "      <td>smote</td>\n",
       "      <td>2</td>\n",
       "      <td>0.2</td>\n",
       "      <td>64</td>\n",
       "      <td>2</td>\n",
       "      <td>0.107881</td>\n",
       "    </tr>\n",
       "    <tr>\n",
       "      <th>6</th>\n",
       "      <td>oversampled</td>\n",
       "      <td>3</td>\n",
       "      <td>0.2</td>\n",
       "      <td>128</td>\n",
       "      <td>3</td>\n",
       "      <td>0.118306</td>\n",
       "    </tr>\n",
       "    <tr>\n",
       "      <th>7</th>\n",
       "      <td>smote</td>\n",
       "      <td>5</td>\n",
       "      <td>0.4</td>\n",
       "      <td>128</td>\n",
       "      <td>3</td>\n",
       "      <td>0.124042</td>\n",
       "    </tr>\n",
       "    <tr>\n",
       "      <th>8</th>\n",
       "      <td>smote</td>\n",
       "      <td>4</td>\n",
       "      <td>0.3</td>\n",
       "      <td>64</td>\n",
       "      <td>2</td>\n",
       "      <td>0.112295</td>\n",
       "    </tr>\n",
       "    <tr>\n",
       "      <th>9</th>\n",
       "      <td>oversampled</td>\n",
       "      <td>2</td>\n",
       "      <td>0.3</td>\n",
       "      <td>64</td>\n",
       "      <td>3</td>\n",
       "      <td>0.119339</td>\n",
       "    </tr>\n",
       "  </tbody>\n",
       "</table>\n",
       "</div>"
      ],
      "text/plain": [
       "  traindataset  num_blocks  dropout  hidden  num_layers  test_loss\n",
       "0        smote           5      0.4      64           2   0.091874\n",
       "1        smote           4      0.2      64           4   0.086679\n",
       "3        smote           5      0.2      64           3   0.109999\n",
       "5        smote           2      0.2      64           2   0.107881\n",
       "6  oversampled           3      0.2     128           3   0.118306\n",
       "7        smote           5      0.4     128           3   0.124042\n",
       "8        smote           4      0.3      64           2   0.112295\n",
       "9  oversampled           2      0.3      64           3   0.119339"
      ]
     },
     "execution_count": 72,
     "metadata": {},
     "output_type": "execute_result"
    }
   ],
   "source": [
    "p"
   ]
  },
  {
   "cell_type": "code",
   "execution_count": 74,
   "metadata": {},
   "outputs": [
    {
     "data": {
      "application/vnd.plotly.v1+json": {
       "config": {
        "plotlyServerURL": "https://plot.ly"
       },
       "data": [
        {
         "dimensions": [
          {
           "label": "num_blocks",
           "values": [
            5,
            4,
            null,
            5,
            null,
            2,
            3,
            5,
            4,
            2
           ]
          },
          {
           "label": "dropout",
           "values": [
            0.4,
            0.2,
            null,
            0.2,
            null,
            0.2,
            0.2,
            0.4,
            0.3,
            0.3
           ]
          },
          {
           "label": "hidden",
           "values": [
            64,
            64,
            null,
            64,
            null,
            64,
            128,
            128,
            64,
            64
           ]
          },
          {
           "label": "num_layers",
           "values": [
            2,
            4,
            null,
            3,
            null,
            2,
            3,
            3,
            2,
            3
           ]
          },
          {
           "label": "test_loss",
           "values": [
            0.09187367558479309,
            0.08667893707752228,
            0.10999903082847595,
            0.10788146406412125,
            0.11830649524927139,
            0.12404166907072067,
            0.11229471117258072,
            0.11933903396129608,
            null,
            null
           ]
          }
         ],
         "domain": {
          "x": [
           0,
           1
          ],
          "y": [
           0,
           1
          ]
         },
         "line": {
          "color": [
           0.09187367558479309,
           0.08667893707752228,
           0.10999903082847595,
           0.10788146406412125,
           0.11830649524927139,
           0.12404166907072067,
           0.11229471117258072,
           0.11933903396129608,
           null,
           null
          ],
          "coloraxis": "coloraxis"
         },
         "name": "",
         "type": "parcoords"
        }
       ],
       "layout": {
        "coloraxis": {
         "colorbar": {
          "title": {
           "text": "test_loss"
          }
         },
         "colorscale": [
          [
           0,
           "#0d0887"
          ],
          [
           0.1111111111111111,
           "#46039f"
          ],
          [
           0.2222222222222222,
           "#7201a8"
          ],
          [
           0.3333333333333333,
           "#9c179e"
          ],
          [
           0.4444444444444444,
           "#bd3786"
          ],
          [
           0.5555555555555556,
           "#d8576b"
          ],
          [
           0.6666666666666666,
           "#ed7953"
          ],
          [
           0.7777777777777778,
           "#fb9f3a"
          ],
          [
           0.8888888888888888,
           "#fdca26"
          ],
          [
           1,
           "#f0f921"
          ]
         ]
        },
        "legend": {
         "tracegroupgap": 0
        },
        "margin": {
         "t": 60
        },
        "template": {
         "data": {
          "bar": [
           {
            "error_x": {
             "color": "#2a3f5f"
            },
            "error_y": {
             "color": "#2a3f5f"
            },
            "marker": {
             "line": {
              "color": "#E5ECF6",
              "width": 0.5
             },
             "pattern": {
              "fillmode": "overlay",
              "size": 10,
              "solidity": 0.2
             }
            },
            "type": "bar"
           }
          ],
          "barpolar": [
           {
            "marker": {
             "line": {
              "color": "#E5ECF6",
              "width": 0.5
             },
             "pattern": {
              "fillmode": "overlay",
              "size": 10,
              "solidity": 0.2
             }
            },
            "type": "barpolar"
           }
          ],
          "carpet": [
           {
            "aaxis": {
             "endlinecolor": "#2a3f5f",
             "gridcolor": "white",
             "linecolor": "white",
             "minorgridcolor": "white",
             "startlinecolor": "#2a3f5f"
            },
            "baxis": {
             "endlinecolor": "#2a3f5f",
             "gridcolor": "white",
             "linecolor": "white",
             "minorgridcolor": "white",
             "startlinecolor": "#2a3f5f"
            },
            "type": "carpet"
           }
          ],
          "choropleth": [
           {
            "colorbar": {
             "outlinewidth": 0,
             "ticks": ""
            },
            "type": "choropleth"
           }
          ],
          "contour": [
           {
            "colorbar": {
             "outlinewidth": 0,
             "ticks": ""
            },
            "colorscale": [
             [
              0,
              "#0d0887"
             ],
             [
              0.1111111111111111,
              "#46039f"
             ],
             [
              0.2222222222222222,
              "#7201a8"
             ],
             [
              0.3333333333333333,
              "#9c179e"
             ],
             [
              0.4444444444444444,
              "#bd3786"
             ],
             [
              0.5555555555555556,
              "#d8576b"
             ],
             [
              0.6666666666666666,
              "#ed7953"
             ],
             [
              0.7777777777777778,
              "#fb9f3a"
             ],
             [
              0.8888888888888888,
              "#fdca26"
             ],
             [
              1,
              "#f0f921"
             ]
            ],
            "type": "contour"
           }
          ],
          "contourcarpet": [
           {
            "colorbar": {
             "outlinewidth": 0,
             "ticks": ""
            },
            "type": "contourcarpet"
           }
          ],
          "heatmap": [
           {
            "colorbar": {
             "outlinewidth": 0,
             "ticks": ""
            },
            "colorscale": [
             [
              0,
              "#0d0887"
             ],
             [
              0.1111111111111111,
              "#46039f"
             ],
             [
              0.2222222222222222,
              "#7201a8"
             ],
             [
              0.3333333333333333,
              "#9c179e"
             ],
             [
              0.4444444444444444,
              "#bd3786"
             ],
             [
              0.5555555555555556,
              "#d8576b"
             ],
             [
              0.6666666666666666,
              "#ed7953"
             ],
             [
              0.7777777777777778,
              "#fb9f3a"
             ],
             [
              0.8888888888888888,
              "#fdca26"
             ],
             [
              1,
              "#f0f921"
             ]
            ],
            "type": "heatmap"
           }
          ],
          "heatmapgl": [
           {
            "colorbar": {
             "outlinewidth": 0,
             "ticks": ""
            },
            "colorscale": [
             [
              0,
              "#0d0887"
             ],
             [
              0.1111111111111111,
              "#46039f"
             ],
             [
              0.2222222222222222,
              "#7201a8"
             ],
             [
              0.3333333333333333,
              "#9c179e"
             ],
             [
              0.4444444444444444,
              "#bd3786"
             ],
             [
              0.5555555555555556,
              "#d8576b"
             ],
             [
              0.6666666666666666,
              "#ed7953"
             ],
             [
              0.7777777777777778,
              "#fb9f3a"
             ],
             [
              0.8888888888888888,
              "#fdca26"
             ],
             [
              1,
              "#f0f921"
             ]
            ],
            "type": "heatmapgl"
           }
          ],
          "histogram": [
           {
            "marker": {
             "pattern": {
              "fillmode": "overlay",
              "size": 10,
              "solidity": 0.2
             }
            },
            "type": "histogram"
           }
          ],
          "histogram2d": [
           {
            "colorbar": {
             "outlinewidth": 0,
             "ticks": ""
            },
            "colorscale": [
             [
              0,
              "#0d0887"
             ],
             [
              0.1111111111111111,
              "#46039f"
             ],
             [
              0.2222222222222222,
              "#7201a8"
             ],
             [
              0.3333333333333333,
              "#9c179e"
             ],
             [
              0.4444444444444444,
              "#bd3786"
             ],
             [
              0.5555555555555556,
              "#d8576b"
             ],
             [
              0.6666666666666666,
              "#ed7953"
             ],
             [
              0.7777777777777778,
              "#fb9f3a"
             ],
             [
              0.8888888888888888,
              "#fdca26"
             ],
             [
              1,
              "#f0f921"
             ]
            ],
            "type": "histogram2d"
           }
          ],
          "histogram2dcontour": [
           {
            "colorbar": {
             "outlinewidth": 0,
             "ticks": ""
            },
            "colorscale": [
             [
              0,
              "#0d0887"
             ],
             [
              0.1111111111111111,
              "#46039f"
             ],
             [
              0.2222222222222222,
              "#7201a8"
             ],
             [
              0.3333333333333333,
              "#9c179e"
             ],
             [
              0.4444444444444444,
              "#bd3786"
             ],
             [
              0.5555555555555556,
              "#d8576b"
             ],
             [
              0.6666666666666666,
              "#ed7953"
             ],
             [
              0.7777777777777778,
              "#fb9f3a"
             ],
             [
              0.8888888888888888,
              "#fdca26"
             ],
             [
              1,
              "#f0f921"
             ]
            ],
            "type": "histogram2dcontour"
           }
          ],
          "mesh3d": [
           {
            "colorbar": {
             "outlinewidth": 0,
             "ticks": ""
            },
            "type": "mesh3d"
           }
          ],
          "parcoords": [
           {
            "line": {
             "colorbar": {
              "outlinewidth": 0,
              "ticks": ""
             }
            },
            "type": "parcoords"
           }
          ],
          "pie": [
           {
            "automargin": true,
            "type": "pie"
           }
          ],
          "scatter": [
           {
            "fillpattern": {
             "fillmode": "overlay",
             "size": 10,
             "solidity": 0.2
            },
            "type": "scatter"
           }
          ],
          "scatter3d": [
           {
            "line": {
             "colorbar": {
              "outlinewidth": 0,
              "ticks": ""
             }
            },
            "marker": {
             "colorbar": {
              "outlinewidth": 0,
              "ticks": ""
             }
            },
            "type": "scatter3d"
           }
          ],
          "scattercarpet": [
           {
            "marker": {
             "colorbar": {
              "outlinewidth": 0,
              "ticks": ""
             }
            },
            "type": "scattercarpet"
           }
          ],
          "scattergeo": [
           {
            "marker": {
             "colorbar": {
              "outlinewidth": 0,
              "ticks": ""
             }
            },
            "type": "scattergeo"
           }
          ],
          "scattergl": [
           {
            "marker": {
             "colorbar": {
              "outlinewidth": 0,
              "ticks": ""
             }
            },
            "type": "scattergl"
           }
          ],
          "scattermapbox": [
           {
            "marker": {
             "colorbar": {
              "outlinewidth": 0,
              "ticks": ""
             }
            },
            "type": "scattermapbox"
           }
          ],
          "scatterpolar": [
           {
            "marker": {
             "colorbar": {
              "outlinewidth": 0,
              "ticks": ""
             }
            },
            "type": "scatterpolar"
           }
          ],
          "scatterpolargl": [
           {
            "marker": {
             "colorbar": {
              "outlinewidth": 0,
              "ticks": ""
             }
            },
            "type": "scatterpolargl"
           }
          ],
          "scatterternary": [
           {
            "marker": {
             "colorbar": {
              "outlinewidth": 0,
              "ticks": ""
             }
            },
            "type": "scatterternary"
           }
          ],
          "surface": [
           {
            "colorbar": {
             "outlinewidth": 0,
             "ticks": ""
            },
            "colorscale": [
             [
              0,
              "#0d0887"
             ],
             [
              0.1111111111111111,
              "#46039f"
             ],
             [
              0.2222222222222222,
              "#7201a8"
             ],
             [
              0.3333333333333333,
              "#9c179e"
             ],
             [
              0.4444444444444444,
              "#bd3786"
             ],
             [
              0.5555555555555556,
              "#d8576b"
             ],
             [
              0.6666666666666666,
              "#ed7953"
             ],
             [
              0.7777777777777778,
              "#fb9f3a"
             ],
             [
              0.8888888888888888,
              "#fdca26"
             ],
             [
              1,
              "#f0f921"
             ]
            ],
            "type": "surface"
           }
          ],
          "table": [
           {
            "cells": {
             "fill": {
              "color": "#EBF0F8"
             },
             "line": {
              "color": "white"
             }
            },
            "header": {
             "fill": {
              "color": "#C8D4E3"
             },
             "line": {
              "color": "white"
             }
            },
            "type": "table"
           }
          ]
         },
         "layout": {
          "annotationdefaults": {
           "arrowcolor": "#2a3f5f",
           "arrowhead": 0,
           "arrowwidth": 1
          },
          "autotypenumbers": "strict",
          "coloraxis": {
           "colorbar": {
            "outlinewidth": 0,
            "ticks": ""
           }
          },
          "colorscale": {
           "diverging": [
            [
             0,
             "#8e0152"
            ],
            [
             0.1,
             "#c51b7d"
            ],
            [
             0.2,
             "#de77ae"
            ],
            [
             0.3,
             "#f1b6da"
            ],
            [
             0.4,
             "#fde0ef"
            ],
            [
             0.5,
             "#f7f7f7"
            ],
            [
             0.6,
             "#e6f5d0"
            ],
            [
             0.7,
             "#b8e186"
            ],
            [
             0.8,
             "#7fbc41"
            ],
            [
             0.9,
             "#4d9221"
            ],
            [
             1,
             "#276419"
            ]
           ],
           "sequential": [
            [
             0,
             "#0d0887"
            ],
            [
             0.1111111111111111,
             "#46039f"
            ],
            [
             0.2222222222222222,
             "#7201a8"
            ],
            [
             0.3333333333333333,
             "#9c179e"
            ],
            [
             0.4444444444444444,
             "#bd3786"
            ],
            [
             0.5555555555555556,
             "#d8576b"
            ],
            [
             0.6666666666666666,
             "#ed7953"
            ],
            [
             0.7777777777777778,
             "#fb9f3a"
            ],
            [
             0.8888888888888888,
             "#fdca26"
            ],
            [
             1,
             "#f0f921"
            ]
           ],
           "sequentialminus": [
            [
             0,
             "#0d0887"
            ],
            [
             0.1111111111111111,
             "#46039f"
            ],
            [
             0.2222222222222222,
             "#7201a8"
            ],
            [
             0.3333333333333333,
             "#9c179e"
            ],
            [
             0.4444444444444444,
             "#bd3786"
            ],
            [
             0.5555555555555556,
             "#d8576b"
            ],
            [
             0.6666666666666666,
             "#ed7953"
            ],
            [
             0.7777777777777778,
             "#fb9f3a"
            ],
            [
             0.8888888888888888,
             "#fdca26"
            ],
            [
             1,
             "#f0f921"
            ]
           ]
          },
          "colorway": [
           "#636efa",
           "#EF553B",
           "#00cc96",
           "#ab63fa",
           "#FFA15A",
           "#19d3f3",
           "#FF6692",
           "#B6E880",
           "#FF97FF",
           "#FECB52"
          ],
          "font": {
           "color": "#2a3f5f"
          },
          "geo": {
           "bgcolor": "white",
           "lakecolor": "white",
           "landcolor": "#E5ECF6",
           "showlakes": true,
           "showland": true,
           "subunitcolor": "white"
          },
          "hoverlabel": {
           "align": "left"
          },
          "hovermode": "closest",
          "mapbox": {
           "style": "light"
          },
          "paper_bgcolor": "white",
          "plot_bgcolor": "#E5ECF6",
          "polar": {
           "angularaxis": {
            "gridcolor": "white",
            "linecolor": "white",
            "ticks": ""
           },
           "bgcolor": "#E5ECF6",
           "radialaxis": {
            "gridcolor": "white",
            "linecolor": "white",
            "ticks": ""
           }
          },
          "scene": {
           "xaxis": {
            "backgroundcolor": "#E5ECF6",
            "gridcolor": "white",
            "gridwidth": 2,
            "linecolor": "white",
            "showbackground": true,
            "ticks": "",
            "zerolinecolor": "white"
           },
           "yaxis": {
            "backgroundcolor": "#E5ECF6",
            "gridcolor": "white",
            "gridwidth": 2,
            "linecolor": "white",
            "showbackground": true,
            "ticks": "",
            "zerolinecolor": "white"
           },
           "zaxis": {
            "backgroundcolor": "#E5ECF6",
            "gridcolor": "white",
            "gridwidth": 2,
            "linecolor": "white",
            "showbackground": true,
            "ticks": "",
            "zerolinecolor": "white"
           }
          },
          "shapedefaults": {
           "line": {
            "color": "#2a3f5f"
           }
          },
          "ternary": {
           "aaxis": {
            "gridcolor": "white",
            "linecolor": "white",
            "ticks": ""
           },
           "baxis": {
            "gridcolor": "white",
            "linecolor": "white",
            "ticks": ""
           },
           "bgcolor": "#E5ECF6",
           "caxis": {
            "gridcolor": "white",
            "linecolor": "white",
            "ticks": ""
           }
          },
          "title": {
           "x": 0.05
          },
          "xaxis": {
           "automargin": true,
           "gridcolor": "white",
           "linecolor": "white",
           "ticks": "",
           "title": {
            "standoff": 15
           },
           "zerolinecolor": "white",
           "zerolinewidth": 2
          },
          "yaxis": {
           "automargin": true,
           "gridcolor": "white",
           "linecolor": "white",
           "ticks": "",
           "title": {
            "standoff": 15
           },
           "zerolinecolor": "white",
           "zerolinewidth": 2
          }
         }
        }
       }
      }
     },
     "metadata": {},
     "output_type": "display_data"
    }
   ],
   "source": [
    "px.parallel_coordinates(p, color=\"test_loss\")"
   ]
  },
  {
   "cell_type": "code",
   "execution_count": 33,
   "metadata": {},
   "outputs": [
    {
     "data": {
      "text/html": [
       "<div>\n",
       "<style scoped>\n",
       "    .dataframe tbody tr th:only-of-type {\n",
       "        vertical-align: middle;\n",
       "    }\n",
       "\n",
       "    .dataframe tbody tr th {\n",
       "        vertical-align: top;\n",
       "    }\n",
       "\n",
       "    .dataframe thead th {\n",
       "        text-align: right;\n",
       "    }\n",
       "</style>\n",
       "<table border=\"1\" class=\"dataframe\">\n",
       "  <thead>\n",
       "    <tr style=\"text-align: right;\">\n",
       "      <th></th>\n",
       "      <th>iterations</th>\n",
       "      <th>train_loss</th>\n",
       "      <th>test_loss</th>\n",
       "      <th>accuracy</th>\n",
       "      <th>f1scoremicro</th>\n",
       "      <th>f1scoremacro</th>\n",
       "      <th>precisionmacro</th>\n",
       "      <th>recallmacro</th>\n",
       "      <th>timestamp</th>\n",
       "      <th>checkpoint_dir_name</th>\n",
       "      <th>...</th>\n",
       "      <th>scheduler</th>\n",
       "      <th>factor</th>\n",
       "      <th>patience</th>\n",
       "      <th>input</th>\n",
       "      <th>optimizer</th>\n",
       "      <th>earlystopping_patience</th>\n",
       "      <th>input_length</th>\n",
       "      <th>gru_hidden</th>\n",
       "      <th>seed</th>\n",
       "      <th>traindataset</th>\n",
       "    </tr>\n",
       "  </thead>\n",
       "  <tbody>\n",
       "    <tr>\n",
       "      <th>697</th>\n",
       "      <td>27</td>\n",
       "      <td>0.008405</td>\n",
       "      <td>0.091874</td>\n",
       "      <td>0.985754</td>\n",
       "      <td>0.985754</td>\n",
       "      <td>0.935855</td>\n",
       "      <td>0.957192</td>\n",
       "      <td>0.959340</td>\n",
       "      <td>1738405496</td>\n",
       "      <td>None</td>\n",
       "      <td>...</td>\n",
       "      <td>&lt;class 'torch.optim.lr_scheduler.ReduceLROnPla...</td>\n",
       "      <td>0.2</td>\n",
       "      <td>2.0</td>\n",
       "      <td>1.0</td>\n",
       "      <td>&lt;class 'torch.optim.adam.Adam'&gt;</td>\n",
       "      <td>15.0</td>\n",
       "      <td>192.0</td>\n",
       "      <td>256.0</td>\n",
       "      <td>1.691705e+09</td>\n",
       "      <td>smote</td>\n",
       "    </tr>\n",
       "    <tr>\n",
       "      <th>727</th>\n",
       "      <td>25</td>\n",
       "      <td>0.009938</td>\n",
       "      <td>0.086679</td>\n",
       "      <td>0.984890</td>\n",
       "      <td>0.984890</td>\n",
       "      <td>0.945104</td>\n",
       "      <td>0.955737</td>\n",
       "      <td>0.976865</td>\n",
       "      <td>1738435792</td>\n",
       "      <td>None</td>\n",
       "      <td>...</td>\n",
       "      <td>&lt;class 'torch.optim.lr_scheduler.ReduceLROnPla...</td>\n",
       "      <td>0.3</td>\n",
       "      <td>2.0</td>\n",
       "      <td>1.0</td>\n",
       "      <td>&lt;class 'torch.optim.adam.Adam'&gt;</td>\n",
       "      <td>10.0</td>\n",
       "      <td>192.0</td>\n",
       "      <td>256.0</td>\n",
       "      <td>1.387545e+09</td>\n",
       "      <td>smote</td>\n",
       "    </tr>\n",
       "    <tr>\n",
       "      <th>637</th>\n",
       "      <td>36</td>\n",
       "      <td>0.009846</td>\n",
       "      <td>0.078768</td>\n",
       "      <td>0.984605</td>\n",
       "      <td>0.984605</td>\n",
       "      <td>0.923509</td>\n",
       "      <td>0.943774</td>\n",
       "      <td>0.957577</td>\n",
       "      <td>1738353509</td>\n",
       "      <td>None</td>\n",
       "      <td>...</td>\n",
       "      <td>&lt;class 'torch.optim.lr_scheduler.ReduceLROnPla...</td>\n",
       "      <td>0.3</td>\n",
       "      <td>2.0</td>\n",
       "      <td>1.0</td>\n",
       "      <td>&lt;class 'torch.optim.adam.Adam'&gt;</td>\n",
       "      <td>15.0</td>\n",
       "      <td>192.0</td>\n",
       "      <td>256.0</td>\n",
       "      <td>1.423657e+09</td>\n",
       "      <td>NaN</td>\n",
       "    </tr>\n",
       "    <tr>\n",
       "      <th>742</th>\n",
       "      <td>38</td>\n",
       "      <td>0.006330</td>\n",
       "      <td>0.109999</td>\n",
       "      <td>0.984605</td>\n",
       "      <td>0.984605</td>\n",
       "      <td>0.923855</td>\n",
       "      <td>0.961065</td>\n",
       "      <td>0.943402</td>\n",
       "      <td>1738440029</td>\n",
       "      <td>None</td>\n",
       "      <td>...</td>\n",
       "      <td>&lt;class 'torch.optim.lr_scheduler.ReduceLROnPla...</td>\n",
       "      <td>0.4</td>\n",
       "      <td>2.0</td>\n",
       "      <td>1.0</td>\n",
       "      <td>&lt;class 'torch.optim.adam.Adam'&gt;</td>\n",
       "      <td>10.0</td>\n",
       "      <td>192.0</td>\n",
       "      <td>64.0</td>\n",
       "      <td>2.950020e+09</td>\n",
       "      <td>smote</td>\n",
       "    </tr>\n",
       "    <tr>\n",
       "      <th>638</th>\n",
       "      <td>35</td>\n",
       "      <td>0.005719</td>\n",
       "      <td>0.103465</td>\n",
       "      <td>0.982537</td>\n",
       "      <td>0.982537</td>\n",
       "      <td>0.928862</td>\n",
       "      <td>0.945878</td>\n",
       "      <td>0.963731</td>\n",
       "      <td>1738352611</td>\n",
       "      <td>None</td>\n",
       "      <td>...</td>\n",
       "      <td>&lt;class 'torch.optim.lr_scheduler.ReduceLROnPla...</td>\n",
       "      <td>0.4</td>\n",
       "      <td>2.0</td>\n",
       "      <td>1.0</td>\n",
       "      <td>&lt;class 'torch.optim.adam.Adam'&gt;</td>\n",
       "      <td>15.0</td>\n",
       "      <td>192.0</td>\n",
       "      <td>256.0</td>\n",
       "      <td>1.423657e+09</td>\n",
       "      <td>NaN</td>\n",
       "    </tr>\n",
       "    <tr>\n",
       "      <th>...</th>\n",
       "      <td>...</td>\n",
       "      <td>...</td>\n",
       "      <td>...</td>\n",
       "      <td>...</td>\n",
       "      <td>...</td>\n",
       "      <td>...</td>\n",
       "      <td>...</td>\n",
       "      <td>...</td>\n",
       "      <td>...</td>\n",
       "      <td>...</td>\n",
       "      <td>...</td>\n",
       "      <td>...</td>\n",
       "      <td>...</td>\n",
       "      <td>...</td>\n",
       "      <td>...</td>\n",
       "      <td>...</td>\n",
       "      <td>...</td>\n",
       "      <td>...</td>\n",
       "      <td>...</td>\n",
       "      <td>...</td>\n",
       "      <td>...</td>\n",
       "    </tr>\n",
       "    <tr>\n",
       "      <th>740</th>\n",
       "      <td>0</td>\n",
       "      <td>1.096165</td>\n",
       "      <td>1.410183</td>\n",
       "      <td>0.214973</td>\n",
       "      <td>0.214973</td>\n",
       "      <td>0.185480</td>\n",
       "      <td>0.299599</td>\n",
       "      <td>0.448787</td>\n",
       "      <td>1738431865</td>\n",
       "      <td>None</td>\n",
       "      <td>...</td>\n",
       "      <td>&lt;class 'torch.optim.lr_scheduler.ReduceLROnPla...</td>\n",
       "      <td>0.3</td>\n",
       "      <td>2.0</td>\n",
       "      <td>1.0</td>\n",
       "      <td>&lt;class 'torch.optim.adam.Adam'&gt;</td>\n",
       "      <td>10.0</td>\n",
       "      <td>192.0</td>\n",
       "      <td>32.0</td>\n",
       "      <td>1.387545e+09</td>\n",
       "      <td>oversampled</td>\n",
       "    </tr>\n",
       "    <tr>\n",
       "      <th>741</th>\n",
       "      <td>0</td>\n",
       "      <td>0.945043</td>\n",
       "      <td>1.383928</td>\n",
       "      <td>0.201007</td>\n",
       "      <td>0.201007</td>\n",
       "      <td>0.221119</td>\n",
       "      <td>0.315438</td>\n",
       "      <td>0.513606</td>\n",
       "      <td>1738431794</td>\n",
       "      <td>None</td>\n",
       "      <td>...</td>\n",
       "      <td>&lt;class 'torch.optim.lr_scheduler.ReduceLROnPla...</td>\n",
       "      <td>0.3</td>\n",
       "      <td>2.0</td>\n",
       "      <td>1.0</td>\n",
       "      <td>&lt;class 'torch.optim.adam.Adam'&gt;</td>\n",
       "      <td>10.0</td>\n",
       "      <td>192.0</td>\n",
       "      <td>32.0</td>\n",
       "      <td>1.387545e+09</td>\n",
       "      <td>smote</td>\n",
       "    </tr>\n",
       "    <tr>\n",
       "      <th>456</th>\n",
       "      <td>0</td>\n",
       "      <td>1.434307</td>\n",
       "      <td>1.413909</td>\n",
       "      <td>0.187271</td>\n",
       "      <td>0.187271</td>\n",
       "      <td>0.160745</td>\n",
       "      <td>0.257648</td>\n",
       "      <td>0.389228</td>\n",
       "      <td>1738239225</td>\n",
       "      <td>None</td>\n",
       "      <td>...</td>\n",
       "      <td>&lt;class 'torch.optim.lr_scheduler.ReduceLROnPla...</td>\n",
       "      <td>0.4</td>\n",
       "      <td>2.0</td>\n",
       "      <td>1.0</td>\n",
       "      <td>&lt;class 'torch.optim.adam.Adam'&gt;</td>\n",
       "      <td>15.0</td>\n",
       "      <td>192.0</td>\n",
       "      <td>32.0</td>\n",
       "      <td>1.738238e+09</td>\n",
       "      <td>NaN</td>\n",
       "    </tr>\n",
       "    <tr>\n",
       "      <th>756</th>\n",
       "      <td>0</td>\n",
       "      <td>1.033554</td>\n",
       "      <td>1.379333</td>\n",
       "      <td>0.186581</td>\n",
       "      <td>0.186581</td>\n",
       "      <td>0.219728</td>\n",
       "      <td>0.316293</td>\n",
       "      <td>0.574078</td>\n",
       "      <td>1738436790</td>\n",
       "      <td>None</td>\n",
       "      <td>...</td>\n",
       "      <td>&lt;class 'torch.optim.lr_scheduler.ReduceLROnPla...</td>\n",
       "      <td>0.2</td>\n",
       "      <td>2.0</td>\n",
       "      <td>1.0</td>\n",
       "      <td>&lt;class 'torch.optim.adam.Adam'&gt;</td>\n",
       "      <td>10.0</td>\n",
       "      <td>192.0</td>\n",
       "      <td>32.0</td>\n",
       "      <td>2.950020e+09</td>\n",
       "      <td>oversampled</td>\n",
       "    </tr>\n",
       "    <tr>\n",
       "      <th>651</th>\n",
       "      <td>0</td>\n",
       "      <td>1.202121</td>\n",
       "      <td>1.332350</td>\n",
       "      <td>0.180377</td>\n",
       "      <td>0.180377</td>\n",
       "      <td>0.233030</td>\n",
       "      <td>0.323717</td>\n",
       "      <td>0.562399</td>\n",
       "      <td>1738346673</td>\n",
       "      <td>None</td>\n",
       "      <td>...</td>\n",
       "      <td>&lt;class 'torch.optim.lr_scheduler.ReduceLROnPla...</td>\n",
       "      <td>0.3</td>\n",
       "      <td>2.0</td>\n",
       "      <td>1.0</td>\n",
       "      <td>&lt;class 'torch.optim.adam.Adam'&gt;</td>\n",
       "      <td>15.0</td>\n",
       "      <td>192.0</td>\n",
       "      <td>32.0</td>\n",
       "      <td>1.423657e+09</td>\n",
       "      <td>NaN</td>\n",
       "    </tr>\n",
       "  </tbody>\n",
       "</table>\n",
       "<p>103 rows × 47 columns</p>\n",
       "</div>"
      ],
      "text/plain": [
       "     iterations  train_loss  test_loss  accuracy  f1scoremicro  f1scoremacro  \\\n",
       "697          27    0.008405   0.091874  0.985754      0.985754      0.935855   \n",
       "727          25    0.009938   0.086679  0.984890      0.984890      0.945104   \n",
       "637          36    0.009846   0.078768  0.984605      0.984605      0.923509   \n",
       "742          38    0.006330   0.109999  0.984605      0.984605      0.923855   \n",
       "638          35    0.005719   0.103465  0.982537      0.982537      0.928862   \n",
       "..          ...         ...        ...       ...           ...           ...   \n",
       "740           0    1.096165   1.410183  0.214973      0.214973      0.185480   \n",
       "741           0    0.945043   1.383928  0.201007      0.201007      0.221119   \n",
       "456           0    1.434307   1.413909  0.187271      0.187271      0.160745   \n",
       "756           0    1.033554   1.379333  0.186581      0.186581      0.219728   \n",
       "651           0    1.202121   1.332350  0.180377      0.180377      0.233030   \n",
       "\n",
       "     precisionmacro  recallmacro   timestamp checkpoint_dir_name  ...  \\\n",
       "697        0.957192     0.959340  1738405496                None  ...   \n",
       "727        0.955737     0.976865  1738435792                None  ...   \n",
       "637        0.943774     0.957577  1738353509                None  ...   \n",
       "742        0.961065     0.943402  1738440029                None  ...   \n",
       "638        0.945878     0.963731  1738352611                None  ...   \n",
       "..              ...          ...         ...                 ...  ...   \n",
       "740        0.299599     0.448787  1738431865                None  ...   \n",
       "741        0.315438     0.513606  1738431794                None  ...   \n",
       "456        0.257648     0.389228  1738239225                None  ...   \n",
       "756        0.316293     0.574078  1738436790                None  ...   \n",
       "651        0.323717     0.562399  1738346673                None  ...   \n",
       "\n",
       "                                             scheduler  factor patience input  \\\n",
       "697  <class 'torch.optim.lr_scheduler.ReduceLROnPla...     0.2      2.0   1.0   \n",
       "727  <class 'torch.optim.lr_scheduler.ReduceLROnPla...     0.3      2.0   1.0   \n",
       "637  <class 'torch.optim.lr_scheduler.ReduceLROnPla...     0.3      2.0   1.0   \n",
       "742  <class 'torch.optim.lr_scheduler.ReduceLROnPla...     0.4      2.0   1.0   \n",
       "638  <class 'torch.optim.lr_scheduler.ReduceLROnPla...     0.4      2.0   1.0   \n",
       "..                                                 ...     ...      ...   ...   \n",
       "740  <class 'torch.optim.lr_scheduler.ReduceLROnPla...     0.3      2.0   1.0   \n",
       "741  <class 'torch.optim.lr_scheduler.ReduceLROnPla...     0.3      2.0   1.0   \n",
       "456  <class 'torch.optim.lr_scheduler.ReduceLROnPla...     0.4      2.0   1.0   \n",
       "756  <class 'torch.optim.lr_scheduler.ReduceLROnPla...     0.2      2.0   1.0   \n",
       "651  <class 'torch.optim.lr_scheduler.ReduceLROnPla...     0.3      2.0   1.0   \n",
       "\n",
       "                           optimizer  earlystopping_patience  input_length  \\\n",
       "697  <class 'torch.optim.adam.Adam'>                    15.0         192.0   \n",
       "727  <class 'torch.optim.adam.Adam'>                    10.0         192.0   \n",
       "637  <class 'torch.optim.adam.Adam'>                    15.0         192.0   \n",
       "742  <class 'torch.optim.adam.Adam'>                    10.0         192.0   \n",
       "638  <class 'torch.optim.adam.Adam'>                    15.0         192.0   \n",
       "..                               ...                     ...           ...   \n",
       "740  <class 'torch.optim.adam.Adam'>                    10.0         192.0   \n",
       "741  <class 'torch.optim.adam.Adam'>                    10.0         192.0   \n",
       "456  <class 'torch.optim.adam.Adam'>                    15.0         192.0   \n",
       "756  <class 'torch.optim.adam.Adam'>                    10.0         192.0   \n",
       "651  <class 'torch.optim.adam.Adam'>                    15.0         192.0   \n",
       "\n",
       "    gru_hidden          seed  traindataset  \n",
       "697      256.0  1.691705e+09         smote  \n",
       "727      256.0  1.387545e+09         smote  \n",
       "637      256.0  1.423657e+09           NaN  \n",
       "742       64.0  2.950020e+09         smote  \n",
       "638      256.0  1.423657e+09           NaN  \n",
       "..         ...           ...           ...  \n",
       "740       32.0  1.387545e+09   oversampled  \n",
       "741       32.0  1.387545e+09         smote  \n",
       "456       32.0  1.738238e+09           NaN  \n",
       "756       32.0  2.950020e+09   oversampled  \n",
       "651       32.0  1.423657e+09           NaN  \n",
       "\n",
       "[103 rows x 47 columns]"
      ]
     },
     "execution_count": 33,
     "metadata": {},
     "output_type": "execute_result"
    }
   ],
   "source": [
    "results_df[results_df[\"model_type\"] == \"CNN1DGRUResNet\"].sort_values(\"accuracy\", ascending=False)"
   ]
  },
  {
   "cell_type": "code",
   "execution_count": 24,
   "metadata": {},
   "outputs": [
    {
     "data": {
      "text/html": [
       "<div>\n",
       "<style scoped>\n",
       "    .dataframe tbody tr th:only-of-type {\n",
       "        vertical-align: middle;\n",
       "    }\n",
       "\n",
       "    .dataframe tbody tr th {\n",
       "        vertical-align: top;\n",
       "    }\n",
       "\n",
       "    .dataframe thead th {\n",
       "        text-align: right;\n",
       "    }\n",
       "</style>\n",
       "<table border=\"1\" class=\"dataframe\">\n",
       "  <thead>\n",
       "    <tr style=\"text-align: right;\">\n",
       "      <th></th>\n",
       "      <th>experiment</th>\n",
       "      <th>trial_id</th>\n",
       "      <th>accuracy</th>\n",
       "      <th>model_type</th>\n",
       "      <th>test_loss</th>\n",
       "      <th>batch</th>\n",
       "      <th>optimizer</th>\n",
       "      <th>num_blocks</th>\n",
       "      <th>dropout</th>\n",
       "      <th>hidden</th>\n",
       "      <th>num_layers</th>\n",
       "      <th>num_heads</th>\n",
       "      <th>recallmacro</th>\n",
       "      <th>iterations</th>\n",
       "      <th>factor</th>\n",
       "      <th>trainfile</th>\n",
       "    </tr>\n",
       "  </thead>\n",
       "  <tbody>\n",
       "    <tr>\n",
       "      <th>0</th>\n",
       "      <td>2025-02-01_18-39-26</td>\n",
       "      <td>d77553d2</td>\n",
       "      <td>0.984890</td>\n",
       "      <td>CNN1DGRUResNet</td>\n",
       "      <td>0.086679</td>\n",
       "      <td>16</td>\n",
       "      <td>&lt;class 'torch.optim.adam.Adam'&gt;</td>\n",
       "      <td>4</td>\n",
       "      <td>0.200000</td>\n",
       "      <td>64</td>\n",
       "      <td>4</td>\n",
       "      <td>NaN</td>\n",
       "      <td>0.976865</td>\n",
       "      <td>25</td>\n",
       "      <td>0.300000</td>\n",
       "      <td>heart_big_oversampled_full_train.parq</td>\n",
       "    </tr>\n",
       "    <tr>\n",
       "      <th>1</th>\n",
       "      <td>2025-01-25_10-39-41</td>\n",
       "      <td>b8ba2056</td>\n",
       "      <td>0.988782</td>\n",
       "      <td>2DCNNResnet</td>\n",
       "      <td>0.066563</td>\n",
       "      <td>16</td>\n",
       "      <td>NaN</td>\n",
       "      <td>1</td>\n",
       "      <td>0.300000</td>\n",
       "      <td>128</td>\n",
       "      <td>3</td>\n",
       "      <td>8.0</td>\n",
       "      <td>0.974396</td>\n",
       "      <td>29</td>\n",
       "      <td>0.200000</td>\n",
       "      <td>heart_big_oversampled_full_train.parq</td>\n",
       "    </tr>\n",
       "    <tr>\n",
       "      <th>2</th>\n",
       "      <td>2025-01-25_15-38-08</td>\n",
       "      <td>1044f763</td>\n",
       "      <td>0.987866</td>\n",
       "      <td>2DCNNResnet</td>\n",
       "      <td>0.090779</td>\n",
       "      <td>16</td>\n",
       "      <td>NaN</td>\n",
       "      <td>3</td>\n",
       "      <td>0.300000</td>\n",
       "      <td>64</td>\n",
       "      <td>3</td>\n",
       "      <td>8.0</td>\n",
       "      <td>0.973342</td>\n",
       "      <td>39</td>\n",
       "      <td>0.300000</td>\n",
       "      <td>heart_big_oversampled_full_train.parq</td>\n",
       "    </tr>\n",
       "    <tr>\n",
       "      <th>3</th>\n",
       "      <td>2025-01-23_20-23-12</td>\n",
       "      <td>f068537b</td>\n",
       "      <td>0.987866</td>\n",
       "      <td>2DCNNResnet</td>\n",
       "      <td>0.112456</td>\n",
       "      <td>16</td>\n",
       "      <td>NaN</td>\n",
       "      <td>3</td>\n",
       "      <td>0.338071</td>\n",
       "      <td>128</td>\n",
       "      <td>4</td>\n",
       "      <td>4.0</td>\n",
       "      <td>0.967824</td>\n",
       "      <td>39</td>\n",
       "      <td>0.200000</td>\n",
       "      <td>heart_big_oversampled_full_train.parq</td>\n",
       "    </tr>\n",
       "    <tr>\n",
       "      <th>4</th>\n",
       "      <td>2025-01-25_15-38-08</td>\n",
       "      <td>a8e7b5d8</td>\n",
       "      <td>0.980082</td>\n",
       "      <td>2DCNNResnet</td>\n",
       "      <td>0.091605</td>\n",
       "      <td>16</td>\n",
       "      <td>NaN</td>\n",
       "      <td>3</td>\n",
       "      <td>0.300000</td>\n",
       "      <td>128</td>\n",
       "      <td>2</td>\n",
       "      <td>8.0</td>\n",
       "      <td>0.967541</td>\n",
       "      <td>8</td>\n",
       "      <td>0.300000</td>\n",
       "      <td>heart_big_oversampled_full_train.parq</td>\n",
       "    </tr>\n",
       "    <tr>\n",
       "      <th>5</th>\n",
       "      <td>2025-01-25_15-38-08</td>\n",
       "      <td>23916882</td>\n",
       "      <td>0.986722</td>\n",
       "      <td>2DCNNResnet</td>\n",
       "      <td>0.118468</td>\n",
       "      <td>16</td>\n",
       "      <td>NaN</td>\n",
       "      <td>1</td>\n",
       "      <td>0.300000</td>\n",
       "      <td>64</td>\n",
       "      <td>2</td>\n",
       "      <td>8.0</td>\n",
       "      <td>0.964716</td>\n",
       "      <td>39</td>\n",
       "      <td>0.300000</td>\n",
       "      <td>heart_big_oversampled_full_train.parq</td>\n",
       "    </tr>\n",
       "    <tr>\n",
       "      <th>6</th>\n",
       "      <td>2025-01-31_18-57-36</td>\n",
       "      <td>6adccf0a</td>\n",
       "      <td>0.982537</td>\n",
       "      <td>CNN1DGRUResNet</td>\n",
       "      <td>0.103465</td>\n",
       "      <td>32</td>\n",
       "      <td>&lt;class 'torch.optim.adam.Adam'&gt;</td>\n",
       "      <td>3</td>\n",
       "      <td>0.300000</td>\n",
       "      <td>128</td>\n",
       "      <td>2</td>\n",
       "      <td>4.0</td>\n",
       "      <td>0.963731</td>\n",
       "      <td>35</td>\n",
       "      <td>0.400000</td>\n",
       "      <td>heart_big_SMOTE_train.parq</td>\n",
       "    </tr>\n",
       "    <tr>\n",
       "      <th>7</th>\n",
       "      <td>2025-02-01_22-28-09</td>\n",
       "      <td>912a8b41</td>\n",
       "      <td>0.975184</td>\n",
       "      <td>CNN2DResNet</td>\n",
       "      <td>0.088695</td>\n",
       "      <td>32</td>\n",
       "      <td>&lt;class 'torch.optim.adam.Adam'&gt;</td>\n",
       "      <td>7</td>\n",
       "      <td>0.300000</td>\n",
       "      <td>64</td>\n",
       "      <td>2</td>\n",
       "      <td>8.0</td>\n",
       "      <td>0.963705</td>\n",
       "      <td>8</td>\n",
       "      <td>0.400000</td>\n",
       "      <td>heart_big_oversampled_full_train.parq</td>\n",
       "    </tr>\n",
       "    <tr>\n",
       "      <th>8</th>\n",
       "      <td>2025-01-25_10-39-41</td>\n",
       "      <td>5bbd8621</td>\n",
       "      <td>0.983288</td>\n",
       "      <td>2DCNNResnet</td>\n",
       "      <td>0.128833</td>\n",
       "      <td>16</td>\n",
       "      <td>NaN</td>\n",
       "      <td>2</td>\n",
       "      <td>0.300000</td>\n",
       "      <td>64</td>\n",
       "      <td>2</td>\n",
       "      <td>8.0</td>\n",
       "      <td>0.962754</td>\n",
       "      <td>26</td>\n",
       "      <td>0.200000</td>\n",
       "      <td>heart_big_oversampled_full_train.parq</td>\n",
       "    </tr>\n",
       "    <tr>\n",
       "      <th>9</th>\n",
       "      <td>2025-01-23_15-55-17</td>\n",
       "      <td>a2a725a8</td>\n",
       "      <td>0.962683</td>\n",
       "      <td>2DTransformerResnet</td>\n",
       "      <td>0.123315</td>\n",
       "      <td>16</td>\n",
       "      <td>NaN</td>\n",
       "      <td>2</td>\n",
       "      <td>0.274700</td>\n",
       "      <td>64</td>\n",
       "      <td>3</td>\n",
       "      <td>8.0</td>\n",
       "      <td>0.961623</td>\n",
       "      <td>29</td>\n",
       "      <td>0.274803</td>\n",
       "      <td>heart_big_oversampled_full_train.parq</td>\n",
       "    </tr>\n",
       "    <tr>\n",
       "      <th>10</th>\n",
       "      <td>2025-01-30_13-26-34</td>\n",
       "      <td>f0e233c7</td>\n",
       "      <td>0.984432</td>\n",
       "      <td>CNN1DResNet</td>\n",
       "      <td>0.095645</td>\n",
       "      <td>16</td>\n",
       "      <td>&lt;class 'torch.optim.adam.Adam'&gt;</td>\n",
       "      <td>6</td>\n",
       "      <td>0.137541</td>\n",
       "      <td>256</td>\n",
       "      <td>4</td>\n",
       "      <td>8.0</td>\n",
       "      <td>0.961107</td>\n",
       "      <td>23</td>\n",
       "      <td>0.300000</td>\n",
       "      <td>heart_big_SMOTE_train.parq</td>\n",
       "    </tr>\n",
       "    <tr>\n",
       "      <th>11</th>\n",
       "      <td>2025-01-30_23-25-55</td>\n",
       "      <td>480dd2a2</td>\n",
       "      <td>0.976419</td>\n",
       "      <td>CNN1DResNet</td>\n",
       "      <td>0.163489</td>\n",
       "      <td>16</td>\n",
       "      <td>&lt;class 'torch.optim.adamw.AdamW'&gt;</td>\n",
       "      <td>1</td>\n",
       "      <td>0.300000</td>\n",
       "      <td>128</td>\n",
       "      <td>3</td>\n",
       "      <td>4.0</td>\n",
       "      <td>0.960625</td>\n",
       "      <td>8</td>\n",
       "      <td>0.200000</td>\n",
       "      <td>heart_big_SMOTE_train.parq</td>\n",
       "    </tr>\n",
       "    <tr>\n",
       "      <th>12</th>\n",
       "      <td>2025-01-28_17-36-47</td>\n",
       "      <td>7c7ad406</td>\n",
       "      <td>0.975463</td>\n",
       "      <td>AttentionGRU</td>\n",
       "      <td>0.078806</td>\n",
       "      <td>60</td>\n",
       "      <td>&lt;class 'torch.optim.adam.Adam'&gt;</td>\n",
       "      <td>3</td>\n",
       "      <td>0.148662</td>\n",
       "      <td>256</td>\n",
       "      <td>2</td>\n",
       "      <td>2.0</td>\n",
       "      <td>0.960432</td>\n",
       "      <td>19</td>\n",
       "      <td>0.400000</td>\n",
       "      <td>heart_big_SMOTE_train.parq</td>\n",
       "    </tr>\n",
       "    <tr>\n",
       "      <th>13</th>\n",
       "      <td>2025-02-01_20-03-18</td>\n",
       "      <td>70048d50</td>\n",
       "      <td>0.980699</td>\n",
       "      <td>CNN1DGRUResNet</td>\n",
       "      <td>0.107881</td>\n",
       "      <td>32</td>\n",
       "      <td>&lt;class 'torch.optim.adam.Adam'&gt;</td>\n",
       "      <td>2</td>\n",
       "      <td>0.200000</td>\n",
       "      <td>64</td>\n",
       "      <td>2</td>\n",
       "      <td>NaN</td>\n",
       "      <td>0.960267</td>\n",
       "      <td>39</td>\n",
       "      <td>0.400000</td>\n",
       "      <td>heart_big_oversampled_full_train.parq</td>\n",
       "    </tr>\n",
       "    <tr>\n",
       "      <th>14</th>\n",
       "      <td>2025-02-01_10-21-43</td>\n",
       "      <td>fc263c4d</td>\n",
       "      <td>0.985754</td>\n",
       "      <td>CNN1DGRUResNet</td>\n",
       "      <td>0.091874</td>\n",
       "      <td>32</td>\n",
       "      <td>&lt;class 'torch.optim.adam.Adam'&gt;</td>\n",
       "      <td>5</td>\n",
       "      <td>0.400000</td>\n",
       "      <td>64</td>\n",
       "      <td>2</td>\n",
       "      <td>2.0</td>\n",
       "      <td>0.959340</td>\n",
       "      <td>27</td>\n",
       "      <td>0.200000</td>\n",
       "      <td>heart_big_oversampled_full_train.parq</td>\n",
       "    </tr>\n",
       "    <tr>\n",
       "      <th>15</th>\n",
       "      <td>2025-01-31_20-21-17</td>\n",
       "      <td>36f7e684</td>\n",
       "      <td>0.986673</td>\n",
       "      <td>CNN1DResNetWithAttention</td>\n",
       "      <td>0.089994</td>\n",
       "      <td>32</td>\n",
       "      <td>&lt;class 'torch.optim.adam.Adam'&gt;</td>\n",
       "      <td>3</td>\n",
       "      <td>0.300000</td>\n",
       "      <td>64</td>\n",
       "      <td>3</td>\n",
       "      <td>2.0</td>\n",
       "      <td>0.959300</td>\n",
       "      <td>24</td>\n",
       "      <td>0.200000</td>\n",
       "      <td>heart_big_oversampled_full_train.parq</td>\n",
       "    </tr>\n",
       "    <tr>\n",
       "      <th>16</th>\n",
       "      <td>2025-01-22_18-54-05</td>\n",
       "      <td>936788a9</td>\n",
       "      <td>0.977252</td>\n",
       "      <td>2DCNNResnet</td>\n",
       "      <td>0.099774</td>\n",
       "      <td>32</td>\n",
       "      <td>NaN</td>\n",
       "      <td>3</td>\n",
       "      <td>0.324703</td>\n",
       "      <td>139</td>\n",
       "      <td>2</td>\n",
       "      <td>NaN</td>\n",
       "      <td>0.958644</td>\n",
       "      <td>8</td>\n",
       "      <td>NaN</td>\n",
       "      <td>heart_big_oversampled_full_train.parq</td>\n",
       "    </tr>\n",
       "    <tr>\n",
       "      <th>17</th>\n",
       "      <td>2025-02-01_09-02-42</td>\n",
       "      <td>de5d3743</td>\n",
       "      <td>0.982143</td>\n",
       "      <td>CNN1DResNet</td>\n",
       "      <td>0.096173</td>\n",
       "      <td>16</td>\n",
       "      <td>&lt;class 'torch.optim.adam.Adam'&gt;</td>\n",
       "      <td>5</td>\n",
       "      <td>0.200000</td>\n",
       "      <td>16</td>\n",
       "      <td>3</td>\n",
       "      <td>2.0</td>\n",
       "      <td>0.958401</td>\n",
       "      <td>29</td>\n",
       "      <td>0.200000</td>\n",
       "      <td>heart_big_oversampled_full_train.parq</td>\n",
       "    </tr>\n",
       "    <tr>\n",
       "      <th>18</th>\n",
       "      <td>2025-02-02_11-35-13</td>\n",
       "      <td>681ae735</td>\n",
       "      <td>0.972197</td>\n",
       "      <td>CNN1DGRUResNetMH</td>\n",
       "      <td>0.096152</td>\n",
       "      <td>32</td>\n",
       "      <td>&lt;class 'torch.optim.adamw.AdamW'&gt;</td>\n",
       "      <td>2</td>\n",
       "      <td>0.400000</td>\n",
       "      <td>64</td>\n",
       "      <td>3</td>\n",
       "      <td>4.0</td>\n",
       "      <td>0.958387</td>\n",
       "      <td>29</td>\n",
       "      <td>0.300000</td>\n",
       "      <td>heart_big_oversampled_full_train.parq</td>\n",
       "    </tr>\n",
       "    <tr>\n",
       "      <th>19</th>\n",
       "      <td>2025-01-31_20-21-17</td>\n",
       "      <td>7eeba1af</td>\n",
       "      <td>0.974130</td>\n",
       "      <td>CNN1DResNetWithAttention</td>\n",
       "      <td>0.132146</td>\n",
       "      <td>16</td>\n",
       "      <td>&lt;class 'torch.optim.adam.Adam'&gt;</td>\n",
       "      <td>3</td>\n",
       "      <td>0.400000</td>\n",
       "      <td>128</td>\n",
       "      <td>3</td>\n",
       "      <td>8.0</td>\n",
       "      <td>0.958136</td>\n",
       "      <td>8</td>\n",
       "      <td>0.200000</td>\n",
       "      <td>heart_big_oversampled_full_train.parq</td>\n",
       "    </tr>\n",
       "  </tbody>\n",
       "</table>\n",
       "</div>"
      ],
      "text/plain": [
       "             experiment  trial_id  accuracy                model_type  \\\n",
       "0   2025-02-01_18-39-26  d77553d2  0.984890            CNN1DGRUResNet   \n",
       "1   2025-01-25_10-39-41  b8ba2056  0.988782               2DCNNResnet   \n",
       "2   2025-01-25_15-38-08  1044f763  0.987866               2DCNNResnet   \n",
       "3   2025-01-23_20-23-12  f068537b  0.987866               2DCNNResnet   \n",
       "4   2025-01-25_15-38-08  a8e7b5d8  0.980082               2DCNNResnet   \n",
       "5   2025-01-25_15-38-08  23916882  0.986722               2DCNNResnet   \n",
       "6   2025-01-31_18-57-36  6adccf0a  0.982537            CNN1DGRUResNet   \n",
       "7   2025-02-01_22-28-09  912a8b41  0.975184               CNN2DResNet   \n",
       "8   2025-01-25_10-39-41  5bbd8621  0.983288               2DCNNResnet   \n",
       "9   2025-01-23_15-55-17  a2a725a8  0.962683       2DTransformerResnet   \n",
       "10  2025-01-30_13-26-34  f0e233c7  0.984432               CNN1DResNet   \n",
       "11  2025-01-30_23-25-55  480dd2a2  0.976419               CNN1DResNet   \n",
       "12  2025-01-28_17-36-47  7c7ad406  0.975463              AttentionGRU   \n",
       "13  2025-02-01_20-03-18  70048d50  0.980699            CNN1DGRUResNet   \n",
       "14  2025-02-01_10-21-43  fc263c4d  0.985754            CNN1DGRUResNet   \n",
       "15  2025-01-31_20-21-17  36f7e684  0.986673  CNN1DResNetWithAttention   \n",
       "16  2025-01-22_18-54-05  936788a9  0.977252               2DCNNResnet   \n",
       "17  2025-02-01_09-02-42  de5d3743  0.982143               CNN1DResNet   \n",
       "18  2025-02-02_11-35-13  681ae735  0.972197          CNN1DGRUResNetMH   \n",
       "19  2025-01-31_20-21-17  7eeba1af  0.974130  CNN1DResNetWithAttention   \n",
       "\n",
       "    test_loss  batch                          optimizer  num_blocks   dropout  \\\n",
       "0    0.086679     16    <class 'torch.optim.adam.Adam'>           4  0.200000   \n",
       "1    0.066563     16                                NaN           1  0.300000   \n",
       "2    0.090779     16                                NaN           3  0.300000   \n",
       "3    0.112456     16                                NaN           3  0.338071   \n",
       "4    0.091605     16                                NaN           3  0.300000   \n",
       "5    0.118468     16                                NaN           1  0.300000   \n",
       "6    0.103465     32    <class 'torch.optim.adam.Adam'>           3  0.300000   \n",
       "7    0.088695     32    <class 'torch.optim.adam.Adam'>           7  0.300000   \n",
       "8    0.128833     16                                NaN           2  0.300000   \n",
       "9    0.123315     16                                NaN           2  0.274700   \n",
       "10   0.095645     16    <class 'torch.optim.adam.Adam'>           6  0.137541   \n",
       "11   0.163489     16  <class 'torch.optim.adamw.AdamW'>           1  0.300000   \n",
       "12   0.078806     60    <class 'torch.optim.adam.Adam'>           3  0.148662   \n",
       "13   0.107881     32    <class 'torch.optim.adam.Adam'>           2  0.200000   \n",
       "14   0.091874     32    <class 'torch.optim.adam.Adam'>           5  0.400000   \n",
       "15   0.089994     32    <class 'torch.optim.adam.Adam'>           3  0.300000   \n",
       "16   0.099774     32                                NaN           3  0.324703   \n",
       "17   0.096173     16    <class 'torch.optim.adam.Adam'>           5  0.200000   \n",
       "18   0.096152     32  <class 'torch.optim.adamw.AdamW'>           2  0.400000   \n",
       "19   0.132146     16    <class 'torch.optim.adam.Adam'>           3  0.400000   \n",
       "\n",
       "    hidden  num_layers  num_heads  recallmacro  iterations    factor  \\\n",
       "0       64           4        NaN     0.976865          25  0.300000   \n",
       "1      128           3        8.0     0.974396          29  0.200000   \n",
       "2       64           3        8.0     0.973342          39  0.300000   \n",
       "3      128           4        4.0     0.967824          39  0.200000   \n",
       "4      128           2        8.0     0.967541           8  0.300000   \n",
       "5       64           2        8.0     0.964716          39  0.300000   \n",
       "6      128           2        4.0     0.963731          35  0.400000   \n",
       "7       64           2        8.0     0.963705           8  0.400000   \n",
       "8       64           2        8.0     0.962754          26  0.200000   \n",
       "9       64           3        8.0     0.961623          29  0.274803   \n",
       "10     256           4        8.0     0.961107          23  0.300000   \n",
       "11     128           3        4.0     0.960625           8  0.200000   \n",
       "12     256           2        2.0     0.960432          19  0.400000   \n",
       "13      64           2        NaN     0.960267          39  0.400000   \n",
       "14      64           2        2.0     0.959340          27  0.200000   \n",
       "15      64           3        2.0     0.959300          24  0.200000   \n",
       "16     139           2        NaN     0.958644           8       NaN   \n",
       "17      16           3        2.0     0.958401          29  0.200000   \n",
       "18      64           3        4.0     0.958387          29  0.300000   \n",
       "19     128           3        8.0     0.958136           8  0.200000   \n",
       "\n",
       "                                trainfile  \n",
       "0   heart_big_oversampled_full_train.parq  \n",
       "1   heart_big_oversampled_full_train.parq  \n",
       "2   heart_big_oversampled_full_train.parq  \n",
       "3   heart_big_oversampled_full_train.parq  \n",
       "4   heart_big_oversampled_full_train.parq  \n",
       "5   heart_big_oversampled_full_train.parq  \n",
       "6              heart_big_SMOTE_train.parq  \n",
       "7   heart_big_oversampled_full_train.parq  \n",
       "8   heart_big_oversampled_full_train.parq  \n",
       "9   heart_big_oversampled_full_train.parq  \n",
       "10             heart_big_SMOTE_train.parq  \n",
       "11             heart_big_SMOTE_train.parq  \n",
       "12             heart_big_SMOTE_train.parq  \n",
       "13  heart_big_oversampled_full_train.parq  \n",
       "14  heart_big_oversampled_full_train.parq  \n",
       "15  heart_big_oversampled_full_train.parq  \n",
       "16  heart_big_oversampled_full_train.parq  \n",
       "17  heart_big_oversampled_full_train.parq  \n",
       "18  heart_big_oversampled_full_train.parq  \n",
       "19  heart_big_oversampled_full_train.parq  "
      ]
     },
     "execution_count": 24,
     "metadata": {},
     "output_type": "execute_result"
    }
   ],
   "source": [
    "top_10_df"
   ]
  }
 ],
 "metadata": {
  "kernelspec": {
   "display_name": ".venv",
   "language": "python",
   "name": "python3"
  },
  "language_info": {
   "codemirror_mode": {
    "name": "ipython",
    "version": 3
   },
   "file_extension": ".py",
   "mimetype": "text/x-python",
   "name": "python",
   "nbconvert_exporter": "python",
   "pygments_lexer": "ipython3",
   "version": "3.11.9"
  }
 },
 "nbformat": 4,
 "nbformat_minor": 2
}
